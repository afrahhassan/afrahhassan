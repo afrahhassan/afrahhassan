{
  "nbformat": 4,
  "nbformat_minor": 0,
  "metadata": {
    "colab": {
      "provenance": [],
      "toc_visible": true,
      "include_colab_link": true
    },
    "kernelspec": {
      "name": "python3",
      "display_name": "Python 3"
    },
    "language_info": {
      "name": "python"
    }
  },
  "cells": [
    {
      "cell_type": "markdown",
      "metadata": {
        "id": "view-in-github",
        "colab_type": "text"
      },
      "source": [
        "<a href=\"https://colab.research.google.com/github/afrahhassan/afrahhassan/blob/main/Copy_of_assignment2.ipynb\" target=\"_parent\"><img src=\"https://colab.research.google.com/assets/colab-badge.svg\" alt=\"Open In Colab\"/></a>"
      ]
    },
    {
      "cell_type": "markdown",
      "source": [
        "\n",
        "\n",
        "---\n",
        "# <div align=\"center\"><font>  </font></div>\n",
        "# <div align=\"center\"><font> COSC 2793 Computational Machine Learning </font></div>\n",
        "## <div align=\"center\"> <font> Assignment 2: Machine Learning Project </font></div>\n",
        "## <div align=\"center\"> <font> S3930776 Afrah Hassan A Alshaikh Ali & S3569266 Chang Su </font></div>\n",
        "---"
      ],
      "metadata": {
        "id": "1qSifWPkfTvv"
      }
    },
    {
      "cell_type": "code",
      "source": [
        "#Import Libraries\n",
        "import os\n",
        "import csv\n",
        "import zipfile\n",
        "import pandas as pd\n",
        "import cv2\n",
        "import numpy as np\n"
      ],
      "metadata": {
        "id": "twD8DWapfFnM"
      },
      "execution_count": 2,
      "outputs": []
    },
    {
      "cell_type": "markdown",
      "source": [
        "Workflow\n",
        "We need to follow the below 4 steps to build our traffic sign classification model:\n",
        "\n",
        "Dataset exploration\n",
        "CNN model building\n",
        "Model training and validation\n",
        "Model testing\n",
        "https://www.analyticsvidhya.com/blog/2021/12/traffic-signs-recognition-using-cnn-and-keras-in-python/"
      ],
      "metadata": {
        "id": "khyis9IquqME"
      }
    },
    {
      "cell_type": "markdown",
      "source": [
        "\n",
        "# **1. Load and Preprocess the Data**"
      ],
      "metadata": {
        "id": "9PmzuCjISE7S"
      }
    },
    {
      "cell_type": "code",
      "source": [
        "from google.colab import drive\n",
        "drive.mount('/content/drive')"
      ],
      "metadata": {
        "colab": {
          "base_uri": "https://localhost:8080/"
        },
        "id": "Pr1U8kyVO1GI",
        "outputId": "3627a117-9709-44a2-ee71-c493b94c2cb5"
      },
      "execution_count": 3,
      "outputs": [
        {
          "output_type": "stream",
          "name": "stdout",
          "text": [
            "Mounted at /content/drive\n"
          ]
        }
      ]
    },
    {
      "cell_type": "code",
      "source": [
        "os.listdir('/content/drive/MyDrive/Assignment2')"
      ],
      "metadata": {
        "id": "ash2JewSo2lQ",
        "outputId": "1a7e7868-31ad-450f-864c-ebcaee576fa7",
        "colab": {
          "base_uri": "https://localhost:8080/"
        }
      },
      "execution_count": 4,
      "outputs": [
        {
          "output_type": "execute_result",
          "data": {
            "text/plain": [
              "['assignment2_PG.pdf',\n",
              " 'COSC2673_2793_A2_EOI_.docx',\n",
              " 'trafficsigns_dataset (1)',\n",
              " 'assignment2.ipynb',\n",
              " 'trafficsigns_dataset',\n",
              " 'trafficsigns_dataset.zip',\n",
              " 'shape.csv',\n",
              " 'type.csv',\n",
              " 'image_data.csv']"
            ]
          },
          "metadata": {},
          "execution_count": 4
        }
      ]
    },
    {
      "cell_type": "code",
      "source": [
        "!cp -r \"/content/drive/MyDrive/Assignment2\" ."
      ],
      "metadata": {
        "id": "F-52jr_lY2sU"
      },
      "execution_count": 6,
      "outputs": []
    },
    {
      "cell_type": "code",
      "source": [
        "zip_file_path = '/content/drive/My Drive/Assignment2/trafficsigns_dataset.zip'\n",
        "extract_to_path = '/content/trafficsigns_dataset'\n",
        "with zipfile.ZipFile(zip_file_path, 'r') as zip_ref:\n",
        "    zip_ref.extractall(extract_to_path)\n",
        "print(\"Extraction completed!\")"
      ],
      "metadata": {
        "colab": {
          "base_uri": "https://localhost:8080/"
        },
        "id": "yPTRZMWnYJeA",
        "outputId": "1ac1f094-47fc-44e9-923d-08f30a539e36"
      },
      "execution_count": 35,
      "outputs": [
        {
          "output_type": "stream",
          "name": "stdout",
          "text": [
            "Extraction completed!\n"
          ]
        }
      ]
    },
    {
      "cell_type": "markdown",
      "source": [
        "Load the images and corresponding labels from the dataset."
      ],
      "metadata": {
        "id": "_Fs9jM8mavF1"
      }
    },
    {
      "cell_type": "markdown",
      "source": [
        "### Export shape to csv\n"
      ],
      "metadata": {
        "id": "FM7ALAh01jwV"
      }
    },
    {
      "cell_type": "code",
      "source": [
        "import os\n",
        "import csv\n",
        "\n",
        "root_dir = '/content/trafficsigns_dataset'\n",
        "output_csv = '/content/drive/My Drive/Assignment2/shape.csv'\n",
        "\n",
        "entry_count = 0\n",
        "\n",
        "with open(output_csv, mode='w', newline='') as file:\n",
        "    writer = csv.writer(file)\n",
        "    writer.writerow(['image_path', 'class'])\n",
        "\n",
        "    for root, dirs, files in os.walk(root_dir):\n",
        "        for file in files:\n",
        "            if file.endswith(('.png', '.jpg', '.jpeg')):\n",
        "                full_path = os.path.join(root, file)\n",
        "                class_name = os.path.basename(os.path.dirname(root))\n",
        "                writer.writerow([full_path, class_name])\n",
        "                entry_count += 1  # Increment the counter for each image processed\n",
        "\n",
        "print(f\"CSV file has been created successfully with {entry_count} entries.\")\n"
      ],
      "metadata": {
        "id": "K5QLKr8Ayl9i",
        "outputId": "4bad3762-6458-4d26-a50c-410f4f9c412c",
        "colab": {
          "base_uri": "https://localhost:8080/"
        }
      },
      "execution_count": 36,
      "outputs": [
        {
          "output_type": "stream",
          "name": "stdout",
          "text": [
            "CSV file has been created successfully with 3699 entries.\n"
          ]
        }
      ]
    },
    {
      "cell_type": "markdown",
      "source": [
        "### Export type to csv"
      ],
      "metadata": {
        "id": "__j-ar0bLGb5"
      }
    },
    {
      "cell_type": "code",
      "source": [
        "import os\n",
        "import csv\n",
        "\n",
        "# Define the root directory containing the images and the output CSV file path\n",
        "root_dir = '/content/trafficsigns_dataset'\n",
        "output_csv = '/content/drive/My Drive/Assignment2/type.csv'\n",
        "\n",
        "# Initialize the counter for the number of entries\n",
        "entry_count = 0\n",
        "\n",
        "# Open the CSV file for writing\n",
        "with open(output_csv, mode='w', newline='') as file:\n",
        "    writer = csv.writer(file)\n",
        "    # Write the header row\n",
        "    writer.writerow(['image_path', 'class'])\n",
        "\n",
        "    # Traverse through the directory structure\n",
        "    for root, dirs, files in os.walk(root_dir):\n",
        "        for file in files:\n",
        "            # Check if the file has one of the specified extensions\n",
        "            if file.endswith(('.png', '.jpg', '.jpeg')):\n",
        "                # Construct the full path to the image\n",
        "                full_path = os.path.join(root, file)\n",
        "                # Get the class name from the direct parent directory\n",
        "                class_name = os.path.basename(root)\n",
        "                # Write the image path and class name to the CSV\n",
        "                writer.writerow([full_path, class_name])\n",
        "                # Increment the counter for each entry written\n",
        "                entry_count += 1\n",
        "\n",
        "# Print the total number of entries written to the CSV file\n",
        "print(f\"CSV file has been created successfully with {entry_count} entries.\")\n"
      ],
      "metadata": {
        "colab": {
          "base_uri": "https://localhost:8080/"
        },
        "id": "kf39c_iPYKZF",
        "outputId": "54707ee7-c937-4ce4-ebd6-4996a53cecaf"
      },
      "execution_count": 37,
      "outputs": [
        {
          "output_type": "stream",
          "name": "stdout",
          "text": [
            "CSV file has been created successfully with 3699 entries.\n"
          ]
        }
      ]
    },
    {
      "cell_type": "markdown",
      "source": [],
      "metadata": {
        "id": "siyzXbSik3ly"
      }
    },
    {
      "cell_type": "code",
      "source": [
        "# Load the data from the CSV file\n",
        "data_1 = pd.read_csv('/content/drive/My Drive/Assignment2/shape.csv')\n",
        "data_1.head()"
      ],
      "metadata": {
        "id": "9Mqi7rGE0b8t",
        "colab": {
          "base_uri": "https://localhost:8080/",
          "height": 206
        },
        "outputId": "8e3781be-260b-4fcd-9bbd-32b02146fa32"
      },
      "execution_count": 38,
      "outputs": [
        {
          "output_type": "execute_result",
          "data": {
            "text/plain": [
              "                                          image_path class\n",
              "0  /content/trafficsigns_dataset/trafficsigns_dat...   hex\n",
              "1  /content/trafficsigns_dataset/trafficsigns_dat...   hex\n",
              "2  /content/trafficsigns_dataset/trafficsigns_dat...   hex\n",
              "3  /content/trafficsigns_dataset/trafficsigns_dat...   hex\n",
              "4  /content/trafficsigns_dataset/trafficsigns_dat...   hex"
            ],
            "text/html": [
              "\n",
              "  <div id=\"df-eba8921a-f164-46e0-848c-d0915145418d\" class=\"colab-df-container\">\n",
              "    <div>\n",
              "<style scoped>\n",
              "    .dataframe tbody tr th:only-of-type {\n",
              "        vertical-align: middle;\n",
              "    }\n",
              "\n",
              "    .dataframe tbody tr th {\n",
              "        vertical-align: top;\n",
              "    }\n",
              "\n",
              "    .dataframe thead th {\n",
              "        text-align: right;\n",
              "    }\n",
              "</style>\n",
              "<table border=\"1\" class=\"dataframe\">\n",
              "  <thead>\n",
              "    <tr style=\"text-align: right;\">\n",
              "      <th></th>\n",
              "      <th>image_path</th>\n",
              "      <th>class</th>\n",
              "    </tr>\n",
              "  </thead>\n",
              "  <tbody>\n",
              "    <tr>\n",
              "      <th>0</th>\n",
              "      <td>/content/trafficsigns_dataset/trafficsigns_dat...</td>\n",
              "      <td>hex</td>\n",
              "    </tr>\n",
              "    <tr>\n",
              "      <th>1</th>\n",
              "      <td>/content/trafficsigns_dataset/trafficsigns_dat...</td>\n",
              "      <td>hex</td>\n",
              "    </tr>\n",
              "    <tr>\n",
              "      <th>2</th>\n",
              "      <td>/content/trafficsigns_dataset/trafficsigns_dat...</td>\n",
              "      <td>hex</td>\n",
              "    </tr>\n",
              "    <tr>\n",
              "      <th>3</th>\n",
              "      <td>/content/trafficsigns_dataset/trafficsigns_dat...</td>\n",
              "      <td>hex</td>\n",
              "    </tr>\n",
              "    <tr>\n",
              "      <th>4</th>\n",
              "      <td>/content/trafficsigns_dataset/trafficsigns_dat...</td>\n",
              "      <td>hex</td>\n",
              "    </tr>\n",
              "  </tbody>\n",
              "</table>\n",
              "</div>\n",
              "    <div class=\"colab-df-buttons\">\n",
              "\n",
              "  <div class=\"colab-df-container\">\n",
              "    <button class=\"colab-df-convert\" onclick=\"convertToInteractive('df-eba8921a-f164-46e0-848c-d0915145418d')\"\n",
              "            title=\"Convert this dataframe to an interactive table.\"\n",
              "            style=\"display:none;\">\n",
              "\n",
              "  <svg xmlns=\"http://www.w3.org/2000/svg\" height=\"24px\" viewBox=\"0 -960 960 960\">\n",
              "    <path d=\"M120-120v-720h720v720H120Zm60-500h600v-160H180v160Zm220 220h160v-160H400v160Zm0 220h160v-160H400v160ZM180-400h160v-160H180v160Zm440 0h160v-160H620v160ZM180-180h160v-160H180v160Zm440 0h160v-160H620v160Z\"/>\n",
              "  </svg>\n",
              "    </button>\n",
              "\n",
              "  <style>\n",
              "    .colab-df-container {\n",
              "      display:flex;\n",
              "      gap: 12px;\n",
              "    }\n",
              "\n",
              "    .colab-df-convert {\n",
              "      background-color: #E8F0FE;\n",
              "      border: none;\n",
              "      border-radius: 50%;\n",
              "      cursor: pointer;\n",
              "      display: none;\n",
              "      fill: #1967D2;\n",
              "      height: 32px;\n",
              "      padding: 0 0 0 0;\n",
              "      width: 32px;\n",
              "    }\n",
              "\n",
              "    .colab-df-convert:hover {\n",
              "      background-color: #E2EBFA;\n",
              "      box-shadow: 0px 1px 2px rgba(60, 64, 67, 0.3), 0px 1px 3px 1px rgba(60, 64, 67, 0.15);\n",
              "      fill: #174EA6;\n",
              "    }\n",
              "\n",
              "    .colab-df-buttons div {\n",
              "      margin-bottom: 4px;\n",
              "    }\n",
              "\n",
              "    [theme=dark] .colab-df-convert {\n",
              "      background-color: #3B4455;\n",
              "      fill: #D2E3FC;\n",
              "    }\n",
              "\n",
              "    [theme=dark] .colab-df-convert:hover {\n",
              "      background-color: #434B5C;\n",
              "      box-shadow: 0px 1px 3px 1px rgba(0, 0, 0, 0.15);\n",
              "      filter: drop-shadow(0px 1px 2px rgba(0, 0, 0, 0.3));\n",
              "      fill: #FFFFFF;\n",
              "    }\n",
              "  </style>\n",
              "\n",
              "    <script>\n",
              "      const buttonEl =\n",
              "        document.querySelector('#df-eba8921a-f164-46e0-848c-d0915145418d button.colab-df-convert');\n",
              "      buttonEl.style.display =\n",
              "        google.colab.kernel.accessAllowed ? 'block' : 'none';\n",
              "\n",
              "      async function convertToInteractive(key) {\n",
              "        const element = document.querySelector('#df-eba8921a-f164-46e0-848c-d0915145418d');\n",
              "        const dataTable =\n",
              "          await google.colab.kernel.invokeFunction('convertToInteractive',\n",
              "                                                    [key], {});\n",
              "        if (!dataTable) return;\n",
              "\n",
              "        const docLinkHtml = 'Like what you see? Visit the ' +\n",
              "          '<a target=\"_blank\" href=https://colab.research.google.com/notebooks/data_table.ipynb>data table notebook</a>'\n",
              "          + ' to learn more about interactive tables.';\n",
              "        element.innerHTML = '';\n",
              "        dataTable['output_type'] = 'display_data';\n",
              "        await google.colab.output.renderOutput(dataTable, element);\n",
              "        const docLink = document.createElement('div');\n",
              "        docLink.innerHTML = docLinkHtml;\n",
              "        element.appendChild(docLink);\n",
              "      }\n",
              "    </script>\n",
              "  </div>\n",
              "\n",
              "\n",
              "<div id=\"df-3f07963b-16d2-4c2c-812f-c7db0dff758e\">\n",
              "  <button class=\"colab-df-quickchart\" onclick=\"quickchart('df-3f07963b-16d2-4c2c-812f-c7db0dff758e')\"\n",
              "            title=\"Suggest charts\"\n",
              "            style=\"display:none;\">\n",
              "\n",
              "<svg xmlns=\"http://www.w3.org/2000/svg\" height=\"24px\"viewBox=\"0 0 24 24\"\n",
              "     width=\"24px\">\n",
              "    <g>\n",
              "        <path d=\"M19 3H5c-1.1 0-2 .9-2 2v14c0 1.1.9 2 2 2h14c1.1 0 2-.9 2-2V5c0-1.1-.9-2-2-2zM9 17H7v-7h2v7zm4 0h-2V7h2v10zm4 0h-2v-4h2v4z\"/>\n",
              "    </g>\n",
              "</svg>\n",
              "  </button>\n",
              "\n",
              "<style>\n",
              "  .colab-df-quickchart {\n",
              "      --bg-color: #E8F0FE;\n",
              "      --fill-color: #1967D2;\n",
              "      --hover-bg-color: #E2EBFA;\n",
              "      --hover-fill-color: #174EA6;\n",
              "      --disabled-fill-color: #AAA;\n",
              "      --disabled-bg-color: #DDD;\n",
              "  }\n",
              "\n",
              "  [theme=dark] .colab-df-quickchart {\n",
              "      --bg-color: #3B4455;\n",
              "      --fill-color: #D2E3FC;\n",
              "      --hover-bg-color: #434B5C;\n",
              "      --hover-fill-color: #FFFFFF;\n",
              "      --disabled-bg-color: #3B4455;\n",
              "      --disabled-fill-color: #666;\n",
              "  }\n",
              "\n",
              "  .colab-df-quickchart {\n",
              "    background-color: var(--bg-color);\n",
              "    border: none;\n",
              "    border-radius: 50%;\n",
              "    cursor: pointer;\n",
              "    display: none;\n",
              "    fill: var(--fill-color);\n",
              "    height: 32px;\n",
              "    padding: 0;\n",
              "    width: 32px;\n",
              "  }\n",
              "\n",
              "  .colab-df-quickchart:hover {\n",
              "    background-color: var(--hover-bg-color);\n",
              "    box-shadow: 0 1px 2px rgba(60, 64, 67, 0.3), 0 1px 3px 1px rgba(60, 64, 67, 0.15);\n",
              "    fill: var(--button-hover-fill-color);\n",
              "  }\n",
              "\n",
              "  .colab-df-quickchart-complete:disabled,\n",
              "  .colab-df-quickchart-complete:disabled:hover {\n",
              "    background-color: var(--disabled-bg-color);\n",
              "    fill: var(--disabled-fill-color);\n",
              "    box-shadow: none;\n",
              "  }\n",
              "\n",
              "  .colab-df-spinner {\n",
              "    border: 2px solid var(--fill-color);\n",
              "    border-color: transparent;\n",
              "    border-bottom-color: var(--fill-color);\n",
              "    animation:\n",
              "      spin 1s steps(1) infinite;\n",
              "  }\n",
              "\n",
              "  @keyframes spin {\n",
              "    0% {\n",
              "      border-color: transparent;\n",
              "      border-bottom-color: var(--fill-color);\n",
              "      border-left-color: var(--fill-color);\n",
              "    }\n",
              "    20% {\n",
              "      border-color: transparent;\n",
              "      border-left-color: var(--fill-color);\n",
              "      border-top-color: var(--fill-color);\n",
              "    }\n",
              "    30% {\n",
              "      border-color: transparent;\n",
              "      border-left-color: var(--fill-color);\n",
              "      border-top-color: var(--fill-color);\n",
              "      border-right-color: var(--fill-color);\n",
              "    }\n",
              "    40% {\n",
              "      border-color: transparent;\n",
              "      border-right-color: var(--fill-color);\n",
              "      border-top-color: var(--fill-color);\n",
              "    }\n",
              "    60% {\n",
              "      border-color: transparent;\n",
              "      border-right-color: var(--fill-color);\n",
              "    }\n",
              "    80% {\n",
              "      border-color: transparent;\n",
              "      border-right-color: var(--fill-color);\n",
              "      border-bottom-color: var(--fill-color);\n",
              "    }\n",
              "    90% {\n",
              "      border-color: transparent;\n",
              "      border-bottom-color: var(--fill-color);\n",
              "    }\n",
              "  }\n",
              "</style>\n",
              "\n",
              "  <script>\n",
              "    async function quickchart(key) {\n",
              "      const quickchartButtonEl =\n",
              "        document.querySelector('#' + key + ' button');\n",
              "      quickchartButtonEl.disabled = true;  // To prevent multiple clicks.\n",
              "      quickchartButtonEl.classList.add('colab-df-spinner');\n",
              "      try {\n",
              "        const charts = await google.colab.kernel.invokeFunction(\n",
              "            'suggestCharts', [key], {});\n",
              "      } catch (error) {\n",
              "        console.error('Error during call to suggestCharts:', error);\n",
              "      }\n",
              "      quickchartButtonEl.classList.remove('colab-df-spinner');\n",
              "      quickchartButtonEl.classList.add('colab-df-quickchart-complete');\n",
              "    }\n",
              "    (() => {\n",
              "      let quickchartButtonEl =\n",
              "        document.querySelector('#df-3f07963b-16d2-4c2c-812f-c7db0dff758e button');\n",
              "      quickchartButtonEl.style.display =\n",
              "        google.colab.kernel.accessAllowed ? 'block' : 'none';\n",
              "    })();\n",
              "  </script>\n",
              "</div>\n",
              "\n",
              "    </div>\n",
              "  </div>\n"
            ],
            "application/vnd.google.colaboratory.intrinsic+json": {
              "type": "dataframe",
              "variable_name": "data_1",
              "summary": "{\n  \"name\": \"data_1\",\n  \"rows\": 3699,\n  \"fields\": [\n    {\n      \"column\": \"image_path\",\n      \"properties\": {\n        \"dtype\": \"string\",\n        \"num_unique_values\": 3699,\n        \"samples\": [\n          \"/content/trafficsigns_dataset/trafficsigns_dataset/round/noentry/01067_00001.png\",\n          \"/content/trafficsigns_dataset/trafficsigns_dataset/round/limitedtraffic/01896_00001.png\",\n          \"/content/trafficsigns_dataset/trafficsigns_dataset/square/parking/00177_00001.png\"\n        ],\n        \"semantic_type\": \"\",\n        \"description\": \"\"\n      }\n    },\n    {\n      \"column\": \"class\",\n      \"properties\": {\n        \"dtype\": \"category\",\n        \"num_unique_values\": 5,\n        \"samples\": [\n          \"square\",\n          \"triangle\",\n          \"round\"\n        ],\n        \"semantic_type\": \"\",\n        \"description\": \"\"\n      }\n    }\n  ]\n}"
            }
          },
          "metadata": {},
          "execution_count": 38
        }
      ]
    },
    {
      "cell_type": "code",
      "source": [
        "# Find the number of unique types/classes\n",
        "num_shapes = data_1['class'].nunique()\n",
        "\n",
        "# Get the count of each unique type/class\n",
        "shape_counts = data_1['class'].value_counts()\n",
        "\n",
        "print(\"Number of unique shapes:\", num_shapes)\n",
        "print(\"unique shapes:\", shape_counts)\n"
      ],
      "metadata": {
        "colab": {
          "base_uri": "https://localhost:8080/"
        },
        "id": "yL8JevIeUnOf",
        "outputId": "e7c58133-d1cd-45f7-a8c3-10b03341f268"
      },
      "execution_count": 39,
      "outputs": [
        {
          "output_type": "stream",
          "name": "stdout",
          "text": [
            "Number of unique shapes: 5\n",
            "unique shapes: class\n",
            "round       1760\n",
            "triangle     926\n",
            "square       688\n",
            "diamond      282\n",
            "hex           43\n",
            "Name: count, dtype: int64\n"
          ]
        }
      ]
    },
    {
      "cell_type": "code",
      "source": [
        "#Plot the shapes\n",
        "# Import necessary libraries\n",
        "import matplotlib.pyplot as plt\n",
        "\n",
        "# Extract data for plotting\n",
        "class_names = shape_counts.index.to_list()\n",
        "class_counts = shape_counts.to_numpy()\n",
        "\n",
        "# Create a bar plot\n",
        "plt.bar(class_names, class_counts)\n",
        "\n",
        "# Add title and labels\n",
        "plt.title(\"Number of Unique Shapes\")\n",
        "plt.xlabel(\"Shape Type\")\n",
        "plt.ylabel(\"Count\")\n",
        "\n",
        "# Rotate x-axis labels for better readability\n",
        "plt.xticks(rotation=45)\n",
        "\n",
        "# Display the plot\n",
        "plt.show()"
      ],
      "metadata": {
        "colab": {
          "base_uri": "https://localhost:8080/",
          "height": 511
        },
        "id": "doHArVBbSz69",
        "outputId": "4b00fe97-196b-4003-ba82-199d89be8d9e"
      },
      "execution_count": 40,
      "outputs": [
        {
          "output_type": "display_data",
          "data": {
            "text/plain": [
              "<Figure size 640x480 with 1 Axes>"
            ],
            "image/png": "[encoded data removed]"
          },
          "metadata": {}
        }
      ]
    },
    {
      "cell_type": "code",
      "source": [
        "# Load the data from the CSV file\n",
        "data_2 = pd.read_csv('/content/drive/My Drive/Assignment2/type.csv')\n",
        "data_2.head()\n"
      ],
      "metadata": {
        "colab": {
          "base_uri": "https://localhost:8080/",
          "height": 206
        },
        "id": "0O5MYo_BN0QU",
        "outputId": "63b66981-f13d-46ca-e41d-e1bf1c6e636b"
      },
      "execution_count": 41,
      "outputs": [
        {
          "output_type": "execute_result",
          "data": {
            "text/plain": [
              "                                          image_path class\n",
              "0  /content/trafficsigns_dataset/trafficsigns_dat...  stop\n",
              "1  /content/trafficsigns_dataset/trafficsigns_dat...  stop\n",
              "2  /content/trafficsigns_dataset/trafficsigns_dat...  stop\n",
              "3  /content/trafficsigns_dataset/trafficsigns_dat...  stop\n",
              "4  /content/trafficsigns_dataset/trafficsigns_dat...  stop"
            ],
            "text/html": [
              "\n",
              "  <div id=\"df-a6d2fd96-f024-4c91-83b1-111834312297\" class=\"colab-df-container\">\n",
              "    <div>\n",
              "<style scoped>\n",
              "    .dataframe tbody tr th:only-of-type {\n",
              "        vertical-align: middle;\n",
              "    }\n",
              "\n",
              "    .dataframe tbody tr th {\n",
              "        vertical-align: top;\n",
              "    }\n",
              "\n",
              "    .dataframe thead th {\n",
              "        text-align: right;\n",
              "    }\n",
              "</style>\n",
              "<table border=\"1\" class=\"dataframe\">\n",
              "  <thead>\n",
              "    <tr style=\"text-align: right;\">\n",
              "      <th></th>\n",
              "      <th>image_path</th>\n",
              "      <th>class</th>\n",
              "    </tr>\n",
              "  </thead>\n",
              "  <tbody>\n",
              "    <tr>\n",
              "      <th>0</th>\n",
              "      <td>/content/trafficsigns_dataset/trafficsigns_dat...</td>\n",
              "      <td>stop</td>\n",
              "    </tr>\n",
              "    <tr>\n",
              "      <th>1</th>\n",
              "      <td>/content/trafficsigns_dataset/trafficsigns_dat...</td>\n",
              "      <td>stop</td>\n",
              "    </tr>\n",
              "    <tr>\n",
              "      <th>2</th>\n",
              "      <td>/content/trafficsigns_dataset/trafficsigns_dat...</td>\n",
              "      <td>stop</td>\n",
              "    </tr>\n",
              "    <tr>\n",
              "      <th>3</th>\n",
              "      <td>/content/trafficsigns_dataset/trafficsigns_dat...</td>\n",
              "      <td>stop</td>\n",
              "    </tr>\n",
              "    <tr>\n",
              "      <th>4</th>\n",
              "      <td>/content/trafficsigns_dataset/trafficsigns_dat...</td>\n",
              "      <td>stop</td>\n",
              "    </tr>\n",
              "  </tbody>\n",
              "</table>\n",
              "</div>\n",
              "    <div class=\"colab-df-buttons\">\n",
              "\n",
              "  <div class=\"colab-df-container\">\n",
              "    <button class=\"colab-df-convert\" onclick=\"convertToInteractive('df-a6d2fd96-f024-4c91-83b1-111834312297')\"\n",
              "            title=\"Convert this dataframe to an interactive table.\"\n",
              "            style=\"display:none;\">\n",
              "\n",
              "  <svg xmlns=\"http://www.w3.org/2000/svg\" height=\"24px\" viewBox=\"0 -960 960 960\">\n",
              "    <path d=\"M120-120v-720h720v720H120Zm60-500h600v-160H180v160Zm220 220h160v-160H400v160Zm0 220h160v-160H400v160ZM180-400h160v-160H180v160Zm440 0h160v-160H620v160ZM180-180h160v-160H180v160Zm440 0h160v-160H620v160Z\"/>\n",
              "  </svg>\n",
              "    </button>\n",
              "\n",
              "  <style>\n",
              "    .colab-df-container {\n",
              "      display:flex;\n",
              "      gap: 12px;\n",
              "    }\n",
              "\n",
              "    .colab-df-convert {\n",
              "      background-color: #E8F0FE;\n",
              "      border: none;\n",
              "      border-radius: 50%;\n",
              "      cursor: pointer;\n",
              "      display: none;\n",
              "      fill: #1967D2;\n",
              "      height: 32px;\n",
              "      padding: 0 0 0 0;\n",
              "      width: 32px;\n",
              "    }\n",
              "\n",
              "    .colab-df-convert:hover {\n",
              "      background-color: #E2EBFA;\n",
              "      box-shadow: 0px 1px 2px rgba(60, 64, 67, 0.3), 0px 1px 3px 1px rgba(60, 64, 67, 0.15);\n",
              "      fill: #174EA6;\n",
              "    }\n",
              "\n",
              "    .colab-df-buttons div {\n",
              "      margin-bottom: 4px;\n",
              "    }\n",
              "\n",
              "    [theme=dark] .colab-df-convert {\n",
              "      background-color: #3B4455;\n",
              "      fill: #D2E3FC;\n",
              "    }\n",
              "\n",
              "    [theme=dark] .colab-df-convert:hover {\n",
              "      background-color: #434B5C;\n",
              "      box-shadow: 0px 1px 3px 1px rgba(0, 0, 0, 0.15);\n",
              "      filter: drop-shadow(0px 1px 2px rgba(0, 0, 0, 0.3));\n",
              "      fill: #FFFFFF;\n",
              "    }\n",
              "  </style>\n",
              "\n",
              "    <script>\n",
              "      const buttonEl =\n",
              "        document.querySelector('#df-a6d2fd96-f024-4c91-83b1-111834312297 button.colab-df-convert');\n",
              "      buttonEl.style.display =\n",
              "        google.colab.kernel.accessAllowed ? 'block' : 'none';\n",
              "\n",
              "      async function convertToInteractive(key) {\n",
              "        const element = document.querySelector('#df-a6d2fd96-f024-4c91-83b1-111834312297');\n",
              "        const dataTable =\n",
              "          await google.colab.kernel.invokeFunction('convertToInteractive',\n",
              "                                                    [key], {});\n",
              "        if (!dataTable) return;\n",
              "\n",
              "        const docLinkHtml = 'Like what you see? Visit the ' +\n",
              "          '<a target=\"_blank\" href=https://colab.research.google.com/notebooks/data_table.ipynb>data table notebook</a>'\n",
              "          + ' to learn more about interactive tables.';\n",
              "        element.innerHTML = '';\n",
              "        dataTable['output_type'] = 'display_data';\n",
              "        await google.colab.output.renderOutput(dataTable, element);\n",
              "        const docLink = document.createElement('div');\n",
              "        docLink.innerHTML = docLinkHtml;\n",
              "        element.appendChild(docLink);\n",
              "      }\n",
              "    </script>\n",
              "  </div>\n",
              "\n",
              "\n",
              "<div id=\"df-55eb9671-46e2-48dd-9a2a-64e77ed70cfa\">\n",
              "  <button class=\"colab-df-quickchart\" onclick=\"quickchart('df-55eb9671-46e2-48dd-9a2a-64e77ed70cfa')\"\n",
              "            title=\"Suggest charts\"\n",
              "            style=\"display:none;\">\n",
              "\n",
              "<svg xmlns=\"http://www.w3.org/2000/svg\" height=\"24px\"viewBox=\"0 0 24 24\"\n",
              "     width=\"24px\">\n",
              "    <g>\n",
              "        <path d=\"M19 3H5c-1.1 0-2 .9-2 2v14c0 1.1.9 2 2 2h14c1.1 0 2-.9 2-2V5c0-1.1-.9-2-2-2zM9 17H7v-7h2v7zm4 0h-2V7h2v10zm4 0h-2v-4h2v4z\"/>\n",
              "    </g>\n",
              "</svg>\n",
              "  </button>\n",
              "\n",
              "<style>\n",
              "  .colab-df-quickchart {\n",
              "      --bg-color: #E8F0FE;\n",
              "      --fill-color: #1967D2;\n",
              "      --hover-bg-color: #E2EBFA;\n",
              "      --hover-fill-color: #174EA6;\n",
              "      --disabled-fill-color: #AAA;\n",
              "      --disabled-bg-color: #DDD;\n",
              "  }\n",
              "\n",
              "  [theme=dark] .colab-df-quickchart {\n",
              "      --bg-color: #3B4455;\n",
              "      --fill-color: #D2E3FC;\n",
              "      --hover-bg-color: #434B5C;\n",
              "      --hover-fill-color: #FFFFFF;\n",
              "      --disabled-bg-color: #3B4455;\n",
              "      --disabled-fill-color: #666;\n",
              "  }\n",
              "\n",
              "  .colab-df-quickchart {\n",
              "    background-color: var(--bg-color);\n",
              "    border: none;\n",
              "    border-radius: 50%;\n",
              "    cursor: pointer;\n",
              "    display: none;\n",
              "    fill: var(--fill-color);\n",
              "    height: 32px;\n",
              "    padding: 0;\n",
              "    width: 32px;\n",
              "  }\n",
              "\n",
              "  .colab-df-quickchart:hover {\n",
              "    background-color: var(--hover-bg-color);\n",
              "    box-shadow: 0 1px 2px rgba(60, 64, 67, 0.3), 0 1px 3px 1px rgba(60, 64, 67, 0.15);\n",
              "    fill: var(--button-hover-fill-color);\n",
              "  }\n",
              "\n",
              "  .colab-df-quickchart-complete:disabled,\n",
              "  .colab-df-quickchart-complete:disabled:hover {\n",
              "    background-color: var(--disabled-bg-color);\n",
              "    fill: var(--disabled-fill-color);\n",
              "    box-shadow: none;\n",
              "  }\n",
              "\n",
              "  .colab-df-spinner {\n",
              "    border: 2px solid var(--fill-color);\n",
              "    border-color: transparent;\n",
              "    border-bottom-color: var(--fill-color);\n",
              "    animation:\n",
              "      spin 1s steps(1) infinite;\n",
              "  }\n",
              "\n",
              "  @keyframes spin {\n",
              "    0% {\n",
              "      border-color: transparent;\n",
              "      border-bottom-color: var(--fill-color);\n",
              "      border-left-color: var(--fill-color);\n",
              "    }\n",
              "    20% {\n",
              "      border-color: transparent;\n",
              "      border-left-color: var(--fill-color);\n",
              "      border-top-color: var(--fill-color);\n",
              "    }\n",
              "    30% {\n",
              "      border-color: transparent;\n",
              "      border-left-color: var(--fill-color);\n",
              "      border-top-color: var(--fill-color);\n",
              "      border-right-color: var(--fill-color);\n",
              "    }\n",
              "    40% {\n",
              "      border-color: transparent;\n",
              "      border-right-color: var(--fill-color);\n",
              "      border-top-color: var(--fill-color);\n",
              "    }\n",
              "    60% {\n",
              "      border-color: transparent;\n",
              "      border-right-color: var(--fill-color);\n",
              "    }\n",
              "    80% {\n",
              "      border-color: transparent;\n",
              "      border-right-color: var(--fill-color);\n",
              "      border-bottom-color: var(--fill-color);\n",
              "    }\n",
              "    90% {\n",
              "      border-color: transparent;\n",
              "      border-bottom-color: var(--fill-color);\n",
              "    }\n",
              "  }\n",
              "</style>\n",
              "\n",
              "  <script>\n",
              "    async function quickchart(key) {\n",
              "      const quickchartButtonEl =\n",
              "        document.querySelector('#' + key + ' button');\n",
              "      quickchartButtonEl.disabled = true;  // To prevent multiple clicks.\n",
              "      quickchartButtonEl.classList.add('colab-df-spinner');\n",
              "      try {\n",
              "        const charts = await google.colab.kernel.invokeFunction(\n",
              "            'suggestCharts', [key], {});\n",
              "      } catch (error) {\n",
              "        console.error('Error during call to suggestCharts:', error);\n",
              "      }\n",
              "      quickchartButtonEl.classList.remove('colab-df-spinner');\n",
              "      quickchartButtonEl.classList.add('colab-df-quickchart-complete');\n",
              "    }\n",
              "    (() => {\n",
              "      let quickchartButtonEl =\n",
              "        document.querySelector('#df-55eb9671-46e2-48dd-9a2a-64e77ed70cfa button');\n",
              "      quickchartButtonEl.style.display =\n",
              "        google.colab.kernel.accessAllowed ? 'block' : 'none';\n",
              "    })();\n",
              "  </script>\n",
              "</div>\n",
              "\n",
              "    </div>\n",
              "  </div>\n"
            ],
            "application/vnd.google.colaboratory.intrinsic+json": {
              "type": "dataframe",
              "variable_name": "data_2",
              "summary": "{\n  \"name\": \"data_2\",\n  \"rows\": 3699,\n  \"fields\": [\n    {\n      \"column\": \"image_path\",\n      \"properties\": {\n        \"dtype\": \"string\",\n        \"num_unique_values\": 3699,\n        \"samples\": [\n          \"/content/trafficsigns_dataset/trafficsigns_dataset/round/noentry/01067_00001.png\",\n          \"/content/trafficsigns_dataset/trafficsigns_dataset/round/limitedtraffic/01896_00001.png\",\n          \"/content/trafficsigns_dataset/trafficsigns_dataset/square/parking/00177_00001.png\"\n        ],\n        \"semantic_type\": \"\",\n        \"description\": \"\"\n      }\n    },\n    {\n      \"column\": \"class\",\n      \"properties\": {\n        \"dtype\": \"category\",\n        \"num_unique_values\": 16,\n        \"samples\": [\n          \"stop\",\n          \"laneend\",\n          \"noparking\"\n        ],\n        \"semantic_type\": \"\",\n        \"description\": \"\"\n      }\n    }\n  ]\n}"
            }
          },
          "metadata": {},
          "execution_count": 41
        }
      ]
    },
    {
      "cell_type": "code",
      "source": [
        "# Find the number of unique types/classes\n",
        "num_types = data_2['class'].nunique()\n",
        "# Get the count of each unique type/class\n",
        "type_counts = data_2['class'].value_counts()\n",
        "\n",
        "print(\"Number of unique types:\", num_types)\n",
        "print(\"unique types:\", type_counts)"
      ],
      "metadata": {
        "colab": {
          "base_uri": "https://localhost:8080/"
        },
        "id": "4ivs_DxOUw8r",
        "outputId": "53d856c5-db86-45ce-8167-7a029a8ef52f"
      },
      "execution_count": 42,
      "outputs": [
        {
          "output_type": "stream",
          "name": "stdout",
          "text": [
            "Number of unique types: 16\n",
            "unique types: class\n",
            "warning             695\n",
            "noentry             375\n",
            "speed               316\n",
            "bicycle             285\n",
            "rightofway          282\n",
            "parking             276\n",
            "noparking           242\n",
            "giveway             231\n",
            "continue            199\n",
            "trafficdirective    195\n",
            "limitedtraffic      125\n",
            "traveldirection     124\n",
            "laneend             118\n",
            "roundabout           98\n",
            "crossing             95\n",
            "stop                 43\n",
            "Name: count, dtype: int64\n"
          ]
        }
      ]
    },
    {
      "cell_type": "code",
      "source": [
        "#Plot the types\n",
        "# Import necessary libraries\n",
        "import matplotlib.pyplot as plt\n",
        "\n",
        "# Extract data for plotting\n",
        "class_names = type_counts.index.to_list()\n",
        "class_counts = type_counts.to_numpy()\n",
        "\n",
        "# Create a bar plot\n",
        "plt.bar(class_names, class_counts)\n",
        "\n",
        "# Add title and labels\n",
        "plt.title(\"Number of Unique Types per Shape\")\n",
        "plt.xlabel(\"Type\")\n",
        "plt.ylabel(\"Count\")\n",
        "\n",
        "# Rotate x-axis labels for better readability\n",
        "plt.xticks(rotation=45)\n",
        "\n",
        "# Display the plot\n",
        "plt.show()"
      ],
      "metadata": {
        "colab": {
          "base_uri": "https://localhost:8080/",
          "height": 540
        },
        "id": "fY3hEJs5S4Px",
        "outputId": "d352784c-df89-4022-be0f-b11d4c087ea5"
      },
      "execution_count": 43,
      "outputs": [
        {
          "output_type": "display_data",
          "data": {
            "text/plain": [
              "<Figure size 640x480 with 1 Axes>"
            ],
            "image/png": "[encoded data removed]"
          },
          "metadata": {}
        }
      ]
    },
    {
      "cell_type": "code",
      "source": [
        "print('The dataset has {} shapes'.format(len(data_1['class'].unique())))\n",
        "print('The dataset has {} types'.format(len(data_2['class'].unique())))"
      ],
      "metadata": {
        "id": "OHlAF7p9mozS",
        "outputId": "794dc5d4-a5de-4e6c-dd07-e3005be50dac",
        "colab": {
          "base_uri": "https://localhost:8080/"
        }
      },
      "execution_count": 44,
      "outputs": [
        {
          "output_type": "stream",
          "name": "stdout",
          "text": [
            "The dataset has 5 shapes\n",
            "The dataset has 16 types\n"
          ]
        }
      ]
    },
    {
      "cell_type": "markdown",
      "source": [
        "EDA"
      ],
      "metadata": {
        "id": "27T26FKulxH1"
      }
    },
    {
      "cell_type": "code",
      "source": [
        "data_1.info()"
      ],
      "metadata": {
        "id": "_zaZSSG0lpPD",
        "outputId": "5dde52b9-5cb4-4590-becc-e2c7430fc7a9",
        "colab": {
          "base_uri": "https://localhost:8080/"
        }
      },
      "execution_count": 45,
      "outputs": [
        {
          "output_type": "stream",
          "name": "stdout",
          "text": [
            "<class 'pandas.core.frame.DataFrame'>\n",
            "RangeIndex: 3699 entries, 0 to 3698\n",
            "Data columns (total 2 columns):\n",
            " #   Column      Non-Null Count  Dtype \n",
            "---  ------      --------------  ----- \n",
            " 0   image_path  3699 non-null   object\n",
            " 1   class       3699 non-null   object\n",
            "dtypes: object(2)\n",
            "memory usage: 57.9+ KB\n"
          ]
        }
      ]
    },
    {
      "cell_type": "code",
      "source": [
        "data_2.info()"
      ],
      "metadata": {
        "id": "3tMbmShclufw",
        "outputId": "d19c53fe-6878-4a20-97a1-1497edc50fde",
        "colab": {
          "base_uri": "https://localhost:8080/"
        }
      },
      "execution_count": 46,
      "outputs": [
        {
          "output_type": "stream",
          "name": "stdout",
          "text": [
            "<class 'pandas.core.frame.DataFrame'>\n",
            "RangeIndex: 3699 entries, 0 to 3698\n",
            "Data columns (total 2 columns):\n",
            " #   Column      Non-Null Count  Dtype \n",
            "---  ------      --------------  ----- \n",
            " 0   image_path  3699 non-null   object\n",
            " 1   class       3699 non-null   object\n",
            "dtypes: object(2)\n",
            "memory usage: 57.9+ KB\n"
          ]
        }
      ]
    },
    {
      "cell_type": "markdown",
      "source": [],
      "metadata": {
        "id": "yl8-NXE7BY60"
      }
    },
    {
      "cell_type": "code",
      "source": [
        "import cv2\n",
        "import numpy as np\n",
        "import pandas as pd\n",
        "import os\n",
        "\n",
        "def load_images_from_csv(csv_file_path, image_folder, target_size):\n",
        "    # Read the CSV file containing image paths\n",
        "    data = pd.read_csv(csv_file_path)\n",
        "\n",
        "    image_arrays = []\n",
        "    for index, row in data.iterrows():\n",
        "        # Construct the full path to the image file\n",
        "        full_path = os.path.join(image_folder, row['image_path'])\n",
        "\n",
        "        # Load the image using OpenCV\n",
        "        image = cv2.imread(full_path, cv2.IMREAD_GRAYSCALE)\n",
        "\n",
        "        # Check if the loaded image is empty\n",
        "        if image is None:\n",
        "            continue\n",
        "\n",
        "        # Resize the image to the target size\n",
        "        resized_image = cv2.resize(image, target_size)\n",
        "\n",
        "        # Convert the resized image to a numpy array\n",
        "        image_array = np.array(resized_image)\n",
        "\n",
        "        # Append the image array to the list\n",
        "        image_arrays.append(image_array)\n",
        "\n",
        "    # Convert the list of arrays to a numpy array\n",
        "    image_arrays = np.array(image_arrays)\n",
        "\n",
        "    return image_arrays\n",
        "\n",
        "# Example usage\n",
        "csv_file_path = \"/content/drive/My Drive/Assignment2/type.csv\"\n",
        "image_folder = \"/content/drive/My Drive/Assignment2\"\n",
        "target_size = (28, 28)\n",
        "\n",
        "image_arrays = load_images_from_csv(csv_file_path, image_folder, target_size)\n",
        "print(\"Shape of the numpy array:\", image_arrays.shape)"
      ],
      "metadata": {
        "colab": {
          "base_uri": "https://localhost:8080/"
        },
        "id": "74tNcElL9L8P",
        "outputId": "cdac7030-3dcd-4105-c2c8-b3bc7d87adbe"
      },
      "execution_count": null,
      "outputs": [
        {
          "output_type": "stream",
          "name": "stdout",
          "text": [
            "Shape of the numpy array: (3699, 28, 28)\n"
          ]
        }
      ]
    },
    {
      "cell_type": "code",
      "source": [
        "image_arrays"
      ],
      "metadata": {
        "colab": {
          "base_uri": "https://localhost:8080/"
        },
        "id": "QKDRn5-dH16n",
        "outputId": "dd2c0afd-5595-4328-c6e0-4a704918d726"
      },
      "execution_count": null,
      "outputs": [
        {
          "output_type": "execute_result",
          "data": {
            "text/plain": [
              "array([[[255, 255, 254, ..., 188, 140, 249],\n",
              "        [255, 255, 255, ..., 191, 142, 251],\n",
              "        [255, 255, 255, ..., 188, 148, 247],\n",
              "        ...,\n",
              "        [255, 255, 255, ..., 252, 255, 251],\n",
              "        [255, 254, 255, ..., 246, 245, 246],\n",
              "        [255, 255, 254, ..., 251, 251, 251]],\n",
              "\n",
              "       [[129, 128, 121, ..., 116, 103, 104],\n",
              "        [124, 125, 125, ..., 101, 101, 109],\n",
              "        [113, 110, 112, ..., 106,  97,  95],\n",
              "        ...,\n",
              "        [ 67,  67,  92, ...,  65,  75,  69],\n",
              "        [ 69,  71,  77, ...,  73,  81,  76],\n",
              "        [ 79,  71,  75, ...,  68,  68,  74]],\n",
              "\n",
              "       [[234, 215, 227, ..., 255, 252, 158],\n",
              "        [235, 245, 244, ..., 255, 254, 244],\n",
              "        [195, 201, 180, ..., 255, 254, 254],\n",
              "        ...,\n",
              "        [120, 132, 180, ...,  28,  22,  23],\n",
              "        [241, 247, 245, ...,  27,  22,  22],\n",
              "        [248, 238, 111, ...,  29,  22,  21]],\n",
              "\n",
              "       ...,\n",
              "\n",
              "       [[ 48,  37,  29, ...,  40,  33,  27],\n",
              "        [ 42,  34,  32, ...,  34,  29,  28],\n",
              "        [ 46,  38,  38, ...,  28,  34,  35],\n",
              "        ...,\n",
              "        [ 25,  24,  30, ...,  25,  19,  15],\n",
              "        [ 32,  25,  25, ...,  29,  24,  16],\n",
              "        [ 25,  21,  25, ...,  26,  19,  14]],\n",
              "\n",
              "       [[ 16,  17,  17, ...,  12,  14,  13],\n",
              "        [ 17,  18,  13, ...,  14,  12,  13],\n",
              "        [ 16,  19,  17, ...,  13,  15,  14],\n",
              "        ...,\n",
              "        [ 15,  17,  15, ...,   9,   8,   8],\n",
              "        [ 16,  14,  14, ...,   9,   7,   7],\n",
              "        [ 15,  17,  17, ...,   8,   8,   7]],\n",
              "\n",
              "       [[ 31,  34,  35, ...,  31,  31,  31],\n",
              "        [ 30,  32,  33, ...,  32,  32,  32],\n",
              "        [ 30,  31,  32, ...,  32,  32,  32],\n",
              "        ...,\n",
              "        [ 30,  29,  29, ...,  32,  32,  32],\n",
              "        [ 32,  31,  31, ...,  35,  34,  35],\n",
              "        [ 30,  30,  33, ...,  39,  37,  36]]], dtype=uint8)"
            ]
          },
          "metadata": {},
          "execution_count": 118
        }
      ]
    },
    {
      "cell_type": "code",
      "source": [
        "import cv2\n",
        "import numpy as np\n",
        "import pandas as pd\n",
        "import os\n",
        "\n",
        "def load_images_from_csv(csv_file_path, image_folder, target_size):\n",
        "    # Read the CSV file containing image paths\n",
        "    data = pd.read_csv(csv_file_path)\n",
        "\n",
        "    image_arrays = []\n",
        "    for index, row in data.iterrows():\n",
        "        # Construct the full path to the image file\n",
        "        full_path = os.path.join(image_folder, row['image_path'])\n",
        "\n",
        "        # Load the image using OpenCV\n",
        "        image = cv2.imread(full_path, cv2.IMREAD_GRAYSCALE)\n",
        "\n",
        "        # Check if the loaded image is empty\n",
        "        if image is None:\n",
        "            continue\n",
        "\n",
        "        # Resize the image to the target size\n",
        "        resized_image = cv2.resize(image, target_size)\n",
        "\n",
        "        # Convert the resized image to a numpy array\n",
        "        image_array = np.array(resized_image)\n",
        "\n",
        "        # Append the image array to the list\n",
        "        image_arrays.append(image_array)\n",
        "\n",
        "    # Convert the list of arrays to a numpy array\n",
        "    image_arrays = np.array(image_arrays)\n",
        "\n",
        "    return image_arrays\n",
        "\n",
        "# Example usage\n",
        "csv_file_path = \"/content/drive/My Drive/Assignment2/shape.csv\"\n",
        "image_folder = \"/content/drive/My Drive/Assignment2\"\n",
        "target_size = (28, 28)\n",
        "\n",
        "image_arrays_2 = load_images_from_csv(csv_file_path, image_folder, target_size)\n",
        "print(\"Shape of the numpy array:\", image_arrays.shape)"
      ],
      "metadata": {
        "colab": {
          "base_uri": "https://localhost:8080/"
        },
        "id": "sWm9t6FpHL4F",
        "outputId": "2a88e4cb-2b47-4127-f3ca-334bf44ba455"
      },
      "execution_count": null,
      "outputs": [
        {
          "output_type": "stream",
          "name": "stdout",
          "text": [
            "Shape of the numpy array: (3699, 28, 28)\n"
          ]
        }
      ]
    },
    {
      "cell_type": "code",
      "source": [
        "image_arrays_2"
      ],
      "metadata": {
        "colab": {
          "base_uri": "https://localhost:8080/"
        },
        "id": "6q4ZKB52H7m2",
        "outputId": "543bec08-c119-44b7-d367-6c29fef033fa"
      },
      "execution_count": null,
      "outputs": [
        {
          "output_type": "execute_result",
          "data": {
            "text/plain": [
              "array([[[255, 255, 254, ..., 188, 140, 249],\n",
              "        [255, 255, 255, ..., 191, 142, 251],\n",
              "        [255, 255, 255, ..., 188, 148, 247],\n",
              "        ...,\n",
              "        [255, 255, 255, ..., 252, 255, 251],\n",
              "        [255, 254, 255, ..., 246, 245, 246],\n",
              "        [255, 255, 254, ..., 251, 251, 251]],\n",
              "\n",
              "       [[129, 128, 121, ..., 116, 103, 104],\n",
              "        [124, 125, 125, ..., 101, 101, 109],\n",
              "        [113, 110, 112, ..., 106,  97,  95],\n",
              "        ...,\n",
              "        [ 67,  67,  92, ...,  65,  75,  69],\n",
              "        [ 69,  71,  77, ...,  73,  81,  76],\n",
              "        [ 79,  71,  75, ...,  68,  68,  74]],\n",
              "\n",
              "       [[234, 215, 227, ..., 255, 252, 158],\n",
              "        [235, 245, 244, ..., 255, 254, 244],\n",
              "        [195, 201, 180, ..., 255, 254, 254],\n",
              "        ...,\n",
              "        [120, 132, 180, ...,  28,  22,  23],\n",
              "        [241, 247, 245, ...,  27,  22,  22],\n",
              "        [248, 238, 111, ...,  29,  22,  21]],\n",
              "\n",
              "       ...,\n",
              "\n",
              "       [[ 48,  37,  29, ...,  40,  33,  27],\n",
              "        [ 42,  34,  32, ...,  34,  29,  28],\n",
              "        [ 46,  38,  38, ...,  28,  34,  35],\n",
              "        ...,\n",
              "        [ 25,  24,  30, ...,  25,  19,  15],\n",
              "        [ 32,  25,  25, ...,  29,  24,  16],\n",
              "        [ 25,  21,  25, ...,  26,  19,  14]],\n",
              "\n",
              "       [[ 16,  17,  17, ...,  12,  14,  13],\n",
              "        [ 17,  18,  13, ...,  14,  12,  13],\n",
              "        [ 16,  19,  17, ...,  13,  15,  14],\n",
              "        ...,\n",
              "        [ 15,  17,  15, ...,   9,   8,   8],\n",
              "        [ 16,  14,  14, ...,   9,   7,   7],\n",
              "        [ 15,  17,  17, ...,   8,   8,   7]],\n",
              "\n",
              "       [[ 31,  34,  35, ...,  31,  31,  31],\n",
              "        [ 30,  32,  33, ...,  32,  32,  32],\n",
              "        [ 30,  31,  32, ...,  32,  32,  32],\n",
              "        ...,\n",
              "        [ 30,  29,  29, ...,  32,  32,  32],\n",
              "        [ 32,  31,  31, ...,  35,  34,  35],\n",
              "        [ 30,  30,  33, ...,  39,  37,  36]]], dtype=uint8)"
            ]
          },
          "metadata": {},
          "execution_count": 121
        }
      ]
    },
    {
      "cell_type": "markdown",
      "source": [
        "Convert images to numbers\n"
      ],
      "metadata": {
        "id": "MVfuKPeZ1w5z"
      }
    },
    {
      "cell_type": "code",
      "source": [
        "# from sklearn.preprocessing import LabelEncoder\n",
        "\n",
        "# # Create a LabelEncoder object\n",
        "# encoder = LabelEncoder()\n",
        "\n",
        "# # Encode the \"class\" column in shape.csv\n",
        "# main['class'] = encoder.fit_transform(main['class'])\n",
        "\n",
        "\n",
        "# # Now both \"shape\" and \"type\" columns are encoded\n"
      ],
      "metadata": {
        "id": "UFBJHbwEUXb0"
      },
      "execution_count": null,
      "outputs": []
    },
    {
      "cell_type": "code",
      "source": [
        "# from sklearn.preprocessing import LabelEncoder\n",
        "# # Create separate LabelEncoder objects for shape and type\n",
        "# shape_encoder = LabelEncoder()\n",
        "# type_encoder = LabelEncoder()\n",
        "\n",
        "# # Encode the shape and type columns\n",
        "# data_1['shape_encoded'] = shape_encoder.fit_transform(data_1['class'])  #7398\n",
        "# data_2['type_encoded'] = type_encoder.fit_transform(data_2['class'])  #7398\n",
        "\n",
        "# # Now you can train your models using the encoded columns"
      ],
      "metadata": {
        "id": "NytNfB8jWZhR"
      },
      "execution_count": null,
      "outputs": []
    },
    {
      "cell_type": "markdown",
      "source": [
        "# **2. Split the Data**"
      ],
      "metadata": {
        "id": "niWflxP-2D8Y"
      }
    },
    {
      "cell_type": "markdown",
      "source": [
        "# **3. Choose a Model**\n"
      ],
      "metadata": {
        "id": "68EKpL4q13Rh"
      }
    },
    {
      "cell_type": "markdown",
      "source": [
        "Baseline Model\n"
      ],
      "metadata": {
        "id": "uCCWmXwx1zPY"
      }
    },
    {
      "cell_type": "code",
      "source": [],
      "metadata": {
        "id": "3t0Gni5t13oq"
      },
      "execution_count": null,
      "outputs": []
    },
    {
      "cell_type": "markdown",
      "source": [
        "# **4. Train the Model**\n"
      ],
      "metadata": {
        "id": "dtGlMOl515fd"
      }
    },
    {
      "cell_type": "code",
      "source": [],
      "metadata": {
        "id": "XUfTgsYP1502"
      },
      "execution_count": null,
      "outputs": []
    },
    {
      "cell_type": "markdown",
      "source": [
        "# **5. Evaluate the Model**"
      ],
      "metadata": {
        "id": "hwjYLfAFbiMX"
      }
    }
  ]
}