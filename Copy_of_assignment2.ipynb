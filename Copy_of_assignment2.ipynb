{
  "nbformat": 4,
  "nbformat_minor": 0,
  "metadata": {
    "colab": {
      "provenance": [],
      "toc_visible": true,
      "include_colab_link": true
    },
    "kernelspec": {
      "name": "python3",
      "display_name": "Python 3"
    },
    "language_info": {
      "name": "python"
    }
  },
  "cells": [
    {
      "cell_type": "markdown",
      "metadata": {
        "id": "view-in-github",
        "colab_type": "text"
      },
      "source": [
        "<a href=\"https://colab.research.google.com/github/afrahhassan/afrahhassan/blob/main/Copy_of_assignment2.ipynb\" target=\"_parent\"><img src=\"https://colab.research.google.com/assets/colab-badge.svg\" alt=\"Open In Colab\"/></a>"
      ]
    },
    {
      "cell_type": "markdown",
      "source": [
        "# Introduction\n",
        "## Task\n",
        "This report will analyse the methodology used to complete assignment 2 of the course Machine Learning (COSC2673/2793). The objective of the assignment is to develop a machine-learning system that can classify traffic sign images.\n",
        "\n",
        "The project is divided into two tasks:\n",
        "\n",
        "\n",
        "*   Classify images according to the shape of the given image.\n",
        "*    Classify images according to type.\n",
        "\n"
      ],
      "metadata": {
        "id": "bSg4xqPc8rir"
      }
    },
    {
      "cell_type": "markdown",
      "source": [
        "## Approach\n",
        "Our goal is to be able to identify the best possible machine-learning algorithm to generate a model that can reliably and consistently predict whether the type of traffic sign is based on image recognition."
      ],
      "metadata": {
        "id": "wRNwmqGTKEY5"
      }
    },
    {
      "cell_type": "markdown",
      "source": [
        "# **Contact to the Drive**"
      ],
      "metadata": {
        "id": "9PmzuCjISE7S"
      }
    },
    {
      "cell_type": "code",
      "source": [
        "from google.colab import drive\n",
        "import os\n",
        "import csv\n",
        "import numpy as np\n",
        "from sklearn.model_selection import train_test_split\n",
        "import pandas as pd\n",
        "import cv2\n",
        "from PIL import Image\n",
        "from sklearn.preprocessing import LabelEncoder\n"
      ],
      "metadata": {
        "id": "gsVfO_pe7ZM-"
      },
      "execution_count": null,
      "outputs": []
    },
    {
      "cell_type": "code",
      "source": [
        "!cp -r \"/content/drive/MyDrive/Assignment2\" ."
      ],
      "metadata": {
        "id": "Lul49IWM8_lZ"
      },
      "execution_count": null,
      "outputs": []
    },
    {
      "cell_type": "code",
      "source": [
        "from google.colab import drive\n",
        "drive.mount('/content/drive')"
      ],
      "metadata": {
        "colab": {
          "base_uri": "https://localhost:8080/"
        },
        "id": "EIscGG5b9m_r",
        "outputId": "a1b3ee29-a7ee-40c6-c4ca-25e88186481a"
      },
      "execution_count": null,
      "outputs": [
        {
          "output_type": "stream",
          "name": "stdout",
          "text": [
            "Drive already mounted at /content/drive; to attempt to forcibly remount, call drive.mount(\"/content/drive\", force_remount=True).\n"
          ]
        }
      ]
    },
    {
      "cell_type": "code",
      "source": [
        "import zipfile\n",
        "with zipfile.ZipFile('/content/drive/MyDrive/Assignment2/trafficsigns_dataset.zip', 'r') as zip_ref:\n",
        "    zip_ref.extractall('./')"
      ],
      "metadata": {
        "id": "ehwv6PY09tAp"
      },
      "execution_count": null,
      "outputs": []
    },
    {
      "cell_type": "markdown",
      "source": [
        "## **Extract Shape file**"
      ],
      "metadata": {
        "id": "H3nOBZeZ87z5"
      }
    },
    {
      "cell_type": "code",
      "source": [
        "\n",
        "extract_to_path = '/content/drive/MyDrive/Assignment2'\n",
        "shape_csv = '/content/drive/My Drive/Assignment2/shape_data.csv'\n",
        "\n",
        "data_list = []\n",
        "\n",
        "for root, dirs, files in os.walk(extract_to_path):\n",
        "    for file in files:\n",
        "        if file.endswith(('.png', '.jpg', '.jpeg')):\n",
        "            full_path = os.path.join(root, file)\n",
        "            class_name = os.path.basename(os.path.dirname(root))\n",
        "            img = Image.open(full_path).convert('L')\n",
        "\n",
        "            data_list.append({'image_path': full_path, 'shape_label': class_name})\n",
        "data = pd.DataFrame(data_list)\n",
        "\n",
        "encoder = LabelEncoder()\n",
        "\n",
        "data['encoded_shape_label'] = encoder.fit_transform(data['shape_label'])\n",
        "\n",
        "class_labels_mapping = dict(zip(encoder.classes_, encoder.transform(encoder.classes_)))\n",
        "print(\"Mapping of classes to encoded labels:\", class_labels_mapping)\n",
        "\n",
        "data.to_csv(shape_csv, index=False)\n",
        "print(f\"CSV file has been created successfully with {len(data)} entries at {shape_csv}\")"
      ],
      "metadata": {
        "colab": {
          "base_uri": "https://localhost:8080/"
        },
        "id": "-oL6BGej4k4r",
        "outputId": "2f3feeab-c05c-41ad-bfad-0b495ef5cd4a"
      },
      "execution_count": null,
      "outputs": [
        {
          "output_type": "stream",
          "name": "stdout",
          "text": [
            "Mapping of classes to encoded labels: {'diamond': 0, 'hex': 1, 'round': 2, 'square': 3, 'triangle': 4}\n",
            "CSV file has been created successfully with 3699 entries at /content/drive/My Drive/Assignment2/shape_data.csv\n"
          ]
        }
      ]
    },
    {
      "cell_type": "markdown",
      "source": [
        "## **Extract Type file**"
      ],
      "metadata": {
        "id": "TEO2rHI49FbN"
      }
    },
    {
      "cell_type": "code",
      "source": [
        "import os\n",
        "import numpy as np\n",
        "import pandas as pd\n",
        "from PIL import Image\n",
        "from sklearn.preprocessing import LabelEncoder\n",
        "\n",
        "# Define the path to extract images and the output CSV file\n",
        "extract_to_path = '/content/drive/MyDrive/Assignment2'\n",
        "type_csv = '/content/drive/My Drive/Assignment2/type_data.csv'\n",
        "\n",
        "data_list = []\n",
        "\n",
        "for root, dirs, files in os.walk(extract_to_path):\n",
        "    for file in files:\n",
        "        if file.endswith(('.png', '.jpg', '.jpeg')):\n",
        "            full_path = os.path.join(root, file)\n",
        "            image_type = os.path.basename(root)  # Get the type of the image from the directory name\n",
        "            data_list.append({'image_path': full_path, 'type_label': image_type})\n",
        "\n",
        "data = pd.DataFrame(data_list)\n",
        "encoder = LabelEncoder()\n",
        "\n",
        "data['encoded_type_label'] = encoder.fit_transform(data['type_label'])\n",
        "\n",
        "class_labels_mapping = dict(zip(encoder.classes_, encoder.transform(encoder.classes_)))\n",
        "print(\"Mapping of classes to encoded labels:\", class_labels_mapping)\n",
        "\n",
        "# Save to CSV\n",
        "data.to_csv(type_csv, index=False)\n",
        "\n",
        "print(f\"CSV file has been created successfully with {len(data)} entries at {type_csv}\")\n"
      ],
      "metadata": {
        "colab": {
          "base_uri": "https://localhost:8080/"
        },
        "id": "dsiMuW6L6jtV",
        "outputId": "cdc6040e-892a-4b7e-99b1-a8a992204484"
      },
      "execution_count": null,
      "outputs": [
        {
          "output_type": "stream",
          "name": "stdout",
          "text": [
            "Mapping of classes to encoded labels: {'bicycle': 0, 'continue': 1, 'crossing': 2, 'giveway': 3, 'laneend': 4, 'limitedtraffic': 5, 'noentry': 6, 'noparking': 7, 'parking': 8, 'rightofway': 9, 'roundabout': 10, 'speed': 11, 'stop': 12, 'trafficdirective': 13, 'traveldirection': 14, 'warning': 15}\n",
            "CSV file has been created successfully with 3699 entries at /content/drive/My Drive/Assignment2/type_data.csv\n"
          ]
        }
      ]
    },
    {
      "cell_type": "markdown",
      "source": [
        "# **1. Data Exploration**\n",
        "## **1.1 Image Visualization**"
      ],
      "metadata": {
        "id": "dLX2kKbtmKHW"
      }
    },
    {
      "cell_type": "code",
      "source": [
        "import os\n",
        "import zipfile\n",
        "import matplotlib.pyplot as plt\n",
        "import matplotlib.image as mpimg\n",
        "\n",
        "# Path to the ZIP file and extraction directory\n",
        "zip_path = '/content/drive/MyDrive/Assignment2/trafficsigns_dataset.zip'\n",
        "extraction_path = './trafficsigns_dataset'\n",
        "\n",
        "# Extracting the ZIP file\n",
        "with zipfile.ZipFile(zip_path, 'r') as zip_ref:\n",
        "    zip_ref.extractall(extraction_path)\n",
        "\n",
        "# Function to display images\n",
        "def plot_images(images, titles, rows=1, cols=5, figsize=(15, 3)):\n",
        "    fig, axes = plt.subplots(rows, cols, figsize=figsize)\n",
        "    axes = axes.ravel()\n",
        "    for i in range(len(images)):\n",
        "        axes[i].imshow(images[i], cmap='gray')\n",
        "        axes[i].set_title(titles[i], fontsize=8)\n",
        "        axes[i].axis('off')\n",
        "    plt.tight_layout()\n",
        "    plt.show()\n",
        "\n",
        "# Function to collect images from multiple directories\n",
        "def collect_images(directory, extension, num_images=5, cols=5):\n",
        "    images = []\n",
        "    titles = []\n",
        "    # Walk through each folder and subfolder\n",
        "    for root, dirs, files in os.walk(directory):\n",
        "        file_list = [os.path.join(root, file) for file in files if file.endswith(extension)]\n",
        "        if file_list:\n",
        "            selected_files = file_list[:num_images]  # Take up to num_images from each folder\n",
        "            images.extend([mpimg.imread(img) for img in selected_files])\n",
        "            titles.extend(selected_files)\n",
        "        if len(images) >= cols:  # Limit the total number of images to display\n",
        "            break\n",
        "    return images, titles\n",
        "\n",
        "# Collect and display images\n",
        "image_extensions = ('.jpeg', '.jpg', '.png')\n",
        "images, titles = collect_images(extraction_path, image_extensions, num_images=1, cols=5)  # Adjust num_images to pick from each folder\n",
        "plot_images(images, titles)\n"
      ],
      "metadata": {
        "colab": {
          "base_uri": "https://localhost:8080/",
          "height": 317
        },
        "id": "psr7GGPWhJ0U",
        "outputId": "e22ee803-d4c6-4b2e-a511-b5da0d0963cb"
      },
      "execution_count": null,
      "outputs": [
        {
          "output_type": "display_data",
          "data": {
            "text/plain": [
              "<Figure size 1500x300 with 5 Axes>"
            ],
            "image/png": "[encoded data removed]"
          },
          "metadata": {}
        }
      ]
    },
    {
      "cell_type": "markdown",
      "source": [
        "\n",
        "\n",
        "**Observations:**\n",
        "- The traffic sign images exhibit a wide variety of shapes.\n",
        "- Some signs have distinctive shapes (e.g., triangles, circles, octagons), while others have more complex shapes.\n",
        "- The images also vary in terms of background complexity, with some signs having simple backgrounds and others having more cluttered backgrounds.\n",
        "- These observations suggest that a machine-learning algorithm will need to be able to handle a diverse range of image characteristics in order to accurately classify the traffic signs."
      ],
      "metadata": {
        "id": "t1u-epMJ88XG"
      }
    },
    {
      "cell_type": "markdown",
      "source": [
        "## **1.2 Load Data into DataFrame**"
      ],
      "metadata": {
        "id": "EFk9CSkGfJ1J"
      }
    },
    {
      "cell_type": "code",
      "source": [
        "import os\n",
        "import cv2\n",
        "import pandas as pd\n",
        "\n",
        "def load_images_into_dataframes(data_dir):\n",
        "    \"\"\"\n",
        "    Function to load images from a directory into separate Pandas DataFrames for shape and type.\n",
        "\n",
        "    Args:\n",
        "    - data_dir (str): Path to the directory containing the data.\n",
        "\n",
        "    Returns:\n",
        "    - shape_df (DataFrame): Pandas DataFrame containing shape data with images loaded.\n",
        "    - type_df (DataFrame): Pandas DataFrame containing type data with images loaded.\n",
        "    \"\"\"\n",
        "    shape_data = []\n",
        "    type_data = []\n",
        "\n",
        "    # Iterate through shape folders\n",
        "    for shape_folder in os.listdir(data_dir):\n",
        "        shape_folder_path = os.path.join(data_dir, shape_folder)\n",
        "\n",
        "        # Skip non-directory files\n",
        "        if not os.path.isdir(shape_folder_path):\n",
        "            continue\n",
        "\n",
        "        # Iterate through sign type folders\n",
        "        for sign_type_folder in os.listdir(shape_folder_path):\n",
        "            sign_type_folder_path = os.path.join(shape_folder_path, sign_type_folder)\n",
        "\n",
        "            # Skip non-directory files\n",
        "            if not os.path.isdir(sign_type_folder_path):\n",
        "                continue\n",
        "\n",
        "            # Iterate through image files\n",
        "            for image_file in os.listdir(sign_type_folder_path):\n",
        "                image_path = os.path.join(sign_type_folder_path, image_file)\n",
        "\n",
        "                # Check if the file is an image\n",
        "                if not image_path.endswith(('.jpg', '.jpeg', '.png', '.bmp', '.gif')):\n",
        "                    print(f\"Skipping non-image file: {image_path}\")\n",
        "                    continue\n",
        "\n",
        "                # Load the image\n",
        "                image = cv2.imread(image_path, cv2.IMREAD_GRAYSCALE)\n",
        "\n",
        "                # Check if the image is null\n",
        "                if image is None:\n",
        "                    print(f\"Skipping null image: {image_path}\")\n",
        "                    continue\n",
        "\n",
        "                # Append image and labels to the respective data lists\n",
        "                shape_data.append((image_path, image, shape_folder))\n",
        "                type_data.append((image_path, image, sign_type_folder))\n",
        "\n",
        "    # Create DataFrames from the collected data\n",
        "    shape_df = pd.DataFrame(shape_data, columns=['image_path', 'image', 'shape_label'])\n",
        "    type_df = pd.DataFrame(type_data, columns=['image_path', 'image', 'type_label'])\n",
        "\n",
        "    return shape_df, type_df\n",
        "\n",
        "# Example usage\n",
        "# data_dir = \"trafficsigns_dataset\"\n",
        "data_dir = \"/content/drive/My Drive/Assignment2/trafficsigns_dataset\"\n",
        "shape_df, type_df = load_images_into_dataframes(data_dir)\n",
        "\n",
        "print(\"Shape DataFrame:\")\n",
        "print(shape_df.head())\n",
        "\n",
        "print(\"\\nType DataFrame:\")\n",
        "print(type_df.head())\n"
      ],
      "metadata": {
        "colab": {
          "base_uri": "https://localhost:8080/"
        },
        "id": "muY3UHBWQV_G",
        "outputId": "d6ea7145-2bdc-4c12-bd51-af0017f9aeac"
      },
      "execution_count": null,
      "outputs": [
        {
          "output_type": "stream",
          "name": "stdout",
          "text": [
            "Skipping non-image file: /content/drive/My Drive/Assignment2/trafficsigns_dataset/triangle/warning/.DS_Store\n",
            "Shape DataFrame:\n",
            "                                          image_path  \\\n",
            "0  /content/drive/My Drive/Assignment2/trafficsig...   \n",
            "1  /content/drive/My Drive/Assignment2/trafficsig...   \n",
            "2  /content/drive/My Drive/Assignment2/trafficsig...   \n",
            "3  /content/drive/My Drive/Assignment2/trafficsig...   \n",
            "4  /content/drive/My Drive/Assignment2/trafficsig...   \n",
            "\n",
            "                                               image shape_label  \n",
            "0  [[60, 64, 47, 39, 46, 33, 30, 33, 19, 24, 15, ...      square  \n",
            "1  [[73, 63, 59, 55, 46, 51, 52, 52, 61, 56, 57, ...      square  \n",
            "2  [[255, 255, 255, 255, 255, 254, 254, 254, 255,...      square  \n",
            "3  [[37, 31, 30, 31, 30, 42, 37, 36, 35, 37, 35, ...      square  \n",
            "4  [[117, 88, 77, 96, 87, 72, 79, 91, 80, 78, 76,...      square  \n",
            "\n",
            "Type DataFrame:\n",
            "                                          image_path  \\\n",
            "0  /content/drive/My Drive/Assignment2/trafficsig...   \n",
            "1  /content/drive/My Drive/Assignment2/trafficsig...   \n",
            "2  /content/drive/My Drive/Assignment2/trafficsig...   \n",
            "3  /content/drive/My Drive/Assignment2/trafficsig...   \n",
            "4  /content/drive/My Drive/Assignment2/trafficsig...   \n",
            "\n",
            "                                               image type_label  \n",
            "0  [[60, 64, 47, 39, 46, 33, 30, 33, 19, 24, 15, ...   crossing  \n",
            "1  [[73, 63, 59, 55, 46, 51, 52, 52, 61, 56, 57, ...   crossing  \n",
            "2  [[255, 255, 255, 255, 255, 254, 254, 254, 255,...   crossing  \n",
            "3  [[37, 31, 30, 31, 30, 42, 37, 36, 35, 37, 35, ...   crossing  \n",
            "4  [[117, 88, 77, 96, 87, 72, 79, 91, 80, 78, 76,...   crossing  \n"
          ]
        }
      ]
    },
    {
      "cell_type": "markdown",
      "source": [
        "## **1.3 Check the Data Set**"
      ],
      "metadata": {
        "id": "CY4NUiX6fmjD"
      }
    },
    {
      "cell_type": "code",
      "source": [
        "# Check the size of the Shape DataFrame\n",
        "print(\"DataFrame Size:\")\n",
        "print(shape_df.shape)\n",
        "\n",
        "# Display basic information about the Shape DataFrame\n",
        "print(\"\\nDataFrame Information:\")\n",
        "print(shape_df.info())\n",
        "\n",
        "# Display descriptive statistics of the Shape DataFrame\n",
        "print(\"\\nDataFrame Descriptive Statistics:\")\n",
        "print(shape_df.describe())"
      ],
      "metadata": {
        "colab": {
          "base_uri": "https://localhost:8080/"
        },
        "id": "9ozR6z_xfen1",
        "outputId": "a44cf2e4-c8b8-4fd0-c6ee-d60a29af76f1"
      },
      "execution_count": null,
      "outputs": [
        {
          "output_type": "stream",
          "name": "stdout",
          "text": [
            "DataFrame Size:\n",
            "(3699, 3)\n",
            "\n",
            "DataFrame Information:\n",
            "<class 'pandas.core.frame.DataFrame'>\n",
            "RangeIndex: 3699 entries, 0 to 3698\n",
            "Data columns (total 3 columns):\n",
            " #   Column       Non-Null Count  Dtype \n",
            "---  ------       --------------  ----- \n",
            " 0   image_path   3699 non-null   object\n",
            " 1   image        3699 non-null   object\n",
            " 2   shape_label  3699 non-null   object\n",
            "dtypes: object(3)\n",
            "memory usage: 86.8+ KB\n",
            "None\n",
            "\n",
            "DataFrame Descriptive Statistics:\n",
            "                                               image_path  \\\n",
            "count                                                3699   \n",
            "unique                                               3699   \n",
            "top     /content/drive/My Drive/Assignment2/trafficsig...   \n",
            "freq                                                    1   \n",
            "\n",
            "                                                    image shape_label  \n",
            "count                                                3699        3699  \n",
            "unique                                               3699           5  \n",
            "top     [[60, 64, 47, 39, 46, 33, 30, 33, 19, 24, 15, ...       round  \n",
            "freq                                                    1        1760  \n"
          ]
        }
      ]
    },
    {
      "cell_type": "code",
      "source": [
        "# Check the size of the Type DataFrame\n",
        "print(\"DataFrame Size:\")\n",
        "print(type_df.shape)\n",
        "\n",
        "# Display basic information about the Type DataFrame\n",
        "print(\"\\nDataFrame Information:\")\n",
        "print(type_df.info())\n",
        "\n",
        "# Display descriptive statistics of the Type DataFrame\n",
        "print(\"\\nDataFrame Descriptive Statistics:\")\n",
        "print(type_df.describe())"
      ],
      "metadata": {
        "colab": {
          "base_uri": "https://localhost:8080/"
        },
        "id": "zWF-hEnwdcl_",
        "outputId": "bbbaf0ed-c7cb-4481-8adf-b050e96cdc13"
      },
      "execution_count": null,
      "outputs": [
        {
          "output_type": "stream",
          "name": "stdout",
          "text": [
            "DataFrame Size:\n",
            "(3699, 3)\n",
            "\n",
            "DataFrame Information:\n",
            "<class 'pandas.core.frame.DataFrame'>\n",
            "RangeIndex: 3699 entries, 0 to 3698\n",
            "Data columns (total 3 columns):\n",
            " #   Column      Non-Null Count  Dtype \n",
            "---  ------      --------------  ----- \n",
            " 0   image_path  3699 non-null   object\n",
            " 1   image       3699 non-null   object\n",
            " 2   type_label  3699 non-null   object\n",
            "dtypes: object(3)\n",
            "memory usage: 86.8+ KB\n",
            "None\n",
            "\n",
            "DataFrame Descriptive Statistics:\n",
            "                                               image_path  \\\n",
            "count                                                3699   \n",
            "unique                                               3699   \n",
            "top     /content/drive/My Drive/Assignment2/trafficsig...   \n",
            "freq                                                    1   \n",
            "\n",
            "                                                    image type_label  \n",
            "count                                                3699       3699  \n",
            "unique                                               3699         16  \n",
            "top     [[60, 64, 47, 39, 46, 33, 30, 33, 19, 24, 15, ...    warning  \n",
            "freq                                                    1        695  \n"
          ]
        }
      ]
    },
    {
      "cell_type": "code",
      "source": [
        "# Number of data points\n",
        "num_data_points_1 = len(type_df)\n",
        "print(\"Number of Data Points:\", num_data_points_1)\n",
        "\n",
        "num_data_points_2 = len(shape_df)\n",
        "print(\"Number of Data Points:\", num_data_points_2\n",
        "      )\n",
        "\n",
        "# Count of unique shapes\n",
        "num_unique_shapes = shape_df['shape_label'].nunique()\n",
        "print(\"Number of Unique Image Shapes:\", num_unique_shapes)\n",
        "\n",
        "# Count of unique types\n",
        "num_unique_types = type_df['type_label'].nunique()\n",
        "print(\"Number of Unique Image Types:\", num_unique_types)"
      ],
      "metadata": {
        "colab": {
          "base_uri": "https://localhost:8080/"
        },
        "id": "kxq8UbWzeAh5",
        "outputId": "1b6e28a7-50f4-47a8-fb84-2cf874ae00c5"
      },
      "execution_count": null,
      "outputs": [
        {
          "output_type": "stream",
          "name": "stdout",
          "text": [
            "Number of Data Points: 3699\n",
            "Number of Data Points: 3699\n",
            "Number of Unique Image Shapes: 5\n",
            "Number of Unique Image Types: 16\n"
          ]
        }
      ]
    },
    {
      "cell_type": "code",
      "source": [
        "\n",
        "# Number of each shape\n",
        "shape_counts = shape_df['shape_label'].value_counts()\n",
        "print(\"Number of Each Shape Type:\")\n",
        "print(shape_counts)\n",
        "\n",
        "# Number of each type\n",
        "type_counts = type_df['type_label'].value_counts()\n",
        "print(\"\\nNumber of Each Type:\")\n",
        "print(type_counts)"
      ],
      "metadata": {
        "colab": {
          "base_uri": "https://localhost:8080/"
        },
        "collapsed": true,
        "id": "FGbgIKMd-2re",
        "outputId": "e6991de9-4187-41d0-ae4f-e185ca5d0067"
      },
      "execution_count": null,
      "outputs": [
        {
          "output_type": "stream",
          "name": "stdout",
          "text": [
            "Number of Each Shape Type:\n",
            "shape_label\n",
            "round       1760\n",
            "triangle     926\n",
            "square       688\n",
            "diamond      282\n",
            "hex           43\n",
            "Name: count, dtype: int64\n",
            "\n",
            "Number of Each Type:\n",
            "type_label\n",
            "warning             695\n",
            "noentry             375\n",
            "speed               316\n",
            "bicycle             285\n",
            "rightofway          282\n",
            "parking             276\n",
            "noparking           242\n",
            "giveway             231\n",
            "continue            199\n",
            "trafficdirective    195\n",
            "limitedtraffic      125\n",
            "traveldirection     124\n",
            "laneend             118\n",
            "roundabout           98\n",
            "crossing             95\n",
            "stop                 43\n",
            "Name: count, dtype: int64\n"
          ]
        }
      ]
    },
    {
      "cell_type": "code",
      "source": [
        "import matplotlib.pyplot as plt\n",
        "def plot_samples(data_df, num_samples=5):\n",
        "    \"\"\"\n",
        "    Function to plot sample images from a DataFrame along with their labels.\n",
        "\n",
        "    Args:\n",
        "    - data_df (DataFrame): DataFrame containing image data and labels.\n",
        "    - num_samples (int): Number of samples to plot.\n",
        "\n",
        "    Returns:\n",
        "    - None\n",
        "    \"\"\"\n",
        "\n",
        "    fig, axes = plt.subplots(1, num_samples, figsize=(15, 3))\n",
        "\n",
        "    for i in range(num_samples):\n",
        "        sample = data_df.sample()  # Sampling from the DataFrame passed as input\n",
        "        image = sample['image'].values[0]  # Assuming 'image' contains the image data\n",
        "        label = sample['shape_label'].values[0] if 'shape_label' in data_df.columns else sample['type_label'].values[0]\n",
        "        axes[i].imshow(image, cmap='gray')  # Assuming grayscale images\n",
        "        axes[i].set_title(label)\n",
        "        axes[i].axis('off')\n",
        "\n",
        "    plt.show()\n",
        "\n",
        "\n",
        "# Plot sample images from the shape DataFrame\n",
        "print(\"Samples from Shape DataFrame:\")\n",
        "plot_samples(shape_df)\n",
        "\n",
        "# Plot sample images from the type DataFrame\n",
        "print(\"Samples from Type DataFrame:\")\n",
        "plot_samples(type_df)\n"
      ],
      "metadata": {
        "colab": {
          "base_uri": "https://localhost:8080/",
          "height": 536
        },
        "id": "gW2eHXdTgC6f",
        "outputId": "23f00b7e-5bb4-40ba-b2d3-e5f5bd9f0085"
      },
      "execution_count": null,
      "outputs": [
        {
          "output_type": "stream",
          "name": "stdout",
          "text": [
            "Samples from Shape DataFrame:\n"
          ]
        },
        {
          "output_type": "display_data",
          "data": {
            "text/plain": [
              "<Figure size 1500x300 with 5 Axes>"
            ],
            "image/png": "[encoded data removed]"
          },
          "metadata": {}
        },
        {
          "output_type": "stream",
          "name": "stdout",
          "text": [
            "Samples from Type DataFrame:\n"
          ]
        },
        {
          "output_type": "display_data",
          "data": {
            "text/plain": [
              "<Figure size 1500x300 with 5 Axes>"
            ],
            "image/png": "[encoded data removed]"
          },
          "metadata": {}
        }
      ]
    },
    {
      "cell_type": "code",
      "source": [
        "from sklearn.preprocessing import LabelEncoder\n",
        "\n",
        "# Create LabelEncoder instance\n",
        "label_encoder = LabelEncoder()\n",
        "\n",
        "# Fit and transform the shape labels\n",
        "shape_labels_encoded = label_encoder.fit_transform(shape_df['shape_label'])\n",
        "\n",
        "# Add the encoded labels as a new column in shape_df\n",
        "shape_df['encoded_shape_label'] = shape_labels_encoded\n",
        "\n",
        "# Display the updated shape_df\n",
        "shape_df.head()"
      ],
      "metadata": {
        "colab": {
          "base_uri": "https://localhost:8080/",
          "height": 206
        },
        "id": "dwR8mNBGgIsU",
        "outputId": "1f71eede-99f2-4b5d-baca-23d8c9965164"
      },
      "execution_count": null,
      "outputs": [
        {
          "output_type": "execute_result",
          "data": {
            "text/plain": [
              "                                          image_path  \\\n",
              "0  /content/drive/My Drive/Assignment2/trafficsig...   \n",
              "1  /content/drive/My Drive/Assignment2/trafficsig...   \n",
              "2  /content/drive/My Drive/Assignment2/trafficsig...   \n",
              "3  /content/drive/My Drive/Assignment2/trafficsig...   \n",
              "4  /content/drive/My Drive/Assignment2/trafficsig...   \n",
              "\n",
              "                                               image shape_label  \\\n",
              "0  [[60, 64, 47, 39, 46, 33, 30, 33, 19, 24, 15, ...      square   \n",
              "1  [[73, 63, 59, 55, 46, 51, 52, 52, 61, 56, 57, ...      square   \n",
              "2  [[255, 255, 255, 255, 255, 254, 254, 254, 255,...      square   \n",
              "3  [[37, 31, 30, 31, 30, 42, 37, 36, 35, 37, 35, ...      square   \n",
              "4  [[117, 88, 77, 96, 87, 72, 79, 91, 80, 78, 76,...      square   \n",
              "\n",
              "   encoded_shape_label  \n",
              "0                    3  \n",
              "1                    3  \n",
              "2                    3  \n",
              "3                    3  \n",
              "4                    3  "
            ],
            "text/html": [
              "\n",
              "  <div id=\"df-d6155209-6164-472e-8c91-b2e29fe7610c\" class=\"colab-df-container\">\n",
              "    <div>\n",
              "<style scoped>\n",
              "    .dataframe tbody tr th:only-of-type {\n",
              "        vertical-align: middle;\n",
              "    }\n",
              "\n",
              "    .dataframe tbody tr th {\n",
              "        vertical-align: top;\n",
              "    }\n",
              "\n",
              "    .dataframe thead th {\n",
              "        text-align: right;\n",
              "    }\n",
              "</style>\n",
              "<table border=\"1\" class=\"dataframe\">\n",
              "  <thead>\n",
              "    <tr style=\"text-align: right;\">\n",
              "      <th></th>\n",
              "      <th>image_path</th>\n",
              "      <th>image</th>\n",
              "      <th>shape_label</th>\n",
              "      <th>encoded_shape_label</th>\n",
              "    </tr>\n",
              "  </thead>\n",
              "  <tbody>\n",
              "    <tr>\n",
              "      <th>0</th>\n",
              "      <td>/content/drive/My Drive/Assignment2/trafficsig...</td>\n",
              "      <td>[[60, 64, 47, 39, 46, 33, 30, 33, 19, 24, 15, ...</td>\n",
              "      <td>square</td>\n",
              "      <td>3</td>\n",
              "    </tr>\n",
              "    <tr>\n",
              "      <th>1</th>\n",
              "      <td>/content/drive/My Drive/Assignment2/trafficsig...</td>\n",
              "      <td>[[73, 63, 59, 55, 46, 51, 52, 52, 61, 56, 57, ...</td>\n",
              "      <td>square</td>\n",
              "      <td>3</td>\n",
              "    </tr>\n",
              "    <tr>\n",
              "      <th>2</th>\n",
              "      <td>/content/drive/My Drive/Assignment2/trafficsig...</td>\n",
              "      <td>[[255, 255, 255, 255, 255, 254, 254, 254, 255,...</td>\n",
              "      <td>square</td>\n",
              "      <td>3</td>\n",
              "    </tr>\n",
              "    <tr>\n",
              "      <th>3</th>\n",
              "      <td>/content/drive/My Drive/Assignment2/trafficsig...</td>\n",
              "      <td>[[37, 31, 30, 31, 30, 42, 37, 36, 35, 37, 35, ...</td>\n",
              "      <td>square</td>\n",
              "      <td>3</td>\n",
              "    </tr>\n",
              "    <tr>\n",
              "      <th>4</th>\n",
              "      <td>/content/drive/My Drive/Assignment2/trafficsig...</td>\n",
              "      <td>[[117, 88, 77, 96, 87, 72, 79, 91, 80, 78, 76,...</td>\n",
              "      <td>square</td>\n",
              "      <td>3</td>\n",
              "    </tr>\n",
              "  </tbody>\n",
              "</table>\n",
              "</div>\n",
              "    <div class=\"colab-df-buttons\">\n",
              "\n",
              "  <div class=\"colab-df-container\">\n",
              "    <button class=\"colab-df-convert\" onclick=\"convertToInteractive('df-d6155209-6164-472e-8c91-b2e29fe7610c')\"\n",
              "            title=\"Convert this dataframe to an interactive table.\"\n",
              "            style=\"display:none;\">\n",
              "\n",
              "  <svg xmlns=\"http://www.w3.org/2000/svg\" height=\"24px\" viewBox=\"0 -960 960 960\">\n",
              "    <path d=\"M120-120v-720h720v720H120Zm60-500h600v-160H180v160Zm220 220h160v-160H400v160Zm0 220h160v-160H400v160ZM180-400h160v-160H180v160Zm440 0h160v-160H620v160ZM180-180h160v-160H180v160Zm440 0h160v-160H620v160Z\"/>\n",
              "  </svg>\n",
              "    </button>\n",
              "\n",
              "  <style>\n",
              "    .colab-df-container {\n",
              "      display:flex;\n",
              "      gap: 12px;\n",
              "    }\n",
              "\n",
              "    .colab-df-convert {\n",
              "      background-color: #E8F0FE;\n",
              "      border: none;\n",
              "      border-radius: 50%;\n",
              "      cursor: pointer;\n",
              "      display: none;\n",
              "      fill: #1967D2;\n",
              "      height: 32px;\n",
              "      padding: 0 0 0 0;\n",
              "      width: 32px;\n",
              "    }\n",
              "\n",
              "    .colab-df-convert:hover {\n",
              "      background-color: #E2EBFA;\n",
              "      box-shadow: 0px 1px 2px rgba(60, 64, 67, 0.3), 0px 1px 3px 1px rgba(60, 64, 67, 0.15);\n",
              "      fill: #174EA6;\n",
              "    }\n",
              "\n",
              "    .colab-df-buttons div {\n",
              "      margin-bottom: 4px;\n",
              "    }\n",
              "\n",
              "    [theme=dark] .colab-df-convert {\n",
              "      background-color: #3B4455;\n",
              "      fill: #D2E3FC;\n",
              "    }\n",
              "\n",
              "    [theme=dark] .colab-df-convert:hover {\n",
              "      background-color: #434B5C;\n",
              "      box-shadow: 0px 1px 3px 1px rgba(0, 0, 0, 0.15);\n",
              "      filter: drop-shadow(0px 1px 2px rgba(0, 0, 0, 0.3));\n",
              "      fill: #FFFFFF;\n",
              "    }\n",
              "  </style>\n",
              "\n",
              "    <script>\n",
              "      const buttonEl =\n",
              "        document.querySelector('#df-d6155209-6164-472e-8c91-b2e29fe7610c button.colab-df-convert');\n",
              "      buttonEl.style.display =\n",
              "        google.colab.kernel.accessAllowed ? 'block' : 'none';\n",
              "\n",
              "      async function convertToInteractive(key) {\n",
              "        const element = document.querySelector('#df-d6155209-6164-472e-8c91-b2e29fe7610c');\n",
              "        const dataTable =\n",
              "          await google.colab.kernel.invokeFunction('convertToInteractive',\n",
              "                                                    [key], {});\n",
              "        if (!dataTable) return;\n",
              "\n",
              "        const docLinkHtml = 'Like what you see? Visit the ' +\n",
              "          '<a target=\"_blank\" href=https://colab.research.google.com/notebooks/data_table.ipynb>data table notebook</a>'\n",
              "          + ' to learn more about interactive tables.';\n",
              "        element.innerHTML = '';\n",
              "        dataTable['output_type'] = 'display_data';\n",
              "        await google.colab.output.renderOutput(dataTable, element);\n",
              "        const docLink = document.createElement('div');\n",
              "        docLink.innerHTML = docLinkHtml;\n",
              "        element.appendChild(docLink);\n",
              "      }\n",
              "    </script>\n",
              "  </div>\n",
              "\n",
              "\n",
              "<div id=\"df-eca3be11-0dea-4fb2-abf1-286a1b4424d8\">\n",
              "  <button class=\"colab-df-quickchart\" onclick=\"quickchart('df-eca3be11-0dea-4fb2-abf1-286a1b4424d8')\"\n",
              "            title=\"Suggest charts\"\n",
              "            style=\"display:none;\">\n",
              "\n",
              "<svg xmlns=\"http://www.w3.org/2000/svg\" height=\"24px\"viewBox=\"0 0 24 24\"\n",
              "     width=\"24px\">\n",
              "    <g>\n",
              "        <path d=\"M19 3H5c-1.1 0-2 .9-2 2v14c0 1.1.9 2 2 2h14c1.1 0 2-.9 2-2V5c0-1.1-.9-2-2-2zM9 17H7v-7h2v7zm4 0h-2V7h2v10zm4 0h-2v-4h2v4z\"/>\n",
              "    </g>\n",
              "</svg>\n",
              "  </button>\n",
              "\n",
              "<style>\n",
              "  .colab-df-quickchart {\n",
              "      --bg-color: #E8F0FE;\n",
              "      --fill-color: #1967D2;\n",
              "      --hover-bg-color: #E2EBFA;\n",
              "      --hover-fill-color: #174EA6;\n",
              "      --disabled-fill-color: #AAA;\n",
              "      --disabled-bg-color: #DDD;\n",
              "  }\n",
              "\n",
              "  [theme=dark] .colab-df-quickchart {\n",
              "      --bg-color: #3B4455;\n",
              "      --fill-color: #D2E3FC;\n",
              "      --hover-bg-color: #434B5C;\n",
              "      --hover-fill-color: #FFFFFF;\n",
              "      --disabled-bg-color: #3B4455;\n",
              "      --disabled-fill-color: #666;\n",
              "  }\n",
              "\n",
              "  .colab-df-quickchart {\n",
              "    background-color: var(--bg-color);\n",
              "    border: none;\n",
              "    border-radius: 50%;\n",
              "    cursor: pointer;\n",
              "    display: none;\n",
              "    fill: var(--fill-color);\n",
              "    height: 32px;\n",
              "    padding: 0;\n",
              "    width: 32px;\n",
              "  }\n",
              "\n",
              "  .colab-df-quickchart:hover {\n",
              "    background-color: var(--hover-bg-color);\n",
              "    box-shadow: 0 1px 2px rgba(60, 64, 67, 0.3), 0 1px 3px 1px rgba(60, 64, 67, 0.15);\n",
              "    fill: var(--button-hover-fill-color);\n",
              "  }\n",
              "\n",
              "  .colab-df-quickchart-complete:disabled,\n",
              "  .colab-df-quickchart-complete:disabled:hover {\n",
              "    background-color: var(--disabled-bg-color);\n",
              "    fill: var(--disabled-fill-color);\n",
              "    box-shadow: none;\n",
              "  }\n",
              "\n",
              "  .colab-df-spinner {\n",
              "    border: 2px solid var(--fill-color);\n",
              "    border-color: transparent;\n",
              "    border-bottom-color: var(--fill-color);\n",
              "    animation:\n",
              "      spin 1s steps(1) infinite;\n",
              "  }\n",
              "\n",
              "  @keyframes spin {\n",
              "    0% {\n",
              "      border-color: transparent;\n",
              "      border-bottom-color: var(--fill-color);\n",
              "      border-left-color: var(--fill-color);\n",
              "    }\n",
              "    20% {\n",
              "      border-color: transparent;\n",
              "      border-left-color: var(--fill-color);\n",
              "      border-top-color: var(--fill-color);\n",
              "    }\n",
              "    30% {\n",
              "      border-color: transparent;\n",
              "      border-left-color: var(--fill-color);\n",
              "      border-top-color: var(--fill-color);\n",
              "      border-right-color: var(--fill-color);\n",
              "    }\n",
              "    40% {\n",
              "      border-color: transparent;\n",
              "      border-right-color: var(--fill-color);\n",
              "      border-top-color: var(--fill-color);\n",
              "    }\n",
              "    60% {\n",
              "      border-color: transparent;\n",
              "      border-right-color: var(--fill-color);\n",
              "    }\n",
              "    80% {\n",
              "      border-color: transparent;\n",
              "      border-right-color: var(--fill-color);\n",
              "      border-bottom-color: var(--fill-color);\n",
              "    }\n",
              "    90% {\n",
              "      border-color: transparent;\n",
              "      border-bottom-color: var(--fill-color);\n",
              "    }\n",
              "  }\n",
              "</style>\n",
              "\n",
              "  <script>\n",
              "    async function quickchart(key) {\n",
              "      const quickchartButtonEl =\n",
              "        document.querySelector('#' + key + ' button');\n",
              "      quickchartButtonEl.disabled = true;  // To prevent multiple clicks.\n",
              "      quickchartButtonEl.classList.add('colab-df-spinner');\n",
              "      try {\n",
              "        const charts = await google.colab.kernel.invokeFunction(\n",
              "            'suggestCharts', [key], {});\n",
              "      } catch (error) {\n",
              "        console.error('Error during call to suggestCharts:', error);\n",
              "      }\n",
              "      quickchartButtonEl.classList.remove('colab-df-spinner');\n",
              "      quickchartButtonEl.classList.add('colab-df-quickchart-complete');\n",
              "    }\n",
              "    (() => {\n",
              "      let quickchartButtonEl =\n",
              "        document.querySelector('#df-eca3be11-0dea-4fb2-abf1-286a1b4424d8 button');\n",
              "      quickchartButtonEl.style.display =\n",
              "        google.colab.kernel.accessAllowed ? 'block' : 'none';\n",
              "    })();\n",
              "  </script>\n",
              "</div>\n",
              "\n",
              "    </div>\n",
              "  </div>\n"
            ],
            "application/vnd.google.colaboratory.intrinsic+json": {
              "type": "dataframe",
              "variable_name": "shape_df",
              "summary": "{\n  \"name\": \"shape_df\",\n  \"rows\": 3699,\n  \"fields\": [\n    {\n      \"column\": \"image_path\",\n      \"properties\": {\n        \"dtype\": \"string\",\n        \"num_unique_values\": 3699,\n        \"samples\": [\n          \"/content/drive/My Drive/Assignment2/trafficsigns_dataset/triangle/warning/00710_00002.png\",\n          \"/content/drive/My Drive/Assignment2/trafficsigns_dataset/round/noentry/01047_00002.png\",\n          \"/content/drive/My Drive/Assignment2/trafficsigns_dataset/square/parking/00035_00002.png\"\n        ],\n        \"semantic_type\": \"\",\n        \"description\": \"\"\n      }\n    },\n    {\n      \"column\": \"image\",\n      \"properties\": {\n        \"dtype\": \"object\",\n        \"semantic_type\": \"\",\n        \"description\": \"\"\n      }\n    },\n    {\n      \"column\": \"shape_label\",\n      \"properties\": {\n        \"dtype\": \"category\",\n        \"num_unique_values\": 5,\n        \"samples\": [\n          \"triangle\",\n          \"diamond\",\n          \"hex\"\n        ],\n        \"semantic_type\": \"\",\n        \"description\": \"\"\n      }\n    },\n    {\n      \"column\": \"encoded_shape_label\",\n      \"properties\": {\n        \"dtype\": \"number\",\n        \"std\": 1,\n        \"min\": 0,\n        \"max\": 4,\n        \"num_unique_values\": 5,\n        \"samples\": [\n          4,\n          0,\n          1\n        ],\n        \"semantic_type\": \"\",\n        \"description\": \"\"\n      }\n    }\n  ]\n}"
            }
          },
          "metadata": {},
          "execution_count": 211
        }
      ]
    },
    {
      "cell_type": "code",
      "source": [
        "from sklearn.preprocessing import LabelEncoder\n",
        "\n",
        "# Create LabelEncoder instance\n",
        "label_encoder = LabelEncoder()\n",
        "\n",
        "# Fit and transform the type labels\n",
        "type_labels_encoded = label_encoder.fit_transform(type_df['type_label'])\n",
        "\n",
        "# Add the encoded labels as a new column in type_df\n",
        "type_df['encoded_type_label'] = type_labels_encoded\n",
        "\n",
        "# Display the updated type_df\n",
        "type_df.head()"
      ],
      "metadata": {
        "colab": {
          "base_uri": "https://localhost:8080/",
          "height": 206
        },
        "id": "JyEt2EkjgMR1",
        "outputId": "90ea0238-91f3-4c9d-b494-c8a442ac3df8"
      },
      "execution_count": null,
      "outputs": [
        {
          "output_type": "execute_result",
          "data": {
            "text/plain": [
              "                                          image_path  \\\n",
              "0  /content/drive/My Drive/Assignment2/trafficsig...   \n",
              "1  /content/drive/My Drive/Assignment2/trafficsig...   \n",
              "2  /content/drive/My Drive/Assignment2/trafficsig...   \n",
              "3  /content/drive/My Drive/Assignment2/trafficsig...   \n",
              "4  /content/drive/My Drive/Assignment2/trafficsig...   \n",
              "\n",
              "                                               image type_label  \\\n",
              "0  [[60, 64, 47, 39, 46, 33, 30, 33, 19, 24, 15, ...   crossing   \n",
              "1  [[73, 63, 59, 55, 46, 51, 52, 52, 61, 56, 57, ...   crossing   \n",
              "2  [[255, 255, 255, 255, 255, 254, 254, 254, 255,...   crossing   \n",
              "3  [[37, 31, 30, 31, 30, 42, 37, 36, 35, 37, 35, ...   crossing   \n",
              "4  [[117, 88, 77, 96, 87, 72, 79, 91, 80, 78, 76,...   crossing   \n",
              "\n",
              "   encoded_type_label  \n",
              "0                   2  \n",
              "1                   2  \n",
              "2                   2  \n",
              "3                   2  \n",
              "4                   2  "
            ],
            "text/html": [
              "\n",
              "  <div id=\"df-b50630e0-b6c9-4192-8239-72bdac028cb9\" class=\"colab-df-container\">\n",
              "    <div>\n",
              "<style scoped>\n",
              "    .dataframe tbody tr th:only-of-type {\n",
              "        vertical-align: middle;\n",
              "    }\n",
              "\n",
              "    .dataframe tbody tr th {\n",
              "        vertical-align: top;\n",
              "    }\n",
              "\n",
              "    .dataframe thead th {\n",
              "        text-align: right;\n",
              "    }\n",
              "</style>\n",
              "<table border=\"1\" class=\"dataframe\">\n",
              "  <thead>\n",
              "    <tr style=\"text-align: right;\">\n",
              "      <th></th>\n",
              "      <th>image_path</th>\n",
              "      <th>image</th>\n",
              "      <th>type_label</th>\n",
              "      <th>encoded_type_label</th>\n",
              "    </tr>\n",
              "  </thead>\n",
              "  <tbody>\n",
              "    <tr>\n",
              "      <th>0</th>\n",
              "      <td>/content/drive/My Drive/Assignment2/trafficsig...</td>\n",
              "      <td>[[60, 64, 47, 39, 46, 33, 30, 33, 19, 24, 15, ...</td>\n",
              "      <td>crossing</td>\n",
              "      <td>2</td>\n",
              "    </tr>\n",
              "    <tr>\n",
              "      <th>1</th>\n",
              "      <td>/content/drive/My Drive/Assignment2/trafficsig...</td>\n",
              "      <td>[[73, 63, 59, 55, 46, 51, 52, 52, 61, 56, 57, ...</td>\n",
              "      <td>crossing</td>\n",
              "      <td>2</td>\n",
              "    </tr>\n",
              "    <tr>\n",
              "      <th>2</th>\n",
              "      <td>/content/drive/My Drive/Assignment2/trafficsig...</td>\n",
              "      <td>[[255, 255, 255, 255, 255, 254, 254, 254, 255,...</td>\n",
              "      <td>crossing</td>\n",
              "      <td>2</td>\n",
              "    </tr>\n",
              "    <tr>\n",
              "      <th>3</th>\n",
              "      <td>/content/drive/My Drive/Assignment2/trafficsig...</td>\n",
              "      <td>[[37, 31, 30, 31, 30, 42, 37, 36, 35, 37, 35, ...</td>\n",
              "      <td>crossing</td>\n",
              "      <td>2</td>\n",
              "    </tr>\n",
              "    <tr>\n",
              "      <th>4</th>\n",
              "      <td>/content/drive/My Drive/Assignment2/trafficsig...</td>\n",
              "      <td>[[117, 88, 77, 96, 87, 72, 79, 91, 80, 78, 76,...</td>\n",
              "      <td>crossing</td>\n",
              "      <td>2</td>\n",
              "    </tr>\n",
              "  </tbody>\n",
              "</table>\n",
              "</div>\n",
              "    <div class=\"colab-df-buttons\">\n",
              "\n",
              "  <div class=\"colab-df-container\">\n",
              "    <button class=\"colab-df-convert\" onclick=\"convertToInteractive('df-b50630e0-b6c9-4192-8239-72bdac028cb9')\"\n",
              "            title=\"Convert this dataframe to an interactive table.\"\n",
              "            style=\"display:none;\">\n",
              "\n",
              "  <svg xmlns=\"http://www.w3.org/2000/svg\" height=\"24px\" viewBox=\"0 -960 960 960\">\n",
              "    <path d=\"M120-120v-720h720v720H120Zm60-500h600v-160H180v160Zm220 220h160v-160H400v160Zm0 220h160v-160H400v160ZM180-400h160v-160H180v160Zm440 0h160v-160H620v160ZM180-180h160v-160H180v160Zm440 0h160v-160H620v160Z\"/>\n",
              "  </svg>\n",
              "    </button>\n",
              "\n",
              "  <style>\n",
              "    .colab-df-container {\n",
              "      display:flex;\n",
              "      gap: 12px;\n",
              "    }\n",
              "\n",
              "    .colab-df-convert {\n",
              "      background-color: #E8F0FE;\n",
              "      border: none;\n",
              "      border-radius: 50%;\n",
              "      cursor: pointer;\n",
              "      display: none;\n",
              "      fill: #1967D2;\n",
              "      height: 32px;\n",
              "      padding: 0 0 0 0;\n",
              "      width: 32px;\n",
              "    }\n",
              "\n",
              "    .colab-df-convert:hover {\n",
              "      background-color: #E2EBFA;\n",
              "      box-shadow: 0px 1px 2px rgba(60, 64, 67, 0.3), 0px 1px 3px 1px rgba(60, 64, 67, 0.15);\n",
              "      fill: #174EA6;\n",
              "    }\n",
              "\n",
              "    .colab-df-buttons div {\n",
              "      margin-bottom: 4px;\n",
              "    }\n",
              "\n",
              "    [theme=dark] .colab-df-convert {\n",
              "      background-color: #3B4455;\n",
              "      fill: #D2E3FC;\n",
              "    }\n",
              "\n",
              "    [theme=dark] .colab-df-convert:hover {\n",
              "      background-color: #434B5C;\n",
              "      box-shadow: 0px 1px 3px 1px rgba(0, 0, 0, 0.15);\n",
              "      filter: drop-shadow(0px 1px 2px rgba(0, 0, 0, 0.3));\n",
              "      fill: #FFFFFF;\n",
              "    }\n",
              "  </style>\n",
              "\n",
              "    <script>\n",
              "      const buttonEl =\n",
              "        document.querySelector('#df-b50630e0-b6c9-4192-8239-72bdac028cb9 button.colab-df-convert');\n",
              "      buttonEl.style.display =\n",
              "        google.colab.kernel.accessAllowed ? 'block' : 'none';\n",
              "\n",
              "      async function convertToInteractive(key) {\n",
              "        const element = document.querySelector('#df-b50630e0-b6c9-4192-8239-72bdac028cb9');\n",
              "        const dataTable =\n",
              "          await google.colab.kernel.invokeFunction('convertToInteractive',\n",
              "                                                    [key], {});\n",
              "        if (!dataTable) return;\n",
              "\n",
              "        const docLinkHtml = 'Like what you see? Visit the ' +\n",
              "          '<a target=\"_blank\" href=https://colab.research.google.com/notebooks/data_table.ipynb>data table notebook</a>'\n",
              "          + ' to learn more about interactive tables.';\n",
              "        element.innerHTML = '';\n",
              "        dataTable['output_type'] = 'display_data';\n",
              "        await google.colab.output.renderOutput(dataTable, element);\n",
              "        const docLink = document.createElement('div');\n",
              "        docLink.innerHTML = docLinkHtml;\n",
              "        element.appendChild(docLink);\n",
              "      }\n",
              "    </script>\n",
              "  </div>\n",
              "\n",
              "\n",
              "<div id=\"df-53edd8d1-f4c0-47ab-8cb5-93ff8dae4eca\">\n",
              "  <button class=\"colab-df-quickchart\" onclick=\"quickchart('df-53edd8d1-f4c0-47ab-8cb5-93ff8dae4eca')\"\n",
              "            title=\"Suggest charts\"\n",
              "            style=\"display:none;\">\n",
              "\n",
              "<svg xmlns=\"http://www.w3.org/2000/svg\" height=\"24px\"viewBox=\"0 0 24 24\"\n",
              "     width=\"24px\">\n",
              "    <g>\n",
              "        <path d=\"M19 3H5c-1.1 0-2 .9-2 2v14c0 1.1.9 2 2 2h14c1.1 0 2-.9 2-2V5c0-1.1-.9-2-2-2zM9 17H7v-7h2v7zm4 0h-2V7h2v10zm4 0h-2v-4h2v4z\"/>\n",
              "    </g>\n",
              "</svg>\n",
              "  </button>\n",
              "\n",
              "<style>\n",
              "  .colab-df-quickchart {\n",
              "      --bg-color: #E8F0FE;\n",
              "      --fill-color: #1967D2;\n",
              "      --hover-bg-color: #E2EBFA;\n",
              "      --hover-fill-color: #174EA6;\n",
              "      --disabled-fill-color: #AAA;\n",
              "      --disabled-bg-color: #DDD;\n",
              "  }\n",
              "\n",
              "  [theme=dark] .colab-df-quickchart {\n",
              "      --bg-color: #3B4455;\n",
              "      --fill-color: #D2E3FC;\n",
              "      --hover-bg-color: #434B5C;\n",
              "      --hover-fill-color: #FFFFFF;\n",
              "      --disabled-bg-color: #3B4455;\n",
              "      --disabled-fill-color: #666;\n",
              "  }\n",
              "\n",
              "  .colab-df-quickchart {\n",
              "    background-color: var(--bg-color);\n",
              "    border: none;\n",
              "    border-radius: 50%;\n",
              "    cursor: pointer;\n",
              "    display: none;\n",
              "    fill: var(--fill-color);\n",
              "    height: 32px;\n",
              "    padding: 0;\n",
              "    width: 32px;\n",
              "  }\n",
              "\n",
              "  .colab-df-quickchart:hover {\n",
              "    background-color: var(--hover-bg-color);\n",
              "    box-shadow: 0 1px 2px rgba(60, 64, 67, 0.3), 0 1px 3px 1px rgba(60, 64, 67, 0.15);\n",
              "    fill: var(--button-hover-fill-color);\n",
              "  }\n",
              "\n",
              "  .colab-df-quickchart-complete:disabled,\n",
              "  .colab-df-quickchart-complete:disabled:hover {\n",
              "    background-color: var(--disabled-bg-color);\n",
              "    fill: var(--disabled-fill-color);\n",
              "    box-shadow: none;\n",
              "  }\n",
              "\n",
              "  .colab-df-spinner {\n",
              "    border: 2px solid var(--fill-color);\n",
              "    border-color: transparent;\n",
              "    border-bottom-color: var(--fill-color);\n",
              "    animation:\n",
              "      spin 1s steps(1) infinite;\n",
              "  }\n",
              "\n",
              "  @keyframes spin {\n",
              "    0% {\n",
              "      border-color: transparent;\n",
              "      border-bottom-color: var(--fill-color);\n",
              "      border-left-color: var(--fill-color);\n",
              "    }\n",
              "    20% {\n",
              "      border-color: transparent;\n",
              "      border-left-color: var(--fill-color);\n",
              "      border-top-color: var(--fill-color);\n",
              "    }\n",
              "    30% {\n",
              "      border-color: transparent;\n",
              "      border-left-color: var(--fill-color);\n",
              "      border-top-color: var(--fill-color);\n",
              "      border-right-color: var(--fill-color);\n",
              "    }\n",
              "    40% {\n",
              "      border-color: transparent;\n",
              "      border-right-color: var(--fill-color);\n",
              "      border-top-color: var(--fill-color);\n",
              "    }\n",
              "    60% {\n",
              "      border-color: transparent;\n",
              "      border-right-color: var(--fill-color);\n",
              "    }\n",
              "    80% {\n",
              "      border-color: transparent;\n",
              "      border-right-color: var(--fill-color);\n",
              "      border-bottom-color: var(--fill-color);\n",
              "    }\n",
              "    90% {\n",
              "      border-color: transparent;\n",
              "      border-bottom-color: var(--fill-color);\n",
              "    }\n",
              "  }\n",
              "</style>\n",
              "\n",
              "  <script>\n",
              "    async function quickchart(key) {\n",
              "      const quickchartButtonEl =\n",
              "        document.querySelector('#' + key + ' button');\n",
              "      quickchartButtonEl.disabled = true;  // To prevent multiple clicks.\n",
              "      quickchartButtonEl.classList.add('colab-df-spinner');\n",
              "      try {\n",
              "        const charts = await google.colab.kernel.invokeFunction(\n",
              "            'suggestCharts', [key], {});\n",
              "      } catch (error) {\n",
              "        console.error('Error during call to suggestCharts:', error);\n",
              "      }\n",
              "      quickchartButtonEl.classList.remove('colab-df-spinner');\n",
              "      quickchartButtonEl.classList.add('colab-df-quickchart-complete');\n",
              "    }\n",
              "    (() => {\n",
              "      let quickchartButtonEl =\n",
              "        document.querySelector('#df-53edd8d1-f4c0-47ab-8cb5-93ff8dae4eca button');\n",
              "      quickchartButtonEl.style.display =\n",
              "        google.colab.kernel.accessAllowed ? 'block' : 'none';\n",
              "    })();\n",
              "  </script>\n",
              "</div>\n",
              "\n",
              "    </div>\n",
              "  </div>\n"
            ],
            "application/vnd.google.colaboratory.intrinsic+json": {
              "type": "dataframe",
              "variable_name": "type_df",
              "summary": "{\n  \"name\": \"type_df\",\n  \"rows\": 3699,\n  \"fields\": [\n    {\n      \"column\": \"image_path\",\n      \"properties\": {\n        \"dtype\": \"string\",\n        \"num_unique_values\": 3699,\n        \"samples\": [\n          \"/content/drive/My Drive/Assignment2/trafficsigns_dataset/triangle/warning/00710_00002.png\",\n          \"/content/drive/My Drive/Assignment2/trafficsigns_dataset/round/noentry/01047_00002.png\",\n          \"/content/drive/My Drive/Assignment2/trafficsigns_dataset/square/parking/00035_00002.png\"\n        ],\n        \"semantic_type\": \"\",\n        \"description\": \"\"\n      }\n    },\n    {\n      \"column\": \"image\",\n      \"properties\": {\n        \"dtype\": \"object\",\n        \"semantic_type\": \"\",\n        \"description\": \"\"\n      }\n    },\n    {\n      \"column\": \"type_label\",\n      \"properties\": {\n        \"dtype\": \"category\",\n        \"num_unique_values\": 16,\n        \"samples\": [\n          \"crossing\",\n          \"laneend\",\n          \"warning\"\n        ],\n        \"semantic_type\": \"\",\n        \"description\": \"\"\n      }\n    },\n    {\n      \"column\": \"encoded_type_label\",\n      \"properties\": {\n        \"dtype\": \"number\",\n        \"std\": 4,\n        \"min\": 0,\n        \"max\": 15,\n        \"num_unique_values\": 16,\n        \"samples\": [\n          2,\n          4,\n          15\n        ],\n        \"semantic_type\": \"\",\n        \"description\": \"\"\n      }\n    }\n  ]\n}"
            }
          },
          "metadata": {},
          "execution_count": 212
        }
      ]
    },
    {
      "cell_type": "code",
      "source": [
        "print(\"Unique shapes:\", shape_df['shape_label'].unique())\n",
        "print(\"numbers of shape:\", len(shape_df['shape_label'].unique()))"
      ],
      "metadata": {
        "colab": {
          "base_uri": "https://localhost:8080/"
        },
        "id": "RsZ4ndopiitU",
        "outputId": "e877c4a6-186f-4fc9-cbc6-34ee8835eae4"
      },
      "execution_count": null,
      "outputs": [
        {
          "output_type": "stream",
          "name": "stdout",
          "text": [
            "Unique shapes: ['square' 'triangle' 'hex' 'round' 'diamond']\n",
            "numbers of shape: 5\n"
          ]
        }
      ]
    },
    {
      "cell_type": "code",
      "source": [
        "print(\"Unique shapes:\", type_df['type_label'].unique())\n",
        "print(\"numbers of shape:\", len(type_df['type_label'].unique()))"
      ],
      "metadata": {
        "colab": {
          "base_uri": "https://localhost:8080/"
        },
        "id": "kjNf4Vo0gMI9",
        "outputId": "8f3452d3-0885-43fb-e4bc-b537a29c1be9"
      },
      "execution_count": null,
      "outputs": [
        {
          "output_type": "stream",
          "name": "stdout",
          "text": [
            "Unique shapes: ['crossing' 'laneend' 'parking' 'continue' 'giveway' 'warning' 'stop'\n",
            " 'limitedtraffic' 'noparking' 'speed' 'noentry' 'trafficdirective'\n",
            " 'roundabout' 'bicycle' 'traveldirection' 'rightofway']\n",
            "numbers of shape: 16\n"
          ]
        }
      ]
    },
    {
      "cell_type": "markdown",
      "source": [
        "## **1.4 Data Distribution**\n"
      ],
      "metadata": {
        "id": "_ffFItsdnG5U"
      }
    },
    {
      "cell_type": "markdown",
      "source": [
        "### **1.4.1 Distribution of images per type class**"
      ],
      "metadata": {
        "id": "SjLaXdKwvb6F"
      }
    },
    {
      "cell_type": "code",
      "source": [
        "def visualize_data_distribution(data_df, title):\n",
        "    \"\"\"\n",
        "    Function to visualize the distribution of data.\n",
        "\n",
        "    Args:\n",
        "    - data_df (DataFrame): Pandas DataFrame containing the data.\n",
        "    - title (str): Title for the plot.\n",
        "    \"\"\"\n",
        "    plt.figure(figsize=(10, 6))\n",
        "    data_counts = data_df['type_label'].value_counts()\n",
        "    data_counts.plot(kind='bar', color='salmon')\n",
        "    plt.title(title)\n",
        "    plt.xlabel('Type Label')\n",
        "    plt.ylabel('Count')\n",
        "    plt.xticks(rotation=45)\n",
        "    plt.grid(axis='y', linestyle='--', alpha=0.7)\n",
        "    plt.tight_layout()\n",
        "    plt.show()\n",
        "\n",
        "# Visualize data distribution for type DataFrame\n",
        "visualize_data_distribution(type_df, 'Type Data Distribution')\n"
      ],
      "metadata": {
        "colab": {
          "base_uri": "https://localhost:8080/",
          "height": 607
        },
        "id": "5tbfy4Hth7Wk",
        "outputId": "3f209093-6266-48eb-f52b-0a877233bafa"
      },
      "execution_count": null,
      "outputs": [
        {
          "output_type": "display_data",
          "data": {
            "text/plain": [
              "<Figure size 1000x600 with 1 Axes>"
            ],
            "image/png": "[encoded data removed]"
          },
          "metadata": {}
        }
      ]
    },
    {
      "cell_type": "markdown",
      "source": [
        "**Observations:**\n",
        "- The distribution of images per class is imbalanced, but not as severe as the class distribution for type.\n",
        "- This imbalance could potentially affect the performance of a machine-learning model trained on this data, but to a lesser extent than the type data."
      ],
      "metadata": {
        "id": "UrqqqtPyFNg6"
      }
    },
    {
      "cell_type": "markdown",
      "source": [
        "### **1.4.2 Distribution of images per shape class**"
      ],
      "metadata": {
        "id": "JeYFbB2-nurb"
      }
    },
    {
      "cell_type": "code",
      "source": [
        "import matplotlib.pyplot as plt\n",
        "\n",
        "def visualize_data_distribution(data_df, title):\n",
        "    \"\"\"\n",
        "    Function to visualize the distribution of data.\n",
        "\n",
        "    Args:\n",
        "    - data_df (DataFrame): Pandas DataFrame containing the data.\n",
        "    - title (str): Title for the plot.\n",
        "    \"\"\"\n",
        "    plt.figure(figsize=(10, 6))\n",
        "    data_counts = data_df['shape_label'].value_counts()\n",
        "    data_counts.plot(kind='bar', color='skyblue')\n",
        "    plt.title(title)\n",
        "    plt.xlabel('Shape Label')\n",
        "    plt.ylabel('Count')\n",
        "    plt.xticks(rotation=45)\n",
        "    plt.grid(axis='y', linestyle='--', alpha=0.7)\n",
        "    plt.tight_layout()\n",
        "    plt.show()\n",
        "\n",
        "# Visualize data distribution for shape DataFrame\n",
        "visualize_data_distribution(shape_df, 'Shape Data Distribution')\n"
      ],
      "metadata": {
        "colab": {
          "base_uri": "https://localhost:8080/",
          "height": 607
        },
        "id": "_W54-iSph2KC",
        "outputId": "acd05a48-58a6-43fc-fbaf-85f36294cf0d"
      },
      "execution_count": null,
      "outputs": [
        {
          "output_type": "display_data",
          "data": {
            "text/plain": [
              "<Figure size 1000x600 with 1 Axes>"
            ],
            "image/png": "[encoded data removed]"
          },
          "metadata": {}
        }
      ]
    },
    {
      "cell_type": "markdown",
      "source": [
        "**Observations:**\n",
        "- The distribution of images per class is highly imbalanced.\n",
        "- This imbalance could potentially affect the performance of a machine-learning model trained on this data."
      ],
      "metadata": {
        "id": "iKtx0tbME11m"
      }
    },
    {
      "cell_type": "markdown",
      "source": [
        "==========================================================================================================\n",
        "\n"
      ],
      "metadata": {
        "id": "DnngQ2Hqhy_M"
      }
    },
    {
      "cell_type": "markdown",
      "source": [
        "# **2 Data Preparation**\n"
      ],
      "metadata": {
        "id": "gwICewEpm0iu"
      }
    },
    {
      "cell_type": "markdown",
      "source": [
        "## **2.1 Data spliting:  Train, Val and Test**"
      ],
      "metadata": {
        "id": "vzR6wOSmv6WT"
      }
    },
    {
      "cell_type": "code",
      "source": [
        "from sklearn.model_selection import train_test_split\n",
        "import numpy as np\n",
        "from tensorflow.keras.preprocessing.image import ImageDataGenerator\n",
        "\n",
        "# Rescaling and Formatting the Images\n",
        "datagen_shape = ImageDataGenerator(rescale=1./255, data_format='channels_last')\n",
        "\n",
        "# Initialize lists to store training, validation, and testing data for shape and type data\n",
        "X_shape_train = []\n",
        "X_shape_val = []\n",
        "X_shape_test = []\n",
        "y_shape_train = []\n",
        "y_shape_val = []\n",
        "y_shape_test = []\n",
        "\n",
        "X_type_train = []\n",
        "X_type_val = []\n",
        "X_type_test = []\n",
        "y_type_train = []\n",
        "y_type_val = []\n",
        "y_type_test = []\n",
        "\n",
        "# Split data into groups based on shape labels\n",
        "shape_groups = shape_df.groupby('shape_label')\n",
        "\n",
        "# Split data into groups based on type labels\n",
        "type_groups = type_df.groupby('type_label')\n",
        "\n",
        "# Split each shape group into training, validation, and testing sets\n",
        "for label, group in shape_groups:\n",
        "    print(f\"\\nShape group label: {label}, Shape: {group.shape[0]}\")\n",
        "    X_train, X_temp, y_train, y_temp = train_test_split(group['image_path'], group['encoded_shape_label'], test_size=0.2, stratify=group['shape_label'])\n",
        "    X_val, X_test, y_val, y_test = train_test_split(X_temp, y_temp, test_size=0.25, stratify=y_temp)\n",
        "    X_shape_train.extend(X_train)\n",
        "    X_shape_val.extend(X_val)\n",
        "    X_shape_test.extend(X_test)\n",
        "    y_shape_train.extend(y_train)\n",
        "    y_shape_val.extend(y_val)\n",
        "    y_shape_test.extend(y_test)\n",
        "    print(f\"Train sample size: {len(X_train)}, Validation sample size: {len(X_val)}, Test sample size: {len(X_test)}\")\n",
        "\n",
        "# Split each type group into training, validation, and testing sets\n",
        "for label, group in type_groups:\n",
        "    print(f\"\\nType group label: {label}, Shape: {group.shape[0]}\")\n",
        "    X_train, X_temp, y_train, y_temp = train_test_split(group['image_path'], group['encoded_type_label'], test_size=0.2, stratify=group['type_label'])\n",
        "    X_val, X_test, y_val, y_test = train_test_split(X_temp, y_temp, test_size=0.25, stratify=y_temp)\n",
        "    X_type_train.extend(X_train)\n",
        "    X_type_val.extend(X_val)\n",
        "    X_type_test.extend(X_test)\n",
        "    y_type_train.extend(y_train)\n",
        "    y_type_val.extend(y_val)\n",
        "    y_type_test.extend(y_test)\n",
        "    print(f\"Train sample size: {len(X_train)}, Validation sample size: {len(X_val)}, Test sample size: {len(X_test)}\")\n",
        "\n",
        "# Convert to numpy arrays for shape data\n",
        "X_shape_train = np.array(X_shape_train)\n",
        "X_shape_val = np.array(X_shape_val)\n",
        "X_shape_test = np.array(X_shape_test)\n",
        "y_shape_train = np.array(y_shape_train)\n",
        "y_shape_val = np.array(y_shape_val)\n",
        "y_shape_test = np.array(y_shape_test)\n",
        "\n",
        "# Convert to numpy arrays for type data\n",
        "X_type_train = np.array(X_type_train)\n",
        "X_type_val = np.array(X_type_val)\n",
        "X_type_test = np.array(X_type_test)\n",
        "y_type_train = np.array(y_type_train)\n",
        "y_type_val = np.array(y_type_val)\n",
        "y_type_test = np.array(y_type_test)\n",
        "\n",
        "\n",
        "# Convert label data to strings\n",
        "y_shape_train = np.array(y_shape_train).astype(str)\n",
        "y_shape_val = np.array(y_shape_val).astype(str)\n",
        "y_shape_test = np.array(y_shape_test).astype(str)\n",
        "y_type_train = np.array(y_type_train).astype(str)\n",
        "y_type_val = np.array(y_type_val).astype(str)\n",
        "y_type_test = np.array(y_type_test).astype(str)\n",
        "\n",
        "# Print shapes of the data sets after splitting for shape data\n",
        "print(\"\\nShape of X_shape_train:\", X_shape_train.shape)\n",
        "print(\"Shape of X_shape_val:\", X_shape_val.shape)\n",
        "print(\"Shape of X_shape_test:\", X_shape_test.shape)\n",
        "print(\"Shape of y_shape_train:\", y_shape_train.shape)\n",
        "print(\"Shape of y_shape_val:\", y_shape_val.shape)\n",
        "print(\"Shape of y_shape_test:\", y_shape_test.shape)\n",
        "\n",
        "# Print shapes of the data sets after splitting for type data\n",
        "print(\"\\nShape of X_type_train:\", X_type_train.shape)\n",
        "print(\"Shape of X_type_val:\", X_type_val.shape)\n",
        "print(\"Shape of X_type_test:\", X_type_test.shape)\n",
        "print(\"Shape of y_type_train:\", y_type_train.shape)\n",
        "print(\"Shape of y_type_val:\", y_type_val.shape)\n",
        "print(\"Shape of y_type_test:\", y_type_test.shape)\n"
      ],
      "metadata": {
        "colab": {
          "base_uri": "https://localhost:8080/"
        },
        "id": "WrTz8wGkT1Ct",
        "outputId": "5a8e75bf-d737-4252-dc5e-e8e392e75be8"
      },
      "execution_count": null,
      "outputs": [
        {
          "output_type": "stream",
          "name": "stdout",
          "text": [
            "\n",
            "Shape group label: diamond, Shape: 282\n",
            "Train sample size: 225, Validation sample size: 42, Test sample size: 15\n",
            "\n",
            "Shape group label: hex, Shape: 43\n",
            "Train sample size: 34, Validation sample size: 6, Test sample size: 3\n",
            "\n",
            "Shape group label: round, Shape: 1760\n",
            "Train sample size: 1408, Validation sample size: 264, Test sample size: 88\n",
            "\n",
            "Shape group label: square, Shape: 688\n",
            "Train sample size: 550, Validation sample size: 103, Test sample size: 35\n",
            "\n",
            "Shape group label: triangle, Shape: 926\n",
            "Train sample size: 740, Validation sample size: 139, Test sample size: 47\n",
            "\n",
            "Type group label: bicycle, Shape: 285\n",
            "Train sample size: 228, Validation sample size: 42, Test sample size: 15\n",
            "\n",
            "Type group label: continue, Shape: 199\n",
            "Train sample size: 159, Validation sample size: 30, Test sample size: 10\n",
            "\n",
            "Type group label: crossing, Shape: 95\n",
            "Train sample size: 76, Validation sample size: 14, Test sample size: 5\n",
            "\n",
            "Type group label: giveway, Shape: 231\n",
            "Train sample size: 184, Validation sample size: 35, Test sample size: 12\n",
            "\n",
            "Type group label: laneend, Shape: 118\n",
            "Train sample size: 94, Validation sample size: 18, Test sample size: 6\n",
            "\n",
            "Type group label: limitedtraffic, Shape: 125\n",
            "Train sample size: 100, Validation sample size: 18, Test sample size: 7\n",
            "\n",
            "Type group label: noentry, Shape: 375\n",
            "Train sample size: 300, Validation sample size: 56, Test sample size: 19\n",
            "\n",
            "Type group label: noparking, Shape: 242\n",
            "Train sample size: 193, Validation sample size: 36, Test sample size: 13\n",
            "\n",
            "Type group label: parking, Shape: 276\n",
            "Train sample size: 220, Validation sample size: 42, Test sample size: 14\n",
            "\n",
            "Type group label: rightofway, Shape: 282\n",
            "Train sample size: 225, Validation sample size: 42, Test sample size: 15\n",
            "\n",
            "Type group label: roundabout, Shape: 98\n",
            "Train sample size: 78, Validation sample size: 15, Test sample size: 5\n",
            "\n",
            "Type group label: speed, Shape: 316\n",
            "Train sample size: 252, Validation sample size: 48, Test sample size: 16\n",
            "\n",
            "Type group label: stop, Shape: 43\n",
            "Train sample size: 34, Validation sample size: 6, Test sample size: 3\n",
            "\n",
            "Type group label: trafficdirective, Shape: 195\n",
            "Train sample size: 156, Validation sample size: 29, Test sample size: 10\n",
            "\n",
            "Type group label: traveldirection, Shape: 124\n",
            "Train sample size: 99, Validation sample size: 18, Test sample size: 7\n",
            "\n",
            "Type group label: warning, Shape: 695\n",
            "Train sample size: 556, Validation sample size: 104, Test sample size: 35\n",
            "\n",
            "Shape of X_shape_train: (2957,)\n",
            "Shape of X_shape_val: (554,)\n",
            "Shape of X_shape_test: (188,)\n",
            "Shape of y_shape_train: (2957,)\n",
            "Shape of y_shape_val: (554,)\n",
            "Shape of y_shape_test: (188,)\n",
            "\n",
            "Shape of X_type_train: (2954,)\n",
            "Shape of X_type_val: (553,)\n",
            "Shape of X_type_test: (192,)\n",
            "Shape of y_type_train: (2954,)\n",
            "Shape of y_type_val: (553,)\n",
            "Shape of y_type_test: (192,)\n"
          ]
        }
      ]
    },
    {
      "cell_type": "markdown",
      "source": [
        "## **2.2 Flatten the images**"
      ],
      "metadata": {
        "id": "m4k1Kp7SkLQ1"
      }
    },
    {
      "cell_type": "code",
      "source": [
        "import numpy as np\n",
        "# from keras.preprocessing.image import ImageDataGenerator\n",
        "from PIL import Image\n",
        "\n",
        "# Function to flatten images\n",
        "def flatten_images(X):\n",
        "    flattened_images = []\n",
        "    for image_path in X:\n",
        "        image = Image.open(image_path)\n",
        "        image = np.array(image)\n",
        "        flattened_image = image.flatten()\n",
        "        flattened_images.append(flattened_image)\n",
        "    return np.array(flattened_images)\n",
        "\n",
        "# Flatten the images for shape data in training and testing sets\n",
        "X_shape_train_flat = flatten_images(X_shape_train)\n",
        "X_shape_test_flat = flatten_images(X_shape_test)\n",
        "X_shape_val_flat = flatten_images(X_shape_val)\n",
        "\n",
        "# Flatten the images for type data in training and testing sets\n",
        "X_type_train_flat = flatten_images(X_type_train)\n",
        "X_type_val_flat = flatten_images(X_type_val)\n",
        "X_type_test_flat = flatten_images(X_type_test)\n",
        "\n",
        "# Print shapes of the flattened data sets\n",
        "print(\"\\nShape of X_shape_train_flat:\", X_shape_train_flat.shape)\n",
        "print(\"Shape of X_shape_val_flat:\", X_shape_val_flat.shape)\n",
        "print(\"Shape of X_shape_test_flat:\", X_shape_test_flat.shape)\n",
        "\n",
        "\n",
        "print(\"\\nShape of X_type_train_flat:\", X_type_train_flat.shape)\n",
        "print(\"Shape of X_type_val_flat:\", X_type_val_flat.shape)\n",
        "print(\"Shape of X_type_test_flat:\", X_type_test_flat.shape)"
      ],
      "metadata": {
        "colab": {
          "base_uri": "https://localhost:8080/"
        },
        "id": "PVwF2vvugMB2",
        "outputId": "f6e1ade7-b381-4248-dbbd-ce71a8320f45"
      },
      "execution_count": null,
      "outputs": [
        {
          "output_type": "stream",
          "name": "stdout",
          "text": [
            "\n",
            "Shape of X_shape_train_flat: (2957, 784)\n",
            "Shape of X_shape_val_flat: (554, 784)\n",
            "Shape of X_shape_test_flat: (188, 784)\n",
            "\n",
            "Shape of X_type_train_flat: (2954, 784)\n",
            "Shape of X_type_val_flat: (553, 784)\n",
            "Shape of X_type_test_flat: (192, 784)\n"
          ]
        }
      ]
    },
    {
      "cell_type": "markdown",
      "source": [
        "================================================================================================="
      ],
      "metadata": {
        "id": "X1et-y7vtqjs"
      }
    },
    {
      "cell_type": "markdown",
      "source": [
        "# **3. Model development**"
      ],
      "metadata": {
        "id": "EGwk56-37oPX"
      }
    },
    {
      "cell_type": "code",
      "source": [
        "import matplotlib.pyplot as plt\n",
        "\n",
        "def plot_learning_curve(train_loss, val_loss, train_metric, val_metric, metric_name='Accuracy'):\n",
        "    plt.figure(figsize=(10,5))\n",
        "\n",
        "    plt.subplot(1,2,1)\n",
        "    plt.plot(train_loss, 'r--')\n",
        "    plt.plot(val_loss, 'b--')\n",
        "    plt.xlabel(\"Epochs\")\n",
        "    plt.ylabel(\"Loss\")\n",
        "    plt.legend(['Train', 'Validation'], loc='upper left')\n",
        "\n",
        "    plt.subplot(1,2,2)\n",
        "    plt.plot(train_metric, 'r--')\n",
        "    plt.plot(val_metric, 'b--')\n",
        "    plt.xlabel(\"Epochs\")\n",
        "    plt.ylabel(metric_name)\n",
        "    plt.legend(['Train', 'Validation'], loc='upper left')\n",
        "\n",
        "    plt.show()\n"
      ],
      "metadata": {
        "id": "bl9q4Ic2tj3w"
      },
      "execution_count": null,
      "outputs": []
    },
    {
      "cell_type": "markdown",
      "source": [
        "## **3.1 Basline Model**"
      ],
      "metadata": {
        "id": "vr5A8pOb71A7"
      }
    },
    {
      "cell_type": "code",
      "source": [
        "import tensorflow as tf\n",
        "AUTOTUNE = tf.data.experimental.AUTOTUNE\n",
        "\n",
        "tf.__version__"
      ],
      "metadata": {
        "id": "2VAsXKHLuWV5",
        "outputId": "a2e06313-e600-4228-87e8-50daaf566492",
        "colab": {
          "base_uri": "https://localhost:8080/",
          "height": 35
        }
      },
      "execution_count": null,
      "outputs": [
        {
          "output_type": "execute_result",
          "data": {
            "text/plain": [
              "'2.15.0'"
            ],
            "application/vnd.google.colaboratory.intrinsic+json": {
              "type": "string"
            }
          },
          "metadata": {},
          "execution_count": 240
        }
      ]
    },
    {
      "cell_type": "code",
      "source": [
        "from tensorflow.keras.utils import to_categorical\n",
        "\n",
        "y_shape_train_cat = to_categorical(y_shape_train)\n",
        "y_shape_val_cat = to_categorical(y_shape_val)\n",
        "y_shape_test_cat = to_categorical(y_shape_test)\n"
      ],
      "metadata": {
        "id": "ckAlu8YFEZPT"
      },
      "execution_count": null,
      "outputs": []
    },
    {
      "cell_type": "code",
      "source": [
        "from tensorflow.keras.models import Sequential\n",
        "from tensorflow.keras.layers import Dense\n",
        "\n",
        "model = Sequential([\n",
        "    Dense(128, activation='sigmoid', input_shape=(X_shape_train_flat.shape[1],)),\n",
        "    Dense(64, activation='sigmoid'),\n",
        "    Dense(y_shape_train_cat.shape[1], activation='softmax')\n",
        "])\n"
      ],
      "metadata": {
        "id": "Ihc3UuyAsorP"
      },
      "execution_count": null,
      "outputs": []
    },
    {
      "cell_type": "code",
      "source": [
        "model.compile(optimizer='adam', loss='categorical_crossentropy', metrics=['accuracy'])\n"
      ],
      "metadata": {
        "id": "brCFcpzksonG"
      },
      "execution_count": null,
      "outputs": []
    },
    {
      "cell_type": "code",
      "source": [
        "history = model.fit(X_shape_train_flat, y_shape_train_cat, epochs=10, validation_data=(X_shape_val_flat, y_shape_val_cat))\n"
      ],
      "metadata": {
        "id": "BYkdDiL4soiz",
        "outputId": "9e6c2d0e-f47f-4d7a-89ee-bccf365fab38",
        "colab": {
          "base_uri": "https://localhost:8080/"
        }
      },
      "execution_count": null,
      "outputs": [
        {
          "output_type": "stream",
          "name": "stdout",
          "text": [
            "Epoch 1/10\n",
            "93/93 [==============================] - 2s 8ms/step - loss: 1.2699 - accuracy: 0.4718 - val_loss: 1.2399 - val_accuracy: 0.4765\n",
            "Epoch 2/10\n",
            "93/93 [==============================] - 1s 5ms/step - loss: 1.2306 - accuracy: 0.5039 - val_loss: 1.2277 - val_accuracy: 0.4765\n",
            "Epoch 3/10\n",
            "93/93 [==============================] - 0s 5ms/step - loss: 1.2017 - accuracy: 0.5056 - val_loss: 1.1719 - val_accuracy: 0.4765\n",
            "Epoch 4/10\n",
            "93/93 [==============================] - 0s 5ms/step - loss: 1.1644 - accuracy: 0.5370 - val_loss: 1.1342 - val_accuracy: 0.4765\n",
            "Epoch 5/10\n",
            "93/93 [==============================] - 1s 6ms/step - loss: 1.1771 - accuracy: 0.5242 - val_loss: 1.1274 - val_accuracy: 0.6354\n",
            "Epoch 6/10\n",
            "93/93 [==============================] - 0s 5ms/step - loss: 1.2265 - accuracy: 0.4988 - val_loss: 1.2584 - val_accuracy: 0.4765\n",
            "Epoch 7/10\n",
            "93/93 [==============================] - 1s 5ms/step - loss: 1.2685 - accuracy: 0.4762 - val_loss: 1.2579 - val_accuracy: 0.4765\n",
            "Epoch 8/10\n",
            "93/93 [==============================] - 0s 5ms/step - loss: 1.2683 - accuracy: 0.4762 - val_loss: 1.2590 - val_accuracy: 0.4765\n",
            "Epoch 9/10\n",
            "93/93 [==============================] - 1s 5ms/step - loss: 1.2689 - accuracy: 0.4762 - val_loss: 1.2712 - val_accuracy: 0.4765\n",
            "Epoch 10/10\n",
            "93/93 [==============================] - 0s 5ms/step - loss: 1.2694 - accuracy: 0.4762 - val_loss: 1.2612 - val_accuracy: 0.4765\n"
          ]
        }
      ]
    },
    {
      "cell_type": "code",
      "source": [
        "plot_learning_curve(history.history['loss'], history.history['val_loss'],\n",
        "                    history.history['accuracy'], history.history['val_accuracy'],\n",
        "                    metric_name='Accuracy')\n"
      ],
      "metadata": {
        "id": "_JpjWaOCs-83",
        "outputId": "6face1a4-0994-4af7-b4e5-fc71752ac3da",
        "colab": {
          "base_uri": "https://localhost:8080/",
          "height": 465
        }
      },
      "execution_count": null,
      "outputs": [
        {
          "output_type": "display_data",
          "data": {
            "text/plain": [
              "<Figure size 1000x500 with 2 Axes>"
            ],
            "image/png": "[encoded data removed]"
          },
          "metadata": {}
        }
      ]
    },
    {
      "cell_type": "markdown",
      "source": [
        "**Observations:**\n",
        "\n",
        "- The model exhibits overfitting, as the training accuracy increases while the validation accuracy stagnates or even decreases after a certain number of epochs.\n",
        "- This suggests that the model is memorizing the training data but not generalizing well to unseen data.\n",
        "- To address this issue, techniques such as regularization or data augmentation can be explored."
      ],
      "metadata": {
        "id": "99pSKYpw1sJM"
      }
    },
    {
      "cell_type": "markdown",
      "source": [
        "### **3.1.1Shape prediction**"
      ],
      "metadata": {
        "id": "gHS9zsGun38H"
      }
    },
    {
      "cell_type": "code",
      "source": [
        "import tensorflow as tf\n",
        "\n",
        "model.compile(optimizer='SGD',\n",
        "              loss=tf.keras.losses.CategoricalCrossentropy(from_logits=True),\n",
        "              metrics=['categorical_accuracy'])\n"
      ],
      "metadata": {
        "id": "Glp0HMvJdWMF"
      },
      "execution_count": null,
      "outputs": []
    },
    {
      "cell_type": "code",
      "source": [
        "history = model.fit(\n",
        "    train_generator,\n",
        "    steps_per_epoch=train_generator.n // train_generator.batch_size,\n",
        "    validation_data=validation_generator,\n",
        "    validation_steps=validation_generator.n // validation_generator.batch_size,\n",
        "    epochs=10\n",
        ")"
      ],
      "metadata": {
        "colab": {
          "base_uri": "https://localhost:8080/",
          "height": 773
        },
        "id": "1NyOjM_CdWH5",
        "outputId": "dc2eebba-0b92-46c7-f242-82efb61b6067"
      },
      "execution_count": null,
      "outputs": [
        {
          "output_type": "stream",
          "name": "stdout",
          "text": [
            "Epoch 1/10\n"
          ]
        },
        {
          "output_type": "error",
          "ename": "ValueError",
          "evalue": "in user code:\n\n    File \"/usr/local/lib/python3.10/dist-packages/keras/src/engine/training.py\", line 1401, in train_function  *\n        return step_function(self, iterator)\n    File \"/usr/local/lib/python3.10/dist-packages/keras/src/engine/training.py\", line 1384, in step_function  **\n        outputs = model.distribute_strategy.run(run_step, args=(data,))\n    File \"/usr/local/lib/python3.10/dist-packages/keras/src/engine/training.py\", line 1373, in run_step  **\n        outputs = model.train_step(data)\n    File \"/usr/local/lib/python3.10/dist-packages/keras/src/engine/training.py\", line 1151, in train_step\n        loss = self.compute_loss(x, y, y_pred, sample_weight)\n    File \"/usr/local/lib/python3.10/dist-packages/keras/src/engine/training.py\", line 1209, in compute_loss\n        return self.compiled_loss(\n    File \"/usr/local/lib/python3.10/dist-packages/keras/src/engine/compile_utils.py\", line 277, in __call__\n        loss_value = loss_obj(y_t, y_p, sample_weight=sw)\n    File \"/usr/local/lib/python3.10/dist-packages/keras/src/losses.py\", line 143, in __call__\n        losses = call_fn(y_true, y_pred)\n    File \"/usr/local/lib/python3.10/dist-packages/keras/src/losses.py\", line 270, in call  **\n        return ag_fn(y_true, y_pred, **self._fn_kwargs)\n    File \"/usr/local/lib/python3.10/dist-packages/keras/src/losses.py\", line 2221, in categorical_crossentropy\n        return backend.categorical_crossentropy(\n    File \"/usr/local/lib/python3.10/dist-packages/keras/src/backend.py\", line 5573, in categorical_crossentropy\n        target.shape.assert_is_compatible_with(output.shape)\n\n    ValueError: Shapes (None, None) and (None, None, None, 5) are incompatible\n",
          "traceback": [
            "\u001b[0;31m---------------------------------------------------------------------------\u001b[0m",
            "\u001b[0;31mValueError\u001b[0m                                Traceback (most recent call last)",
            "\u001b[0;32m<ipython-input-274-667beea959bc>\u001b[0m in \u001b[0;36m<cell line: 1>\u001b[0;34m()\u001b[0m\n\u001b[0;32m----> 1\u001b[0;31m history = model.fit(\n\u001b[0m\u001b[1;32m      2\u001b[0m     \u001b[0mtrain_generator\u001b[0m\u001b[0;34m,\u001b[0m\u001b[0;34m\u001b[0m\u001b[0;34m\u001b[0m\u001b[0m\n\u001b[1;32m      3\u001b[0m     \u001b[0msteps_per_epoch\u001b[0m\u001b[0;34m=\u001b[0m\u001b[0mtrain_generator\u001b[0m\u001b[0;34m.\u001b[0m\u001b[0mn\u001b[0m \u001b[0;34m//\u001b[0m \u001b[0mtrain_generator\u001b[0m\u001b[0;34m.\u001b[0m\u001b[0mbatch_size\u001b[0m\u001b[0;34m,\u001b[0m\u001b[0;34m\u001b[0m\u001b[0;34m\u001b[0m\u001b[0m\n\u001b[1;32m      4\u001b[0m     \u001b[0mvalidation_data\u001b[0m\u001b[0;34m=\u001b[0m\u001b[0mvalidation_generator\u001b[0m\u001b[0;34m,\u001b[0m\u001b[0;34m\u001b[0m\u001b[0;34m\u001b[0m\u001b[0m\n\u001b[1;32m      5\u001b[0m     \u001b[0mvalidation_steps\u001b[0m\u001b[0;34m=\u001b[0m\u001b[0mvalidation_generator\u001b[0m\u001b[0;34m.\u001b[0m\u001b[0mn\u001b[0m \u001b[0;34m//\u001b[0m \u001b[0mvalidation_generator\u001b[0m\u001b[0;34m.\u001b[0m\u001b[0mbatch_size\u001b[0m\u001b[0;34m,\u001b[0m\u001b[0;34m\u001b[0m\u001b[0;34m\u001b[0m\u001b[0m\n",
            "\u001b[0;32m/usr/local/lib/python3.10/dist-packages/keras/src/utils/traceback_utils.py\u001b[0m in \u001b[0;36merror_handler\u001b[0;34m(*args, **kwargs)\u001b[0m\n\u001b[1;32m     68\u001b[0m             \u001b[0;31m# To get the full stack trace, call:\u001b[0m\u001b[0;34m\u001b[0m\u001b[0;34m\u001b[0m\u001b[0m\n\u001b[1;32m     69\u001b[0m             \u001b[0;31m# `tf.debugging.disable_traceback_filtering()`\u001b[0m\u001b[0;34m\u001b[0m\u001b[0;34m\u001b[0m\u001b[0m\n\u001b[0;32m---> 70\u001b[0;31m             \u001b[0;32mraise\u001b[0m \u001b[0me\u001b[0m\u001b[0;34m.\u001b[0m\u001b[0mwith_traceback\u001b[0m\u001b[0;34m(\u001b[0m\u001b[0mfiltered_tb\u001b[0m\u001b[0;34m)\u001b[0m \u001b[0;32mfrom\u001b[0m \u001b[0;32mNone\u001b[0m\u001b[0;34m\u001b[0m\u001b[0;34m\u001b[0m\u001b[0m\n\u001b[0m\u001b[1;32m     71\u001b[0m         \u001b[0;32mfinally\u001b[0m\u001b[0;34m:\u001b[0m\u001b[0;34m\u001b[0m\u001b[0;34m\u001b[0m\u001b[0m\n\u001b[1;32m     72\u001b[0m             \u001b[0;32mdel\u001b[0m \u001b[0mfiltered_tb\u001b[0m\u001b[0;34m\u001b[0m\u001b[0;34m\u001b[0m\u001b[0m\n",
            "\u001b[0;32m/usr/local/lib/python3.10/dist-packages/keras/src/engine/training.py\u001b[0m in \u001b[0;36mtf__train_function\u001b[0;34m(iterator)\u001b[0m\n\u001b[1;32m     13\u001b[0m                 \u001b[0;32mtry\u001b[0m\u001b[0;34m:\u001b[0m\u001b[0;34m\u001b[0m\u001b[0;34m\u001b[0m\u001b[0m\n\u001b[1;32m     14\u001b[0m                     \u001b[0mdo_return\u001b[0m \u001b[0;34m=\u001b[0m \u001b[0;32mTrue\u001b[0m\u001b[0;34m\u001b[0m\u001b[0;34m\u001b[0m\u001b[0m\n\u001b[0;32m---> 15\u001b[0;31m                     \u001b[0mretval_\u001b[0m \u001b[0;34m=\u001b[0m \u001b[0mag__\u001b[0m\u001b[0;34m.\u001b[0m\u001b[0mconverted_call\u001b[0m\u001b[0;34m(\u001b[0m\u001b[0mag__\u001b[0m\u001b[0;34m.\u001b[0m\u001b[0mld\u001b[0m\u001b[0;34m(\u001b[0m\u001b[0mstep_function\u001b[0m\u001b[0;34m)\u001b[0m\u001b[0;34m,\u001b[0m \u001b[0;34m(\u001b[0m\u001b[0mag__\u001b[0m\u001b[0;34m.\u001b[0m\u001b[0mld\u001b[0m\u001b[0;34m(\u001b[0m\u001b[0mself\u001b[0m\u001b[0;34m)\u001b[0m\u001b[0;34m,\u001b[0m \u001b[0mag__\u001b[0m\u001b[0;34m.\u001b[0m\u001b[0mld\u001b[0m\u001b[0;34m(\u001b[0m\u001b[0miterator\u001b[0m\u001b[0;34m)\u001b[0m\u001b[0;34m)\u001b[0m\u001b[0;34m,\u001b[0m \u001b[0;32mNone\u001b[0m\u001b[0;34m,\u001b[0m \u001b[0mfscope\u001b[0m\u001b[0;34m)\u001b[0m\u001b[0;34m\u001b[0m\u001b[0;34m\u001b[0m\u001b[0m\n\u001b[0m\u001b[1;32m     16\u001b[0m                 \u001b[0;32mexcept\u001b[0m\u001b[0;34m:\u001b[0m\u001b[0;34m\u001b[0m\u001b[0;34m\u001b[0m\u001b[0m\n\u001b[1;32m     17\u001b[0m                     \u001b[0mdo_return\u001b[0m \u001b[0;34m=\u001b[0m \u001b[0;32mFalse\u001b[0m\u001b[0;34m\u001b[0m\u001b[0;34m\u001b[0m\u001b[0m\n",
            "\u001b[0;31mValueError\u001b[0m: in user code:\n\n    File \"/usr/local/lib/python3.10/dist-packages/keras/src/engine/training.py\", line 1401, in train_function  *\n        return step_function(self, iterator)\n    File \"/usr/local/lib/python3.10/dist-packages/keras/src/engine/training.py\", line 1384, in step_function  **\n        outputs = model.distribute_strategy.run(run_step, args=(data,))\n    File \"/usr/local/lib/python3.10/dist-packages/keras/src/engine/training.py\", line 1373, in run_step  **\n        outputs = model.train_step(data)\n    File \"/usr/local/lib/python3.10/dist-packages/keras/src/engine/training.py\", line 1151, in train_step\n        loss = self.compute_loss(x, y, y_pred, sample_weight)\n    File \"/usr/local/lib/python3.10/dist-packages/keras/src/engine/training.py\", line 1209, in compute_loss\n        return self.compiled_loss(\n    File \"/usr/local/lib/python3.10/dist-packages/keras/src/engine/compile_utils.py\", line 277, in __call__\n        loss_value = loss_obj(y_t, y_p, sample_weight=sw)\n    File \"/usr/local/lib/python3.10/dist-packages/keras/src/losses.py\", line 143, in __call__\n        losses = call_fn(y_true, y_pred)\n    File \"/usr/local/lib/python3.10/dist-packages/keras/src/losses.py\", line 270, in call  **\n        return ag_fn(y_true, y_pred, **self._fn_kwargs)\n    File \"/usr/local/lib/python3.10/dist-packages/keras/src/losses.py\", line 2221, in categorical_crossentropy\n        return backend.categorical_crossentropy(\n    File \"/usr/local/lib/python3.10/dist-packages/keras/src/backend.py\", line 5573, in categorical_crossentropy\n        target.shape.assert_is_compatible_with(output.shape)\n\n    ValueError: Shapes (None, None) and (None, None, None, 5) are incompatible\n"
          ]
        }
      ]
    },
    {
      "cell_type": "markdown",
      "source": [
        "train_generator = train_datagen.flow_from_dataframe(\n",
        "    dataframe=X_type_train,\n",
        "    directory='./data/train',\n",
        "    x_col='image_path',\n",
        "    y_col='encoded_class',\n",
        "    target_size=(28, 28),\n",
        "    color_mode='grayscale',\n",
        "    batch_size=20,\n",
        "    class_mode='categorical'\n",
        ")\n",
        "\n",
        "validation_generator = val_datagen.flow_from_dataframe(\n",
        "    dataframe=X_type_val,\n",
        "    directory='./data/validation',\n",
        "    x_col='image_path',\n",
        "    y_col='encoded_class',\n",
        "    target_size=(28, 28),\n",
        "    color_mode='grayscale',\n",
        "    batch_size=20,\n",
        "    class_mode='categorical'\n",
        ")\n"
      ],
      "metadata": {
        "id": "l1W30zRupDDs"
      }
    },
    {
      "cell_type": "code",
      "source": [
        "import tensorflow as tf\n",
        "\n",
        "model.compile(optimizer='SGD',\n",
        "              loss=tf.keras.losses.CategoricalCrossentropy(from_logits=True),\n",
        "              metrics=['categorical_accuracy'])\n"
      ],
      "metadata": {
        "id": "hZCepuqOk6Yk"
      },
      "execution_count": null,
      "outputs": []
    },
    {
      "cell_type": "code",
      "source": [
        "plot_learning_curve(history.history['loss'], history.history['val_loss'],\n",
        "                    history.history['categorical_accuracy'], history.history['val_categorical_accuracy'],\n",
        "                    metric_name='Accuracy')"
      ],
      "metadata": {
        "colab": {
          "base_uri": "https://localhost:8080/",
          "height": 465
        },
        "id": "8HJlQYY1k6Pa",
        "outputId": "5f150480-a031-47b0-e1a8-d97ff97b5130"
      },
      "execution_count": null,
      "outputs": [
        {
          "output_type": "display_data",
          "data": {
            "text/plain": [
              "<Figure size 1000x500 with 2 Axes>"
            ],
            "image/png": "[encoded data removed]"
          },
          "metadata": {}
        }
      ]
    },
    {
      "cell_type": "code",
      "source": [
        "label_names = {'Landeed' : 0, 'Continue' : 1, 'Crossing' : 2, 'Parking' : 3, 'Bicycle' : 4 ,'Trafficdirective' : 5, 'Traveldirection' : 6, 'Noentry' : 7, 'roundabout' : 8, 'speed' : 9,'noparking' : 10, 'limitedtraffic' : 11, 'Stop' : 12, 'Rightofway' : 13, 'Giveway' : 14, 'Warning' :15 }"
      ],
      "metadata": {
        "id": "3zMxMkeGk6KH"
      },
      "execution_count": null,
      "outputs": []
    },
    {
      "cell_type": "code",
      "source": [
        "d_inv = {v: k for k, v in label_names.items()}\n",
        "plt.figure(figsize=(16, 4))\n",
        "batches = 0\n",
        "\n",
        "for x, y in train_generator:\n",
        "    batches += 1\n",
        "    y_hat = model.predict(x, verbose=0)\n",
        "    x = np.squeeze(x[0])\n",
        "\n",
        "    if batches < 5:\n",
        "        plt.subplot(1, 5, batches)\n",
        "        plt.imshow(x, cmap='gray')\n",
        "        plt.title(f\"GT-{d_inv[np.argmax(y[0])]}, Pred-{d_inv[np.argmax(y_hat[0])]}\", fontsize=10)\n",
        "        plt.axis('off')\n",
        "    else:\n",
        "        break\n",
        "plt.show()"
      ],
      "metadata": {
        "colab": {
          "base_uri": "https://localhost:8080/",
          "height": 270
        },
        "id": "77stddu7k6FS",
        "outputId": "18a92e9c-2a8b-4fc5-d7ee-645d4963201e"
      },
      "execution_count": null,
      "outputs": [
        {
          "output_type": "display_data",
          "data": {
            "text/plain": [
              "<Figure size 1600x400 with 4 Axes>"
            ],
            "image/png": "[encoded data removed]"
          },
          "metadata": {}
        }
      ]
    },
    {
      "cell_type": "markdown",
      "source": [
        "====================================================================================================="
      ],
      "metadata": {
        "id": "ah3poNsj-kqQ"
      }
    },
    {
      "cell_type": "code",
      "source": [],
      "metadata": {
        "id": "OGbzBecOk6BA"
      },
      "execution_count": null,
      "outputs": []
    },
    {
      "cell_type": "markdown",
      "source": [
        "# **Data Augmentation**"
      ],
      "metadata": {
        "id": "iqGFo7fjFXPM"
      }
    },
    {
      "cell_type": "markdown",
      "source": [
        "**Recognizing the imbalance in our data, we plan to explore whether supplementing the smaller classes with augmented data can enhance the accuracy of our model. In this section, we will establish new folders to house the augmented datasets derived from the original training data.**"
      ],
      "metadata": {
        "id": "OQOAViPJF2m3"
      }
    },
    {
      "cell_type": "code",
      "source": [
        "# Determine the maximum count in any single category\n",
        "max_count = max([len(group) for label, group in shape_groups])\n",
        "\n",
        "# Calculate augmentation needs for each category\n",
        "augment_needs = {}\n",
        "for label, group in shape_groups:\n",
        "    current_count = len(group)\n",
        "    augment_needs[label] = max(0, max_count - current_count)  # Only augment if needed\n"
      ],
      "metadata": {
        "id": "IUEVWMsAx0Bv"
      },
      "execution_count": null,
      "outputs": []
    },
    {
      "cell_type": "code",
      "source": [
        "from tensorflow.keras.preprocessing.image import ImageDataGenerator\n",
        "import cv2\n",
        "import numpy as np\n",
        "\n",
        "# Initialize the ImageDataGenerator with transformations\n",
        "datagen = ImageDataGenerator(\n",
        "    rotation_range=20,\n",
        "    width_shift_range=0.1,\n",
        "    height_shift_range=0.1,\n",
        "    horizontal_flip=True,\n",
        "    vertical_flip=True,\n",
        "    zoom_range=0.1,\n",
        "    fill_mode='nearest'\n",
        ")\n",
        "\n",
        "# Augment the images based on their needs\n",
        "augmented_images = []\n",
        "for label, group in shape_groups:\n",
        "    images = [cv2.imread(path, cv2.IMREAD_GRAYSCALE) for path in group['image_path']]\n",
        "    num_to_augment = augment_needs[label]\n",
        "    augmented_count = 0\n",
        "\n",
        "    for img in images:\n",
        "        if augmented_count >= num_to_augment:\n",
        "            break\n",
        "        img = cv2.resize(img, (28, 28))\n",
        "        img = img.reshape(1, 28, 28, 1)  # Reshape to fit the ImageDataGenerator requirements\n",
        "        aug_iter = datagen.flow(img, batch_size=1)\n",
        "\n",
        "        for _ in range(5):  # Generate multiple augmented images from each original image\n",
        "            aug_img = next(aug_iter)[0]\n",
        "            augmented_images.append(aug_img)\n",
        "            augmented_count += 1\n",
        "            if augmented_count >= num_to_augment:\n",
        "                break\n"
      ],
      "metadata": {
        "id": "TOm9tueVtqKV"
      },
      "execution_count": null,
      "outputs": []
    },
    {
      "cell_type": "code",
      "source": [
        "# Initialize shape_counts for both 'original' and 'augmented'\n",
        "shape_counts = {label: {'original': 0, 'augmented': 0} for label in shape_groups.groups.keys()}\n",
        "# Split each shape group into training and testing sets and update counts\n",
        "for label, group in shape_groups:\n",
        "    X_train, X_test, y_train, y_test = train_test_split(\n",
        "        group['image_path'], group['encoded_shape_label'], test_size=0.2, stratify=group['shape_label'])\n",
        "    shape_counts[label]['original'] += len(X_train)  # Update original count with the number of training images\n",
        "    print(f\"Shape group label: {label}, Train: {len(X_train)}, Test: {len(X_test)}\")\n",
        "# Assuming you track augmented images correctly\n",
        "for label, group in shape_groups:\n",
        "    # Simulate augmenting images\n",
        "    num_augments = 5 * len(X_train)  # Assuming you augment each image 5 times\n",
        "    shape_counts[label]['augmented'] += num_augments  # Update augmented count\n",
        "# Plotting the distribution of images for shapes\n",
        "labels, original_counts, augmented_counts = zip(*[\n",
        "    (label, counts['original'], counts['augmented']) for label, counts in shape_counts.items()\n",
        "])\n",
        "\n",
        "indexes = np.arange(len(labels))\n",
        "width = 0.35\n",
        "\n",
        "plt.bar(indexes, original_counts, width, label='Original')\n",
        "plt.bar(indexes + width, augmented_counts, width, label='Augmented', color='red')\n",
        "\n",
        "plt.ylabel('Number of Images')\n",
        "plt.title('Number of Images by Shape Before and After Augmentation')\n",
        "plt.xticks(indexes + width / 2, labels, rotation='vertical')\n",
        "plt.legend()\n",
        "plt.show()\n"
      ],
      "metadata": {
        "colab": {
          "base_uri": "https://localhost:8080/",
          "height": 586
        },
        "id": "ydDUFgaZx5Tc",
        "outputId": "db656e91-f1d9-47c0-fb52-ef65e747ca03"
      },
      "execution_count": null,
      "outputs": [
        {
          "output_type": "stream",
          "name": "stdout",
          "text": [
            "Shape group label: diamond, Train: 225, Test: 57\n",
            "Shape group label: hex, Train: 34, Test: 9\n",
            "Shape group label: round, Train: 1408, Test: 352\n",
            "Shape group label: square, Train: 550, Test: 138\n",
            "Shape group label: triangle, Train: 740, Test: 186\n"
          ]
        },
        {
          "output_type": "display_data",
          "data": {
            "text/plain": [
              "<Figure size 640x480 with 1 Axes>"
            ],
            "image/png": "[encoded data removed]"
          },
          "metadata": {}
        }
      ]
    },
    {
      "cell_type": "markdown",
      "source": [
        "**Observations:**\n",
        "\n",
        "- After applying augmentation, the number of images in each shape category is now balanced.\n",
        "- This augmentation approach can potentially improve the performance of a machine-learning model trained on this data by providing more representative data for each shape class."
      ],
      "metadata": {
        "id": "McXR6ken0CaC"
      }
    },
    {
      "cell_type": "code",
      "source": [
        "# Initialize type_counts for both 'original' and 'augmented'\n",
        "type_counts = {label: {'original': 0, 'augmented': 0} for label in type_groups.groups.keys()}\n",
        "# Split each type group into training and testing sets and update counts\n",
        "for label, group in type_groups:\n",
        "    X_train, X_test, y_train, y_test = train_test_split(\n",
        "        group['image_path'], group['encoded_type_label'], test_size=0.2, stratify=group['type_label'])\n",
        "    type_counts[label]['original'] += len(X_train)  # Update original count with the number of training images\n",
        "    print(f\"type group label: {label}, Train: {len(X_train)}, Test: {len(X_test)}\")\n",
        "# Assuming you track augmented images correctly\n",
        "for label, group in type_groups:\n",
        "    # Simulate augmenting images\n",
        "    num_augments = 5 * len(X_train)  # Assuming you augment each image 5 times\n",
        "    type_counts[label]['augmented'] += num_augments  # Update augmented count\n",
        "# Plotting the distribution of images for shapes\n",
        "labels, original_counts, augmented_counts = zip(*[\n",
        "    (label, counts['original'], counts['augmented']) for label, counts in type_counts.items()\n",
        "])\n",
        "\n",
        "indexes = np.arange(len(labels))\n",
        "width = 0.35\n",
        "\n",
        "plt.bar(indexes, original_counts, width, label='Original')\n",
        "plt.bar(indexes + width, augmented_counts, width, label='Augmented', color='red')\n",
        "\n",
        "plt.ylabel('Number of Images')\n",
        "plt.title('Number of Images by Type Before and After Augmentation')\n",
        "plt.xticks(indexes + width / 2, labels, rotation='vertical')\n",
        "plt.legend()\n",
        "plt.show()"
      ],
      "metadata": {
        "colab": {
          "base_uri": "https://localhost:8080/",
          "height": 818
        },
        "id": "PIdlVom740Jc",
        "outputId": "5b64ec78-094c-48c9-c16c-480441b5b3c9"
      },
      "execution_count": null,
      "outputs": [
        {
          "output_type": "stream",
          "name": "stdout",
          "text": [
            "type group label: bicycle, Train: 228, Test: 57\n",
            "type group label: continue, Train: 159, Test: 40\n",
            "type group label: crossing, Train: 76, Test: 19\n",
            "type group label: giveway, Train: 184, Test: 47\n",
            "type group label: laneend, Train: 94, Test: 24\n",
            "type group label: limitedtraffic, Train: 100, Test: 25\n",
            "type group label: noentry, Train: 300, Test: 75\n",
            "type group label: noparking, Train: 193, Test: 49\n",
            "type group label: parking, Train: 220, Test: 56\n",
            "type group label: rightofway, Train: 225, Test: 57\n",
            "type group label: roundabout, Train: 78, Test: 20\n",
            "type group label: speed, Train: 252, Test: 64\n",
            "type group label: stop, Train: 34, Test: 9\n",
            "type group label: trafficdirective, Train: 156, Test: 39\n",
            "type group label: traveldirection, Train: 99, Test: 25\n",
            "type group label: warning, Train: 556, Test: 139\n"
          ]
        },
        {
          "output_type": "display_data",
          "data": {
            "text/plain": [
              "<Figure size 640x480 with 1 Axes>"
            ],
            "image/png": "[encoded data removed]"
          },
          "metadata": {}
        }
      ]
    },
    {
      "cell_type": "markdown",
      "source": [
        "**Observations:**\n",
        "\n",
        "- After applying augmentation, the number of images in each type category is now more balanced.\n",
        "- This augmentation approach can potentially improve the performance of a\n",
        "machine-learning model trained on this data by providing more representative data for each type class.\n"
      ],
      "metadata": {
        "id": "vAlEltc-5vRp"
      }
    },
    {
      "cell_type": "code",
      "source": [],
      "metadata": {
        "id": "dGOmlylnk562"
      },
      "execution_count": null,
      "outputs": []
    },
    {
      "cell_type": "code",
      "source": [],
      "metadata": {
        "id": "9acaf6GWaqzf"
      },
      "execution_count": null,
      "outputs": []
    },
    {
      "cell_type": "code",
      "source": [],
      "metadata": {
        "id": "FFTL3Kzoaqn0"
      },
      "execution_count": null,
      "outputs": []
    },
    {
      "cell_type": "code",
      "source": [],
      "metadata": {
        "id": "bNYI5W49aqUe"
      },
      "execution_count": null,
      "outputs": []
    },
    {
      "cell_type": "code",
      "source": [],
      "metadata": {
        "id": "OmXe-71CceMk"
      },
      "execution_count": null,
      "outputs": []
    },
    {
      "cell_type": "code",
      "source": [],
      "metadata": {
        "id": "Er-ThpgVGFE7"
      },
      "execution_count": null,
      "outputs": []
    },
    {
      "cell_type": "code",
      "source": [],
      "metadata": {
        "id": "JSK-N-1tdJTm"
      },
      "execution_count": null,
      "outputs": []
    },
    {
      "cell_type": "code",
      "source": [],
      "metadata": {
        "id": "VKDDZNL4dJJk"
      },
      "execution_count": null,
      "outputs": []
    }
  ]
}