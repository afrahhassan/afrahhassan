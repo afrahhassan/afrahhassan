{
  "nbformat": 4,
  "nbformat_minor": 0,
  "metadata": {
    "colab": {
      "provenance": [],
      "toc_visible": true,
      "include_colab_link": true
    },
    "kernelspec": {
      "name": "python3",
      "display_name": "Python 3"
    },
    "language_info": {
      "name": "python"
    }
  },
  "cells": [
    {
      "cell_type": "markdown",
      "metadata": {
        "id": "view-in-github",
        "colab_type": "text"
      },
      "source": [
        "<a href=\"https://colab.research.google.com/github/afrahhassan/afrahhassan/blob/main/assignment2.ipynb\" target=\"_parent\"><img src=\"https://colab.research.google.com/assets/colab-badge.svg\" alt=\"Open In Colab\"/></a>"
      ]
    },
    {
      "cell_type": "markdown",
      "source": [
        "# Introduction\n",
        "## Task\n",
        "This report will analyse the methodology used to complete assignment 2 of the course Machine Learning (COSC2673/2793). The objective of the assignment is to develop a machine-learning system that can classify traffic sign images.\n",
        "\n",
        "The project is divided into two tasks:\n",
        "\n",
        "\n",
        "*   Classify images according to the shape of the given image.\n",
        "*    Classify images according to type.\n",
        "\n"
      ],
      "metadata": {
        "id": "bSg4xqPc8rir"
      }
    },
    {
      "cell_type": "markdown",
      "source": [
        "## Approach\n",
        "Our goal is to be able to identify the best possible machine-learning algorithm to generate a model that can reliably and consistently predict whether the type of traffic sign is based on image recognition."
      ],
      "metadata": {
        "id": "wRNwmqGTKEY5"
      }
    },
    {
      "cell_type": "markdown",
      "source": [
        "# **Contact to the Drive**"
      ],
      "metadata": {
        "id": "9PmzuCjISE7S"
      }
    },
    {
      "cell_type": "code",
      "source": [
        "from google.colab import drive\n",
        "import os\n",
        "import csv\n",
        "import numpy as np\n",
        "from sklearn.model_selection import train_test_split\n",
        "import pandas as pd\n",
        "import cv2\n",
        "from PIL import Image\n",
        "from sklearn.preprocessing import LabelEncoder\n"
      ],
      "metadata": {
        "id": "gsVfO_pe7ZM-"
      },
      "execution_count": 1,
      "outputs": []
    },
    {
      "cell_type": "code",
      "source": [
        "!cp -r \"/content/drive/MyDrive/Assignment2\" ."
      ],
      "metadata": {
        "id": "Lul49IWM8_lZ",
        "colab": {
          "base_uri": "https://localhost:8080/"
        },
        "outputId": "72a80831-26d8-4d70-bf6a-44cbf32e8678"
      },
      "execution_count": 2,
      "outputs": [
        {
          "output_type": "stream",
          "name": "stdout",
          "text": [
            "cp: cannot stat '/content/drive/MyDrive/Assignment2': No such file or directory\n"
          ]
        }
      ]
    },
    {
      "cell_type": "code",
      "source": [
        "from google.colab import drive\n",
        "drive.mount('/content/drive')"
      ],
      "metadata": {
        "colab": {
          "base_uri": "https://localhost:8080/"
        },
        "id": "EIscGG5b9m_r",
        "outputId": "c54bc4c6-7b33-4863-ccc6-7550b3a66550"
      },
      "execution_count": 3,
      "outputs": [
        {
          "output_type": "stream",
          "name": "stdout",
          "text": [
            "Mounted at /content/drive\n"
          ]
        }
      ]
    },
    {
      "cell_type": "code",
      "source": [
        "import zipfile\n",
        "with zipfile.ZipFile('/content/drive/MyDrive/Assignment2/trafficsigns_dataset.zip', 'r') as zip_ref:\n",
        "    zip_ref.extractall('./')"
      ],
      "metadata": {
        "id": "ehwv6PY09tAp"
      },
      "execution_count": 4,
      "outputs": []
    },
    {
      "cell_type": "markdown",
      "source": [
        "# **1. Data Exploration**\n",
        "## **1.1 Image Visualization**"
      ],
      "metadata": {
        "id": "dLX2kKbtmKHW"
      }
    },
    {
      "cell_type": "code",
      "source": [
        "import os\n",
        "import zipfile\n",
        "import matplotlib.pyplot as plt\n",
        "import matplotlib.image as mpimg\n",
        "\n",
        "# Path to the ZIP file and extraction directory\n",
        "zip_path = '/content/drive/MyDrive/Assignment2/trafficsigns_dataset.zip'\n",
        "extraction_path = './trafficsigns_dataset'\n",
        "\n",
        "# Extracting the ZIP file\n",
        "with zipfile.ZipFile(zip_path, 'r') as zip_ref:\n",
        "    zip_ref.extractall(extraction_path)\n",
        "\n",
        "# Function to display images\n",
        "def plot_images(images, titles, rows=1, cols=5, figsize=(15, 3)):\n",
        "    fig, axes = plt.subplots(rows, cols, figsize=figsize)\n",
        "    axes = axes.ravel()\n",
        "    for i in range(len(images)):\n",
        "        axes[i].imshow(images[i], cmap='gray')\n",
        "        axes[i].set_title(titles[i], fontsize=8)\n",
        "        axes[i].axis('off')\n",
        "    plt.tight_layout()\n",
        "    plt.show()\n",
        "\n",
        "# Function to collect images from multiple directories\n",
        "def collect_images(directory, extension, num_images=5, cols=5):\n",
        "    images = []\n",
        "    titles = []\n",
        "    # Walk through each folder and subfolder\n",
        "    for root, dirs, files in os.walk(directory):\n",
        "        file_list = [os.path.join(root, file) for file in files if file.endswith(extension)]\n",
        "        if file_list:\n",
        "            selected_files = file_list[:num_images]  # Take up to num_images from each folder\n",
        "            images.extend([mpimg.imread(img) for img in selected_files])\n",
        "            titles.extend(selected_files)\n",
        "        if len(images) >= cols:  # Limit the total number of images to display\n",
        "            break\n",
        "    return images, titles\n",
        "\n",
        "# Collect and display images\n",
        "image_extensions = ('.jpeg', '.jpg', '.png')\n",
        "images, titles = collect_images(extraction_path, image_extensions, num_images=1, cols=5)  # Adjust num_images to pick from each folder\n",
        "plot_images(images, titles)\n"
      ],
      "metadata": {
        "colab": {
          "base_uri": "https://localhost:8080/",
          "height": 271
        },
        "id": "psr7GGPWhJ0U",
        "outputId": "326f34d0-dce7-45f9-cbb8-37ce30d06009"
      },
      "execution_count": 5,
      "outputs": [
        {
          "output_type": "display_data",
          "data": {
            "text/plain": [
              "<Figure size 1500x300 with 5 Axes>"
            ],
            "image/png": "[encoded data removed]"
          },
          "metadata": {}
        }
      ]
    },
    {
      "cell_type": "markdown",
      "source": [
        "\n",
        "\n",
        "**Observations:**\n",
        "- The traffic sign images exhibit a wide variety of shapes.\n",
        "- Some signs have distinctive shapes (e.g., triangles, circles, octagons), while others have more complex shapes.\n",
        "- The images also vary in terms of background complexity, with some signs having simple backgrounds and others having more cluttered backgrounds.\n",
        "- These observations suggest that a machine-learning algorithm will need to be able to handle a diverse range of image characteristics in order to accurately classify the traffic signs."
      ],
      "metadata": {
        "id": "t1u-epMJ88XG"
      }
    },
    {
      "cell_type": "markdown",
      "source": [
        "## **1.2 Load Data into DataFrame**"
      ],
      "metadata": {
        "id": "EFk9CSkGfJ1J"
      }
    },
    {
      "cell_type": "code",
      "source": [
        "import os\n",
        "import cv2\n",
        "import pandas as pd\n",
        "\n",
        "def load_images_into_dataframes(data_dir):\n",
        "    \"\"\"\n",
        "    Function to load images from a directory into separate Pandas DataFrames for shape and type.\n",
        "\n",
        "    Args:\n",
        "    - data_dir (str): Path to the directory containing the data.\n",
        "\n",
        "    Returns:\n",
        "    - shape_df (DataFrame): Pandas DataFrame containing shape data with images loaded.\n",
        "    - type_df (DataFrame): Pandas DataFrame containing type data with images loaded.\n",
        "    \"\"\"\n",
        "    shape_data = []\n",
        "    type_data = []\n",
        "\n",
        "    # Iterate through shape folders\n",
        "    for shape_folder in os.listdir(data_dir):\n",
        "        shape_folder_path = os.path.join(data_dir, shape_folder)\n",
        "\n",
        "        # Skip non-directory files\n",
        "        if not os.path.isdir(shape_folder_path):\n",
        "            continue\n",
        "\n",
        "        # Iterate through sign type folders\n",
        "        for sign_type_folder in os.listdir(shape_folder_path):\n",
        "            sign_type_folder_path = os.path.join(shape_folder_path, sign_type_folder)\n",
        "\n",
        "            # Skip non-directory files\n",
        "            if not os.path.isdir(sign_type_folder_path):\n",
        "                continue\n",
        "\n",
        "            # Iterate through image files\n",
        "            for image_file in os.listdir(sign_type_folder_path):\n",
        "                image_path = os.path.join(sign_type_folder_path, image_file)\n",
        "\n",
        "                # Check if the file is an image\n",
        "                if not image_path.endswith(('.jpg', '.jpeg', '.png', '.bmp', '.gif')):\n",
        "                    print(f\"Skipping non-image file: {image_path}\")\n",
        "                    continue\n",
        "\n",
        "                # Load the image\n",
        "                image = cv2.imread(image_path, cv2.IMREAD_GRAYSCALE)\n",
        "\n",
        "                # Check if the image is null\n",
        "                if image is None:\n",
        "                    print(f\"Skipping null image: {image_path}\")\n",
        "                    continue\n",
        "\n",
        "                # Append image and labels to the respective data lists\n",
        "                shape_data.append((image_path, image, shape_folder))\n",
        "                type_data.append((image_path, image, sign_type_folder))\n",
        "\n",
        "    # Create DataFrames from the collected data\n",
        "    shape_df = pd.DataFrame(shape_data, columns=['image_path', 'image', 'shape_label'])\n",
        "    type_df = pd.DataFrame(type_data, columns=['image_path', 'image', 'type_label'])\n",
        "\n",
        "    return shape_df, type_df\n",
        "\n",
        "# Example usage\n",
        "# data_dir = \"trafficsigns_dataset\"\n",
        "data_dir = \"/content/drive/My Drive/Assignment2/trafficsigns_dataset\"\n",
        "shape_df, type_df = load_images_into_dataframes(data_dir)\n",
        "\n",
        "print(\"Shape DataFrame:\")\n",
        "print(shape_df.head())\n",
        "\n",
        "print(\"\\nType DataFrame:\")\n",
        "print(type_df.head())\n"
      ],
      "metadata": {
        "colab": {
          "base_uri": "https://localhost:8080/"
        },
        "id": "muY3UHBWQV_G",
        "outputId": "31046074-d440-4d71-d0a4-c331ff3803a1"
      },
      "execution_count": 6,
      "outputs": [
        {
          "output_type": "stream",
          "name": "stdout",
          "text": [
            "Skipping non-image file: /content/drive/My Drive/Assignment2/trafficsigns_dataset/triangle/warning/.DS_Store\n",
            "Shape DataFrame:\n",
            "                                          image_path  \\\n",
            "0  /content/drive/My Drive/Assignment2/trafficsig...   \n",
            "1  /content/drive/My Drive/Assignment2/trafficsig...   \n",
            "2  /content/drive/My Drive/Assignment2/trafficsig...   \n",
            "3  /content/drive/My Drive/Assignment2/trafficsig...   \n",
            "4  /content/drive/My Drive/Assignment2/trafficsig...   \n",
            "\n",
            "                                               image shape_label  \n",
            "0  [[60, 64, 47, 39, 46, 33, 30, 33, 19, 24, 15, ...      square  \n",
            "1  [[73, 63, 59, 55, 46, 51, 52, 52, 61, 56, 57, ...      square  \n",
            "2  [[255, 255, 255, 255, 255, 254, 254, 254, 255,...      square  \n",
            "3  [[37, 31, 30, 31, 30, 42, 37, 36, 35, 37, 35, ...      square  \n",
            "4  [[117, 88, 77, 96, 87, 72, 79, 91, 80, 78, 76,...      square  \n",
            "\n",
            "Type DataFrame:\n",
            "                                          image_path  \\\n",
            "0  /content/drive/My Drive/Assignment2/trafficsig...   \n",
            "1  /content/drive/My Drive/Assignment2/trafficsig...   \n",
            "2  /content/drive/My Drive/Assignment2/trafficsig...   \n",
            "3  /content/drive/My Drive/Assignment2/trafficsig...   \n",
            "4  /content/drive/My Drive/Assignment2/trafficsig...   \n",
            "\n",
            "                                               image type_label  \n",
            "0  [[60, 64, 47, 39, 46, 33, 30, 33, 19, 24, 15, ...   crossing  \n",
            "1  [[73, 63, 59, 55, 46, 51, 52, 52, 61, 56, 57, ...   crossing  \n",
            "2  [[255, 255, 255, 255, 255, 254, 254, 254, 255,...   crossing  \n",
            "3  [[37, 31, 30, 31, 30, 42, 37, 36, 35, 37, 35, ...   crossing  \n",
            "4  [[117, 88, 77, 96, 87, 72, 79, 91, 80, 78, 76,...   crossing  \n"
          ]
        }
      ]
    },
    {
      "cell_type": "markdown",
      "source": [
        "## **1.3 Check the Data Set**"
      ],
      "metadata": {
        "id": "CY4NUiX6fmjD"
      }
    },
    {
      "cell_type": "code",
      "source": [
        "# Check the size of the Shape DataFrame\n",
        "print(\"DataFrame Size:\")\n",
        "print(shape_df.shape)\n",
        "\n",
        "# Display basic information about the Shape DataFrame\n",
        "print(\"\\nDataFrame Information:\")\n",
        "print(shape_df.info())\n",
        "\n",
        "# Display descriptive statistics of the Shape DataFrame\n",
        "print(\"\\nDataFrame Descriptive Statistics:\")\n",
        "print(shape_df.describe())"
      ],
      "metadata": {
        "colab": {
          "base_uri": "https://localhost:8080/"
        },
        "id": "9ozR6z_xfen1",
        "outputId": "b43c0b06-1cf7-45f5-e898-7c6bb5e213a5"
      },
      "execution_count": 7,
      "outputs": [
        {
          "output_type": "stream",
          "name": "stdout",
          "text": [
            "DataFrame Size:\n",
            "(3699, 3)\n",
            "\n",
            "DataFrame Information:\n",
            "<class 'pandas.core.frame.DataFrame'>\n",
            "RangeIndex: 3699 entries, 0 to 3698\n",
            "Data columns (total 3 columns):\n",
            " #   Column       Non-Null Count  Dtype \n",
            "---  ------       --------------  ----- \n",
            " 0   image_path   3699 non-null   object\n",
            " 1   image        3699 non-null   object\n",
            " 2   shape_label  3699 non-null   object\n",
            "dtypes: object(3)\n",
            "memory usage: 86.8+ KB\n",
            "None\n",
            "\n",
            "DataFrame Descriptive Statistics:\n",
            "                                               image_path  \\\n",
            "count                                                3699   \n",
            "unique                                               3699   \n",
            "top     /content/drive/My Drive/Assignment2/trafficsig...   \n",
            "freq                                                    1   \n",
            "\n",
            "                                                    image shape_label  \n",
            "count                                                3699        3699  \n",
            "unique                                               3699           5  \n",
            "top     [[60, 64, 47, 39, 46, 33, 30, 33, 19, 24, 15, ...       round  \n",
            "freq                                                    1        1760  \n"
          ]
        }
      ]
    },
    {
      "cell_type": "code",
      "source": [
        "# Check the size of the Type DataFrame\n",
        "print(\"DataFrame Size:\")\n",
        "print(type_df.shape)\n",
        "\n",
        "# Display basic information about the Type DataFrame\n",
        "print(\"\\nDataFrame Information:\")\n",
        "print(type_df.info())\n",
        "\n",
        "# Display descriptive statistics of the Type DataFrame\n",
        "print(\"\\nDataFrame Descriptive Statistics:\")\n",
        "print(type_df.describe())"
      ],
      "metadata": {
        "colab": {
          "base_uri": "https://localhost:8080/"
        },
        "id": "zWF-hEnwdcl_",
        "outputId": "bbf9ebd7-0f67-47e8-83a5-1f7f44534e7f"
      },
      "execution_count": 8,
      "outputs": [
        {
          "output_type": "stream",
          "name": "stdout",
          "text": [
            "DataFrame Size:\n",
            "(3699, 3)\n",
            "\n",
            "DataFrame Information:\n",
            "<class 'pandas.core.frame.DataFrame'>\n",
            "RangeIndex: 3699 entries, 0 to 3698\n",
            "Data columns (total 3 columns):\n",
            " #   Column      Non-Null Count  Dtype \n",
            "---  ------      --------------  ----- \n",
            " 0   image_path  3699 non-null   object\n",
            " 1   image       3699 non-null   object\n",
            " 2   type_label  3699 non-null   object\n",
            "dtypes: object(3)\n",
            "memory usage: 86.8+ KB\n",
            "None\n",
            "\n",
            "DataFrame Descriptive Statistics:\n",
            "                                               image_path  \\\n",
            "count                                                3699   \n",
            "unique                                               3699   \n",
            "top     /content/drive/My Drive/Assignment2/trafficsig...   \n",
            "freq                                                    1   \n",
            "\n",
            "                                                    image type_label  \n",
            "count                                                3699       3699  \n",
            "unique                                               3699         16  \n",
            "top     [[60, 64, 47, 39, 46, 33, 30, 33, 19, 24, 15, ...    warning  \n",
            "freq                                                    1        695  \n"
          ]
        }
      ]
    },
    {
      "cell_type": "code",
      "source": [
        "# Number of data points\n",
        "num_data_points_1 = len(type_df)\n",
        "print(\"Number of Data Points:\", num_data_points_1)\n",
        "\n",
        "num_data_points_2 = len(shape_df)\n",
        "print(\"Number of Data Points:\", num_data_points_2\n",
        "      )\n",
        "\n",
        "# Count of unique shapes\n",
        "num_unique_shapes = shape_df['shape_label'].nunique()\n",
        "print(\"Number of Unique Image Shapes:\", num_unique_shapes)\n",
        "\n",
        "# Count of unique types\n",
        "num_unique_types = type_df['type_label'].nunique()\n",
        "print(\"Number of Unique Image Types:\", num_unique_types)"
      ],
      "metadata": {
        "colab": {
          "base_uri": "https://localhost:8080/"
        },
        "id": "kxq8UbWzeAh5",
        "outputId": "8972a839-9fe0-4979-ff1e-b72ea0f9ae95"
      },
      "execution_count": 9,
      "outputs": [
        {
          "output_type": "stream",
          "name": "stdout",
          "text": [
            "Number of Data Points: 3699\n",
            "Number of Data Points: 3699\n",
            "Number of Unique Image Shapes: 5\n",
            "Number of Unique Image Types: 16\n"
          ]
        }
      ]
    },
    {
      "cell_type": "code",
      "source": [
        "# Number of each shape\n",
        "shape_counts = shape_df['shape_label'].value_counts()\n",
        "print(\"Number of Each Shape Type:\")\n",
        "print(shape_counts)\n",
        "\n",
        "# Number of each type\n",
        "type_counts = type_df['type_label'].value_counts()\n",
        "print(\"\\nNumber of Each Type:\")\n",
        "print(type_counts)"
      ],
      "metadata": {
        "colab": {
          "base_uri": "https://localhost:8080/"
        },
        "collapsed": true,
        "id": "FGbgIKMd-2re",
        "outputId": "15f70dd1-ad69-492b-b11a-e3ce979b4942"
      },
      "execution_count": 10,
      "outputs": [
        {
          "output_type": "stream",
          "name": "stdout",
          "text": [
            "Number of Each Shape Type:\n",
            "shape_label\n",
            "round       1760\n",
            "triangle     926\n",
            "square       688\n",
            "diamond      282\n",
            "hex           43\n",
            "Name: count, dtype: int64\n",
            "\n",
            "Number of Each Type:\n",
            "type_label\n",
            "warning             695\n",
            "noentry             375\n",
            "speed               316\n",
            "bicycle             285\n",
            "rightofway          282\n",
            "parking             276\n",
            "noparking           242\n",
            "giveway             231\n",
            "continue            199\n",
            "trafficdirective    195\n",
            "limitedtraffic      125\n",
            "traveldirection     124\n",
            "laneend             118\n",
            "roundabout           98\n",
            "crossing             95\n",
            "stop                 43\n",
            "Name: count, dtype: int64\n"
          ]
        }
      ]
    },
    {
      "cell_type": "code",
      "source": [
        "import matplotlib.pyplot as plt\n",
        "def plot_samples(data_df, num_samples=5):\n",
        "    \"\"\"\n",
        "    Function to plot sample images from a DataFrame along with their labels.\n",
        "\n",
        "    Args:\n",
        "    - data_df (DataFrame): DataFrame containing image data and labels.\n",
        "    - num_samples (int): Number of samples to plot.\n",
        "\n",
        "    Returns:\n",
        "    - None\n",
        "    \"\"\"\n",
        "\n",
        "    fig, axes = plt.subplots(1, num_samples, figsize=(15, 3))\n",
        "\n",
        "    for i in range(num_samples):\n",
        "        sample = data_df.sample()  # Sampling from the DataFrame passed as input\n",
        "        image = sample['image'].values[0]  # Assuming 'image' contains the image data\n",
        "        label = sample['shape_label'].values[0] if 'shape_label' in data_df.columns else sample['type_label'].values[0]\n",
        "        axes[i].imshow(image, cmap='gray')  # Assuming grayscale images\n",
        "        axes[i].set_title(label)\n",
        "        axes[i].axis('off')\n",
        "\n",
        "    plt.show()\n",
        "\n",
        "\n",
        "# Plot sample images from the shape DataFrame\n",
        "print(\"Samples from Shape DataFrame:\")\n",
        "plot_samples(shape_df)\n",
        "\n",
        "# Plot sample images from the type DataFrame\n",
        "print(\"Samples from Type DataFrame:\")\n",
        "plot_samples(type_df)\n"
      ],
      "metadata": {
        "colab": {
          "base_uri": "https://localhost:8080/",
          "height": 536
        },
        "id": "gW2eHXdTgC6f",
        "outputId": "7581ad54-b1db-48cf-dea3-8fd371bae01e"
      },
      "execution_count": 11,
      "outputs": [
        {
          "output_type": "stream",
          "name": "stdout",
          "text": [
            "Samples from Shape DataFrame:\n"
          ]
        },
        {
          "output_type": "display_data",
          "data": {
            "text/plain": [
              "<Figure size 1500x300 with 5 Axes>"
            ],
            "image/png": "[encoded data removed]"
          },
          "metadata": {}
        },
        {
          "output_type": "stream",
          "name": "stdout",
          "text": [
            "Samples from Type DataFrame:\n"
          ]
        },
        {
          "output_type": "display_data",
          "data": {
            "text/plain": [
              "<Figure size 1500x300 with 5 Axes>"
            ],
            "image/png": "[encoded data removed]"
          },
          "metadata": {}
        }
      ]
    },
    {
      "cell_type": "code",
      "source": [
        "from sklearn.preprocessing import LabelEncoder\n",
        "\n",
        "# Create LabelEncoder instance\n",
        "label_encoder = LabelEncoder()\n",
        "\n",
        "# Fit and transform the shape labels\n",
        "shape_labels_encoded = label_encoder.fit_transform(shape_df['shape_label'])\n",
        "\n",
        "# Add the encoded labels as a new column in shape_df\n",
        "shape_df['encoded_shape_label'] = shape_labels_encoded\n",
        "\n",
        "# Display the updated shape_df\n",
        "shape_df.head()"
      ],
      "metadata": {
        "colab": {
          "base_uri": "https://localhost:8080/",
          "height": 206
        },
        "id": "dwR8mNBGgIsU",
        "outputId": "8308ec8b-15d3-4c54-c208-23f2e1f718a8"
      },
      "execution_count": 12,
      "outputs": [
        {
          "output_type": "execute_result",
          "data": {
            "text/plain": [
              "                                          image_path  \\\n",
              "0  /content/drive/My Drive/Assignment2/trafficsig...   \n",
              "1  /content/drive/My Drive/Assignment2/trafficsig...   \n",
              "2  /content/drive/My Drive/Assignment2/trafficsig...   \n",
              "3  /content/drive/My Drive/Assignment2/trafficsig...   \n",
              "4  /content/drive/My Drive/Assignment2/trafficsig...   \n",
              "\n",
              "                                               image shape_label  \\\n",
              "0  [[60, 64, 47, 39, 46, 33, 30, 33, 19, 24, 15, ...      square   \n",
              "1  [[73, 63, 59, 55, 46, 51, 52, 52, 61, 56, 57, ...      square   \n",
              "2  [[255, 255, 255, 255, 255, 254, 254, 254, 255,...      square   \n",
              "3  [[37, 31, 30, 31, 30, 42, 37, 36, 35, 37, 35, ...      square   \n",
              "4  [[117, 88, 77, 96, 87, 72, 79, 91, 80, 78, 76,...      square   \n",
              "\n",
              "   encoded_shape_label  \n",
              "0                    3  \n",
              "1                    3  \n",
              "2                    3  \n",
              "3                    3  \n",
              "4                    3  "
            ],
            "text/html": [
              "\n",
              "  <div id=\"df-a1217c69-0d0c-4def-bb74-2f30321e583d\" class=\"colab-df-container\">\n",
              "    <div>\n",
              "<style scoped>\n",
              "    .dataframe tbody tr th:only-of-type {\n",
              "        vertical-align: middle;\n",
              "    }\n",
              "\n",
              "    .dataframe tbody tr th {\n",
              "        vertical-align: top;\n",
              "    }\n",
              "\n",
              "    .dataframe thead th {\n",
              "        text-align: right;\n",
              "    }\n",
              "</style>\n",
              "<table border=\"1\" class=\"dataframe\">\n",
              "  <thead>\n",
              "    <tr style=\"text-align: right;\">\n",
              "      <th></th>\n",
              "      <th>image_path</th>\n",
              "      <th>image</th>\n",
              "      <th>shape_label</th>\n",
              "      <th>encoded_shape_label</th>\n",
              "    </tr>\n",
              "  </thead>\n",
              "  <tbody>\n",
              "    <tr>\n",
              "      <th>0</th>\n",
              "      <td>/content/drive/My Drive/Assignment2/trafficsig...</td>\n",
              "      <td>[[60, 64, 47, 39, 46, 33, 30, 33, 19, 24, 15, ...</td>\n",
              "      <td>square</td>\n",
              "      <td>3</td>\n",
              "    </tr>\n",
              "    <tr>\n",
              "      <th>1</th>\n",
              "      <td>/content/drive/My Drive/Assignment2/trafficsig...</td>\n",
              "      <td>[[73, 63, 59, 55, 46, 51, 52, 52, 61, 56, 57, ...</td>\n",
              "      <td>square</td>\n",
              "      <td>3</td>\n",
              "    </tr>\n",
              "    <tr>\n",
              "      <th>2</th>\n",
              "      <td>/content/drive/My Drive/Assignment2/trafficsig...</td>\n",
              "      <td>[[255, 255, 255, 255, 255, 254, 254, 254, 255,...</td>\n",
              "      <td>square</td>\n",
              "      <td>3</td>\n",
              "    </tr>\n",
              "    <tr>\n",
              "      <th>3</th>\n",
              "      <td>/content/drive/My Drive/Assignment2/trafficsig...</td>\n",
              "      <td>[[37, 31, 30, 31, 30, 42, 37, 36, 35, 37, 35, ...</td>\n",
              "      <td>square</td>\n",
              "      <td>3</td>\n",
              "    </tr>\n",
              "    <tr>\n",
              "      <th>4</th>\n",
              "      <td>/content/drive/My Drive/Assignment2/trafficsig...</td>\n",
              "      <td>[[117, 88, 77, 96, 87, 72, 79, 91, 80, 78, 76,...</td>\n",
              "      <td>square</td>\n",
              "      <td>3</td>\n",
              "    </tr>\n",
              "  </tbody>\n",
              "</table>\n",
              "</div>\n",
              "    <div class=\"colab-df-buttons\">\n",
              "\n",
              "  <div class=\"colab-df-container\">\n",
              "    <button class=\"colab-df-convert\" onclick=\"convertToInteractive('df-a1217c69-0d0c-4def-bb74-2f30321e583d')\"\n",
              "            title=\"Convert this dataframe to an interactive table.\"\n",
              "            style=\"display:none;\">\n",
              "\n",
              "  <svg xmlns=\"http://www.w3.org/2000/svg\" height=\"24px\" viewBox=\"0 -960 960 960\">\n",
              "    <path d=\"M120-120v-720h720v720H120Zm60-500h600v-160H180v160Zm220 220h160v-160H400v160Zm0 220h160v-160H400v160ZM180-400h160v-160H180v160Zm440 0h160v-160H620v160ZM180-180h160v-160H180v160Zm440 0h160v-160H620v160Z\"/>\n",
              "  </svg>\n",
              "    </button>\n",
              "\n",
              "  <style>\n",
              "    .colab-df-container {\n",
              "      display:flex;\n",
              "      gap: 12px;\n",
              "    }\n",
              "\n",
              "    .colab-df-convert {\n",
              "      background-color: #E8F0FE;\n",
              "      border: none;\n",
              "      border-radius: 50%;\n",
              "      cursor: pointer;\n",
              "      display: none;\n",
              "      fill: #1967D2;\n",
              "      height: 32px;\n",
              "      padding: 0 0 0 0;\n",
              "      width: 32px;\n",
              "    }\n",
              "\n",
              "    .colab-df-convert:hover {\n",
              "      background-color: #E2EBFA;\n",
              "      box-shadow: 0px 1px 2px rgba(60, 64, 67, 0.3), 0px 1px 3px 1px rgba(60, 64, 67, 0.15);\n",
              "      fill: #174EA6;\n",
              "    }\n",
              "\n",
              "    .colab-df-buttons div {\n",
              "      margin-bottom: 4px;\n",
              "    }\n",
              "\n",
              "    [theme=dark] .colab-df-convert {\n",
              "      background-color: #3B4455;\n",
              "      fill: #D2E3FC;\n",
              "    }\n",
              "\n",
              "    [theme=dark] .colab-df-convert:hover {\n",
              "      background-color: #434B5C;\n",
              "      box-shadow: 0px 1px 3px 1px rgba(0, 0, 0, 0.15);\n",
              "      filter: drop-shadow(0px 1px 2px rgba(0, 0, 0, 0.3));\n",
              "      fill: #FFFFFF;\n",
              "    }\n",
              "  </style>\n",
              "\n",
              "    <script>\n",
              "      const buttonEl =\n",
              "        document.querySelector('#df-a1217c69-0d0c-4def-bb74-2f30321e583d button.colab-df-convert');\n",
              "      buttonEl.style.display =\n",
              "        google.colab.kernel.accessAllowed ? 'block' : 'none';\n",
              "\n",
              "      async function convertToInteractive(key) {\n",
              "        const element = document.querySelector('#df-a1217c69-0d0c-4def-bb74-2f30321e583d');\n",
              "        const dataTable =\n",
              "          await google.colab.kernel.invokeFunction('convertToInteractive',\n",
              "                                                    [key], {});\n",
              "        if (!dataTable) return;\n",
              "\n",
              "        const docLinkHtml = 'Like what you see? Visit the ' +\n",
              "          '<a target=\"_blank\" href=https://colab.research.google.com/notebooks/data_table.ipynb>data table notebook</a>'\n",
              "          + ' to learn more about interactive tables.';\n",
              "        element.innerHTML = '';\n",
              "        dataTable['output_type'] = 'display_data';\n",
              "        await google.colab.output.renderOutput(dataTable, element);\n",
              "        const docLink = document.createElement('div');\n",
              "        docLink.innerHTML = docLinkHtml;\n",
              "        element.appendChild(docLink);\n",
              "      }\n",
              "    </script>\n",
              "  </div>\n",
              "\n",
              "\n",
              "<div id=\"df-d3c3037c-eb43-400a-b2f8-07b41e883aa3\">\n",
              "  <button class=\"colab-df-quickchart\" onclick=\"quickchart('df-d3c3037c-eb43-400a-b2f8-07b41e883aa3')\"\n",
              "            title=\"Suggest charts\"\n",
              "            style=\"display:none;\">\n",
              "\n",
              "<svg xmlns=\"http://www.w3.org/2000/svg\" height=\"24px\"viewBox=\"0 0 24 24\"\n",
              "     width=\"24px\">\n",
              "    <g>\n",
              "        <path d=\"M19 3H5c-1.1 0-2 .9-2 2v14c0 1.1.9 2 2 2h14c1.1 0 2-.9 2-2V5c0-1.1-.9-2-2-2zM9 17H7v-7h2v7zm4 0h-2V7h2v10zm4 0h-2v-4h2v4z\"/>\n",
              "    </g>\n",
              "</svg>\n",
              "  </button>\n",
              "\n",
              "<style>\n",
              "  .colab-df-quickchart {\n",
              "      --bg-color: #E8F0FE;\n",
              "      --fill-color: #1967D2;\n",
              "      --hover-bg-color: #E2EBFA;\n",
              "      --hover-fill-color: #174EA6;\n",
              "      --disabled-fill-color: #AAA;\n",
              "      --disabled-bg-color: #DDD;\n",
              "  }\n",
              "\n",
              "  [theme=dark] .colab-df-quickchart {\n",
              "      --bg-color: #3B4455;\n",
              "      --fill-color: #D2E3FC;\n",
              "      --hover-bg-color: #434B5C;\n",
              "      --hover-fill-color: #FFFFFF;\n",
              "      --disabled-bg-color: #3B4455;\n",
              "      --disabled-fill-color: #666;\n",
              "  }\n",
              "\n",
              "  .colab-df-quickchart {\n",
              "    background-color: var(--bg-color);\n",
              "    border: none;\n",
              "    border-radius: 50%;\n",
              "    cursor: pointer;\n",
              "    display: none;\n",
              "    fill: var(--fill-color);\n",
              "    height: 32px;\n",
              "    padding: 0;\n",
              "    width: 32px;\n",
              "  }\n",
              "\n",
              "  .colab-df-quickchart:hover {\n",
              "    background-color: var(--hover-bg-color);\n",
              "    box-shadow: 0 1px 2px rgba(60, 64, 67, 0.3), 0 1px 3px 1px rgba(60, 64, 67, 0.15);\n",
              "    fill: var(--button-hover-fill-color);\n",
              "  }\n",
              "\n",
              "  .colab-df-quickchart-complete:disabled,\n",
              "  .colab-df-quickchart-complete:disabled:hover {\n",
              "    background-color: var(--disabled-bg-color);\n",
              "    fill: var(--disabled-fill-color);\n",
              "    box-shadow: none;\n",
              "  }\n",
              "\n",
              "  .colab-df-spinner {\n",
              "    border: 2px solid var(--fill-color);\n",
              "    border-color: transparent;\n",
              "    border-bottom-color: var(--fill-color);\n",
              "    animation:\n",
              "      spin 1s steps(1) infinite;\n",
              "  }\n",
              "\n",
              "  @keyframes spin {\n",
              "    0% {\n",
              "      border-color: transparent;\n",
              "      border-bottom-color: var(--fill-color);\n",
              "      border-left-color: var(--fill-color);\n",
              "    }\n",
              "    20% {\n",
              "      border-color: transparent;\n",
              "      border-left-color: var(--fill-color);\n",
              "      border-top-color: var(--fill-color);\n",
              "    }\n",
              "    30% {\n",
              "      border-color: transparent;\n",
              "      border-left-color: var(--fill-color);\n",
              "      border-top-color: var(--fill-color);\n",
              "      border-right-color: var(--fill-color);\n",
              "    }\n",
              "    40% {\n",
              "      border-color: transparent;\n",
              "      border-right-color: var(--fill-color);\n",
              "      border-top-color: var(--fill-color);\n",
              "    }\n",
              "    60% {\n",
              "      border-color: transparent;\n",
              "      border-right-color: var(--fill-color);\n",
              "    }\n",
              "    80% {\n",
              "      border-color: transparent;\n",
              "      border-right-color: var(--fill-color);\n",
              "      border-bottom-color: var(--fill-color);\n",
              "    }\n",
              "    90% {\n",
              "      border-color: transparent;\n",
              "      border-bottom-color: var(--fill-color);\n",
              "    }\n",
              "  }\n",
              "</style>\n",
              "\n",
              "  <script>\n",
              "    async function quickchart(key) {\n",
              "      const quickchartButtonEl =\n",
              "        document.querySelector('#' + key + ' button');\n",
              "      quickchartButtonEl.disabled = true;  // To prevent multiple clicks.\n",
              "      quickchartButtonEl.classList.add('colab-df-spinner');\n",
              "      try {\n",
              "        const charts = await google.colab.kernel.invokeFunction(\n",
              "            'suggestCharts', [key], {});\n",
              "      } catch (error) {\n",
              "        console.error('Error during call to suggestCharts:', error);\n",
              "      }\n",
              "      quickchartButtonEl.classList.remove('colab-df-spinner');\n",
              "      quickchartButtonEl.classList.add('colab-df-quickchart-complete');\n",
              "    }\n",
              "    (() => {\n",
              "      let quickchartButtonEl =\n",
              "        document.querySelector('#df-d3c3037c-eb43-400a-b2f8-07b41e883aa3 button');\n",
              "      quickchartButtonEl.style.display =\n",
              "        google.colab.kernel.accessAllowed ? 'block' : 'none';\n",
              "    })();\n",
              "  </script>\n",
              "</div>\n",
              "\n",
              "    </div>\n",
              "  </div>\n"
            ],
            "application/vnd.google.colaboratory.intrinsic+json": {
              "type": "dataframe",
              "variable_name": "shape_df",
              "summary": "{\n  \"name\": \"shape_df\",\n  \"rows\": 3699,\n  \"fields\": [\n    {\n      \"column\": \"image_path\",\n      \"properties\": {\n        \"dtype\": \"string\",\n        \"num_unique_values\": 3699,\n        \"samples\": [\n          \"/content/drive/My Drive/Assignment2/trafficsigns_dataset/triangle/warning/00710_00002.png\",\n          \"/content/drive/My Drive/Assignment2/trafficsigns_dataset/round/noentry/01047_00002.png\",\n          \"/content/drive/My Drive/Assignment2/trafficsigns_dataset/square/parking/00035_00002.png\"\n        ],\n        \"semantic_type\": \"\",\n        \"description\": \"\"\n      }\n    },\n    {\n      \"column\": \"image\",\n      \"properties\": {\n        \"dtype\": \"object\",\n        \"semantic_type\": \"\",\n        \"description\": \"\"\n      }\n    },\n    {\n      \"column\": \"shape_label\",\n      \"properties\": {\n        \"dtype\": \"category\",\n        \"num_unique_values\": 5,\n        \"samples\": [\n          \"triangle\",\n          \"diamond\",\n          \"hex\"\n        ],\n        \"semantic_type\": \"\",\n        \"description\": \"\"\n      }\n    },\n    {\n      \"column\": \"encoded_shape_label\",\n      \"properties\": {\n        \"dtype\": \"number\",\n        \"std\": 1,\n        \"min\": 0,\n        \"max\": 4,\n        \"num_unique_values\": 5,\n        \"samples\": [\n          4,\n          0,\n          1\n        ],\n        \"semantic_type\": \"\",\n        \"description\": \"\"\n      }\n    }\n  ]\n}"
            }
          },
          "metadata": {},
          "execution_count": 12
        }
      ]
    },
    {
      "cell_type": "code",
      "source": [
        "from sklearn.preprocessing import LabelEncoder\n",
        "\n",
        "# Create LabelEncoder instance\n",
        "label_encoder = LabelEncoder()\n",
        "\n",
        "# Fit and transform the type labels\n",
        "type_labels_encoded = label_encoder.fit_transform(type_df['type_label'])\n",
        "\n",
        "# Add the encoded labels as a new column in type_df\n",
        "type_df['encoded_type_label'] = type_labels_encoded\n",
        "\n",
        "# Display the updated type_df\n",
        "type_df.head()"
      ],
      "metadata": {
        "colab": {
          "base_uri": "https://localhost:8080/",
          "height": 206
        },
        "id": "JyEt2EkjgMR1",
        "outputId": "0eaf847d-59ce-4d56-8413-e336a0298500"
      },
      "execution_count": 13,
      "outputs": [
        {
          "output_type": "execute_result",
          "data": {
            "text/plain": [
              "                                          image_path  \\\n",
              "0  /content/drive/My Drive/Assignment2/trafficsig...   \n",
              "1  /content/drive/My Drive/Assignment2/trafficsig...   \n",
              "2  /content/drive/My Drive/Assignment2/trafficsig...   \n",
              "3  /content/drive/My Drive/Assignment2/trafficsig...   \n",
              "4  /content/drive/My Drive/Assignment2/trafficsig...   \n",
              "\n",
              "                                               image type_label  \\\n",
              "0  [[60, 64, 47, 39, 46, 33, 30, 33, 19, 24, 15, ...   crossing   \n",
              "1  [[73, 63, 59, 55, 46, 51, 52, 52, 61, 56, 57, ...   crossing   \n",
              "2  [[255, 255, 255, 255, 255, 254, 254, 254, 255,...   crossing   \n",
              "3  [[37, 31, 30, 31, 30, 42, 37, 36, 35, 37, 35, ...   crossing   \n",
              "4  [[117, 88, 77, 96, 87, 72, 79, 91, 80, 78, 76,...   crossing   \n",
              "\n",
              "   encoded_type_label  \n",
              "0                   2  \n",
              "1                   2  \n",
              "2                   2  \n",
              "3                   2  \n",
              "4                   2  "
            ],
            "text/html": [
              "\n",
              "  <div id=\"df-ad6febe2-b5ba-4840-a57d-79e1479206dc\" class=\"colab-df-container\">\n",
              "    <div>\n",
              "<style scoped>\n",
              "    .dataframe tbody tr th:only-of-type {\n",
              "        vertical-align: middle;\n",
              "    }\n",
              "\n",
              "    .dataframe tbody tr th {\n",
              "        vertical-align: top;\n",
              "    }\n",
              "\n",
              "    .dataframe thead th {\n",
              "        text-align: right;\n",
              "    }\n",
              "</style>\n",
              "<table border=\"1\" class=\"dataframe\">\n",
              "  <thead>\n",
              "    <tr style=\"text-align: right;\">\n",
              "      <th></th>\n",
              "      <th>image_path</th>\n",
              "      <th>image</th>\n",
              "      <th>type_label</th>\n",
              "      <th>encoded_type_label</th>\n",
              "    </tr>\n",
              "  </thead>\n",
              "  <tbody>\n",
              "    <tr>\n",
              "      <th>0</th>\n",
              "      <td>/content/drive/My Drive/Assignment2/trafficsig...</td>\n",
              "      <td>[[60, 64, 47, 39, 46, 33, 30, 33, 19, 24, 15, ...</td>\n",
              "      <td>crossing</td>\n",
              "      <td>2</td>\n",
              "    </tr>\n",
              "    <tr>\n",
              "      <th>1</th>\n",
              "      <td>/content/drive/My Drive/Assignment2/trafficsig...</td>\n",
              "      <td>[[73, 63, 59, 55, 46, 51, 52, 52, 61, 56, 57, ...</td>\n",
              "      <td>crossing</td>\n",
              "      <td>2</td>\n",
              "    </tr>\n",
              "    <tr>\n",
              "      <th>2</th>\n",
              "      <td>/content/drive/My Drive/Assignment2/trafficsig...</td>\n",
              "      <td>[[255, 255, 255, 255, 255, 254, 254, 254, 255,...</td>\n",
              "      <td>crossing</td>\n",
              "      <td>2</td>\n",
              "    </tr>\n",
              "    <tr>\n",
              "      <th>3</th>\n",
              "      <td>/content/drive/My Drive/Assignment2/trafficsig...</td>\n",
              "      <td>[[37, 31, 30, 31, 30, 42, 37, 36, 35, 37, 35, ...</td>\n",
              "      <td>crossing</td>\n",
              "      <td>2</td>\n",
              "    </tr>\n",
              "    <tr>\n",
              "      <th>4</th>\n",
              "      <td>/content/drive/My Drive/Assignment2/trafficsig...</td>\n",
              "      <td>[[117, 88, 77, 96, 87, 72, 79, 91, 80, 78, 76,...</td>\n",
              "      <td>crossing</td>\n",
              "      <td>2</td>\n",
              "    </tr>\n",
              "  </tbody>\n",
              "</table>\n",
              "</div>\n",
              "    <div class=\"colab-df-buttons\">\n",
              "\n",
              "  <div class=\"colab-df-container\">\n",
              "    <button class=\"colab-df-convert\" onclick=\"convertToInteractive('df-ad6febe2-b5ba-4840-a57d-79e1479206dc')\"\n",
              "            title=\"Convert this dataframe to an interactive table.\"\n",
              "            style=\"display:none;\">\n",
              "\n",
              "  <svg xmlns=\"http://www.w3.org/2000/svg\" height=\"24px\" viewBox=\"0 -960 960 960\">\n",
              "    <path d=\"M120-120v-720h720v720H120Zm60-500h600v-160H180v160Zm220 220h160v-160H400v160Zm0 220h160v-160H400v160ZM180-400h160v-160H180v160Zm440 0h160v-160H620v160ZM180-180h160v-160H180v160Zm440 0h160v-160H620v160Z\"/>\n",
              "  </svg>\n",
              "    </button>\n",
              "\n",
              "  <style>\n",
              "    .colab-df-container {\n",
              "      display:flex;\n",
              "      gap: 12px;\n",
              "    }\n",
              "\n",
              "    .colab-df-convert {\n",
              "      background-color: #E8F0FE;\n",
              "      border: none;\n",
              "      border-radius: 50%;\n",
              "      cursor: pointer;\n",
              "      display: none;\n",
              "      fill: #1967D2;\n",
              "      height: 32px;\n",
              "      padding: 0 0 0 0;\n",
              "      width: 32px;\n",
              "    }\n",
              "\n",
              "    .colab-df-convert:hover {\n",
              "      background-color: #E2EBFA;\n",
              "      box-shadow: 0px 1px 2px rgba(60, 64, 67, 0.3), 0px 1px 3px 1px rgba(60, 64, 67, 0.15);\n",
              "      fill: #174EA6;\n",
              "    }\n",
              "\n",
              "    .colab-df-buttons div {\n",
              "      margin-bottom: 4px;\n",
              "    }\n",
              "\n",
              "    [theme=dark] .colab-df-convert {\n",
              "      background-color: #3B4455;\n",
              "      fill: #D2E3FC;\n",
              "    }\n",
              "\n",
              "    [theme=dark] .colab-df-convert:hover {\n",
              "      background-color: #434B5C;\n",
              "      box-shadow: 0px 1px 3px 1px rgba(0, 0, 0, 0.15);\n",
              "      filter: drop-shadow(0px 1px 2px rgba(0, 0, 0, 0.3));\n",
              "      fill: #FFFFFF;\n",
              "    }\n",
              "  </style>\n",
              "\n",
              "    <script>\n",
              "      const buttonEl =\n",
              "        document.querySelector('#df-ad6febe2-b5ba-4840-a57d-79e1479206dc button.colab-df-convert');\n",
              "      buttonEl.style.display =\n",
              "        google.colab.kernel.accessAllowed ? 'block' : 'none';\n",
              "\n",
              "      async function convertToInteractive(key) {\n",
              "        const element = document.querySelector('#df-ad6febe2-b5ba-4840-a57d-79e1479206dc');\n",
              "        const dataTable =\n",
              "          await google.colab.kernel.invokeFunction('convertToInteractive',\n",
              "                                                    [key], {});\n",
              "        if (!dataTable) return;\n",
              "\n",
              "        const docLinkHtml = 'Like what you see? Visit the ' +\n",
              "          '<a target=\"_blank\" href=https://colab.research.google.com/notebooks/data_table.ipynb>data table notebook</a>'\n",
              "          + ' to learn more about interactive tables.';\n",
              "        element.innerHTML = '';\n",
              "        dataTable['output_type'] = 'display_data';\n",
              "        await google.colab.output.renderOutput(dataTable, element);\n",
              "        const docLink = document.createElement('div');\n",
              "        docLink.innerHTML = docLinkHtml;\n",
              "        element.appendChild(docLink);\n",
              "      }\n",
              "    </script>\n",
              "  </div>\n",
              "\n",
              "\n",
              "<div id=\"df-12be3e5a-9773-425b-976f-ecb0122a8a13\">\n",
              "  <button class=\"colab-df-quickchart\" onclick=\"quickchart('df-12be3e5a-9773-425b-976f-ecb0122a8a13')\"\n",
              "            title=\"Suggest charts\"\n",
              "            style=\"display:none;\">\n",
              "\n",
              "<svg xmlns=\"http://www.w3.org/2000/svg\" height=\"24px\"viewBox=\"0 0 24 24\"\n",
              "     width=\"24px\">\n",
              "    <g>\n",
              "        <path d=\"M19 3H5c-1.1 0-2 .9-2 2v14c0 1.1.9 2 2 2h14c1.1 0 2-.9 2-2V5c0-1.1-.9-2-2-2zM9 17H7v-7h2v7zm4 0h-2V7h2v10zm4 0h-2v-4h2v4z\"/>\n",
              "    </g>\n",
              "</svg>\n",
              "  </button>\n",
              "\n",
              "<style>\n",
              "  .colab-df-quickchart {\n",
              "      --bg-color: #E8F0FE;\n",
              "      --fill-color: #1967D2;\n",
              "      --hover-bg-color: #E2EBFA;\n",
              "      --hover-fill-color: #174EA6;\n",
              "      --disabled-fill-color: #AAA;\n",
              "      --disabled-bg-color: #DDD;\n",
              "  }\n",
              "\n",
              "  [theme=dark] .colab-df-quickchart {\n",
              "      --bg-color: #3B4455;\n",
              "      --fill-color: #D2E3FC;\n",
              "      --hover-bg-color: #434B5C;\n",
              "      --hover-fill-color: #FFFFFF;\n",
              "      --disabled-bg-color: #3B4455;\n",
              "      --disabled-fill-color: #666;\n",
              "  }\n",
              "\n",
              "  .colab-df-quickchart {\n",
              "    background-color: var(--bg-color);\n",
              "    border: none;\n",
              "    border-radius: 50%;\n",
              "    cursor: pointer;\n",
              "    display: none;\n",
              "    fill: var(--fill-color);\n",
              "    height: 32px;\n",
              "    padding: 0;\n",
              "    width: 32px;\n",
              "  }\n",
              "\n",
              "  .colab-df-quickchart:hover {\n",
              "    background-color: var(--hover-bg-color);\n",
              "    box-shadow: 0 1px 2px rgba(60, 64, 67, 0.3), 0 1px 3px 1px rgba(60, 64, 67, 0.15);\n",
              "    fill: var(--button-hover-fill-color);\n",
              "  }\n",
              "\n",
              "  .colab-df-quickchart-complete:disabled,\n",
              "  .colab-df-quickchart-complete:disabled:hover {\n",
              "    background-color: var(--disabled-bg-color);\n",
              "    fill: var(--disabled-fill-color);\n",
              "    box-shadow: none;\n",
              "  }\n",
              "\n",
              "  .colab-df-spinner {\n",
              "    border: 2px solid var(--fill-color);\n",
              "    border-color: transparent;\n",
              "    border-bottom-color: var(--fill-color);\n",
              "    animation:\n",
              "      spin 1s steps(1) infinite;\n",
              "  }\n",
              "\n",
              "  @keyframes spin {\n",
              "    0% {\n",
              "      border-color: transparent;\n",
              "      border-bottom-color: var(--fill-color);\n",
              "      border-left-color: var(--fill-color);\n",
              "    }\n",
              "    20% {\n",
              "      border-color: transparent;\n",
              "      border-left-color: var(--fill-color);\n",
              "      border-top-color: var(--fill-color);\n",
              "    }\n",
              "    30% {\n",
              "      border-color: transparent;\n",
              "      border-left-color: var(--fill-color);\n",
              "      border-top-color: var(--fill-color);\n",
              "      border-right-color: var(--fill-color);\n",
              "    }\n",
              "    40% {\n",
              "      border-color: transparent;\n",
              "      border-right-color: var(--fill-color);\n",
              "      border-top-color: var(--fill-color);\n",
              "    }\n",
              "    60% {\n",
              "      border-color: transparent;\n",
              "      border-right-color: var(--fill-color);\n",
              "    }\n",
              "    80% {\n",
              "      border-color: transparent;\n",
              "      border-right-color: var(--fill-color);\n",
              "      border-bottom-color: var(--fill-color);\n",
              "    }\n",
              "    90% {\n",
              "      border-color: transparent;\n",
              "      border-bottom-color: var(--fill-color);\n",
              "    }\n",
              "  }\n",
              "</style>\n",
              "\n",
              "  <script>\n",
              "    async function quickchart(key) {\n",
              "      const quickchartButtonEl =\n",
              "        document.querySelector('#' + key + ' button');\n",
              "      quickchartButtonEl.disabled = true;  // To prevent multiple clicks.\n",
              "      quickchartButtonEl.classList.add('colab-df-spinner');\n",
              "      try {\n",
              "        const charts = await google.colab.kernel.invokeFunction(\n",
              "            'suggestCharts', [key], {});\n",
              "      } catch (error) {\n",
              "        console.error('Error during call to suggestCharts:', error);\n",
              "      }\n",
              "      quickchartButtonEl.classList.remove('colab-df-spinner');\n",
              "      quickchartButtonEl.classList.add('colab-df-quickchart-complete');\n",
              "    }\n",
              "    (() => {\n",
              "      let quickchartButtonEl =\n",
              "        document.querySelector('#df-12be3e5a-9773-425b-976f-ecb0122a8a13 button');\n",
              "      quickchartButtonEl.style.display =\n",
              "        google.colab.kernel.accessAllowed ? 'block' : 'none';\n",
              "    })();\n",
              "  </script>\n",
              "</div>\n",
              "\n",
              "    </div>\n",
              "  </div>\n"
            ],
            "application/vnd.google.colaboratory.intrinsic+json": {
              "type": "dataframe",
              "variable_name": "type_df",
              "summary": "{\n  \"name\": \"type_df\",\n  \"rows\": 3699,\n  \"fields\": [\n    {\n      \"column\": \"image_path\",\n      \"properties\": {\n        \"dtype\": \"string\",\n        \"num_unique_values\": 3699,\n        \"samples\": [\n          \"/content/drive/My Drive/Assignment2/trafficsigns_dataset/triangle/warning/00710_00002.png\",\n          \"/content/drive/My Drive/Assignment2/trafficsigns_dataset/round/noentry/01047_00002.png\",\n          \"/content/drive/My Drive/Assignment2/trafficsigns_dataset/square/parking/00035_00002.png\"\n        ],\n        \"semantic_type\": \"\",\n        \"description\": \"\"\n      }\n    },\n    {\n      \"column\": \"image\",\n      \"properties\": {\n        \"dtype\": \"object\",\n        \"semantic_type\": \"\",\n        \"description\": \"\"\n      }\n    },\n    {\n      \"column\": \"type_label\",\n      \"properties\": {\n        \"dtype\": \"category\",\n        \"num_unique_values\": 16,\n        \"samples\": [\n          \"crossing\",\n          \"laneend\",\n          \"warning\"\n        ],\n        \"semantic_type\": \"\",\n        \"description\": \"\"\n      }\n    },\n    {\n      \"column\": \"encoded_type_label\",\n      \"properties\": {\n        \"dtype\": \"number\",\n        \"std\": 4,\n        \"min\": 0,\n        \"max\": 15,\n        \"num_unique_values\": 16,\n        \"samples\": [\n          2,\n          4,\n          15\n        ],\n        \"semantic_type\": \"\",\n        \"description\": \"\"\n      }\n    }\n  ]\n}"
            }
          },
          "metadata": {},
          "execution_count": 13
        }
      ]
    },
    {
      "cell_type": "code",
      "source": [
        "print(\"Unique shapes:\", shape_df['shape_label'].unique())\n",
        "print(\"numbers of shape:\", len(shape_df['shape_label'].unique()))\n",
        "numbers_of_shape = len(shape_df['shape_label'].unique())"
      ],
      "metadata": {
        "colab": {
          "base_uri": "https://localhost:8080/"
        },
        "id": "RsZ4ndopiitU",
        "outputId": "74dfe1c2-bceb-4db1-87d8-eb3c20bca944"
      },
      "execution_count": 14,
      "outputs": [
        {
          "output_type": "stream",
          "name": "stdout",
          "text": [
            "Unique shapes: ['square' 'triangle' 'hex' 'round' 'diamond']\n",
            "numbers of shape: 5\n"
          ]
        }
      ]
    },
    {
      "cell_type": "code",
      "source": [
        "print(\"Unique shapes:\", type_df['type_label'].unique())\n",
        "print(\"numbers of shape:\", len(type_df['type_label'].unique()))"
      ],
      "metadata": {
        "colab": {
          "base_uri": "https://localhost:8080/"
        },
        "id": "kjNf4Vo0gMI9",
        "outputId": "0f724e50-5bad-43a1-e705-eb477528ac27"
      },
      "execution_count": 15,
      "outputs": [
        {
          "output_type": "stream",
          "name": "stdout",
          "text": [
            "Unique shapes: ['crossing' 'laneend' 'parking' 'continue' 'giveway' 'warning' 'stop'\n",
            " 'limitedtraffic' 'noparking' 'speed' 'noentry' 'trafficdirective'\n",
            " 'roundabout' 'bicycle' 'traveldirection' 'rightofway']\n",
            "numbers of shape: 16\n"
          ]
        }
      ]
    },
    {
      "cell_type": "markdown",
      "source": [
        "## **1.4 Data Distribution**\n"
      ],
      "metadata": {
        "id": "_ffFItsdnG5U"
      }
    },
    {
      "cell_type": "markdown",
      "source": [
        "### **1.4.1 Distribution of images per type class**"
      ],
      "metadata": {
        "id": "SjLaXdKwvb6F"
      }
    },
    {
      "cell_type": "code",
      "source": [
        "def visualize_data_distribution(data_df, title):\n",
        "    \"\"\"\n",
        "    Function to visualize the distribution of data.\n",
        "\n",
        "    Args:\n",
        "    - data_df (DataFrame): Pandas DataFrame containing the data.\n",
        "    - title (str): Title for the plot.\n",
        "    \"\"\"\n",
        "    plt.figure(figsize=(10, 6))\n",
        "    data_counts = data_df['type_label'].value_counts()\n",
        "    data_counts.plot(kind='bar', color='salmon')\n",
        "    plt.title(title)\n",
        "    plt.xlabel('Type Label')\n",
        "    plt.ylabel('Count')\n",
        "    plt.xticks(rotation=45)\n",
        "    plt.grid(axis='y', linestyle='--', alpha=0.7)\n",
        "    plt.tight_layout()\n",
        "    plt.show()\n",
        "\n",
        "# Visualize data distribution for type DataFrame\n",
        "visualize_data_distribution(type_df, 'Type Data Distribution')\n"
      ],
      "metadata": {
        "colab": {
          "base_uri": "https://localhost:8080/",
          "height": 607
        },
        "id": "5tbfy4Hth7Wk",
        "outputId": "2139f730-a09a-4f3c-be40-214046ba2492"
      },
      "execution_count": 16,
      "outputs": [
        {
          "output_type": "display_data",
          "data": {
            "text/plain": [
              "<Figure size 1000x600 with 1 Axes>"
            ],
            "image/png": "[encoded data removed]"
          },
          "metadata": {}
        }
      ]
    },
    {
      "cell_type": "markdown",
      "source": [
        "**Observations:**\n",
        "- The distribution of images per class is imbalanced, but not as severe as the class distribution for type.\n",
        "- This imbalance could potentially affect the performance of a machine-learning model trained on this data, but to a lesser extent than the type data."
      ],
      "metadata": {
        "id": "UrqqqtPyFNg6"
      }
    },
    {
      "cell_type": "markdown",
      "source": [
        "### **1.4.2 Distribution of images per shape class**"
      ],
      "metadata": {
        "id": "JeYFbB2-nurb"
      }
    },
    {
      "cell_type": "code",
      "source": [
        "import matplotlib.pyplot as plt\n",
        "\n",
        "def visualize_data_distribution(data_df, title):\n",
        "    \"\"\"\n",
        "    Function to visualize the distribution of data.\n",
        "\n",
        "    Args:\n",
        "    - data_df (DataFrame): Pandas DataFrame containing the data.\n",
        "    - title (str): Title for the plot.\n",
        "    \"\"\"\n",
        "    plt.figure(figsize=(10, 6))\n",
        "    data_counts = data_df['shape_label'].value_counts()\n",
        "    data_counts.plot(kind='bar', color='skyblue')\n",
        "    plt.title(title)\n",
        "    plt.xlabel('Shape Label')\n",
        "    plt.ylabel('Count')\n",
        "    plt.xticks(rotation=45)\n",
        "    plt.grid(axis='y', linestyle='--', alpha=0.7)\n",
        "    plt.tight_layout()\n",
        "    plt.show()\n",
        "\n",
        "# Visualize data distribution for shape DataFrame\n",
        "visualize_data_distribution(shape_df, 'Shape Data Distribution')\n"
      ],
      "metadata": {
        "colab": {
          "base_uri": "https://localhost:8080/",
          "height": 607
        },
        "id": "_W54-iSph2KC",
        "outputId": "0268d10e-a108-457e-a104-60d4faa2bdfe"
      },
      "execution_count": 17,
      "outputs": [
        {
          "output_type": "display_data",
          "data": {
            "text/plain": [
              "<Figure size 1000x600 with 1 Axes>"
            ],
            "image/png": "[encoded data removed]"
          },
          "metadata": {}
        }
      ]
    },
    {
      "cell_type": "markdown",
      "source": [
        "**Observations:**\n",
        "- The distribution of images per class is highly imbalanced.\n",
        "- This imbalance could potentially affect the performance of a machine-learning model trained on this data."
      ],
      "metadata": {
        "id": "iKtx0tbME11m"
      }
    },
    {
      "cell_type": "markdown",
      "source": [
        "==========================================================================================================\n",
        "\n"
      ],
      "metadata": {
        "id": "DnngQ2Hqhy_M"
      }
    },
    {
      "cell_type": "markdown",
      "source": [
        "# **2 Data Preparation**\n"
      ],
      "metadata": {
        "id": "gwICewEpm0iu"
      }
    },
    {
      "cell_type": "markdown",
      "source": [
        "## **2.1 Data spliting:  Train, Val and Test**"
      ],
      "metadata": {
        "id": "vzR6wOSmv6WT"
      }
    },
    {
      "cell_type": "code",
      "source": [
        "from sklearn.model_selection import train_test_split\n",
        "import numpy as np\n",
        "from tensorflow.keras.preprocessing.image import ImageDataGenerator\n",
        "\n",
        "# Rescaling and Formatting the Images\n",
        "datagen_shape = ImageDataGenerator(rescale=1./255, data_format='channels_last')\n",
        "\n",
        "# Initialize lists to store training, validation, and testing data for shape and type data\n",
        "X_shape_train = []\n",
        "X_shape_val = []\n",
        "X_shape_test = []\n",
        "y_shape_train = []\n",
        "y_shape_val = []\n",
        "y_shape_test = []\n",
        "\n",
        "X_type_train = []\n",
        "X_type_val = []\n",
        "X_type_test = []\n",
        "y_type_train = []\n",
        "y_type_val = []\n",
        "y_type_test = []\n",
        "\n",
        "# Split data into groups based on shape labels\n",
        "shape_groups = shape_df.groupby('shape_label')\n",
        "\n",
        "# Split data into groups based on type labels\n",
        "type_groups = type_df.groupby('type_label')\n",
        "\n",
        "# Split each shape group into training, validation, and testing sets\n",
        "for label, group in shape_groups:\n",
        "    print(f\"\\nShape group label: {label}, Shape: {group.shape[0]}\")\n",
        "    X_train, X_temp, y_train, y_temp = train_test_split(group['image_path'], group['encoded_shape_label'], test_size=0.2, stratify=group['shape_label'])\n",
        "    X_val, X_test, y_val, y_test = train_test_split(X_temp, y_temp, test_size=0.25, stratify=y_temp)\n",
        "    X_shape_train.extend(X_train)\n",
        "    X_shape_val.extend(X_val)\n",
        "    X_shape_test.extend(X_test)\n",
        "    y_shape_train.extend(y_train)\n",
        "    y_shape_val.extend(y_val)\n",
        "    y_shape_test.extend(y_test)\n",
        "    print(f\"Train sample size: {len(X_train)}, Validation sample size: {len(X_val)}, Test sample size: {len(X_test)}\")\n",
        "\n",
        "# Split each type group into training, validation, and testing sets\n",
        "for label, group in type_groups:\n",
        "    print(f\"\\nType group label: {label}, Shape: {group.shape[0]}\")\n",
        "    X_train, X_temp, y_train, y_temp = train_test_split(group['image_path'], group['encoded_type_label'], test_size=0.2, stratify=group['type_label'])\n",
        "    X_val, X_test, y_val, y_test = train_test_split(X_temp, y_temp, test_size=0.25, stratify=y_temp)\n",
        "    X_type_train.extend(X_train)\n",
        "    X_type_val.extend(X_val)\n",
        "    X_type_test.extend(X_test)\n",
        "    y_type_train.extend(y_train)\n",
        "    y_type_val.extend(y_val)\n",
        "    y_type_test.extend(y_test)\n",
        "    print(f\"Train sample size: {len(X_train)}, Validation sample size: {len(X_val)}, Test sample size: {len(X_test)}\")\n",
        "\n",
        "# Convert to numpy arrays for shape data\n",
        "X_shape_train = np.array(X_shape_train)\n",
        "X_shape_val = np.array(X_shape_val)\n",
        "X_shape_test = np.array(X_shape_test)\n",
        "y_shape_train = np.array(y_shape_train)\n",
        "y_shape_val = np.array(y_shape_val)\n",
        "y_shape_test = np.array(y_shape_test)\n",
        "\n",
        "# Convert to numpy arrays for type data\n",
        "X_type_train = np.array(X_type_train)\n",
        "X_type_val = np.array(X_type_val)\n",
        "X_type_test = np.array(X_type_test)\n",
        "y_type_train = np.array(y_type_train)\n",
        "y_type_val = np.array(y_type_val)\n",
        "y_type_test = np.array(y_type_test)\n",
        "\n",
        "# Print shapes of the data sets after splitting for shape data\n",
        "print(\"\\nShape of X_shape_train:\", X_shape_train.shape)\n",
        "print(\"Shape of X_shape_val:\", X_shape_val.shape)\n",
        "print(\"Shape of X_shape_test:\", X_shape_test.shape)\n",
        "print(\"Shape of y_shape_train:\", y_shape_train.shape)\n",
        "print(\"Shape of y_shape_val:\", y_shape_val.shape)\n",
        "print(\"Shape of y_shape_test:\", y_shape_test.shape)\n",
        "\n",
        "# Print shapes of the data sets after splitting for type data\n",
        "print(\"\\nShape of X_type_train:\", X_type_train.shape)\n",
        "print(\"Shape of X_type_val:\", X_type_val.shape)\n",
        "print(\"Shape of X_type_test:\", X_type_test.shape)\n",
        "print(\"Shape of y_type_train:\", y_type_train.shape)\n",
        "print(\"Shape of y_type_val:\", y_type_val.shape)\n",
        "print(\"Shape of y_type_test:\", y_type_test.shape)\n"
      ],
      "metadata": {
        "id": "WrTz8wGkT1Ct",
        "outputId": "51ea40ac-06e4-430e-9d6d-8108aaebe6e6",
        "colab": {
          "base_uri": "https://localhost:8080/"
        }
      },
      "execution_count": 18,
      "outputs": [
        {
          "output_type": "stream",
          "name": "stdout",
          "text": [
            "\n",
            "Shape group label: diamond, Shape: 282\n",
            "Train sample size: 225, Validation sample size: 42, Test sample size: 15\n",
            "\n",
            "Shape group label: hex, Shape: 43\n",
            "Train sample size: 34, Validation sample size: 6, Test sample size: 3\n",
            "\n",
            "Shape group label: round, Shape: 1760\n",
            "Train sample size: 1408, Validation sample size: 264, Test sample size: 88\n",
            "\n",
            "Shape group label: square, Shape: 688\n",
            "Train sample size: 550, Validation sample size: 103, Test sample size: 35\n",
            "\n",
            "Shape group label: triangle, Shape: 926\n",
            "Train sample size: 740, Validation sample size: 139, Test sample size: 47\n",
            "\n",
            "Type group label: bicycle, Shape: 285\n",
            "Train sample size: 228, Validation sample size: 42, Test sample size: 15\n",
            "\n",
            "Type group label: continue, Shape: 199\n",
            "Train sample size: 159, Validation sample size: 30, Test sample size: 10\n",
            "\n",
            "Type group label: crossing, Shape: 95\n",
            "Train sample size: 76, Validation sample size: 14, Test sample size: 5\n",
            "\n",
            "Type group label: giveway, Shape: 231\n",
            "Train sample size: 184, Validation sample size: 35, Test sample size: 12\n",
            "\n",
            "Type group label: laneend, Shape: 118\n",
            "Train sample size: 94, Validation sample size: 18, Test sample size: 6\n",
            "\n",
            "Type group label: limitedtraffic, Shape: 125\n",
            "Train sample size: 100, Validation sample size: 18, Test sample size: 7\n",
            "\n",
            "Type group label: noentry, Shape: 375\n",
            "Train sample size: 300, Validation sample size: 56, Test sample size: 19\n",
            "\n",
            "Type group label: noparking, Shape: 242\n",
            "Train sample size: 193, Validation sample size: 36, Test sample size: 13\n",
            "\n",
            "Type group label: parking, Shape: 276\n",
            "Train sample size: 220, Validation sample size: 42, Test sample size: 14\n",
            "\n",
            "Type group label: rightofway, Shape: 282\n",
            "Train sample size: 225, Validation sample size: 42, Test sample size: 15\n",
            "\n",
            "Type group label: roundabout, Shape: 98\n",
            "Train sample size: 78, Validation sample size: 15, Test sample size: 5\n",
            "\n",
            "Type group label: speed, Shape: 316\n",
            "Train sample size: 252, Validation sample size: 48, Test sample size: 16\n",
            "\n",
            "Type group label: stop, Shape: 43\n",
            "Train sample size: 34, Validation sample size: 6, Test sample size: 3\n",
            "\n",
            "Type group label: trafficdirective, Shape: 195\n",
            "Train sample size: 156, Validation sample size: 29, Test sample size: 10\n",
            "\n",
            "Type group label: traveldirection, Shape: 124\n",
            "Train sample size: 99, Validation sample size: 18, Test sample size: 7\n",
            "\n",
            "Type group label: warning, Shape: 695\n",
            "Train sample size: 556, Validation sample size: 104, Test sample size: 35\n",
            "\n",
            "Shape of X_shape_train: (2957,)\n",
            "Shape of X_shape_val: (554,)\n",
            "Shape of X_shape_test: (188,)\n",
            "Shape of y_shape_train: (2957,)\n",
            "Shape of y_shape_val: (554,)\n",
            "Shape of y_shape_test: (188,)\n",
            "\n",
            "Shape of X_type_train: (2954,)\n",
            "Shape of X_type_val: (553,)\n",
            "Shape of X_type_test: (192,)\n",
            "Shape of y_type_train: (2954,)\n",
            "Shape of y_type_val: (553,)\n",
            "Shape of y_type_test: (192,)\n"
          ]
        }
      ]
    },
    {
      "cell_type": "markdown",
      "source": [
        "## **2.2 Flatten the images**"
      ],
      "metadata": {
        "id": "m4k1Kp7SkLQ1"
      }
    },
    {
      "cell_type": "markdown",
      "source": [
        "================================================================================================="
      ],
      "metadata": {
        "id": "X1et-y7vtqjs"
      }
    },
    {
      "cell_type": "markdown",
      "source": [
        "# **3. Models development**"
      ],
      "metadata": {
        "id": "EGwk56-37oPX"
      }
    },
    {
      "cell_type": "code",
      "source": [
        "import matplotlib.pyplot as plt\n",
        "def plot_learning_curve(train_loss, val_loss, train_metric, val_metric, metric_name='Accuracy'):\n",
        "    plt.figure(figsize=(10,5))\n",
        "\n",
        "    plt.subplot(1,2,1)\n",
        "    plt.plot(train_loss, 'r--')\n",
        "    plt.plot(val_loss, 'b--')\n",
        "    plt.xlabel(\"epochs\")\n",
        "    plt.ylabel(\"Loss\")\n",
        "    plt.legend(['train', 'val'], loc='upper left')\n",
        "\n",
        "    plt.subplot(1,2,2)\n",
        "    plt.plot(train_metric, 'r--')\n",
        "    plt.plot(val_metric, 'b--')\n",
        "    plt.xlabel(\"epochs\")\n",
        "    plt.ylabel(metric_name)\n",
        "    plt.legend(['train', 'val'], loc='upper left')\n",
        "\n",
        "    plt.show()"
      ],
      "metadata": {
        "id": "zsoZZ_2sFrsG"
      },
      "execution_count": 19,
      "outputs": []
    },
    {
      "cell_type": "code",
      "source": [
        "# install tensorflow library\n",
        "import tensorflow as tf\n",
        "\n",
        "# optimise data pipeline performance automatically\n",
        "AUTOTUNE = tf.data.experimental.AUTOTUNE\n",
        "\n",
        "# print the version of TensorFlow\n",
        "tf.__version__"
      ],
      "metadata": {
        "colab": {
          "base_uri": "https://localhost:8080/",
          "height": 35
        },
        "id": "8cKRLPUdHKXF",
        "outputId": "0563501d-59a4-4038-dc2c-b0646696ca31"
      },
      "execution_count": 20,
      "outputs": [
        {
          "output_type": "execute_result",
          "data": {
            "text/plain": [
              "'2.15.0'"
            ],
            "application/vnd.google.colaboratory.intrinsic+json": {
              "type": "string"
            }
          },
          "metadata": {},
          "execution_count": 20
        }
      ]
    },
    {
      "cell_type": "markdown",
      "source": [
        "## **3.1 Baseline Model**"
      ],
      "metadata": {
        "id": "vr5A8pOb71A7"
      }
    },
    {
      "cell_type": "markdown",
      "source": [
        "### **3.1.1.1 Image generator for shape**"
      ],
      "metadata": {
        "id": "QMx0WxvYD_96"
      }
    },
    {
      "cell_type": "code",
      "source": [
        "df_X_shape_train = pd.DataFrame({'image_path': X_shape_train,'encoded_shape_label': y_shape_train})\n",
        "df_X_shape_val = pd.DataFrame({'image_path': X_shape_val,'encoded_shape_label': y_shape_val})\n",
        "\n",
        "\n",
        "df_X_shape_train['encoded_shape_label'] = df_X_shape_train['encoded_shape_label'].astype(str)\n",
        "df_X_shape_val['encoded_shape_label'] = df_X_shape_val['encoded_shape_label'].astype(str)\n",
        "\n",
        "\n",
        "df_X_shape_test = pd.DataFrame({'image_path': X_shape_test,'encoded_shape_label': y_shape_test})\n",
        "df_X_shape_test['encoded_shape_label'] = df_X_shape_test['encoded_shape_label'].astype(str)"
      ],
      "metadata": {
        "id": "wUg4VffZnX6-"
      },
      "execution_count": 21,
      "outputs": []
    },
    {
      "cell_type": "code",
      "source": [
        "\n",
        "# Defining image data generators\n",
        "datagen_shape = ImageDataGenerator(rescale=1./255, data_format='channels_last')\n",
        "\n",
        "# Create training data generator\n",
        "train_generator_shape = datagen_shape.flow_from_dataframe(\n",
        "    dataframe=df_X_shape_train,\n",
        "    directory='./',\n",
        "    x_col=\"image_path\",\n",
        "    y_col=\"encoded_shape_label\",\n",
        "    target_size=(28, 28),\n",
        "    color_mode='grayscale',\n",
        "    batch_size=32,\n",
        "    class_mode='categorical')\n",
        "\n",
        "\n",
        "\n",
        "# Create validation data generator\n",
        "validation_generator_shape = datagen_shape.flow_from_dataframe(\n",
        "    dataframe=df_X_shape_val,\n",
        "    directory='./',\n",
        "    x_col=\"image_path\",\n",
        "    y_col=\"encoded_shape_label\",\n",
        "    target_size=(28, 28),\n",
        "    color_mode='grayscale',\n",
        "    batch_size=32,\n",
        "    class_mode='categorical')\n",
        "\n",
        "\n"
      ],
      "metadata": {
        "colab": {
          "base_uri": "https://localhost:8080/"
        },
        "id": "rSqGCG5pnX3t",
        "outputId": "5867f4aa-ce22-4a8b-cc5a-35c54437ad5e"
      },
      "execution_count": 22,
      "outputs": [
        {
          "output_type": "stream",
          "name": "stdout",
          "text": [
            "Found 2957 validated image filenames belonging to 5 classes.\n",
            "Found 554 validated image filenames belonging to 5 classes.\n"
          ]
        }
      ]
    },
    {
      "cell_type": "code",
      "source": [
        "from sklearn.metrics import classification_report, f1_score,confusion_matrix\n",
        "\n",
        "\n",
        "def model_result(X_train, X_val, model):\n",
        "  y_hat_all = list()\n",
        "  y_all = list()\n",
        "  y_pred_all = []\n",
        "  y_true_all = []\n",
        "  filenames = validation_generator_shape.filenames\n",
        "  N_images = len(filenames)\n",
        "  batches = 0\n",
        "\n",
        "  # iterate through the data generator and predict for each batch\n",
        "  # hold the predictions and labels\n",
        "  for x,y in X_val:\n",
        "          y_hat = model.predict(x, verbose=0)\n",
        "          y_hat = np.argmax(y_hat, axis = 1)\n",
        "          y = np.argmax(y, axis = 1)\n",
        "          y_hat_all = y_hat_all + y_hat.tolist()\n",
        "          y_all = y_all + y.tolist()\n",
        "\n",
        "          batches += 1\n",
        "          if batches >= N_images / batch_size:\n",
        "              # we need to break the loop by hand because\n",
        "              # the generator loops indefinitely\n",
        "              break\n",
        "\n",
        "  for a,b in X_train:\n",
        "          y_pred = model.predict(a, verbose=0)\n",
        "          y_pred = np.argmax(y_pred, axis = 1)\n",
        "          y_true = np.argmax(b, axis = 1)\n",
        "          y_pred_all = y_pred_all + y_pred.tolist()\n",
        "          y_true_all = y_true_all + y_true.tolist()\n",
        "\n",
        "          batches += 1\n",
        "          if batches >= N_images / batch_size:\n",
        "              # we need to break the loop by hand because\n",
        "              # the generator loops indefinitely\n",
        "              break\n",
        "\n",
        "\n",
        "  print(\"Training F1- score: \", f1_score(y_true_all, y_pred_all,average='macro'))\n",
        "  print(\"F1 score: \", f1_score(y_all, y_hat_all, average='macro'))"
      ],
      "metadata": {
        "id": "cUDrKbniifOY"
      },
      "execution_count": 23,
      "outputs": []
    },
    {
      "cell_type": "markdown",
      "source": [
        "### **3.1.1.2 Building baseline model using A Multi-Layer Perceptron (MLP) for image shape**"
      ],
      "metadata": {
        "id": "zeRghX2NrbmI"
      }
    },
    {
      "cell_type": "code",
      "source": [
        "INPUT_DIM = (28, 28, 1)\n",
        "HIDDEN_LAYER_DIM = 256\n",
        "SECOND_HIDDEN_LAYER_DIM = 128  # Size of the second hidden layer\n",
        "OUTPUT_CLASSES_SHAPE = 5"
      ],
      "metadata": {
        "id": "lw_vKStuVKMl"
      },
      "execution_count": 24,
      "outputs": []
    },
    {
      "cell_type": "code",
      "source": [
        "test_datagen = ImageDataGenerator(rescale=1./255, data_format='channels_last')\n",
        "\n",
        "batch_size = 1\n",
        "\n",
        "test_generator_shape = test_datagen.flow_from_dataframe(\n",
        "    dataframe=df_X_shape_test,\n",
        "    directory='./',\n",
        "    x_col=\"image_path\",\n",
        "    y_col=\"encoded_shape_label\",\n",
        "    target_size=(28, 28),\n",
        "    color_mode='grayscale',\n",
        "    batch_size=32,\n",
        "    class_mode='categorical')"
      ],
      "metadata": {
        "colab": {
          "base_uri": "https://localhost:8080/"
        },
        "id": "PUtR1PminX1z",
        "outputId": "cb6aba1b-60dd-424d-a664-f028860c944d"
      },
      "execution_count": 25,
      "outputs": [
        {
          "output_type": "stream",
          "name": "stdout",
          "text": [
            "Found 188 validated image filenames belonging to 5 classes.\n"
          ]
        }
      ]
    },
    {
      "cell_type": "code",
      "source": [
        "# Build the baseline model with an additional hidden layer\n",
        "model_mlp_shape = tf.keras.Sequential([\n",
        "    tf.keras.layers.Flatten(input_shape=INPUT_DIM),\n",
        "    tf.keras.layers.Dense(HIDDEN_LAYER_DIM, activation='sigmoid'),\n",
        "    tf.keras.layers.Dense(SECOND_HIDDEN_LAYER_DIM, activation='sigmoid'),  # Additional hidden layer\n",
        "    tf.keras.layers.Dense(OUTPUT_CLASSES_SHAPE)\n",
        "])"
      ],
      "metadata": {
        "id": "t6sCmqIXnXyZ"
      },
      "execution_count": 26,
      "outputs": []
    },
    {
      "cell_type": "code",
      "source": [
        "model_mlp_shape.summary()"
      ],
      "metadata": {
        "colab": {
          "base_uri": "https://localhost:8080/"
        },
        "id": "qKXMnwlMnXwe",
        "outputId": "33dca2d9-5b42-4fca-b679-45b1903b1847"
      },
      "execution_count": 27,
      "outputs": [
        {
          "output_type": "stream",
          "name": "stdout",
          "text": [
            "Model: \"sequential\"\n",
            "_________________________________________________________________\n",
            " Layer (type)                Output Shape              Param #   \n",
            "=================================================================\n",
            " flatten (Flatten)           (None, 784)               0         \n",
            "                                                                 \n",
            " dense (Dense)               (None, 256)               200960    \n",
            "                                                                 \n",
            " dense_1 (Dense)             (None, 128)               32896     \n",
            "                                                                 \n",
            " dense_2 (Dense)             (None, 5)                 645       \n",
            "                                                                 \n",
            "=================================================================\n",
            "Total params: 234501 (916.02 KB)\n",
            "Trainable params: 234501 (916.02 KB)\n",
            "Non-trainable params: 0 (0.00 Byte)\n",
            "_________________________________________________________________\n"
          ]
        }
      ]
    },
    {
      "cell_type": "code",
      "source": [
        "model_mlp_shape.compile(\n",
        "    optimizer='SGD',\n",
        "    loss=tf.keras.losses.CategoricalCrossentropy(from_logits=True),\n",
        "    metrics=['categorical_accuracy']\n",
        ")"
      ],
      "metadata": {
        "id": "3zGPn_c6bIQx"
      },
      "execution_count": 28,
      "outputs": []
    },
    {
      "cell_type": "code",
      "source": [
        "history_mlp_shape = model_mlp_shape.fit(train_generator_shape, validation_data=validation_generator_shape, epochs=10, verbose=0)\n"
      ],
      "metadata": {
        "id": "d27XCsTua1qT"
      },
      "execution_count": 29,
      "outputs": []
    },
    {
      "cell_type": "code",
      "source": [
        "plot_learning_curve(history_mlp_shape.history['loss'], history_mlp_shape.history['val_loss'],\n",
        "                    history_mlp_shape.history['categorical_accuracy'], history_mlp_shape.history['val_categorical_accuracy'],\n",
        "                    metric_name='Accuracy')"
      ],
      "metadata": {
        "colab": {
          "base_uri": "https://localhost:8080/",
          "height": 465
        },
        "id": "_IazEg8RnXrD",
        "outputId": "b627ff9c-d1ab-4855-d1aa-e94c5f9e9b59"
      },
      "execution_count": 30,
      "outputs": [
        {
          "output_type": "display_data",
          "data": {
            "text/plain": [
              "<Figure size 1000x500 with 2 Axes>"
            ],
            "image/png": "[encoded data removed]"
          },
          "metadata": {}
        }
      ]
    },
    {
      "cell_type": "markdown",
      "source": [
        "### **3.1.1.3 Evaluate the model**"
      ],
      "metadata": {
        "id": "UA9B43T_EfAJ"
      }
    },
    {
      "cell_type": "code",
      "source": [
        " # Evaluate the model on the training data\n",
        "train_loss_mlp_shape, train_accuracy_mlp_shape = model_mlp_shape.evaluate(train_generator_shape)\n",
        "print(\"Training Data for Shapes - Loss: {:.4f}, Accuracy: {:.4f}\".format(train_loss_mlp_shape, train_accuracy_mlp_shape))\n",
        "\n",
        "# Evaluate the model on the validation data\n",
        "val_loss_mlp_shape, val_accuracy_mlp_shape = model_mlp_shape.evaluate(validation_generator_shape)\n",
        "print(\"Validation Data for Shapes - Loss: {:.4f}, Accuracy: {:.4f}\".format(val_loss_mlp_shape, val_accuracy_mlp_shape))\n",
        "\n",
        "# Evaluate the model on the testing data\n",
        "test_loss_mlp_shape, test_accuracy_mlp_shape = model_mlp_shape.evaluate(test_generator_shape)\n",
        "print(\"Testing Data for Shapes - Loss: {:.4f}, Accuracy: {:.4f}\".format(test_loss_mlp_shape, test_accuracy_mlp_shape))\n"
      ],
      "metadata": {
        "colab": {
          "base_uri": "https://localhost:8080/"
        },
        "id": "o36Q-5v4nXpJ",
        "outputId": "03be9fd1-2848-4b6f-c691-e377a5cf78a0"
      },
      "execution_count": 31,
      "outputs": [
        {
          "output_type": "stream",
          "name": "stdout",
          "text": [
            "93/93 [==============================] - 10s 110ms/step - loss: 1.2040 - categorical_accuracy: 0.4762\n",
            "Training Data for Shapes - Loss: 1.2040, Accuracy: 0.4762\n",
            "18/18 [==============================] - 2s 100ms/step - loss: 1.2018 - categorical_accuracy: 0.4765\n",
            "Validation Data for Shapes - Loss: 1.2018, Accuracy: 0.4765\n",
            "6/6 [==============================] - 1s 116ms/step - loss: 1.2272 - categorical_accuracy: 0.4681\n",
            "Testing Data for Shapes - Loss: 1.2272, Accuracy: 0.4681\n"
          ]
        }
      ]
    },
    {
      "cell_type": "markdown",
      "source": [
        "### **3.1.2.1 Image generator for Type**"
      ],
      "metadata": {
        "id": "b3jMiJyvE0Vp"
      }
    },
    {
      "cell_type": "code",
      "source": [
        "df_X_type_train = pd.DataFrame({'image_path': X_type_train,'encoded_type_label': y_type_train})\n",
        "df_X_type_val = pd.DataFrame({'image_path': X_type_val,'encoded_type_label': y_type_val})\n",
        "\n",
        "\n",
        "df_X_type_train['encoded_type_label'] = df_X_type_train['encoded_type_label'].astype(str)\n",
        "df_X_type_val['encoded_type_label'] = df_X_type_val['encoded_type_label'].astype(str)\n",
        "\n",
        "\n",
        "df_X_type_test = pd.DataFrame({'image_path': X_type_test,'encoded_type_label': y_type_test})\n",
        "df_X_type_test['encoded_type_label'] = df_X_type_test['encoded_type_label'].astype(str)"
      ],
      "metadata": {
        "id": "9kXlvpyDoWXG"
      },
      "execution_count": 32,
      "outputs": []
    },
    {
      "cell_type": "code",
      "source": [
        "# Defining image data generators\n",
        "datagen_type = ImageDataGenerator(rescale=1./255, data_format='channels_last')\n",
        "\n",
        "# Create training data generator\n",
        "train_generator_type = datagen_type.flow_from_dataframe(\n",
        "    dataframe=df_X_type_train,\n",
        "    directory='./',\n",
        "    x_col=\"image_path\",\n",
        "    y_col=\"encoded_type_label\",\n",
        "    target_size=(28, 28),\n",
        "    color_mode='grayscale',\n",
        "    batch_size=32,\n",
        "    class_mode='categorical')\n",
        "\n",
        "\n",
        "\n",
        "# Create validation data generator\n",
        "validation_generator_type = datagen_type.flow_from_dataframe(\n",
        "    dataframe=df_X_type_val,\n",
        "    directory='./',\n",
        "    x_col=\"image_path\",\n",
        "    y_col=\"encoded_type_label\",\n",
        "    target_size=(28, 28),\n",
        "    color_mode='grayscale',\n",
        "    batch_size=32,\n",
        "    class_mode='categorical')"
      ],
      "metadata": {
        "colab": {
          "base_uri": "https://localhost:8080/"
        },
        "id": "HROIwXU2oWUV",
        "outputId": "0555c02b-05e3-4e87-b803-84140bc60276"
      },
      "execution_count": 33,
      "outputs": [
        {
          "output_type": "stream",
          "name": "stdout",
          "text": [
            "Found 2954 validated image filenames belonging to 16 classes.\n",
            "Found 553 validated image filenames belonging to 16 classes.\n"
          ]
        }
      ]
    },
    {
      "cell_type": "markdown",
      "source": [
        "### **3.1.2 Building baseline model using A Multi-Layer Perceptron (MLP) for image type**"
      ],
      "metadata": {
        "id": "RMESxdrDq7Rt"
      }
    },
    {
      "cell_type": "code",
      "source": [
        "import tensorflow as tf\n",
        "\n",
        "INPUT_DIM = (28, 28, 1)\n",
        "HIDDEN_LAYER_DIM = 256\n",
        "SECOND_HIDDEN_LAYER_DIM = 128  # Size of the second hidden layer\n",
        "OUTPUT_CLASSES_TYPE = 16"
      ],
      "metadata": {
        "id": "AJfVbdPSoWbM"
      },
      "execution_count": 34,
      "outputs": []
    },
    {
      "cell_type": "code",
      "source": [
        "test_datagen = ImageDataGenerator(rescale=1./255, data_format='channels_last')\n",
        "\n",
        "batch_size = 1\n",
        "\n",
        "test_generator_type = test_datagen.flow_from_dataframe(\n",
        "    dataframe=df_X_type_test,\n",
        "    directory='./',\n",
        "    x_col=\"image_path\",\n",
        "    y_col=\"encoded_type_label\",\n",
        "    target_size=(28, 28),\n",
        "    color_mode='grayscale',\n",
        "    batch_size=32,\n",
        "    class_mode='categorical')"
      ],
      "metadata": {
        "colab": {
          "base_uri": "https://localhost:8080/"
        },
        "id": "Spqo5V88sfO0",
        "outputId": "86a85f45-5600-4ff9-bb0d-5a82146961ce"
      },
      "execution_count": 35,
      "outputs": [
        {
          "output_type": "stream",
          "name": "stdout",
          "text": [
            "Found 192 validated image filenames belonging to 16 classes.\n"
          ]
        }
      ]
    },
    {
      "cell_type": "code",
      "source": [
        "# build the baseline model\n",
        "model_mlp_type = tf.keras.Sequential([\n",
        "    tf.keras.layers.Flatten(input_shape=INPUT_DIM),\n",
        "    tf.keras.layers.Dense(HIDDEN_LAYER_DIM, activation='sigmoid'),\n",
        "    tf.keras.layers.Dense(SECOND_HIDDEN_LAYER_DIM, activation='sigmoid'),\n",
        "    tf.keras.layers.Dense(OUTPUT_CLASSES_TYPE)\n",
        "])"
      ],
      "metadata": {
        "id": "-818lajgsfLE"
      },
      "execution_count": 36,
      "outputs": []
    },
    {
      "cell_type": "code",
      "source": [
        "model_mlp_type.summary()"
      ],
      "metadata": {
        "colab": {
          "base_uri": "https://localhost:8080/"
        },
        "id": "B_1BkyWAsfHj",
        "outputId": "890194dc-0366-42d0-9b1c-16fdb71dbdd7"
      },
      "execution_count": 37,
      "outputs": [
        {
          "output_type": "stream",
          "name": "stdout",
          "text": [
            "Model: \"sequential_1\"\n",
            "_________________________________________________________________\n",
            " Layer (type)                Output Shape              Param #   \n",
            "=================================================================\n",
            " flatten_1 (Flatten)         (None, 784)               0         \n",
            "                                                                 \n",
            " dense_3 (Dense)             (None, 256)               200960    \n",
            "                                                                 \n",
            " dense_4 (Dense)             (None, 128)               32896     \n",
            "                                                                 \n",
            " dense_5 (Dense)             (None, 16)                2064      \n",
            "                                                                 \n",
            "=================================================================\n",
            "Total params: 235920 (921.56 KB)\n",
            "Trainable params: 235920 (921.56 KB)\n",
            "Non-trainable params: 0 (0.00 Byte)\n",
            "_________________________________________________________________\n"
          ]
        }
      ]
    },
    {
      "cell_type": "code",
      "source": [
        "model_mlp_type.compile(optimizer='SGD',\n",
        "              loss=tf.keras.losses.CategoricalCrossentropy(from_logits=True),\n",
        "              metrics=['categorical_accuracy'])"
      ],
      "metadata": {
        "id": "RZCowXSxsfFT"
      },
      "execution_count": 38,
      "outputs": []
    },
    {
      "cell_type": "code",
      "source": [
        "history_mlp_type = model_mlp_type.fit(train_generator_type, validation_data=validation_generator_type, epochs=10, verbose=1)\n"
      ],
      "metadata": {
        "id": "ckw6IeErsfBh",
        "outputId": "ea729341-5540-4345-822b-2f7dc0c67c16",
        "colab": {
          "base_uri": "https://localhost:8080/"
        }
      },
      "execution_count": 39,
      "outputs": [
        {
          "output_type": "stream",
          "name": "stdout",
          "text": [
            "Epoch 1/10\n",
            "93/93 [==============================] - 14s 142ms/step - loss: 2.6436 - categorical_accuracy: 0.1730 - val_loss: 2.5835 - val_categorical_accuracy: 0.1881\n",
            "Epoch 2/10\n",
            "93/93 [==============================] - 13s 136ms/step - loss: 2.5831 - categorical_accuracy: 0.1882 - val_loss: 2.5735 - val_categorical_accuracy: 0.1881\n",
            "Epoch 3/10\n",
            "93/93 [==============================] - 12s 130ms/step - loss: 2.5751 - categorical_accuracy: 0.1882 - val_loss: 2.5666 - val_categorical_accuracy: 0.1881\n",
            "Epoch 4/10\n",
            "93/93 [==============================] - 13s 140ms/step - loss: 2.5693 - categorical_accuracy: 0.1882 - val_loss: 2.5595 - val_categorical_accuracy: 0.1881\n",
            "Epoch 5/10\n",
            "93/93 [==============================] - 13s 138ms/step - loss: 2.5622 - categorical_accuracy: 0.1882 - val_loss: 2.5529 - val_categorical_accuracy: 0.1881\n",
            "Epoch 6/10\n",
            "93/93 [==============================] - 13s 138ms/step - loss: 2.5553 - categorical_accuracy: 0.1882 - val_loss: 2.5461 - val_categorical_accuracy: 0.1881\n",
            "Epoch 7/10\n",
            "93/93 [==============================] - 13s 140ms/step - loss: 2.5488 - categorical_accuracy: 0.1882 - val_loss: 2.5386 - val_categorical_accuracy: 0.1881\n",
            "Epoch 8/10\n",
            "93/93 [==============================] - 13s 136ms/step - loss: 2.5412 - categorical_accuracy: 0.1882 - val_loss: 2.5318 - val_categorical_accuracy: 0.1881\n",
            "Epoch 9/10\n",
            "93/93 [==============================] - 13s 139ms/step - loss: 2.5341 - categorical_accuracy: 0.1882 - val_loss: 2.5245 - val_categorical_accuracy: 0.1881\n",
            "Epoch 10/10\n",
            "93/93 [==============================] - 13s 140ms/step - loss: 2.5256 - categorical_accuracy: 0.1882 - val_loss: 2.5165 - val_categorical_accuracy: 0.1881\n"
          ]
        }
      ]
    },
    {
      "cell_type": "code",
      "source": [
        "plot_learning_curve(history_mlp_type.history['loss'], history_mlp_type.history['val_loss'],\n",
        "                    history_mlp_type.history['categorical_accuracy'], history_mlp_type.history['val_categorical_accuracy'],\n",
        "                    metric_name='Accuracy')"
      ],
      "metadata": {
        "colab": {
          "base_uri": "https://localhost:8080/",
          "height": 465
        },
        "id": "J0WgrhN-se_W",
        "outputId": "689540d5-16c2-4168-a2c7-82ff75abb879"
      },
      "execution_count": 40,
      "outputs": [
        {
          "output_type": "display_data",
          "data": {
            "text/plain": [
              "<Figure size 1000x500 with 2 Axes>"
            ],
            "image/png": "[encoded data removed]"
          },
          "metadata": {}
        }
      ]
    },
    {
      "cell_type": "markdown",
      "source": [
        "### **3.1.1.3 Evaluate the model**"
      ],
      "metadata": {
        "id": "utS2yXFiFReL"
      }
    },
    {
      "cell_type": "code",
      "source": [
        "# Evaluate the model on the training data\n",
        "train_loss_mlp_type, train_accuracy_mlp_type = model_mlp_type.evaluate(train_generator_type)\n",
        "print(\"Training Data for Types - Loss: {:.4f}, Accuracy: {:.4f}\".format(train_loss_mlp_type, train_accuracy_mlp_type))\n",
        "\n",
        "# Evaluate the model on the validation data\n",
        "val_loss_mlp_type, val_accuracy_mlp_type = model_mlp_type.evaluate(validation_generator_type)\n",
        "print(\"Validation Data for Types - Loss: {:.4f}, Accuracy: {:.4f}\".format(val_loss_mlp_type, val_accuracy_mlp_type))\n",
        "\n",
        "# Evaluate the model on the testing data\n",
        "test_loss_mlp_type, test_accuracy_mlp_type = model_mlp_type.evaluate(test_generator_type)\n",
        "print(\"Testing Data for Types - Loss: {:.4f}, Accuracy: {:.4f}\".format(test_loss_mlp_type, test_accuracy_mlp_type))\n"
      ],
      "metadata": {
        "colab": {
          "base_uri": "https://localhost:8080/"
        },
        "id": "rvJDCA4wse9P",
        "outputId": "717467da-bf82-455c-f832-e3a7138e245c"
      },
      "execution_count": 41,
      "outputs": [
        {
          "output_type": "stream",
          "name": "stdout",
          "text": [
            "93/93 [==============================] - 10s 110ms/step - loss: 2.5184 - categorical_accuracy: 0.1882\n",
            "Training Data for Types - Loss: 2.5184, Accuracy: 0.1882\n",
            "18/18 [==============================] - 2s 101ms/step - loss: 2.5165 - categorical_accuracy: 0.1881\n",
            "Validation Data for Types - Loss: 2.5165, Accuracy: 0.1881\n",
            "6/6 [==============================] - 1s 105ms/step - loss: 2.5371 - categorical_accuracy: 0.1823\n",
            "Testing Data for Types - Loss: 2.5371, Accuracy: 0.1823\n"
          ]
        }
      ]
    },
    {
      "cell_type": "markdown",
      "source": [
        "\n",
        "**Observations:**\n",
        "\n",
        "1. **Baseline Model for Shape Classification:**\n",
        "    - The baseline MLP model for shape classification achieved a training accuracy of {train_accuracy_mlp_shape:.4f} and a validation accuracy of {val_accuracy_mlp_shape:.4f}.\n",
        "    - The testing accuracy on unseen data was {test_accuracy_mlp_shape:.4f}.\n",
        "\n",
        "2. **Baseline Model for Type Classification:**\n",
        "    - The baseline MLP model for type classification achieved a training accuracy of {train_accuracy_mlp_type:.4f} and a validation accuracy of {val_accuracy_mlp_type:.4f}.\n",
        "    - The testing accuracy on unseen data was {test_accuracy_mlp_type:.4f}.\n",
        "\n",
        "3. **Overall:**\n",
        "    - Both baseline models exhibited moderate performance on the imbalanced datasets.\n",
        "    - The relatively low accuracy scores indicate the need for further model optimization and potential exploration of alternative approaches.\n",
        "    - The performance difference between training and testing accuracy suggests the potential for overfitting, which should be addressed in future model iterations.\n",
        "\n",
        "    "
      ],
      "metadata": {
        "id": "z3oWc6E0-UmU"
      }
    },
    {
      "cell_type": "markdown",
      "source": [
        "====================================================================================================="
      ],
      "metadata": {
        "id": "ah3poNsj-kqQ"
      }
    },
    {
      "cell_type": "markdown",
      "source": [
        "## **CNN Model**"
      ],
      "metadata": {
        "id": "uIcJJwOUupU_"
      }
    },
    {
      "cell_type": "markdown",
      "source": [
        "### **Shape**"
      ],
      "metadata": {
        "id": "kMvVvpIcupNO"
      }
    },
    {
      "cell_type": "markdown",
      "source": [
        "## **Baselins CNN**"
      ],
      "metadata": {
        "id": "6G7oSHzjupH6"
      }
    },
    {
      "cell_type": "code",
      "source": [
        "from keras.callbacks import EarlyStopping\n",
        "early_stopping = EarlyStopping(monitor='val_loss', patience=3, restore_best_weights=True)"
      ],
      "metadata": {
        "id": "HYzhayox2W_M"
      },
      "execution_count": 188,
      "outputs": []
    },
    {
      "cell_type": "code",
      "source": [
        "# define initial parameters\n",
        "# image size is 28x28\n",
        "INPUT_DIM = (28,28,1)\n",
        "# the model consiste of 256 neurons\n",
        "HIDDEN_LAYER_DIM = 256\n",
        "# the target variable cellType has 2 classes\n",
        "OUTPUT_CLASSES_SHAPE = 5\n",
        "OUTPUT_CLASSES_TYPE = 10"
      ],
      "metadata": {
        "id": "By2xlDDEuRfw"
      },
      "execution_count": 193,
      "outputs": []
    },
    {
      "cell_type": "code",
      "source": [
        "# Initialize lists to store problematic image paths\n",
        "problematic_paths = []\n",
        "# Concatenate shape training, validation, and testing data\n",
        "\n",
        "X_train_shape_cnn = []\n",
        "for path in train_generator_shape:\n",
        "    image = cv2.imread(str(path), cv2.IMREAD_GRAYSCALE)\n",
        "    if image is None:\n",
        "        problematic_paths.append(path)\n",
        "    else:\n",
        "        X_train_shape_cnn.append(image.reshape(28, 28, 1))\n",
        "\n",
        "X_train_shape_cnn = np.array(X_train_shape_cnn)\n",
        "\n",
        "X_val_shape_cnn = []\n",
        "for path in validation_generator_shape:\n",
        "    image = cv2.imread(str(path), cv2.IMREAD_GRAYSCALE)\n",
        "    if image is None:\n",
        "        problematic_paths.append(path)\n",
        "    else:\n",
        "        X_val_shape_cnn.append(image.reshape(28, 28, 1))\n",
        "\n",
        "X_val_shape_cnn = np.array(X_val_shape_cnn)\n",
        "\n",
        "X_test_shape_cnn = []\n",
        "for path in test_generator_shape:\n",
        "    image = cv2.imread(str(path), cv2.IMREAD_GRAYSCALE)\n",
        "    if image is None:\n",
        "        problematic_paths.append(path)\n",
        "    else:\n",
        "        X_test_shape_cnn.append(image.reshape(28, 28, 1))\n",
        "\n",
        "X_test_shape_cnn = np.array(X_test_shape_cnn)\n",
        "\n",
        "# Concatenate type training, validation, and testing data\n",
        "X_train_type_cnn = []\n",
        "for path in train_generator_type:\n",
        "    image = cv2.imread(str(path), cv2.IMREAD_GRAYSCALE)\n",
        "    if image is None:\n",
        "        problematic_paths.append(path)\n",
        "    else:\n",
        "        X_train_type_cnn.append(image.reshape(28, 28, 1))\n",
        "\n",
        "X_train_type_cnn = np.array(X_train_type_cnn)\n",
        "\n",
        "X_val_type_cnn = []\n",
        "for path in validation_generator_type:\n",
        "    image = cv2.imread(str(path), cv2.IMREAD_GRAYSCALE)\n",
        "    if image is None:\n",
        "        problematic_paths.append(path)\n",
        "    else:\n",
        "        X_val_type_cnn.append(image.reshape(28, 28, 1))\n",
        "\n",
        "X_val_type_cnn = np.array(X_val_type_cnn)\n",
        "\n",
        "X_test_type_cnn = []\n",
        "for path in test_generator_type:\n",
        "    image = cv2.imread(str(path), cv2.IMREAD_GRAYSCALE)\n",
        "    if image is None:\n",
        "        problematic_paths.append(path)\n",
        "    else:\n",
        "        X_test_type_cnn.append(image.reshape(28, 28, 1))\n",
        "\n",
        "X_test_type_cnn = np.array(X_test_type_cnn)\n",
        "\n",
        "# Print the shapes of the concatenated data\n",
        "print(\"Shape of X_train_shape_cnn:\", X_train_shape_cnn.shape)\n",
        "print(\"Shape of X_val_shape_cnn:\", X_val_shape_cnn.shape)\n",
        "print(\"Shape of X_test_shape_cnn:\", X_test_shape_cnn.shape)\n",
        "\n",
        "print(\"Shape of X_train_type_cnn:\", X_train_type_cnn.shape)\n",
        "print(\"Shape of X_val_type_cnn:\", X_val_type_cnn.shape)\n",
        "print(\"Shape of X_test_type_cnn:\", X_test_type_cnn.shape)\n",
        "\n",
        "# Print problematic paths\n",
        "print(\"Problematic image paths:\", problematic_paths)"
      ],
      "metadata": {
        "id": "P_ws3IzVKJHn"
      },
      "execution_count": null,
      "outputs": []
    },
    {
      "cell_type": "code",
      "source": [
        "from keras.models import Sequential\n",
        "from keras.layers import Conv2D, MaxPooling2D, Flatten, Dense\n",
        "\n",
        "# Define the CNN model\n",
        "def build_cnn(input_shape, num_classes):\n",
        "    model = Sequential([\n",
        "        Conv2D(32, (3, 3), activation='sigmoid', input_shape=input_shape),\n",
        "        MaxPooling2D((2, 2)),\n",
        "        Conv2D(64, (3, 3), activation='sigmoid'),\n",
        "        MaxPooling2D((2, 2)),\n",
        "        Conv2D(128, (3, 3), activation='sigmoid'),\n",
        "        MaxPooling2D((2, 2)),\n",
        "        Flatten(),\n",
        "        Dense(128, activation='sigmoid'),\n",
        "        Dense(num_classes, activation='softmax')\n",
        "    ])\n",
        "    return model\n",
        "\n",
        "# Set input shape\n",
        "input_shape = (28, 28, 1)  # Assuming images are grayscale\n",
        "\n",
        "# Number of classes\n",
        "num_classes = len(np.unique(y_shape_train))\n",
        "\n",
        "# Build the CNN model\n",
        "cnn_model_shape = build_cnn(input_shape, num_classes)\n",
        "\n",
        "\n",
        "# Print model summary\n",
        "cnn_model_shape.summary()\n"
      ],
      "metadata": {
        "id": "h5bNafhjKYXl",
        "outputId": "9bd4e63a-1340-438b-a0d7-b5f9d206f3b2",
        "colab": {
          "base_uri": "https://localhost:8080/"
        }
      },
      "execution_count": 185,
      "outputs": [
        {
          "output_type": "stream",
          "name": "stdout",
          "text": [
            "Model: \"sequential_103\"\n",
            "_________________________________________________________________\n",
            " Layer (type)                Output Shape              Param #   \n",
            "=================================================================\n",
            " conv2d_270 (Conv2D)         (None, 26, 26, 32)        320       \n",
            "                                                                 \n",
            " max_pooling2d_270 (MaxPool  (None, 13, 13, 32)        0         \n",
            " ing2D)                                                          \n",
            "                                                                 \n",
            " conv2d_271 (Conv2D)         (None, 11, 11, 64)        18496     \n",
            "                                                                 \n",
            " max_pooling2d_271 (MaxPool  (None, 5, 5, 64)          0         \n",
            " ing2D)                                                          \n",
            "                                                                 \n",
            " conv2d_272 (Conv2D)         (None, 3, 3, 128)         73856     \n",
            "                                                                 \n",
            " max_pooling2d_272 (MaxPool  (None, 1, 1, 128)         0         \n",
            " ing2D)                                                          \n",
            "                                                                 \n",
            " flatten_103 (Flatten)       (None, 128)               0         \n",
            "                                                                 \n",
            " dense_208 (Dense)           (None, 128)               16512     \n",
            "                                                                 \n",
            " dense_209 (Dense)           (None, 2)                 258       \n",
            "                                                                 \n",
            "=================================================================\n",
            "Total params: 109442 (427.51 KB)\n",
            "Trainable params: 109442 (427.51 KB)\n",
            "Non-trainable params: 0 (0.00 Byte)\n",
            "_________________________________________________________________\n"
          ]
        }
      ]
    },
    {
      "cell_type": "code",
      "source": [
        "# Compile the model\n",
        "cnn_model_shape.compile(optimizer='adam',\n",
        "              loss='sparse_categorical_crossentropy',\n",
        "              metrics=['categorical_accuracy'])\n",
        "\n",
        "# Train the model\n",
        "# Fit the CNN model on the training and validation data\n",
        "history_cnn_shape = cnn_model_shape.fit(X_train_shape_cnn, y_shape_train, epochs=10, batch_size=32, validation_data=(X_val_shape_cnn, y_shape_val),  callbacks=[early_stopping])\n"
      ],
      "metadata": {
        "id": "bUeFkogGKYT4",
        "outputId": "18ec847c-c4e9-47ab-d5a7-868bdd4a88a8",
        "colab": {
          "base_uri": "https://localhost:8080/",
          "height": 391
        }
      },
      "execution_count": 180,
      "outputs": [
        {
          "output_type": "error",
          "ename": "ValueError",
          "evalue": "Data cardinality is ambiguous:\n  x sizes: 2957\n  y sizes: 2\nMake sure all arrays contain the same number of samples.",
          "traceback": [
            "\u001b[0;31m---------------------------------------------------------------------------\u001b[0m",
            "\u001b[0;31mValueError\u001b[0m                                Traceback (most recent call last)",
            "\u001b[0;32m<ipython-input-180-16b0cbc25ae5>\u001b[0m in \u001b[0;36m<cell line: 8>\u001b[0;34m()\u001b[0m\n\u001b[1;32m      6\u001b[0m \u001b[0;31m# Train the model\u001b[0m\u001b[0;34m\u001b[0m\u001b[0;34m\u001b[0m\u001b[0m\n\u001b[1;32m      7\u001b[0m \u001b[0;31m# Fit the CNN model on the training and validation data\u001b[0m\u001b[0;34m\u001b[0m\u001b[0;34m\u001b[0m\u001b[0m\n\u001b[0;32m----> 8\u001b[0;31m \u001b[0mhistory_cnn_shape\u001b[0m \u001b[0;34m=\u001b[0m \u001b[0mcnn_model_shape\u001b[0m\u001b[0;34m.\u001b[0m\u001b[0mfit\u001b[0m\u001b[0;34m(\u001b[0m\u001b[0mX_train_shape_cnn\u001b[0m\u001b[0;34m,\u001b[0m \u001b[0my_shape_train\u001b[0m\u001b[0;34m,\u001b[0m \u001b[0mepochs\u001b[0m\u001b[0;34m=\u001b[0m\u001b[0;36m10\u001b[0m\u001b[0;34m,\u001b[0m \u001b[0mbatch_size\u001b[0m\u001b[0;34m=\u001b[0m\u001b[0;36m32\u001b[0m\u001b[0;34m,\u001b[0m \u001b[0mvalidation_data\u001b[0m\u001b[0;34m=\u001b[0m\u001b[0;34m(\u001b[0m\u001b[0mX_val_shape_cnn\u001b[0m\u001b[0;34m,\u001b[0m \u001b[0my_shape_val\u001b[0m\u001b[0;34m)\u001b[0m\u001b[0;34m,\u001b[0m  \u001b[0mcallbacks\u001b[0m\u001b[0;34m=\u001b[0m\u001b[0;34m[\u001b[0m\u001b[0mearly_stopping\u001b[0m\u001b[0;34m]\u001b[0m\u001b[0;34m)\u001b[0m\u001b[0;34m\u001b[0m\u001b[0;34m\u001b[0m\u001b[0m\n\u001b[0m",
            "\u001b[0;32m/usr/local/lib/python3.10/dist-packages/keras/src/utils/traceback_utils.py\u001b[0m in \u001b[0;36merror_handler\u001b[0;34m(*args, **kwargs)\u001b[0m\n\u001b[1;32m     68\u001b[0m             \u001b[0;31m# To get the full stack trace, call:\u001b[0m\u001b[0;34m\u001b[0m\u001b[0;34m\u001b[0m\u001b[0m\n\u001b[1;32m     69\u001b[0m             \u001b[0;31m# `tf.debugging.disable_traceback_filtering()`\u001b[0m\u001b[0;34m\u001b[0m\u001b[0;34m\u001b[0m\u001b[0m\n\u001b[0;32m---> 70\u001b[0;31m             \u001b[0;32mraise\u001b[0m \u001b[0me\u001b[0m\u001b[0;34m.\u001b[0m\u001b[0mwith_traceback\u001b[0m\u001b[0;34m(\u001b[0m\u001b[0mfiltered_tb\u001b[0m\u001b[0;34m)\u001b[0m \u001b[0;32mfrom\u001b[0m \u001b[0;32mNone\u001b[0m\u001b[0;34m\u001b[0m\u001b[0;34m\u001b[0m\u001b[0m\n\u001b[0m\u001b[1;32m     71\u001b[0m         \u001b[0;32mfinally\u001b[0m\u001b[0;34m:\u001b[0m\u001b[0;34m\u001b[0m\u001b[0;34m\u001b[0m\u001b[0m\n\u001b[1;32m     72\u001b[0m             \u001b[0;32mdel\u001b[0m \u001b[0mfiltered_tb\u001b[0m\u001b[0;34m\u001b[0m\u001b[0;34m\u001b[0m\u001b[0m\n",
            "\u001b[0;32m/usr/local/lib/python3.10/dist-packages/keras/src/engine/data_adapter.py\u001b[0m in \u001b[0;36m_check_data_cardinality\u001b[0;34m(data)\u001b[0m\n\u001b[1;32m   1958\u001b[0m             )\n\u001b[1;32m   1959\u001b[0m         \u001b[0mmsg\u001b[0m \u001b[0;34m+=\u001b[0m \u001b[0;34m\"Make sure all arrays contain the same number of samples.\"\u001b[0m\u001b[0;34m\u001b[0m\u001b[0;34m\u001b[0m\u001b[0m\n\u001b[0;32m-> 1960\u001b[0;31m         \u001b[0;32mraise\u001b[0m \u001b[0mValueError\u001b[0m\u001b[0;34m(\u001b[0m\u001b[0mmsg\u001b[0m\u001b[0;34m)\u001b[0m\u001b[0;34m\u001b[0m\u001b[0;34m\u001b[0m\u001b[0m\n\u001b[0m\u001b[1;32m   1961\u001b[0m \u001b[0;34m\u001b[0m\u001b[0m\n\u001b[1;32m   1962\u001b[0m \u001b[0;34m\u001b[0m\u001b[0m\n",
            "\u001b[0;31mValueError\u001b[0m: Data cardinality is ambiguous:\n  x sizes: 2957\n  y sizes: 2\nMake sure all arrays contain the same number of samples."
          ]
        }
      ]
    },
    {
      "cell_type": "code",
      "source": [],
      "metadata": {
        "id": "A0uN0yMxKYQp"
      },
      "execution_count": null,
      "outputs": []
    },
    {
      "cell_type": "code",
      "source": [],
      "metadata": {
        "id": "Yk_-vKHhKYNA"
      },
      "execution_count": null,
      "outputs": []
    },
    {
      "cell_type": "code",
      "source": [],
      "metadata": {
        "id": "r29zo1glKYLF"
      },
      "execution_count": null,
      "outputs": []
    },
    {
      "cell_type": "code",
      "source": [],
      "metadata": {
        "id": "-VheZ2ovKYGy"
      },
      "execution_count": null,
      "outputs": []
    },
    {
      "cell_type": "code",
      "source": [],
      "metadata": {
        "id": "aNzsQUEHKYBT"
      },
      "execution_count": null,
      "outputs": []
    },
    {
      "cell_type": "code",
      "source": [],
      "metadata": {
        "id": "87obtpmdKX_F"
      },
      "execution_count": null,
      "outputs": []
    },
    {
      "cell_type": "code",
      "source": [],
      "metadata": {
        "id": "4tnG9hpzKX7c"
      },
      "execution_count": null,
      "outputs": []
    },
    {
      "cell_type": "code",
      "source": [],
      "metadata": {
        "id": "-SqACv3ZKX30"
      },
      "execution_count": null,
      "outputs": []
    },
    {
      "cell_type": "code",
      "source": [],
      "metadata": {
        "id": "3pVjE6T_KXzp"
      },
      "execution_count": null,
      "outputs": []
    },
    {
      "cell_type": "code",
      "source": [],
      "metadata": {
        "id": "7f_8FpliKXu4"
      },
      "execution_count": null,
      "outputs": []
    },
    {
      "cell_type": "code",
      "source": [
        "# function for f1-score\n",
        "from keras import backend as K\n",
        "\n",
        "def f1(y_true, y_pred):\n",
        "    def recall(y_true, y_pred):\n",
        "        true_positives = K.sum(K.round(K.clip(y_true * y_pred, 0, 1)))\n",
        "        possible_positives = K.sum(K.round(K.clip(y_true, 0, 1)))\n",
        "        recall = true_positives / (possible_positives + K.epsilon())\n",
        "        return recall\n",
        "\n",
        "    def precision(y_true, y_pred):\n",
        "        true_positives = K.sum(K.round(K.clip(y_true * y_pred, 0, 1)))\n",
        "        predicted_positives = K.sum(K.round(K.clip(y_pred, 0, 1)))\n",
        "        precision = true_positives / (predicted_positives + K.epsilon())\n",
        "        return precision\n",
        "    precision = precision(y_true, y_pred)\n",
        "    recall = recall(y_true, y_pred)\n",
        "    return 2*((precision*recall)/(precision+recall+K.epsilon()))"
      ],
      "metadata": {
        "id": "f6Jro7ZnuRbE"
      },
      "execution_count": 64,
      "outputs": []
    },
    {
      "cell_type": "code",
      "source": [
        "from sklearn.metrics import classification_report, f1_score,confusion_matrix\n",
        "\n",
        "\n",
        "def model_result(X_train, X_val, model):\n",
        "  y_hat_all = list()\n",
        "  y_all = list()\n",
        "  y_pred_all = []\n",
        "  y_true_all = []\n",
        "  filenames = validation_generator_shape.filenames\n",
        "  N_images = len(filenames)\n",
        "  batches = 0\n",
        "\n",
        "  # iterate through the data generator and predict for each batch\n",
        "  # hold the predictions and labels\n",
        "  for x,y in X_val:\n",
        "          y_hat = model.predict(x, verbose=0)\n",
        "          y_hat = np.argmax(y_hat, axis = 1)\n",
        "          y = np.argmax(y, axis = 1)\n",
        "          y_hat_all = y_hat_all + y_hat.tolist()\n",
        "          y_all = y_all + y.tolist()\n",
        "\n",
        "          batches += 1\n",
        "          if batches >= N_images / batch_size:\n",
        "              # we need to break the loop by hand because\n",
        "              # the generator loops indefinitely\n",
        "              break\n",
        "\n",
        "  for a,b in X_train:\n",
        "          y_pred = model.predict(a, verbose=0)\n",
        "          y_pred = np.argmax(y_pred, axis = 1)\n",
        "          y_true = np.argmax(b, axis = 1)\n",
        "          y_pred_all = y_pred_all + y_pred.tolist()\n",
        "          y_true_all = y_true_all + y_true.tolist()\n",
        "\n",
        "          batches += 1\n",
        "          if batches >= N_images / batch_size:\n",
        "              # we need to break the loop by hand because\n",
        "              # the generator loops indefinitely\n",
        "              break\n",
        "\n",
        "\n",
        "  print(\"Training F1- score: \", f1_score(y_true_all, y_pred_all,average='macro'))\n",
        "  print(\"F1 score: \", f1_score(y_all, y_hat_all, average='macro'))"
      ],
      "metadata": {
        "id": "ajqG94nvuRT7"
      },
      "execution_count": 65,
      "outputs": []
    },
    {
      "cell_type": "markdown",
      "source": [
        "### **Build the baseline model**"
      ],
      "metadata": {
        "id": "NSoG41iifXfb"
      }
    },
    {
      "cell_type": "code",
      "source": [
        "model_cnn_shape = tf.keras.Sequential([\n",
        "    tf.keras.layers.Conv2D(filters=32, kernel_size=(3, 3), activation='relu', input_shape=INPUT_DIM),\n",
        "    tf.keras.layers.MaxPooling2D(pool_size=(2, 2)),\n",
        "\n",
        "    tf.keras.layers.Conv2D(filters=64, kernel_size=(3, 3), activation='relu'),\n",
        "    tf.keras.layers.MaxPooling2D(pool_size=(2, 2)),\n",
        "\n",
        "    tf.keras.layers.Flatten(),\n",
        "\n",
        "    tf.keras.layers.Dense(128, activation='relu'),\n",
        "    tf.keras.layers.Dense(OUTPUT_CLASSES_SHAPE, activation='softmax')\n",
        "])\n",
        "\n",
        "model_cnn_shape.compile(\n",
        "    optimizer='adam',\n",
        "    loss='categorical_crossentropy',\n",
        "    metrics=['accuracy']\n",
        ")\n",
        "\n",
        "model_cnn_shape.summary()\n"
      ],
      "metadata": {
        "colab": {
          "base_uri": "https://localhost:8080/"
        },
        "id": "31qYXET8uRRP",
        "outputId": "6c59f5fc-0a08-4dc8-c8f9-fff763e17a3e"
      },
      "execution_count": 98,
      "outputs": [
        {
          "output_type": "stream",
          "name": "stdout",
          "text": [
            "Model: \"sequential_20\"\n",
            "_________________________________________________________________\n",
            " Layer (type)                Output Shape              Param #   \n",
            "=================================================================\n",
            " conv2d_37 (Conv2D)          (None, 26, 26, 32)        320       \n",
            "                                                                 \n",
            " max_pooling2d_37 (MaxPooli  (None, 13, 13, 32)        0         \n",
            " ng2D)                                                           \n",
            "                                                                 \n",
            " conv2d_38 (Conv2D)          (None, 11, 11, 64)        18496     \n",
            "                                                                 \n",
            " max_pooling2d_38 (MaxPooli  (None, 5, 5, 64)          0         \n",
            " ng2D)                                                           \n",
            "                                                                 \n",
            " flatten_20 (Flatten)        (None, 1600)              0         \n",
            "                                                                 \n",
            " dense_42 (Dense)            (None, 128)               204928    \n",
            "                                                                 \n",
            " dense_43 (Dense)            (None, 5)                 645       \n",
            "                                                                 \n",
            "=================================================================\n",
            "Total params: 224389 (876.52 KB)\n",
            "Trainable params: 224389 (876.52 KB)\n",
            "Non-trainable params: 0 (0.00 Byte)\n",
            "_________________________________________________________________\n"
          ]
        }
      ]
    },
    {
      "cell_type": "code",
      "source": [
        "model_cnn_shape.compile(optimizer='SGD',\n",
        "              loss=tf.keras.losses.CategoricalCrossentropy(from_logits=True),\n",
        "              metrics=['categorical_accuracy'])"
      ],
      "metadata": {
        "id": "_TDYvKreuRKC"
      },
      "execution_count": 68,
      "outputs": []
    },
    {
      "cell_type": "code",
      "source": [
        "# train the first validation/training model\n",
        "history_cnn_shape = model_cnn_shape.fit(train_generator_shape, validation_data = validation_generator_shape, epochs=10, verbose=1)"
      ],
      "metadata": {
        "colab": {
          "base_uri": "https://localhost:8080/"
        },
        "id": "8PXgMfvduRDF",
        "outputId": "aaf50f1d-e4de-4e25-ac3a-06b5b7470bae"
      },
      "execution_count": 69,
      "outputs": [
        {
          "output_type": "stream",
          "name": "stdout",
          "text": [
            "Epoch 1/10\n"
          ]
        },
        {
          "output_type": "stream",
          "name": "stderr",
          "text": [
            "/usr/local/lib/python3.10/dist-packages/keras/src/backend.py:5575: UserWarning: \"`categorical_crossentropy` received `from_logits=True`, but the `output` argument was produced by a Softmax activation and thus does not represent logits. Was this intended?\n",
            "  output, from_logits = _get_logits(\n"
          ]
        },
        {
          "output_type": "stream",
          "name": "stdout",
          "text": [
            "93/93 [==============================] - 18s 184ms/step - loss: 1.3221 - categorical_accuracy: 0.4745 - val_loss: 1.1965 - val_categorical_accuracy: 0.5433\n",
            "Epoch 2/10\n",
            "93/93 [==============================] - 15s 162ms/step - loss: 1.1599 - categorical_accuracy: 0.5448 - val_loss: 1.0838 - val_categorical_accuracy: 0.6119\n",
            "Epoch 3/10\n",
            "93/93 [==============================] - 15s 157ms/step - loss: 1.0551 - categorical_accuracy: 0.6111 - val_loss: 0.9687 - val_categorical_accuracy: 0.6155\n",
            "Epoch 4/10\n",
            "93/93 [==============================] - 15s 160ms/step - loss: 0.9290 - categorical_accuracy: 0.6726 - val_loss: 0.8122 - val_categorical_accuracy: 0.7581\n",
            "Epoch 5/10\n",
            "93/93 [==============================] - 14s 156ms/step - loss: 0.8196 - categorical_accuracy: 0.7203 - val_loss: 0.7523 - val_categorical_accuracy: 0.7184\n",
            "Epoch 6/10\n",
            "93/93 [==============================] - 14s 154ms/step - loss: 0.7064 - categorical_accuracy: 0.7633 - val_loss: 0.6108 - val_categorical_accuracy: 0.8213\n",
            "Epoch 7/10\n",
            "93/93 [==============================] - 17s 183ms/step - loss: 0.6238 - categorical_accuracy: 0.8025 - val_loss: 0.5540 - val_categorical_accuracy: 0.8159\n",
            "Epoch 8/10\n",
            "93/93 [==============================] - 16s 173ms/step - loss: 0.5230 - categorical_accuracy: 0.8356 - val_loss: 0.4577 - val_categorical_accuracy: 0.8520\n",
            "Epoch 9/10\n",
            "93/93 [==============================] - 18s 194ms/step - loss: 0.4463 - categorical_accuracy: 0.8641 - val_loss: 0.4225 - val_categorical_accuracy: 0.8827\n",
            "Epoch 10/10\n",
            "93/93 [==============================] - 17s 180ms/step - loss: 0.3793 - categorical_accuracy: 0.8810 - val_loss: 0.3506 - val_categorical_accuracy: 0.8827\n"
          ]
        }
      ]
    },
    {
      "cell_type": "code",
      "source": [
        "plot_learning_curve(history_cnn_shape.history['loss'], history_cnn_shape.history['val_loss'],\n",
        "                    history_cnn_shape.history['categorical_accuracy'], history_cnn_shape.history['val_categorical_accuracy'],\n",
        "                    metric_name='f1-score')"
      ],
      "metadata": {
        "colab": {
          "base_uri": "https://localhost:8080/",
          "height": 465
        },
        "id": "7XBKUeZkuQ_Q",
        "outputId": "071b5906-9e5a-4068-c7c2-6bd554bee9cb"
      },
      "execution_count": 49,
      "outputs": [
        {
          "output_type": "display_data",
          "data": {
            "text/plain": [
              "<Figure size 1000x500 with 2 Axes>"
            ],
            "image/png": "[encoded data removed]"
          },
          "metadata": {}
        }
      ]
    },
    {
      "cell_type": "code",
      "source": [
        "model_result(train_generator_shape,validation_generator_shape,model_cnn_shape)"
      ],
      "metadata": {
        "colab": {
          "base_uri": "https://localhost:8080/"
        },
        "id": "fJYAjJIpuQ4F",
        "outputId": "a7bf47e5-6fde-45ec-f47c-4d7e1a3c1be2"
      },
      "execution_count": 50,
      "outputs": [
        {
          "output_type": "stream",
          "name": "stdout",
          "text": [
            "Training F1- score:  0.4159090909090909\n",
            "F1 score:  0.43690262763252086\n"
          ]
        }
      ]
    },
    {
      "cell_type": "code",
      "source": [
        "train1_score = model_cnn_shape.evaluate(train_generator_shape)\n",
        "print('train loss:', train1_score[0])\n",
        "print('train accuracy:', train1_score[1])"
      ],
      "metadata": {
        "colab": {
          "base_uri": "https://localhost:8080/"
        },
        "id": "3wYk4HMGuQ0T",
        "outputId": "1a18baeb-28ce-48f5-f8ba-a82fb08b914e"
      },
      "execution_count": 51,
      "outputs": [
        {
          "output_type": "stream",
          "name": "stdout",
          "text": [
            "93/93 [==============================] - 11s 113ms/step - loss: 0.8616 - categorical_accuracy: 0.7362\n",
            "train loss: 0.8616353273391724\n",
            "train accuracy: 0.7362191677093506\n"
          ]
        }
      ]
    },
    {
      "cell_type": "markdown",
      "source": [
        "### Parmeter Tuninig"
      ],
      "metadata": {
        "id": "pxTI4ygFgchU"
      }
    },
    {
      "cell_type": "code",
      "source": [
        "import tensorflow as tf\n",
        "\n",
        "def build_cnn(input_shape, num_classes=5, optimizer='adam', activation='relu'):\n",
        "    model = tf.keras.Sequential([\n",
        "        tf.keras.layers.Conv2D(32, (3, 3), activation=activation, input_shape=input_shape),\n",
        "        tf.keras.layers.MaxPooling2D((2, 2)),\n",
        "        tf.keras.layers.Conv2D(64, (3, 3), activation=activation),\n",
        "        tf.keras.layers.MaxPooling2D((2, 2)),\n",
        "        tf.keras.layers.Conv2D(128, (3, 3), activation=activation),\n",
        "        tf.keras.layers.MaxPooling2D((2, 2)),\n",
        "        tf.keras.layers.Flatten(),\n",
        "        tf.keras.layers.Dense(128, activation=activation),\n",
        "        tf.keras.layers.Dense(num_classes, activation='softmax')\n",
        "    ])\n",
        "\n",
        "    optimizers = {\n",
        "        'adam': tf.keras.optimizers.Adam(),\n",
        "        'sgd': tf.keras.optimizers.SGD(),\n",
        "        'rmsprop': tf.keras.optimizers.RMSprop(),\n",
        "        'adagrad': tf.keras.optimizers.Adagrad()\n",
        "    }\n",
        "\n",
        "    model.compile(optimizer=optimizers[optimizer], loss='categorical_crossentropy', metrics=['accuracy'])\n",
        "    return model\n",
        "\n",
        "# Early stopping to prevent overfitting and save time\n",
        "early_stopping = tf.keras.callbacks.EarlyStopping(\n",
        "    monitor='val_accuracy',\n",
        "    patience=2,\n",
        "    restore_best_weights=True\n",
        ")\n",
        "\n",
        "param_grid = {\n",
        "    'optimizer': ['adam', 'sgd', 'rmsprop', 'adagrad'],\n",
        "    'activation': ['relu', 'sigmoid', 'tanh', 'softmax']\n",
        "}\n",
        "\n",
        "best_accuracy = 0\n",
        "best_params = {}\n",
        "\n",
        "for optimizer in param_grid['optimizer']:\n",
        "    for activation in param_grid['activation']:\n",
        "        print(f\"Training with optimizer: {optimizer}, activation: {activation}\")\n",
        "        model = build_cnn(INPUT_DIM, OUTPUT_CLASSES_SHAPE, optimizer=optimizer, activation=activation)\n",
        "\n",
        "        history = model.fit(\n",
        "            train_generator_shape,\n",
        "            steps_per_epoch=train_generator_shape.n // train_generator_shape.batch_size,\n",
        "            epochs=3,  # Reduced for initial tests\n",
        "            validation_data=validation_generator_shape,\n",
        "            validation_steps=validation_generator_shape.n // validation_generator_shape.batch_size,\n",
        "            callbacks=[early_stopping]  # Early stopping\n",
        "        )\n",
        "\n",
        "        val_accuracy = max(history.history['val_accuracy'])\n",
        "        print(f\"Validation Accuracy: {val_accuracy}\")\n",
        "\n",
        "        if val_accuracy > best_accuracy:\n",
        "            best_accuracy = val_accuracy\n",
        "            best_params = {'optimizer': optimizer, 'activation': activation}\n",
        "\n",
        "print(\"Best Parameters:\", best_params)\n",
        "print(\"Best Validation Accuracy:\", best_accuracy)\n"
      ],
      "metadata": {
        "colab": {
          "base_uri": "https://localhost:8080/"
        },
        "id": "GCqdDiKr6Ixs",
        "outputId": "5636045e-c4c6-4fac-db50-50d934f1e7d0"
      },
      "execution_count": 167,
      "outputs": [
        {
          "output_type": "stream",
          "name": "stdout",
          "text": [
            "Training with optimizer: adam, activation: relu\n",
            "Epoch 1/3\n",
            "92/92 [==============================] - 16s 167ms/step - loss: 1.0870 - accuracy: 0.5764 - val_loss: 0.6434 - val_accuracy: 0.7831\n",
            "Epoch 2/3\n",
            "92/92 [==============================] - 17s 190ms/step - loss: 0.4399 - accuracy: 0.8670 - val_loss: 0.3389 - val_accuracy: 0.9118\n",
            "Epoch 3/3\n",
            "92/92 [==============================] - 15s 161ms/step - loss: 0.2331 - accuracy: 0.9313 - val_loss: 0.1862 - val_accuracy: 0.9504\n",
            "Validation Accuracy: 0.9503676295280457\n",
            "Training with optimizer: adam, activation: sigmoid\n",
            "Epoch 1/3\n",
            "92/92 [==============================] - 19s 198ms/step - loss: 1.2788 - accuracy: 0.4759 - val_loss: 1.2765 - val_accuracy: 0.4724\n",
            "Epoch 2/3\n",
            "92/92 [==============================] - 21s 229ms/step - loss: 1.2725 - accuracy: 0.4773 - val_loss: 1.2711 - val_accuracy: 0.4779\n",
            "Epoch 3/3\n",
            "92/92 [==============================] - 26s 286ms/step - loss: 1.2713 - accuracy: 0.4762 - val_loss: 1.2572 - val_accuracy: 0.4798\n",
            "Validation Accuracy: 0.4797794222831726\n",
            "Training with optimizer: adam, activation: tanh\n",
            "Epoch 1/3\n",
            "92/92 [==============================] - 20s 205ms/step - loss: 0.6548 - accuracy: 0.7740 - val_loss: 0.2177 - val_accuracy: 0.9338\n",
            "Epoch 2/3\n",
            "92/92 [==============================] - 19s 202ms/step - loss: 0.1504 - accuracy: 0.9569 - val_loss: 0.1013 - val_accuracy: 0.9724\n",
            "Epoch 3/3\n",
            "92/92 [==============================] - 15s 161ms/step - loss: 0.0712 - accuracy: 0.9798 - val_loss: 0.0531 - val_accuracy: 0.9779\n",
            "Validation Accuracy: 0.9779411554336548\n",
            "Training with optimizer: adam, activation: softmax\n",
            "Epoch 1/3\n",
            "92/92 [==============================] - 18s 178ms/step - loss: 1.5565 - accuracy: 0.4684 - val_loss: 1.5084 - val_accuracy: 0.4724\n",
            "Epoch 2/3\n",
            "92/92 [==============================] - 15s 164ms/step - loss: 1.4706 - accuracy: 0.4745 - val_loss: 1.4330 - val_accuracy: 0.4798\n",
            "Epoch 3/3\n",
            "92/92 [==============================] - 16s 178ms/step - loss: 1.4080 - accuracy: 0.4773 - val_loss: 1.3856 - val_accuracy: 0.4743\n",
            "Validation Accuracy: 0.4797794222831726\n",
            "Training with optimizer: sgd, activation: relu\n",
            "Epoch 1/3\n",
            "92/92 [==============================] - 28s 302ms/step - loss: 1.4536 - accuracy: 0.4280 - val_loss: 1.3122 - val_accuracy: 0.4724\n",
            "Epoch 2/3\n",
            "92/92 [==============================] - 22s 235ms/step - loss: 1.2690 - accuracy: 0.4762 - val_loss: 1.2369 - val_accuracy: 0.4743\n",
            "Epoch 3/3\n",
            "92/92 [==============================] - 15s 165ms/step - loss: 1.2229 - accuracy: 0.4790 - val_loss: 1.1954 - val_accuracy: 0.4761\n",
            "Validation Accuracy: 0.47610294818878174\n",
            "Training with optimizer: sgd, activation: sigmoid\n",
            "Epoch 1/3\n",
            "92/92 [==============================] - 17s 174ms/step - loss: 1.3131 - accuracy: 0.4643 - val_loss: 1.2635 - val_accuracy: 0.4743\n",
            "Epoch 2/3\n",
            "92/92 [==============================] - 15s 167ms/step - loss: 1.2651 - accuracy: 0.4766 - val_loss: 1.2607 - val_accuracy: 0.4779\n",
            "Epoch 3/3\n",
            "92/92 [==============================] - 15s 161ms/step - loss: 1.2644 - accuracy: 0.4769 - val_loss: 1.2565 - val_accuracy: 0.4798\n",
            "Validation Accuracy: 0.4797794222831726\n",
            "Training with optimizer: sgd, activation: tanh\n",
            "Epoch 1/3\n",
            "92/92 [==============================] - 16s 161ms/step - loss: 1.3040 - accuracy: 0.4756 - val_loss: 1.2325 - val_accuracy: 0.4761\n",
            "Epoch 2/3\n",
            "92/92 [==============================] - 22s 243ms/step - loss: 1.2142 - accuracy: 0.4766 - val_loss: 1.1813 - val_accuracy: 0.4761\n",
            "Epoch 3/3\n",
            "92/92 [==============================] - 22s 234ms/step - loss: 1.1652 - accuracy: 0.5080 - val_loss: 1.1171 - val_accuracy: 0.5147\n",
            "Validation Accuracy: 0.5147058963775635\n",
            "Training with optimizer: sgd, activation: softmax\n",
            "Epoch 1/3\n",
            "92/92 [==============================] - 23s 240ms/step - loss: 1.5581 - accuracy: 0.4602 - val_loss: 1.5117 - val_accuracy: 0.4706\n",
            "Epoch 2/3\n",
            "92/92 [==============================] - 22s 237ms/step - loss: 1.4754 - accuracy: 0.4745 - val_loss: 1.4419 - val_accuracy: 0.4761\n",
            "Epoch 3/3\n",
            "92/92 [==============================] - 22s 241ms/step - loss: 1.4199 - accuracy: 0.4742 - val_loss: 1.3933 - val_accuracy: 0.4816\n",
            "Validation Accuracy: 0.48161765933036804\n",
            "Training with optimizer: rmsprop, activation: relu\n",
            "Epoch 1/3\n",
            "92/92 [==============================] - 25s 248ms/step - loss: 1.0404 - accuracy: 0.5935 - val_loss: 0.6183 - val_accuracy: 0.8309\n",
            "Epoch 2/3\n",
            "92/92 [==============================] - 18s 196ms/step - loss: 0.4847 - accuracy: 0.8407 - val_loss: 0.3357 - val_accuracy: 0.8952\n",
            "Epoch 3/3\n",
            "92/92 [==============================] - 14s 156ms/step - loss: 0.2371 - accuracy: 0.9326 - val_loss: 0.1543 - val_accuracy: 0.9393\n",
            "Validation Accuracy: 0.939338207244873\n",
            "Training with optimizer: rmsprop, activation: sigmoid\n",
            "Epoch 1/3\n",
            "92/92 [==============================] - 16s 167ms/step - loss: 1.2898 - accuracy: 0.4653 - val_loss: 1.2628 - val_accuracy: 0.4798\n",
            "Epoch 2/3\n",
            "92/92 [==============================] - 15s 164ms/step - loss: 1.2752 - accuracy: 0.4769 - val_loss: 1.2649 - val_accuracy: 0.4743\n",
            "Epoch 3/3\n",
            "92/92 [==============================] - 15s 161ms/step - loss: 1.2725 - accuracy: 0.4766 - val_loss: 1.2880 - val_accuracy: 0.4743\n",
            "Validation Accuracy: 0.4797794222831726\n",
            "Training with optimizer: rmsprop, activation: tanh\n",
            "Epoch 1/3\n",
            "92/92 [==============================] - 18s 176ms/step - loss: 0.6778 - accuracy: 0.7515 - val_loss: 0.1919 - val_accuracy: 0.9485\n",
            "Epoch 2/3\n",
            "92/92 [==============================] - 15s 165ms/step - loss: 0.1331 - accuracy: 0.9623 - val_loss: 0.0912 - val_accuracy: 0.9688\n",
            "Epoch 3/3\n",
            "92/92 [==============================] - 15s 159ms/step - loss: 0.0569 - accuracy: 0.9867 - val_loss: 0.0454 - val_accuracy: 0.9871\n",
            "Validation Accuracy: 0.9871323704719543\n",
            "Training with optimizer: rmsprop, activation: softmax\n",
            "Epoch 1/3\n",
            "92/92 [==============================] - 17s 172ms/step - loss: 1.5546 - accuracy: 0.4602 - val_loss: 1.5064 - val_accuracy: 0.4779\n",
            "Epoch 2/3\n",
            "92/92 [==============================] - 15s 167ms/step - loss: 1.4686 - accuracy: 0.4762 - val_loss: 1.4306 - val_accuracy: 0.4779\n",
            "Epoch 3/3\n",
            "92/92 [==============================] - 16s 175ms/step - loss: 1.4031 - accuracy: 0.4742 - val_loss: 1.3775 - val_accuracy: 0.4706\n",
            "Validation Accuracy: 0.4779411852359772\n",
            "Training with optimizer: adagrad, activation: relu\n",
            "Epoch 1/3\n",
            "92/92 [==============================] - 20s 205ms/step - loss: 1.6036 - accuracy: 0.3067 - val_loss: 1.5625 - val_accuracy: 0.4853\n",
            "Epoch 2/3\n",
            "92/92 [==============================] - 15s 162ms/step - loss: 1.5273 - accuracy: 0.4759 - val_loss: 1.4838 - val_accuracy: 0.4816\n",
            "Epoch 3/3\n",
            "92/92 [==============================] - 20s 214ms/step - loss: 1.4384 - accuracy: 0.4776 - val_loss: 1.3861 - val_accuracy: 0.4724\n",
            "Validation Accuracy: 0.4852941036224365\n",
            "Training with optimizer: adagrad, activation: sigmoid\n",
            "Epoch 1/3\n",
            "92/92 [==============================] - 16s 165ms/step - loss: 1.5206 - accuracy: 0.2537 - val_loss: 1.3441 - val_accuracy: 0.4761\n",
            "Epoch 2/3\n",
            "92/92 [==============================] - 15s 163ms/step - loss: 1.3061 - accuracy: 0.4776 - val_loss: 1.2826 - val_accuracy: 0.4761\n",
            "Epoch 3/3\n",
            "92/92 [==============================] - 15s 164ms/step - loss: 1.2777 - accuracy: 0.4769 - val_loss: 1.2697 - val_accuracy: 0.4779\n",
            "Validation Accuracy: 0.4779411852359772\n",
            "Training with optimizer: adagrad, activation: tanh\n",
            "Epoch 1/3\n",
            "92/92 [==============================] - 16s 167ms/step - loss: 1.4150 - accuracy: 0.4660 - val_loss: 1.3047 - val_accuracy: 0.4779\n",
            "Epoch 2/3\n",
            "92/92 [==============================] - 15s 168ms/step - loss: 1.2825 - accuracy: 0.4745 - val_loss: 1.2609 - val_accuracy: 0.4761\n",
            "Epoch 3/3\n",
            "92/92 [==============================] - 16s 172ms/step - loss: 1.2507 - accuracy: 0.4776 - val_loss: 1.2450 - val_accuracy: 0.4724\n",
            "Validation Accuracy: 0.4779411852359772\n",
            "Training with optimizer: adagrad, activation: softmax\n",
            "Epoch 1/3\n",
            "92/92 [==============================] - 17s 172ms/step - loss: 1.5976 - accuracy: 0.4742 - val_loss: 1.5937 - val_accuracy: 0.4761\n",
            "Epoch 2/3\n",
            "92/92 [==============================] - 15s 168ms/step - loss: 1.5913 - accuracy: 0.4745 - val_loss: 1.5888 - val_accuracy: 0.4798\n",
            "Epoch 3/3\n",
            "92/92 [==============================] - 15s 160ms/step - loss: 1.5870 - accuracy: 0.4769 - val_loss: 1.5851 - val_accuracy: 0.4779\n",
            "Validation Accuracy: 0.4797794222831726\n",
            "Best Parameters: {'optimizer': 'rmsprop', 'activation': 'tanh'}\n",
            "Best Validation Accuracy: 0.9871323704719543\n"
          ]
        }
      ]
    },
    {
      "cell_type": "code",
      "source": [
        "!pip install keras-tuner\n"
      ],
      "metadata": {
        "colab": {
          "base_uri": "https://localhost:8080/"
        },
        "id": "rFmfsmNdFQZL",
        "outputId": "40bc5beb-cd5c-426e-b593-e0b761e28ee8"
      },
      "execution_count": 169,
      "outputs": [
        {
          "output_type": "stream",
          "name": "stdout",
          "text": [
            "Collecting keras-tuner\n",
            "  Downloading keras_tuner-1.4.7-py3-none-any.whl (129 kB)\n",
            "\u001b[?25l     \u001b[90m━━━━━━━━━━━━━━━━━━━━━━━━━━━━━━━━━━━━━━━━\u001b[0m \u001b[32m0.0/129.1 kB\u001b[0m \u001b[31m?\u001b[0m eta \u001b[36m-:--:--\u001b[0m\r\u001b[2K     \u001b[91m━━━━━━━━━━━━━━━━━━━━━━━━━\u001b[0m\u001b[90m╺\u001b[0m\u001b[90m━━━━━━━━━━━━━━\u001b[0m \u001b[32m81.9/129.1 kB\u001b[0m \u001b[31m2.4 MB/s\u001b[0m eta \u001b[36m0:00:01\u001b[0m\r\u001b[2K     \u001b[90m━━━━━━━━━━━━━━━━━━━━━━━━━━━━━━━━━━━━━━━━\u001b[0m \u001b[32m129.1/129.1 kB\u001b[0m \u001b[31m2.7 MB/s\u001b[0m eta \u001b[36m0:00:00\u001b[0m\n",
            "\u001b[?25hRequirement already satisfied: keras in /usr/local/lib/python3.10/dist-packages (from keras-tuner) (2.15.0)\n",
            "Requirement already satisfied: packaging in /usr/local/lib/python3.10/dist-packages (from keras-tuner) (24.0)\n",
            "Requirement already satisfied: requests in /usr/local/lib/python3.10/dist-packages (from keras-tuner) (2.31.0)\n",
            "Collecting kt-legacy (from keras-tuner)\n",
            "  Downloading kt_legacy-1.0.5-py3-none-any.whl (9.6 kB)\n",
            "Requirement already satisfied: charset-normalizer<4,>=2 in /usr/local/lib/python3.10/dist-packages (from requests->keras-tuner) (3.3.2)\n",
            "Requirement already satisfied: idna<4,>=2.5 in /usr/local/lib/python3.10/dist-packages (from requests->keras-tuner) (3.7)\n",
            "Requirement already satisfied: urllib3<3,>=1.21.1 in /usr/local/lib/python3.10/dist-packages (from requests->keras-tuner) (2.0.7)\n",
            "Requirement already satisfied: certifi>=2017.4.17 in /usr/local/lib/python3.10/dist-packages (from requests->keras-tuner) (2024.2.2)\n",
            "Installing collected packages: kt-legacy, keras-tuner\n",
            "Successfully installed keras-tuner-1.4.7 kt-legacy-1.0.5\n"
          ]
        }
      ]
    },
    {
      "cell_type": "markdown",
      "source": [
        "### **best parameters **"
      ],
      "metadata": {
        "id": "S-cuTvGMFQEu"
      }
    },
    {
      "cell_type": "code",
      "source": [],
      "metadata": {
        "id": "O9QBFYZIE0G-"
      },
      "execution_count": 173,
      "outputs": []
    },
    {
      "cell_type": "markdown",
      "source": [
        "Best Parmeter"
      ],
      "metadata": {
        "id": "NkLEGGoeEYua"
      }
    },
    {
      "cell_type": "markdown",
      "source": [
        "### **Improve the model**"
      ],
      "metadata": {
        "id": "UkLRlAa-Y_Fs"
      }
    },
    {
      "cell_type": "markdown",
      "source": [
        "### **droup out**"
      ],
      "metadata": {
        "id": "exjnWfE3Ciyr"
      }
    },
    {
      "cell_type": "code",
      "source": [
        "import tensorflow as tf\n",
        "\n",
        "batch_size = 32\n",
        "\n",
        "model_cnn1_shape = tf.keras.Sequential([\n",
        "    tf.keras.layers.Conv2D(filters=32, kernel_size=(3, 3), activation='relu', input_shape=INPUT_DIM),\n",
        "    tf.keras.layers.MaxPooling2D(pool_size=(2, 2)),\n",
        "\n",
        "    tf.keras.layers.Conv2D(filters=64, kernel_size=(3, 3), activation='relu'),\n",
        "    tf.keras.layers.MaxPooling2D(pool_size=(2, 2)),\n",
        "\n",
        "    tf.keras.layers.Flatten(),\n",
        "\n",
        "    tf.keras.layers.Dense(128, activation='relu'),\n",
        "    tf.keras.layers.Dropout(0.5), # adding droup out layer\n",
        "    tf.keras.layers.Dense(OUTPUT_CLASSES_SHAPE, activation='relu')\n",
        "])\n",
        "\n",
        "\n",
        "model_cnn_shape.compile(\n",
        "    optimizer='adam',\n",
        "    loss='categorical_crossentropy',\n",
        "    metrics=['accuracy']\n",
        ")\n",
        "\n",
        "model_cnn_shape.summary()"
      ],
      "metadata": {
        "colab": {
          "base_uri": "https://localhost:8080/"
        },
        "id": "Xong_DKluQsy",
        "outputId": "04def615-f8ed-403f-b987-24d6eb4c69bd"
      },
      "execution_count": 164,
      "outputs": [
        {
          "output_type": "stream",
          "name": "stdout",
          "text": [
            "Model: \"sequential_72\"\n",
            "_________________________________________________________________\n",
            " Layer (type)                Output Shape              Param #   \n",
            "=================================================================\n",
            " conv2d_187 (Conv2D)         (None, 26, 26, 32)        320       \n",
            "                                                                 \n",
            " max_pooling2d_187 (MaxPool  (None, 13, 13, 32)        0         \n",
            " ing2D)                                                          \n",
            "                                                                 \n",
            " dropout_4 (Dropout)         (None, 13, 13, 32)        0         \n",
            "                                                                 \n",
            " conv2d_188 (Conv2D)         (None, 11, 11, 64)        18496     \n",
            "                                                                 \n",
            " max_pooling2d_188 (MaxPool  (None, 5, 5, 64)          0         \n",
            " ing2D)                                                          \n",
            "                                                                 \n",
            " dropout_5 (Dropout)         (None, 5, 5, 64)          0         \n",
            "                                                                 \n",
            " flatten_72 (Flatten)        (None, 1600)              0         \n",
            "                                                                 \n",
            " dense_146 (Dense)           (None, 128)               204928    \n",
            "                                                                 \n",
            " dropout_6 (Dropout)         (None, 128)               0         \n",
            "                                                                 \n",
            " dense_147 (Dense)           (None, 5)                 645       \n",
            "                                                                 \n",
            "=================================================================\n",
            "Total params: 224389 (876.52 KB)\n",
            "Trainable params: 224389 (876.52 KB)\n",
            "Non-trainable params: 0 (0.00 Byte)\n",
            "_________________________________________________________________\n"
          ]
        }
      ]
    },
    {
      "cell_type": "code",
      "source": [
        "history_cnn1_shape = model_cnn1_shape.fit(train_generator_shape,validation_data=validation_generator_shape, epochs=10,verbose=1,callbacks=[early_stopping])"
      ],
      "metadata": {
        "colab": {
          "base_uri": "https://localhost:8080/"
        },
        "id": "HVsRmTpguQpA",
        "outputId": "3099b764-0df0-4eb2-f223-06429b5b19c8"
      },
      "execution_count": 165,
      "outputs": [
        {
          "output_type": "stream",
          "name": "stdout",
          "text": [
            "Epoch 1/10\n",
            "93/93 [==============================] - 16s 165ms/step - loss: nan - accuracy: 0.0771 - val_loss: nan - val_accuracy: 0.0758\n",
            "Epoch 2/10\n",
            "93/93 [==============================] - 16s 172ms/step - loss: nan - accuracy: 0.0761 - val_loss: nan - val_accuracy: 0.0758\n",
            "Epoch 3/10\n",
            "93/93 [==============================] - 15s 165ms/step - loss: nan - accuracy: 0.0761 - val_loss: nan - val_accuracy: 0.0758\n"
          ]
        }
      ]
    },
    {
      "cell_type": "code",
      "source": [
        "plot_learning_curve(history_cnn1_shape.history['loss'],  history_cnn1_shape.history['val_loss'],\n",
        "                    history_cnn1_shape.history['categorical_accuracy'], history_cnn1_shape.history['val_categorical_accuracy'],\n",
        "                    metric_name='Accuracy')"
      ],
      "metadata": {
        "id": "6YIVZjaN1fka"
      },
      "execution_count": null,
      "outputs": []
    },
    {
      "cell_type": "code",
      "source": [],
      "metadata": {
        "id": "xkczkuSk7nD0"
      },
      "execution_count": 166,
      "outputs": []
    },
    {
      "cell_type": "code",
      "source": [
        "# Evaluate the model on the training data\n",
        "train_loss_cnn1_shape, train_accuracy_cnn1_shape = model_cnn1_shape.evaluate(train_generator_shape)\n",
        "print(\"Training Data for Shape - Loss: {:.4f}, Accuracy: {:.4f}\".format(train_loss_cnn1_shape, train_accuracy_cnn1_shape))\n",
        "\n",
        "# Evaluate the model on the validation data\n",
        "val_loss_cnn1_shape, val_accuracy_cnn1_shape = model_cnn1_shape.evaluate(validation_generator_shape)\n",
        "print(\"Validation Data for Shape - Loss: {:.4f}, Accuracy: {:.4f}\".format(val_loss_cnn1_shape, val_accuracy_cnn1_shape))\n",
        "\n",
        "# Evaluate the model on the testing data\n",
        "test_loss_cnn1_shape, test_accuracy_cnn1_shape = model_cnn1_shape.evaluate(test_generator_shape)\n",
        "print(\"Testing Data for Shape - Loss: {:.4f}, Accuracy: {:.4f}\".format(test_loss_cnn1_shape, test_accuracy_cnn1_shape))"
      ],
      "metadata": {
        "colab": {
          "base_uri": "https://localhost:8080/"
        },
        "id": "u0q5GQ0Ree54",
        "outputId": "bab37df7-69bd-4ecb-cba9-28d03338559e"
      },
      "execution_count": 93,
      "outputs": [
        {
          "output_type": "stream",
          "name": "stdout",
          "text": [
            "93/93 [==============================] - 11s 117ms/step - loss: 1.6138 - accuracy: 0.1437\n",
            "Training Data for Shape - Loss: 1.6138, Accuracy: 0.1437\n",
            "18/18 [==============================] - 2s 114ms/step - loss: 1.6146 - accuracy: 0.1552\n",
            "Validation Data for Shape - Loss: 1.6146, Accuracy: 0.1552\n",
            "6/6 [==============================] - 1s 118ms/step - loss: 1.6149 - accuracy: 0.1436\n",
            "Testing Data for Shape - Loss: 1.6149, Accuracy: 0.1436\n"
          ]
        }
      ]
    },
    {
      "cell_type": "markdown",
      "source": [
        "Best paremeter"
      ],
      "metadata": {
        "id": "YKv7mEbBgSD5"
      }
    },
    {
      "cell_type": "markdown",
      "source": [
        "Improving model\n",
        "\n",
        "After analyzing the baseline model, it has been observed that the model exhibits signs of overfitting. It occurs when the model performs well on the training data but fails to generalize effectively to unseen data. To prevent overfitting, we can apply some common effective techniques used in machine learning to improve the performance of the model and prevent overfitting. For example:\n",
        "\n",
        "- 1. Ridge regularisation\n",
        "- 2. Dropout\n",
        "- 3. Reduce model complexity\n",
        "- 4. Data augmentation\n",
        "\n",
        "More detailed explanation of these techniques will be provided in subsequent sections."
      ],
      "metadata": {
        "id": "CgIWT3p-MWGq"
      }
    },
    {
      "cell_type": "markdown",
      "source": [
        "### **Data Augmentation**"
      ],
      "metadata": {
        "id": "M0f-lLhxaNVh"
      }
    },
    {
      "cell_type": "code",
      "source": [
        "from keras.models import Sequential\n",
        "from keras.layers import Conv2D, MaxPooling2D, Flatten, Dense\n",
        "from keras.preprocessing.image import ImageDataGenerator\n",
        "\n",
        "\n",
        "# Initialize the model\n",
        "model_cnn2_shape = Sequential()\n",
        "model_cnn2_shape.add(Conv2D(32, kernel_size=(3, 3), activation='relu', input_shape=INPUT_DIM))\n",
        "model_cnn2_shape.add(MaxPooling2D(pool_size=(2, 2)))\n",
        "model_cnn2_shape.add(Conv2D(64, kernel_size=(3, 3), activation='relu'))\n",
        "model_cnn2_shape.add(MaxPooling2D(pool_size=(2, 2)))\n",
        "model_cnn2_shape.add(Flatten())\n",
        "model_cnn2_shape.add(Dense(128, activation='relu'))\n",
        "model_cnn2_shape.add(Dense(OUTPUT_CLASSES_SHAPE, activation='softmax'))\n",
        "\n",
        "# Compile the model\n",
        "model_cnn2_shape.compile(loss='categorical_crossentropy', optimizer='adam', metrics=['categorical_accuracy',f1])\n",
        "\n",
        "# Configure data augmentation\n",
        "data_generator = ImageDataGenerator(\n",
        "    rotation_range=20,         # Random rotations between 0 and 20 degrees\n",
        "    width_shift_range=0.2,     # Random horizontal shifts up to 20% of the image width\n",
        "    height_shift_range=0.2,    # Random vertical shifts up to 20% of the image height\n",
        "    shear_range=0.15,          # Shear transformations\n",
        "    zoom_range=0.2,            # Random zooming up to 20%\n",
        "    horizontal_flip=True,      # Random horizontal flipping\n",
        "    fill_mode='nearest'        # Strategy to fill newly created pixels\n",
        ")\n",
        "\n",
        "# Print the model summary\n",
        "model_cnn2_shape.summary()\n"
      ],
      "metadata": {
        "colab": {
          "base_uri": "https://localhost:8080/"
        },
        "id": "p5WaE7gi1fUR",
        "outputId": "74b7f6ac-ef94-4b23-ae3e-e4a6a485618d"
      },
      "execution_count": 83,
      "outputs": [
        {
          "output_type": "stream",
          "name": "stdout",
          "text": [
            "Model: \"sequential_17\"\n",
            "_________________________________________________________________\n",
            " Layer (type)                Output Shape              Param #   \n",
            "=================================================================\n",
            " conv2d_29 (Conv2D)          (None, 26, 26, 32)        320       \n",
            "                                                                 \n",
            " max_pooling2d_29 (MaxPooli  (None, 13, 13, 32)        0         \n",
            " ng2D)                                                           \n",
            "                                                                 \n",
            " conv2d_30 (Conv2D)          (None, 11, 11, 64)        18496     \n",
            "                                                                 \n",
            " max_pooling2d_30 (MaxPooli  (None, 5, 5, 64)          0         \n",
            " ng2D)                                                           \n",
            "                                                                 \n",
            " flatten_17 (Flatten)        (None, 1600)              0         \n",
            "                                                                 \n",
            " dense_36 (Dense)            (None, 128)               204928    \n",
            "                                                                 \n",
            " dense_37 (Dense)            (None, 5)                 645       \n",
            "                                                                 \n",
            "=================================================================\n",
            "Total params: 224389 (876.52 KB)\n",
            "Trainable params: 224389 (876.52 KB)\n",
            "Non-trainable params: 0 (0.00 Byte)\n",
            "_________________________________________________________________\n"
          ]
        }
      ]
    },
    {
      "cell_type": "code",
      "source": [
        "\n",
        "history_cnn2_shape = model_cnn2_shape.fit(train_generator_shape, validation_data = validation_generator_shape, epochs=10, verbose=1)"
      ],
      "metadata": {
        "colab": {
          "base_uri": "https://localhost:8080/"
        },
        "id": "soVxqqNkabAb",
        "outputId": "48a66adf-874a-4df3-f18d-3b93a3bb4a28"
      },
      "execution_count": 84,
      "outputs": [
        {
          "output_type": "stream",
          "name": "stdout",
          "text": [
            "Epoch 1/10\n",
            "93/93 [==============================] - 16s 156ms/step - loss: 0.7309 - categorical_accuracy: 0.7599 - f1: 0.6607 - val_loss: 0.3471 - val_categorical_accuracy: 0.9097 - val_f1: 0.8877\n",
            "Epoch 2/10\n",
            "93/93 [==============================] - 15s 157ms/step - loss: 0.1873 - categorical_accuracy: 0.9479 - f1: 0.9438 - val_loss: 0.1195 - val_categorical_accuracy: 0.9675 - val_f1: 0.9676\n",
            "Epoch 3/10\n",
            "93/93 [==============================] - 15s 160ms/step - loss: 0.0940 - categorical_accuracy: 0.9726 - f1: 0.9734 - val_loss: 0.0595 - val_categorical_accuracy: 0.9801 - val_f1: 0.9816\n",
            "Epoch 4/10\n",
            "93/93 [==============================] - 15s 161ms/step - loss: 0.0490 - categorical_accuracy: 0.9885 - f1: 0.9872 - val_loss: 0.0745 - val_categorical_accuracy: 0.9711 - val_f1: 0.9731\n",
            "Epoch 5/10\n",
            "93/93 [==============================] - 14s 155ms/step - loss: 0.0359 - categorical_accuracy: 0.9902 - f1: 0.9901 - val_loss: 0.0290 - val_categorical_accuracy: 0.9928 - val_f1: 0.9922\n",
            "Epoch 6/10\n",
            "93/93 [==============================] - 15s 164ms/step - loss: 0.0346 - categorical_accuracy: 0.9905 - f1: 0.9904 - val_loss: 0.0507 - val_categorical_accuracy: 0.9819 - val_f1: 0.9835\n",
            "Epoch 7/10\n",
            "93/93 [==============================] - 15s 163ms/step - loss: 0.0159 - categorical_accuracy: 0.9973 - f1: 0.9973 - val_loss: 0.0261 - val_categorical_accuracy: 0.9910 - val_f1: 0.9913\n",
            "Epoch 8/10\n",
            "93/93 [==============================] - 15s 162ms/step - loss: 0.0117 - categorical_accuracy: 0.9980 - f1: 0.9980 - val_loss: 0.0550 - val_categorical_accuracy: 0.9838 - val_f1: 0.9826\n",
            "Epoch 9/10\n",
            "93/93 [==============================] - 14s 151ms/step - loss: 0.0197 - categorical_accuracy: 0.9939 - f1: 0.9939 - val_loss: 0.0414 - val_categorical_accuracy: 0.9856 - val_f1: 0.9869\n",
            "Epoch 10/10\n",
            "93/93 [==============================] - 15s 160ms/step - loss: 0.0071 - categorical_accuracy: 0.9990 - f1: 0.9990 - val_loss: 0.0205 - val_categorical_accuracy: 0.9928 - val_f1: 0.9931\n"
          ]
        }
      ]
    },
    {
      "cell_type": "code",
      "source": [
        "plot_learning_curve(history_cnn2_shape.history['loss'],  history_cnn2_shape.history['val_loss'],\n",
        "                    history_cnn2_shape.history['categorical_accuracy'], history_cnn2_shape.history['val_categorical_accuracy'],\n",
        "                    metric_name='Accuracy')"
      ],
      "metadata": {
        "colab": {
          "base_uri": "https://localhost:8080/",
          "height": 465
        },
        "id": "SUSKz7mx1fQo",
        "outputId": "504425ce-66f1-4408-b89c-ee05d386f860"
      },
      "execution_count": 85,
      "outputs": [
        {
          "output_type": "display_data",
          "data": {
            "text/plain": [
              "<Figure size 1000x500 with 2 Axes>"
            ],
            "image/png": "[encoded data removed]"
          },
          "metadata": {}
        }
      ]
    },
    {
      "cell_type": "code",
      "source": [
        "# Evaluate the model on the training data\n",
        "train_loss_cnn2_shape, train_accuracy_cnn2_shape = model_cnn2_shape.evaluate(train_generator_shape)\n",
        "print(\"Training Data for Types - Loss: {:.4f}, Accuracy: {:.4f}\".format(train_loss_mlp_type, train_accuracy_mlp_shape))\n",
        "\n",
        "# Evaluate the model on the validation data\n",
        "val_loss_cnn2_shape, val_accuracy_cnn2_shape = model_cnn2_shape.evaluate(validation_generator_type)\n",
        "print(\"Validation Data for Types - Loss: {:.4f}, Accuracy: {:.4f}\".format(val_loss_mlp_type, val_accuracy_mlp_shape))\n",
        "\n",
        "# Evaluate the model on the testing data\n",
        "test_loss_cnn2_shape, test_accuracy_cnn2_shape = model_cnn2_shape.evaluate(test_generator_type)\n",
        "print(\"Testing Data for Types - Loss: {:.4f}, Accuracy: {:.4f}\".format(test_loss_mlp_type, test_accuracy_mlp_shape))"
      ],
      "metadata": {
        "colab": {
          "base_uri": "https://localhost:8080/",
          "height": 228
        },
        "id": "jfLl71qM1fIG",
        "outputId": "160e732d-6a29-4aec-87c8-f235331209d8"
      },
      "execution_count": 89,
      "outputs": [
        {
          "output_type": "stream",
          "name": "stdout",
          "text": [
            "93/93 [==============================] - 17s 184ms/step - loss: 0.0040 - categorical_accuracy: 0.9997 - f1: 0.9997\n"
          ]
        },
        {
          "output_type": "error",
          "ename": "ValueError",
          "evalue": "too many values to unpack (expected 2)",
          "traceback": [
            "\u001b[0;31m---------------------------------------------------------------------------\u001b[0m",
            "\u001b[0;31mValueError\u001b[0m                                Traceback (most recent call last)",
            "\u001b[0;32m<ipython-input-89-0fe3d0a74398>\u001b[0m in \u001b[0;36m<cell line: 2>\u001b[0;34m()\u001b[0m\n\u001b[1;32m      1\u001b[0m \u001b[0;31m# Evaluate the model on the training data\u001b[0m\u001b[0;34m\u001b[0m\u001b[0;34m\u001b[0m\u001b[0m\n\u001b[0;32m----> 2\u001b[0;31m \u001b[0mtrain_loss_cnn2_shape\u001b[0m\u001b[0;34m,\u001b[0m \u001b[0mtrain_accuracy_cnn2_shape\u001b[0m \u001b[0;34m=\u001b[0m \u001b[0mmodel_cnn2_shape\u001b[0m\u001b[0;34m.\u001b[0m\u001b[0mevaluate\u001b[0m\u001b[0;34m(\u001b[0m\u001b[0mtrain_generator_shape\u001b[0m\u001b[0;34m)\u001b[0m\u001b[0;34m\u001b[0m\u001b[0;34m\u001b[0m\u001b[0m\n\u001b[0m\u001b[1;32m      3\u001b[0m \u001b[0mprint\u001b[0m\u001b[0;34m(\u001b[0m\u001b[0;34m\"Training Data for Types - Loss: {:.4f}, Accuracy: {:.4f}\"\u001b[0m\u001b[0;34m.\u001b[0m\u001b[0mformat\u001b[0m\u001b[0;34m(\u001b[0m\u001b[0mtrain_loss_mlp_type\u001b[0m\u001b[0;34m,\u001b[0m \u001b[0mtrain_accuracy_mlp_shape\u001b[0m\u001b[0;34m)\u001b[0m\u001b[0;34m)\u001b[0m\u001b[0;34m\u001b[0m\u001b[0;34m\u001b[0m\u001b[0m\n\u001b[1;32m      4\u001b[0m \u001b[0;34m\u001b[0m\u001b[0m\n\u001b[1;32m      5\u001b[0m \u001b[0;31m# Evaluate the model on the validation data\u001b[0m\u001b[0;34m\u001b[0m\u001b[0;34m\u001b[0m\u001b[0m\n",
            "\u001b[0;31mValueError\u001b[0m: too many values to unpack (expected 2)"
          ]
        }
      ]
    },
    {
      "cell_type": "code",
      "source": [],
      "metadata": {
        "id": "ST3NsOCKdPVw"
      },
      "execution_count": null,
      "outputs": []
    }
  ]
}