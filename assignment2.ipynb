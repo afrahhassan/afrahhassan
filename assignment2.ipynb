{
  "nbformat": 4,
  "nbformat_minor": 0,
  "metadata": {
    "colab": {
      "provenance": [],
      "include_colab_link": true
    },
    "kernelspec": {
      "name": "python3",
      "display_name": "Python 3"
    },
    "language_info": {
      "name": "python"
    }
  },
  "cells": [
    {
      "cell_type": "markdown",
      "metadata": {
        "id": "view-in-github",
        "colab_type": "text"
      },
      "source": [
        "<a href=\"https://colab.research.google.com/github/afrahhassan/afrahhassan/blob/main/assignment2.ipynb\" target=\"_parent\"><img src=\"https://colab.research.google.com/assets/colab-badge.svg\" alt=\"Open In Colab\"/></a>"
      ]
    },
    {
      "cell_type": "code",
      "execution_count": null,
      "metadata": {
        "colab": {
          "base_uri": "https://localhost:8080/"
        },
        "id": "8uxCvJLvAmcc",
        "outputId": "47355a12-6616-4fd3-afc7-acb188ebd1c7"
      },
      "outputs": [
        {
          "output_type": "stream",
          "name": "stdout",
          "text": [
            " hello\n"
          ]
        }
      ],
      "source": [
        "print (\" hello\")"
      ]
    },
    {
      "cell_type": "code",
      "source": [
        "print (\"hello from Chang\")"
      ],
      "metadata": {
        "id": "g8Rz8C84HGTP",
        "outputId": "01a7cea7-7a2d-4bda-bf57-7301eeb43526",
        "colab": {
          "base_uri": "https://localhost:8080/"
        }
      },
      "execution_count": null,
      "outputs": [
        {
          "output_type": "stream",
          "name": "stdout",
          "text": [
            "hello from Chang\n"
          ]
        }
      ]
    },
    {
      "cell_type": "markdown",
      "source": [
        "# **Reading Data**"
      ],
      "metadata": {
        "id": "rXo92wbxaJEy"
      }
    },
    {
      "cell_type": "code",
      "source": [
        "from google.colab import drive\n",
        "drive.mount('/content/drive')"
      ],
      "metadata": {
        "colab": {
          "base_uri": "https://localhost:8080/"
        },
        "id": "F7CTCiaTZt0S",
        "outputId": "d6ac8cee-a42f-4829-9f38-b75b23b9f560"
      },
      "execution_count": 8,
      "outputs": [
        {
          "output_type": "stream",
          "name": "stdout",
          "text": [
            "Drive already mounted at /content/drive; to attempt to forcibly remount, call drive.mount(\"/content/drive\", force_remount=True).\n"
          ]
        }
      ]
    },
    {
      "cell_type": "code",
      "source": [
        "!cp \"/content/drive/MyDrive/ML/Assignment2\" ."
      ],
      "metadata": {
        "colab": {
          "base_uri": "https://localhost:8080/"
        },
        "id": "-40l_DC_N7v8",
        "outputId": "d2ffd29b-aafe-4e9e-efc2-d91c3b221e34"
      },
      "execution_count": 9,
      "outputs": [
        {
          "output_type": "stream",
          "name": "stdout",
          "text": [
            "cp: -r not specified; omitting directory '/content/drive/MyDrive/ML/Assignment2'\n"
          ]
        }
      ]
    },
    {
      "cell_type": "code",
      "source": [
        "!cp -r \"/content/drive/MyDrive/ML/Assignment2\" .\n"
      ],
      "metadata": {
        "id": "NyMaUWLkbWp6"
      },
      "execution_count": 10,
      "outputs": []
    },
    {
      "cell_type": "code",
      "source": [
        "import zipfile\n",
        "with zipfile.ZipFile('/content/drive/My Drive/ML/Assignment2/trafficsigns_dataset.zip', 'r') as zip_ref:\n",
        "    zip_ref.extractall('/')\n"
      ],
      "metadata": {
        "id": "kNanouJHdLdo"
      },
      "execution_count": 21,
      "outputs": []
    },
    {
      "cell_type": "code",
      "source": [],
      "metadata": {
        "id": "40iCwxK4fqDH"
      },
      "execution_count": null,
      "outputs": []
    }
  ]
}