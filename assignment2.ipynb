{
  "nbformat": 4,
  "nbformat_minor": 0,
  "metadata": {
    "colab": {
      "provenance": [],
      "toc_visible": true,
      "include_colab_link": true
    },
    "kernelspec": {
      "name": "python3",
      "display_name": "Python 3"
    },
    "language_info": {
      "name": "python"
    }
  },
  "cells": [
    {
      "cell_type": "markdown",
      "metadata": {
        "id": "view-in-github",
        "colab_type": "text"
      },
      "source": [
        "<a href=\"https://colab.research.google.com/github/afrahhassan/afrahhassan/blob/main/assignment2.ipynb\" target=\"_parent\"><img src=\"https://colab.research.google.com/assets/colab-badge.svg\" alt=\"Open In Colab\"/></a>"
      ]
    },
    {
      "cell_type": "markdown",
      "source": [
        "# Introduction\n",
        "## Task\n",
        "This report will analyse the methodology used to complete assignment 2 of the course Machine Learning (COSC2673/2793). The objective of the assignment is to develop a machine-learning system that can classify traffic sign images.\n",
        "\n",
        "The project is divided into two tasks:\n",
        "\n",
        "\n",
        "*   Classify images according to the shape of the given image.\n",
        "*    Classify images according to type.\n",
        "\n"
      ],
      "metadata": {
        "id": "bSg4xqPc8rir"
      }
    },
    {
      "cell_type": "markdown",
      "source": [
        "## Approach\n",
        "Our goal is to be able to identify the best possible machine-learning algorithm to generate a model that can reliably and consistently predict whether the type of traffic sign is based on image recognition."
      ],
      "metadata": {
        "id": "wRNwmqGTKEY5"
      }
    },
    {
      "cell_type": "markdown",
      "source": [
        "# **Contact to the Drive**"
      ],
      "metadata": {
        "id": "9PmzuCjISE7S"
      }
    },
    {
      "cell_type": "code",
      "source": [
        "from google.colab import drive\n",
        "import os\n",
        "import csv\n",
        "import numpy as np\n",
        "from sklearn.model_selection import train_test_split\n",
        "import pandas as pd\n",
        "import cv2\n",
        "from PIL import Image\n",
        "from sklearn.preprocessing import LabelEncoder\n"
      ],
      "metadata": {
        "id": "gsVfO_pe7ZM-"
      },
      "execution_count": 175,
      "outputs": []
    },
    {
      "cell_type": "code",
      "source": [
        "!cp -r \"/content/drive/MyDrive/Assignment2\" ."
      ],
      "metadata": {
        "id": "Lul49IWM8_lZ"
      },
      "execution_count": 176,
      "outputs": []
    },
    {
      "cell_type": "code",
      "source": [
        "from google.colab import drive\n",
        "drive.mount('/content/drive')"
      ],
      "metadata": {
        "colab": {
          "base_uri": "https://localhost:8080/"
        },
        "id": "EIscGG5b9m_r",
        "outputId": "0aaac1ba-2377-47e0-d008-226fc0c2ec83"
      },
      "execution_count": 177,
      "outputs": [
        {
          "output_type": "stream",
          "name": "stdout",
          "text": [
            "Drive already mounted at /content/drive; to attempt to forcibly remount, call drive.mount(\"/content/drive\", force_remount=True).\n"
          ]
        }
      ]
    },
    {
      "cell_type": "code",
      "source": [
        "import zipfile\n",
        "with zipfile.ZipFile('/content/drive/MyDrive/Assignment2/trafficsigns_dataset.zip', 'r') as zip_ref:\n",
        "    zip_ref.extractall('./')"
      ],
      "metadata": {
        "id": "ehwv6PY09tAp"
      },
      "execution_count": 178,
      "outputs": []
    },
    {
      "cell_type": "markdown",
      "source": [
        "# **1. Data Exploration**\n",
        "## **1.1 Image Visualization**"
      ],
      "metadata": {
        "id": "dLX2kKbtmKHW"
      }
    },
    {
      "cell_type": "code",
      "source": [
        "import os\n",
        "import zipfile\n",
        "import matplotlib.pyplot as plt\n",
        "import matplotlib.image as mpimg\n",
        "\n",
        "# Path to the ZIP file and extraction directory\n",
        "zip_path = '/content/drive/MyDrive/Assignment2/trafficsigns_dataset.zip'\n",
        "extraction_path = './trafficsigns_dataset'\n",
        "\n",
        "# Extracting the ZIP file\n",
        "with zipfile.ZipFile(zip_path, 'r') as zip_ref:\n",
        "    zip_ref.extractall(extraction_path)\n",
        "\n",
        "# Function to display images\n",
        "def plot_images(images, titles, rows=1, cols=5, figsize=(15, 3)):\n",
        "    fig, axes = plt.subplots(rows, cols, figsize=figsize)\n",
        "    axes = axes.ravel()\n",
        "    for i in range(len(images)):\n",
        "        axes[i].imshow(images[i], cmap='gray')\n",
        "        axes[i].set_title(titles[i], fontsize=8)\n",
        "        axes[i].axis('off')\n",
        "    plt.tight_layout()\n",
        "    plt.show()\n",
        "\n",
        "# Function to collect images from multiple directories\n",
        "def collect_images(directory, extension, num_images=5, cols=5):\n",
        "    images = []\n",
        "    titles = []\n",
        "    # Walk through each folder and subfolder\n",
        "    for root, dirs, files in os.walk(directory):\n",
        "        file_list = [os.path.join(root, file) for file in files if file.endswith(extension)]\n",
        "        if file_list:\n",
        "            selected_files = file_list[:num_images]  # Take up to num_images from each folder\n",
        "            images.extend([mpimg.imread(img) for img in selected_files])\n",
        "            titles.extend(selected_files)\n",
        "        if len(images) >= cols:  # Limit the total number of images to display\n",
        "            break\n",
        "    return images, titles\n",
        "\n",
        "# Collect and display images\n",
        "image_extensions = ('.jpeg', '.jpg', '.png')\n",
        "images, titles = collect_images(extraction_path, image_extensions, num_images=1, cols=5)  # Adjust num_images to pick from each folder\n",
        "plot_images(images, titles)\n"
      ],
      "metadata": {
        "colab": {
          "base_uri": "https://localhost:8080/",
          "height": 293
        },
        "id": "psr7GGPWhJ0U",
        "outputId": "8d978a41-22dc-4463-d360-80432a205512"
      },
      "execution_count": 179,
      "outputs": [
        {
          "output_type": "display_data",
          "data": {
            "text/plain": [
              "<Figure size 1500x300 with 5 Axes>"
            ],
            "image/png": "[encoded data removed]"
          },
          "metadata": {}
        }
      ]
    },
    {
      "cell_type": "markdown",
      "source": [
        "\n",
        "\n",
        "**Observations:**\n",
        "- The traffic sign images exhibit a wide variety of shapes.\n",
        "- Some signs have distinctive shapes (e.g., triangles, circles, octagons), while others have more complex shapes.\n",
        "- The images also vary in terms of background complexity, with some signs having simple backgrounds and others having more cluttered backgrounds.\n",
        "- These observations suggest that a machine-learning algorithm will need to be able to handle a diverse range of image characteristics in order to accurately classify the traffic signs."
      ],
      "metadata": {
        "id": "t1u-epMJ88XG"
      }
    },
    {
      "cell_type": "markdown",
      "source": [
        "## **1.2 Load Data into DataFrame**"
      ],
      "metadata": {
        "id": "EFk9CSkGfJ1J"
      }
    },
    {
      "cell_type": "code",
      "source": [
        "import os\n",
        "import cv2\n",
        "import pandas as pd\n",
        "\n",
        "def load_images_into_dataframes(data_dir):\n",
        "    \"\"\"\n",
        "    Function to load images from a directory into separate Pandas DataFrames for shape and type.\n",
        "\n",
        "    Args:\n",
        "    - data_dir (str): Path to the directory containing the data.\n",
        "\n",
        "    Returns:\n",
        "    - shape_df (DataFrame): Pandas DataFrame containing shape data with images loaded.\n",
        "    - type_df (DataFrame): Pandas DataFrame containing type data with images loaded.\n",
        "    \"\"\"\n",
        "    shape_data = []\n",
        "    type_data = []\n",
        "\n",
        "    # Iterate through shape folders\n",
        "    for shape_folder in os.listdir(data_dir):\n",
        "        shape_folder_path = os.path.join(data_dir, shape_folder)\n",
        "\n",
        "        # Skip non-directory files\n",
        "        if not os.path.isdir(shape_folder_path):\n",
        "            continue\n",
        "\n",
        "        # Iterate through sign type folders\n",
        "        for sign_type_folder in os.listdir(shape_folder_path):\n",
        "            sign_type_folder_path = os.path.join(shape_folder_path, sign_type_folder)\n",
        "\n",
        "            # Skip non-directory files\n",
        "            if not os.path.isdir(sign_type_folder_path):\n",
        "                continue\n",
        "\n",
        "            # Iterate through image files\n",
        "            for image_file in os.listdir(sign_type_folder_path):\n",
        "                image_path = os.path.join(sign_type_folder_path, image_file)\n",
        "\n",
        "                # Check if the file is an image\n",
        "                if not image_path.endswith(('.jpg', '.jpeg', '.png', '.bmp', '.gif')):\n",
        "                    print(f\"Skipping non-image file: {image_path}\")\n",
        "                    continue\n",
        "\n",
        "                # Load the image\n",
        "                image = cv2.imread(image_path, cv2.IMREAD_GRAYSCALE)\n",
        "\n",
        "                # Check if the image is null\n",
        "                if image is None:\n",
        "                    print(f\"Skipping null image: {image_path}\")\n",
        "                    continue\n",
        "\n",
        "                # Append image and labels to the respective data lists\n",
        "                shape_data.append((image_path, image, shape_folder))\n",
        "                type_data.append((image_path, image, sign_type_folder))\n",
        "\n",
        "    # Create DataFrames from the collected data\n",
        "    shape_df = pd.DataFrame(shape_data, columns=['image_path', 'image', 'shape_label'])\n",
        "    type_df = pd.DataFrame(type_data, columns=['image_path', 'image', 'type_label'])\n",
        "\n",
        "    return shape_df, type_df\n",
        "\n",
        "# Example usage\n",
        "# data_dir = \"trafficsigns_dataset\"\n",
        "data_dir = \"/content/drive/My Drive/Assignment2/trafficsigns_dataset\"\n",
        "shape_df, type_df = load_images_into_dataframes(data_dir)\n",
        "\n",
        "print(\"Shape DataFrame:\")\n",
        "print(shape_df.head())\n",
        "\n",
        "print(\"\\nType DataFrame:\")\n",
        "print(type_df.head())\n"
      ],
      "metadata": {
        "colab": {
          "base_uri": "https://localhost:8080/"
        },
        "id": "muY3UHBWQV_G",
        "outputId": "ea9eb4f1-ef9f-4136-f4ca-4944c20eb13a"
      },
      "execution_count": 180,
      "outputs": [
        {
          "output_type": "stream",
          "name": "stdout",
          "text": [
            "Skipping non-image file: /content/drive/My Drive/Assignment2/trafficsigns_dataset/triangle/warning/.DS_Store\n",
            "Shape DataFrame:\n",
            "                                          image_path  \\\n",
            "0  /content/drive/My Drive/Assignment2/trafficsig...   \n",
            "1  /content/drive/My Drive/Assignment2/trafficsig...   \n",
            "2  /content/drive/My Drive/Assignment2/trafficsig...   \n",
            "3  /content/drive/My Drive/Assignment2/trafficsig...   \n",
            "4  /content/drive/My Drive/Assignment2/trafficsig...   \n",
            "\n",
            "                                               image shape_label  \n",
            "0  [[60, 64, 47, 39, 46, 33, 30, 33, 19, 24, 15, ...      square  \n",
            "1  [[73, 63, 59, 55, 46, 51, 52, 52, 61, 56, 57, ...      square  \n",
            "2  [[255, 255, 255, 255, 255, 254, 254, 254, 255,...      square  \n",
            "3  [[37, 31, 30, 31, 30, 42, 37, 36, 35, 37, 35, ...      square  \n",
            "4  [[117, 88, 77, 96, 87, 72, 79, 91, 80, 78, 76,...      square  \n",
            "\n",
            "Type DataFrame:\n",
            "                                          image_path  \\\n",
            "0  /content/drive/My Drive/Assignment2/trafficsig...   \n",
            "1  /content/drive/My Drive/Assignment2/trafficsig...   \n",
            "2  /content/drive/My Drive/Assignment2/trafficsig...   \n",
            "3  /content/drive/My Drive/Assignment2/trafficsig...   \n",
            "4  /content/drive/My Drive/Assignment2/trafficsig...   \n",
            "\n",
            "                                               image type_label  \n",
            "0  [[60, 64, 47, 39, 46, 33, 30, 33, 19, 24, 15, ...   crossing  \n",
            "1  [[73, 63, 59, 55, 46, 51, 52, 52, 61, 56, 57, ...   crossing  \n",
            "2  [[255, 255, 255, 255, 255, 254, 254, 254, 255,...   crossing  \n",
            "3  [[37, 31, 30, 31, 30, 42, 37, 36, 35, 37, 35, ...   crossing  \n",
            "4  [[117, 88, 77, 96, 87, 72, 79, 91, 80, 78, 76,...   crossing  \n"
          ]
        }
      ]
    },
    {
      "cell_type": "markdown",
      "source": [
        "## **1.3 Check the Data Set**"
      ],
      "metadata": {
        "id": "CY4NUiX6fmjD"
      }
    },
    {
      "cell_type": "code",
      "source": [
        "# Check the size of the Shape DataFrame\n",
        "print(\"DataFrame Size:\")\n",
        "print(shape_df.shape)\n",
        "\n",
        "# Display basic information about the Shape DataFrame\n",
        "print(\"\\nDataFrame Information:\")\n",
        "print(shape_df.info())\n",
        "\n",
        "# Display descriptive statistics of the Shape DataFrame\n",
        "print(\"\\nDataFrame Descriptive Statistics:\")\n",
        "print(shape_df.describe())"
      ],
      "metadata": {
        "colab": {
          "base_uri": "https://localhost:8080/"
        },
        "id": "9ozR6z_xfen1",
        "outputId": "c3a77f49-cf85-4029-d4d1-16d93b87fdcb"
      },
      "execution_count": 181,
      "outputs": [
        {
          "output_type": "stream",
          "name": "stdout",
          "text": [
            "DataFrame Size:\n",
            "(3699, 3)\n",
            "\n",
            "DataFrame Information:\n",
            "<class 'pandas.core.frame.DataFrame'>\n",
            "RangeIndex: 3699 entries, 0 to 3698\n",
            "Data columns (total 3 columns):\n",
            " #   Column       Non-Null Count  Dtype \n",
            "---  ------       --------------  ----- \n",
            " 0   image_path   3699 non-null   object\n",
            " 1   image        3699 non-null   object\n",
            " 2   shape_label  3699 non-null   object\n",
            "dtypes: object(3)\n",
            "memory usage: 86.8+ KB\n",
            "None\n",
            "\n",
            "DataFrame Descriptive Statistics:\n",
            "                                               image_path  \\\n",
            "count                                                3699   \n",
            "unique                                               3699   \n",
            "top     /content/drive/My Drive/Assignment2/trafficsig...   \n",
            "freq                                                    1   \n",
            "\n",
            "                                                    image shape_label  \n",
            "count                                                3699        3699  \n",
            "unique                                               3699           5  \n",
            "top     [[60, 64, 47, 39, 46, 33, 30, 33, 19, 24, 15, ...       round  \n",
            "freq                                                    1        1760  \n"
          ]
        }
      ]
    },
    {
      "cell_type": "code",
      "source": [
        "# Check the size of the Type DataFrame\n",
        "print(\"DataFrame Size:\")\n",
        "print(type_df.shape)\n",
        "\n",
        "# Display basic information about the Type DataFrame\n",
        "print(\"\\nDataFrame Information:\")\n",
        "print(type_df.info())\n",
        "\n",
        "# Display descriptive statistics of the Type DataFrame\n",
        "print(\"\\nDataFrame Descriptive Statistics:\")\n",
        "print(type_df.describe())"
      ],
      "metadata": {
        "colab": {
          "base_uri": "https://localhost:8080/"
        },
        "id": "zWF-hEnwdcl_",
        "outputId": "bba92f42-bb89-44c7-fe3c-0d1554ce1230"
      },
      "execution_count": 182,
      "outputs": [
        {
          "output_type": "stream",
          "name": "stdout",
          "text": [
            "DataFrame Size:\n",
            "(3699, 3)\n",
            "\n",
            "DataFrame Information:\n",
            "<class 'pandas.core.frame.DataFrame'>\n",
            "RangeIndex: 3699 entries, 0 to 3698\n",
            "Data columns (total 3 columns):\n",
            " #   Column      Non-Null Count  Dtype \n",
            "---  ------      --------------  ----- \n",
            " 0   image_path  3699 non-null   object\n",
            " 1   image       3699 non-null   object\n",
            " 2   type_label  3699 non-null   object\n",
            "dtypes: object(3)\n",
            "memory usage: 86.8+ KB\n",
            "None\n",
            "\n",
            "DataFrame Descriptive Statistics:\n",
            "                                               image_path  \\\n",
            "count                                                3699   \n",
            "unique                                               3699   \n",
            "top     /content/drive/My Drive/Assignment2/trafficsig...   \n",
            "freq                                                    1   \n",
            "\n",
            "                                                    image type_label  \n",
            "count                                                3699       3699  \n",
            "unique                                               3699         16  \n",
            "top     [[60, 64, 47, 39, 46, 33, 30, 33, 19, 24, 15, ...    warning  \n",
            "freq                                                    1        695  \n"
          ]
        }
      ]
    },
    {
      "cell_type": "code",
      "source": [
        "# Number of data points\n",
        "num_data_points_1 = len(type_df)\n",
        "print(\"Number of Data Points:\", num_data_points_1)\n",
        "\n",
        "num_data_points_2 = len(shape_df)\n",
        "print(\"Number of Data Points:\", num_data_points_2\n",
        "      )\n",
        "\n",
        "# Count of unique shapes\n",
        "num_unique_shapes = shape_df['shape_label'].nunique()\n",
        "print(\"Number of Unique Image Shapes:\", num_unique_shapes)\n",
        "\n",
        "# Count of unique types\n",
        "num_unique_types = type_df['type_label'].nunique()\n",
        "print(\"Number of Unique Image Types:\", num_unique_types)"
      ],
      "metadata": {
        "colab": {
          "base_uri": "https://localhost:8080/"
        },
        "id": "kxq8UbWzeAh5",
        "outputId": "d0eec358-da58-4ed4-c8e6-6757c6a22c49"
      },
      "execution_count": 183,
      "outputs": [
        {
          "output_type": "stream",
          "name": "stdout",
          "text": [
            "Number of Data Points: 3699\n",
            "Number of Data Points: 3699\n",
            "Number of Unique Image Shapes: 5\n",
            "Number of Unique Image Types: 16\n"
          ]
        }
      ]
    },
    {
      "cell_type": "code",
      "source": [
        "# Number of each shape\n",
        "shape_counts = shape_df['shape_label'].value_counts()\n",
        "print(\"Number of Each Shape Type:\")\n",
        "print(shape_counts)\n",
        "\n",
        "# Number of each type\n",
        "type_counts = type_df['type_label'].value_counts()\n",
        "print(\"\\nNumber of Each Type:\")\n",
        "print(type_counts)"
      ],
      "metadata": {
        "colab": {
          "base_uri": "https://localhost:8080/"
        },
        "collapsed": true,
        "id": "FGbgIKMd-2re",
        "outputId": "35b73c61-1ca6-487b-fc98-6d1def3aa70b"
      },
      "execution_count": 184,
      "outputs": [
        {
          "output_type": "stream",
          "name": "stdout",
          "text": [
            "Number of Each Shape Type:\n",
            "shape_label\n",
            "round       1760\n",
            "triangle     926\n",
            "square       688\n",
            "diamond      282\n",
            "hex           43\n",
            "Name: count, dtype: int64\n",
            "\n",
            "Number of Each Type:\n",
            "type_label\n",
            "warning             695\n",
            "noentry             375\n",
            "speed               316\n",
            "bicycle             285\n",
            "rightofway          282\n",
            "parking             276\n",
            "noparking           242\n",
            "giveway             231\n",
            "continue            199\n",
            "trafficdirective    195\n",
            "limitedtraffic      125\n",
            "traveldirection     124\n",
            "laneend             118\n",
            "roundabout           98\n",
            "crossing             95\n",
            "stop                 43\n",
            "Name: count, dtype: int64\n"
          ]
        }
      ]
    },
    {
      "cell_type": "code",
      "source": [
        "import matplotlib.pyplot as plt\n",
        "def plot_samples(data_df, num_samples=5):\n",
        "    \"\"\"\n",
        "    Function to plot sample images from a DataFrame along with their labels.\n",
        "\n",
        "    Args:\n",
        "    - data_df (DataFrame): DataFrame containing image data and labels.\n",
        "    - num_samples (int): Number of samples to plot.\n",
        "\n",
        "    Returns:\n",
        "    - None\n",
        "    \"\"\"\n",
        "\n",
        "    fig, axes = plt.subplots(1, num_samples, figsize=(15, 3))\n",
        "\n",
        "    for i in range(num_samples):\n",
        "        sample = data_df.sample()  # Sampling from the DataFrame passed as input\n",
        "        image = sample['image'].values[0]  # Assuming 'image' contains the image data\n",
        "        label = sample['shape_label'].values[0] if 'shape_label' in data_df.columns else sample['type_label'].values[0]\n",
        "        axes[i].imshow(image, cmap='gray')  # Assuming grayscale images\n",
        "        axes[i].set_title(label)\n",
        "        axes[i].axis('off')\n",
        "\n",
        "    plt.show()\n",
        "\n",
        "\n",
        "# Plot sample images from the shape DataFrame\n",
        "print(\"Samples from Shape DataFrame:\")\n",
        "plot_samples(shape_df)\n",
        "\n",
        "# Plot sample images from the type DataFrame\n",
        "print(\"Samples from Type DataFrame:\")\n",
        "plot_samples(type_df)\n"
      ],
      "metadata": {
        "colab": {
          "base_uri": "https://localhost:8080/",
          "height": 536
        },
        "id": "gW2eHXdTgC6f",
        "outputId": "7ba062d1-d62c-4df2-c2e6-68de8328a129"
      },
      "execution_count": 185,
      "outputs": [
        {
          "output_type": "stream",
          "name": "stdout",
          "text": [
            "Samples from Shape DataFrame:\n"
          ]
        },
        {
          "output_type": "display_data",
          "data": {
            "text/plain": [
              "<Figure size 1500x300 with 5 Axes>"
            ],
            "image/png": "[encoded data removed]"
          },
          "metadata": {}
        },
        {
          "output_type": "stream",
          "name": "stdout",
          "text": [
            "Samples from Type DataFrame:\n"
          ]
        },
        {
          "output_type": "display_data",
          "data": {
            "text/plain": [
              "<Figure size 1500x300 with 5 Axes>"
            ],
            "image/png": "[encoded data removed]"
          },
          "metadata": {}
        }
      ]
    },
    {
      "cell_type": "code",
      "source": [
        "from sklearn.preprocessing import LabelEncoder\n",
        "\n",
        "# Create LabelEncoder instance\n",
        "label_encoder = LabelEncoder()\n",
        "\n",
        "# Fit and transform the shape labels\n",
        "shape_labels_encoded = label_encoder.fit_transform(shape_df['shape_label'])\n",
        "\n",
        "# Add the encoded labels as a new column in shape_df\n",
        "shape_df['encoded_shape_label'] = shape_labels_encoded\n",
        "\n",
        "# Display the updated shape_df\n",
        "shape_df.head()"
      ],
      "metadata": {
        "colab": {
          "base_uri": "https://localhost:8080/",
          "height": 206
        },
        "id": "dwR8mNBGgIsU",
        "outputId": "8ddab2f8-98b3-43a0-86c1-cbc4366e654d"
      },
      "execution_count": 186,
      "outputs": [
        {
          "output_type": "execute_result",
          "data": {
            "text/plain": [
              "                                          image_path  \\\n",
              "0  /content/drive/My Drive/Assignment2/trafficsig...   \n",
              "1  /content/drive/My Drive/Assignment2/trafficsig...   \n",
              "2  /content/drive/My Drive/Assignment2/trafficsig...   \n",
              "3  /content/drive/My Drive/Assignment2/trafficsig...   \n",
              "4  /content/drive/My Drive/Assignment2/trafficsig...   \n",
              "\n",
              "                                               image shape_label  \\\n",
              "0  [[60, 64, 47, 39, 46, 33, 30, 33, 19, 24, 15, ...      square   \n",
              "1  [[73, 63, 59, 55, 46, 51, 52, 52, 61, 56, 57, ...      square   \n",
              "2  [[255, 255, 255, 255, 255, 254, 254, 254, 255,...      square   \n",
              "3  [[37, 31, 30, 31, 30, 42, 37, 36, 35, 37, 35, ...      square   \n",
              "4  [[117, 88, 77, 96, 87, 72, 79, 91, 80, 78, 76,...      square   \n",
              "\n",
              "   encoded_shape_label  \n",
              "0                    3  \n",
              "1                    3  \n",
              "2                    3  \n",
              "3                    3  \n",
              "4                    3  "
            ],
            "text/html": [
              "\n",
              "  <div id=\"df-53138062-e49a-4507-a684-76d8af3492e8\" class=\"colab-df-container\">\n",
              "    <div>\n",
              "<style scoped>\n",
              "    .dataframe tbody tr th:only-of-type {\n",
              "        vertical-align: middle;\n",
              "    }\n",
              "\n",
              "    .dataframe tbody tr th {\n",
              "        vertical-align: top;\n",
              "    }\n",
              "\n",
              "    .dataframe thead th {\n",
              "        text-align: right;\n",
              "    }\n",
              "</style>\n",
              "<table border=\"1\" class=\"dataframe\">\n",
              "  <thead>\n",
              "    <tr style=\"text-align: right;\">\n",
              "      <th></th>\n",
              "      <th>image_path</th>\n",
              "      <th>image</th>\n",
              "      <th>shape_label</th>\n",
              "      <th>encoded_shape_label</th>\n",
              "    </tr>\n",
              "  </thead>\n",
              "  <tbody>\n",
              "    <tr>\n",
              "      <th>0</th>\n",
              "      <td>/content/drive/My Drive/Assignment2/trafficsig...</td>\n",
              "      <td>[[60, 64, 47, 39, 46, 33, 30, 33, 19, 24, 15, ...</td>\n",
              "      <td>square</td>\n",
              "      <td>3</td>\n",
              "    </tr>\n",
              "    <tr>\n",
              "      <th>1</th>\n",
              "      <td>/content/drive/My Drive/Assignment2/trafficsig...</td>\n",
              "      <td>[[73, 63, 59, 55, 46, 51, 52, 52, 61, 56, 57, ...</td>\n",
              "      <td>square</td>\n",
              "      <td>3</td>\n",
              "    </tr>\n",
              "    <tr>\n",
              "      <th>2</th>\n",
              "      <td>/content/drive/My Drive/Assignment2/trafficsig...</td>\n",
              "      <td>[[255, 255, 255, 255, 255, 254, 254, 254, 255,...</td>\n",
              "      <td>square</td>\n",
              "      <td>3</td>\n",
              "    </tr>\n",
              "    <tr>\n",
              "      <th>3</th>\n",
              "      <td>/content/drive/My Drive/Assignment2/trafficsig...</td>\n",
              "      <td>[[37, 31, 30, 31, 30, 42, 37, 36, 35, 37, 35, ...</td>\n",
              "      <td>square</td>\n",
              "      <td>3</td>\n",
              "    </tr>\n",
              "    <tr>\n",
              "      <th>4</th>\n",
              "      <td>/content/drive/My Drive/Assignment2/trafficsig...</td>\n",
              "      <td>[[117, 88, 77, 96, 87, 72, 79, 91, 80, 78, 76,...</td>\n",
              "      <td>square</td>\n",
              "      <td>3</td>\n",
              "    </tr>\n",
              "  </tbody>\n",
              "</table>\n",
              "</div>\n",
              "    <div class=\"colab-df-buttons\">\n",
              "\n",
              "  <div class=\"colab-df-container\">\n",
              "    <button class=\"colab-df-convert\" onclick=\"convertToInteractive('df-53138062-e49a-4507-a684-76d8af3492e8')\"\n",
              "            title=\"Convert this dataframe to an interactive table.\"\n",
              "            style=\"display:none;\">\n",
              "\n",
              "  <svg xmlns=\"http://www.w3.org/2000/svg\" height=\"24px\" viewBox=\"0 -960 960 960\">\n",
              "    <path d=\"M120-120v-720h720v720H120Zm60-500h600v-160H180v160Zm220 220h160v-160H400v160Zm0 220h160v-160H400v160ZM180-400h160v-160H180v160Zm440 0h160v-160H620v160ZM180-180h160v-160H180v160Zm440 0h160v-160H620v160Z\"/>\n",
              "  </svg>\n",
              "    </button>\n",
              "\n",
              "  <style>\n",
              "    .colab-df-container {\n",
              "      display:flex;\n",
              "      gap: 12px;\n",
              "    }\n",
              "\n",
              "    .colab-df-convert {\n",
              "      background-color: #E8F0FE;\n",
              "      border: none;\n",
              "      border-radius: 50%;\n",
              "      cursor: pointer;\n",
              "      display: none;\n",
              "      fill: #1967D2;\n",
              "      height: 32px;\n",
              "      padding: 0 0 0 0;\n",
              "      width: 32px;\n",
              "    }\n",
              "\n",
              "    .colab-df-convert:hover {\n",
              "      background-color: #E2EBFA;\n",
              "      box-shadow: 0px 1px 2px rgba(60, 64, 67, 0.3), 0px 1px 3px 1px rgba(60, 64, 67, 0.15);\n",
              "      fill: #174EA6;\n",
              "    }\n",
              "\n",
              "    .colab-df-buttons div {\n",
              "      margin-bottom: 4px;\n",
              "    }\n",
              "\n",
              "    [theme=dark] .colab-df-convert {\n",
              "      background-color: #3B4455;\n",
              "      fill: #D2E3FC;\n",
              "    }\n",
              "\n",
              "    [theme=dark] .colab-df-convert:hover {\n",
              "      background-color: #434B5C;\n",
              "      box-shadow: 0px 1px 3px 1px rgba(0, 0, 0, 0.15);\n",
              "      filter: drop-shadow(0px 1px 2px rgba(0, 0, 0, 0.3));\n",
              "      fill: #FFFFFF;\n",
              "    }\n",
              "  </style>\n",
              "\n",
              "    <script>\n",
              "      const buttonEl =\n",
              "        document.querySelector('#df-53138062-e49a-4507-a684-76d8af3492e8 button.colab-df-convert');\n",
              "      buttonEl.style.display =\n",
              "        google.colab.kernel.accessAllowed ? 'block' : 'none';\n",
              "\n",
              "      async function convertToInteractive(key) {\n",
              "        const element = document.querySelector('#df-53138062-e49a-4507-a684-76d8af3492e8');\n",
              "        const dataTable =\n",
              "          await google.colab.kernel.invokeFunction('convertToInteractive',\n",
              "                                                    [key], {});\n",
              "        if (!dataTable) return;\n",
              "\n",
              "        const docLinkHtml = 'Like what you see? Visit the ' +\n",
              "          '<a target=\"_blank\" href=https://colab.research.google.com/notebooks/data_table.ipynb>data table notebook</a>'\n",
              "          + ' to learn more about interactive tables.';\n",
              "        element.innerHTML = '';\n",
              "        dataTable['output_type'] = 'display_data';\n",
              "        await google.colab.output.renderOutput(dataTable, element);\n",
              "        const docLink = document.createElement('div');\n",
              "        docLink.innerHTML = docLinkHtml;\n",
              "        element.appendChild(docLink);\n",
              "      }\n",
              "    </script>\n",
              "  </div>\n",
              "\n",
              "\n",
              "<div id=\"df-d95f7d40-bcc3-472f-b2b0-a0ea86a6597b\">\n",
              "  <button class=\"colab-df-quickchart\" onclick=\"quickchart('df-d95f7d40-bcc3-472f-b2b0-a0ea86a6597b')\"\n",
              "            title=\"Suggest charts\"\n",
              "            style=\"display:none;\">\n",
              "\n",
              "<svg xmlns=\"http://www.w3.org/2000/svg\" height=\"24px\"viewBox=\"0 0 24 24\"\n",
              "     width=\"24px\">\n",
              "    <g>\n",
              "        <path d=\"M19 3H5c-1.1 0-2 .9-2 2v14c0 1.1.9 2 2 2h14c1.1 0 2-.9 2-2V5c0-1.1-.9-2-2-2zM9 17H7v-7h2v7zm4 0h-2V7h2v10zm4 0h-2v-4h2v4z\"/>\n",
              "    </g>\n",
              "</svg>\n",
              "  </button>\n",
              "\n",
              "<style>\n",
              "  .colab-df-quickchart {\n",
              "      --bg-color: #E8F0FE;\n",
              "      --fill-color: #1967D2;\n",
              "      --hover-bg-color: #E2EBFA;\n",
              "      --hover-fill-color: #174EA6;\n",
              "      --disabled-fill-color: #AAA;\n",
              "      --disabled-bg-color: #DDD;\n",
              "  }\n",
              "\n",
              "  [theme=dark] .colab-df-quickchart {\n",
              "      --bg-color: #3B4455;\n",
              "      --fill-color: #D2E3FC;\n",
              "      --hover-bg-color: #434B5C;\n",
              "      --hover-fill-color: #FFFFFF;\n",
              "      --disabled-bg-color: #3B4455;\n",
              "      --disabled-fill-color: #666;\n",
              "  }\n",
              "\n",
              "  .colab-df-quickchart {\n",
              "    background-color: var(--bg-color);\n",
              "    border: none;\n",
              "    border-radius: 50%;\n",
              "    cursor: pointer;\n",
              "    display: none;\n",
              "    fill: var(--fill-color);\n",
              "    height: 32px;\n",
              "    padding: 0;\n",
              "    width: 32px;\n",
              "  }\n",
              "\n",
              "  .colab-df-quickchart:hover {\n",
              "    background-color: var(--hover-bg-color);\n",
              "    box-shadow: 0 1px 2px rgba(60, 64, 67, 0.3), 0 1px 3px 1px rgba(60, 64, 67, 0.15);\n",
              "    fill: var(--button-hover-fill-color);\n",
              "  }\n",
              "\n",
              "  .colab-df-quickchart-complete:disabled,\n",
              "  .colab-df-quickchart-complete:disabled:hover {\n",
              "    background-color: var(--disabled-bg-color);\n",
              "    fill: var(--disabled-fill-color);\n",
              "    box-shadow: none;\n",
              "  }\n",
              "\n",
              "  .colab-df-spinner {\n",
              "    border: 2px solid var(--fill-color);\n",
              "    border-color: transparent;\n",
              "    border-bottom-color: var(--fill-color);\n",
              "    animation:\n",
              "      spin 1s steps(1) infinite;\n",
              "  }\n",
              "\n",
              "  @keyframes spin {\n",
              "    0% {\n",
              "      border-color: transparent;\n",
              "      border-bottom-color: var(--fill-color);\n",
              "      border-left-color: var(--fill-color);\n",
              "    }\n",
              "    20% {\n",
              "      border-color: transparent;\n",
              "      border-left-color: var(--fill-color);\n",
              "      border-top-color: var(--fill-color);\n",
              "    }\n",
              "    30% {\n",
              "      border-color: transparent;\n",
              "      border-left-color: var(--fill-color);\n",
              "      border-top-color: var(--fill-color);\n",
              "      border-right-color: var(--fill-color);\n",
              "    }\n",
              "    40% {\n",
              "      border-color: transparent;\n",
              "      border-right-color: var(--fill-color);\n",
              "      border-top-color: var(--fill-color);\n",
              "    }\n",
              "    60% {\n",
              "      border-color: transparent;\n",
              "      border-right-color: var(--fill-color);\n",
              "    }\n",
              "    80% {\n",
              "      border-color: transparent;\n",
              "      border-right-color: var(--fill-color);\n",
              "      border-bottom-color: var(--fill-color);\n",
              "    }\n",
              "    90% {\n",
              "      border-color: transparent;\n",
              "      border-bottom-color: var(--fill-color);\n",
              "    }\n",
              "  }\n",
              "</style>\n",
              "\n",
              "  <script>\n",
              "    async function quickchart(key) {\n",
              "      const quickchartButtonEl =\n",
              "        document.querySelector('#' + key + ' button');\n",
              "      quickchartButtonEl.disabled = true;  // To prevent multiple clicks.\n",
              "      quickchartButtonEl.classList.add('colab-df-spinner');\n",
              "      try {\n",
              "        const charts = await google.colab.kernel.invokeFunction(\n",
              "            'suggestCharts', [key], {});\n",
              "      } catch (error) {\n",
              "        console.error('Error during call to suggestCharts:', error);\n",
              "      }\n",
              "      quickchartButtonEl.classList.remove('colab-df-spinner');\n",
              "      quickchartButtonEl.classList.add('colab-df-quickchart-complete');\n",
              "    }\n",
              "    (() => {\n",
              "      let quickchartButtonEl =\n",
              "        document.querySelector('#df-d95f7d40-bcc3-472f-b2b0-a0ea86a6597b button');\n",
              "      quickchartButtonEl.style.display =\n",
              "        google.colab.kernel.accessAllowed ? 'block' : 'none';\n",
              "    })();\n",
              "  </script>\n",
              "</div>\n",
              "\n",
              "    </div>\n",
              "  </div>\n"
            ],
            "application/vnd.google.colaboratory.intrinsic+json": {
              "type": "dataframe",
              "variable_name": "shape_df",
              "summary": "{\n  \"name\": \"shape_df\",\n  \"rows\": 3699,\n  \"fields\": [\n    {\n      \"column\": \"image_path\",\n      \"properties\": {\n        \"dtype\": \"string\",\n        \"num_unique_values\": 3699,\n        \"samples\": [\n          \"/content/drive/My Drive/Assignment2/trafficsigns_dataset/triangle/warning/00710_00002.png\",\n          \"/content/drive/My Drive/Assignment2/trafficsigns_dataset/round/noentry/01047_00002.png\",\n          \"/content/drive/My Drive/Assignment2/trafficsigns_dataset/square/parking/00035_00002.png\"\n        ],\n        \"semantic_type\": \"\",\n        \"description\": \"\"\n      }\n    },\n    {\n      \"column\": \"image\",\n      \"properties\": {\n        \"dtype\": \"object\",\n        \"semantic_type\": \"\",\n        \"description\": \"\"\n      }\n    },\n    {\n      \"column\": \"shape_label\",\n      \"properties\": {\n        \"dtype\": \"category\",\n        \"num_unique_values\": 5,\n        \"samples\": [\n          \"triangle\",\n          \"diamond\",\n          \"hex\"\n        ],\n        \"semantic_type\": \"\",\n        \"description\": \"\"\n      }\n    },\n    {\n      \"column\": \"encoded_shape_label\",\n      \"properties\": {\n        \"dtype\": \"number\",\n        \"std\": 1,\n        \"min\": 0,\n        \"max\": 4,\n        \"num_unique_values\": 5,\n        \"samples\": [\n          4,\n          0,\n          1\n        ],\n        \"semantic_type\": \"\",\n        \"description\": \"\"\n      }\n    }\n  ]\n}"
            }
          },
          "metadata": {},
          "execution_count": 186
        }
      ]
    },
    {
      "cell_type": "code",
      "source": [
        "from sklearn.preprocessing import LabelEncoder\n",
        "\n",
        "# Create LabelEncoder instance\n",
        "label_encoder = LabelEncoder()\n",
        "\n",
        "# Fit and transform the type labels\n",
        "type_labels_encoded = label_encoder.fit_transform(type_df['type_label'])\n",
        "\n",
        "# Add the encoded labels as a new column in type_df\n",
        "type_df['encoded_type_label'] = type_labels_encoded\n",
        "\n",
        "# Display the updated type_df\n",
        "type_df.head()"
      ],
      "metadata": {
        "colab": {
          "base_uri": "https://localhost:8080/",
          "height": 206
        },
        "id": "JyEt2EkjgMR1",
        "outputId": "a2f09beb-e855-4fe5-a215-6376b80a3f8c"
      },
      "execution_count": 187,
      "outputs": [
        {
          "output_type": "execute_result",
          "data": {
            "text/plain": [
              "                                          image_path  \\\n",
              "0  /content/drive/My Drive/Assignment2/trafficsig...   \n",
              "1  /content/drive/My Drive/Assignment2/trafficsig...   \n",
              "2  /content/drive/My Drive/Assignment2/trafficsig...   \n",
              "3  /content/drive/My Drive/Assignment2/trafficsig...   \n",
              "4  /content/drive/My Drive/Assignment2/trafficsig...   \n",
              "\n",
              "                                               image type_label  \\\n",
              "0  [[60, 64, 47, 39, 46, 33, 30, 33, 19, 24, 15, ...   crossing   \n",
              "1  [[73, 63, 59, 55, 46, 51, 52, 52, 61, 56, 57, ...   crossing   \n",
              "2  [[255, 255, 255, 255, 255, 254, 254, 254, 255,...   crossing   \n",
              "3  [[37, 31, 30, 31, 30, 42, 37, 36, 35, 37, 35, ...   crossing   \n",
              "4  [[117, 88, 77, 96, 87, 72, 79, 91, 80, 78, 76,...   crossing   \n",
              "\n",
              "   encoded_type_label  \n",
              "0                   2  \n",
              "1                   2  \n",
              "2                   2  \n",
              "3                   2  \n",
              "4                   2  "
            ],
            "text/html": [
              "\n",
              "  <div id=\"df-e68e096e-6bca-4f32-93f7-526c37ace4bd\" class=\"colab-df-container\">\n",
              "    <div>\n",
              "<style scoped>\n",
              "    .dataframe tbody tr th:only-of-type {\n",
              "        vertical-align: middle;\n",
              "    }\n",
              "\n",
              "    .dataframe tbody tr th {\n",
              "        vertical-align: top;\n",
              "    }\n",
              "\n",
              "    .dataframe thead th {\n",
              "        text-align: right;\n",
              "    }\n",
              "</style>\n",
              "<table border=\"1\" class=\"dataframe\">\n",
              "  <thead>\n",
              "    <tr style=\"text-align: right;\">\n",
              "      <th></th>\n",
              "      <th>image_path</th>\n",
              "      <th>image</th>\n",
              "      <th>type_label</th>\n",
              "      <th>encoded_type_label</th>\n",
              "    </tr>\n",
              "  </thead>\n",
              "  <tbody>\n",
              "    <tr>\n",
              "      <th>0</th>\n",
              "      <td>/content/drive/My Drive/Assignment2/trafficsig...</td>\n",
              "      <td>[[60, 64, 47, 39, 46, 33, 30, 33, 19, 24, 15, ...</td>\n",
              "      <td>crossing</td>\n",
              "      <td>2</td>\n",
              "    </tr>\n",
              "    <tr>\n",
              "      <th>1</th>\n",
              "      <td>/content/drive/My Drive/Assignment2/trafficsig...</td>\n",
              "      <td>[[73, 63, 59, 55, 46, 51, 52, 52, 61, 56, 57, ...</td>\n",
              "      <td>crossing</td>\n",
              "      <td>2</td>\n",
              "    </tr>\n",
              "    <tr>\n",
              "      <th>2</th>\n",
              "      <td>/content/drive/My Drive/Assignment2/trafficsig...</td>\n",
              "      <td>[[255, 255, 255, 255, 255, 254, 254, 254, 255,...</td>\n",
              "      <td>crossing</td>\n",
              "      <td>2</td>\n",
              "    </tr>\n",
              "    <tr>\n",
              "      <th>3</th>\n",
              "      <td>/content/drive/My Drive/Assignment2/trafficsig...</td>\n",
              "      <td>[[37, 31, 30, 31, 30, 42, 37, 36, 35, 37, 35, ...</td>\n",
              "      <td>crossing</td>\n",
              "      <td>2</td>\n",
              "    </tr>\n",
              "    <tr>\n",
              "      <th>4</th>\n",
              "      <td>/content/drive/My Drive/Assignment2/trafficsig...</td>\n",
              "      <td>[[117, 88, 77, 96, 87, 72, 79, 91, 80, 78, 76,...</td>\n",
              "      <td>crossing</td>\n",
              "      <td>2</td>\n",
              "    </tr>\n",
              "  </tbody>\n",
              "</table>\n",
              "</div>\n",
              "    <div class=\"colab-df-buttons\">\n",
              "\n",
              "  <div class=\"colab-df-container\">\n",
              "    <button class=\"colab-df-convert\" onclick=\"convertToInteractive('df-e68e096e-6bca-4f32-93f7-526c37ace4bd')\"\n",
              "            title=\"Convert this dataframe to an interactive table.\"\n",
              "            style=\"display:none;\">\n",
              "\n",
              "  <svg xmlns=\"http://www.w3.org/2000/svg\" height=\"24px\" viewBox=\"0 -960 960 960\">\n",
              "    <path d=\"M120-120v-720h720v720H120Zm60-500h600v-160H180v160Zm220 220h160v-160H400v160Zm0 220h160v-160H400v160ZM180-400h160v-160H180v160Zm440 0h160v-160H620v160ZM180-180h160v-160H180v160Zm440 0h160v-160H620v160Z\"/>\n",
              "  </svg>\n",
              "    </button>\n",
              "\n",
              "  <style>\n",
              "    .colab-df-container {\n",
              "      display:flex;\n",
              "      gap: 12px;\n",
              "    }\n",
              "\n",
              "    .colab-df-convert {\n",
              "      background-color: #E8F0FE;\n",
              "      border: none;\n",
              "      border-radius: 50%;\n",
              "      cursor: pointer;\n",
              "      display: none;\n",
              "      fill: #1967D2;\n",
              "      height: 32px;\n",
              "      padding: 0 0 0 0;\n",
              "      width: 32px;\n",
              "    }\n",
              "\n",
              "    .colab-df-convert:hover {\n",
              "      background-color: #E2EBFA;\n",
              "      box-shadow: 0px 1px 2px rgba(60, 64, 67, 0.3), 0px 1px 3px 1px rgba(60, 64, 67, 0.15);\n",
              "      fill: #174EA6;\n",
              "    }\n",
              "\n",
              "    .colab-df-buttons div {\n",
              "      margin-bottom: 4px;\n",
              "    }\n",
              "\n",
              "    [theme=dark] .colab-df-convert {\n",
              "      background-color: #3B4455;\n",
              "      fill: #D2E3FC;\n",
              "    }\n",
              "\n",
              "    [theme=dark] .colab-df-convert:hover {\n",
              "      background-color: #434B5C;\n",
              "      box-shadow: 0px 1px 3px 1px rgba(0, 0, 0, 0.15);\n",
              "      filter: drop-shadow(0px 1px 2px rgba(0, 0, 0, 0.3));\n",
              "      fill: #FFFFFF;\n",
              "    }\n",
              "  </style>\n",
              "\n",
              "    <script>\n",
              "      const buttonEl =\n",
              "        document.querySelector('#df-e68e096e-6bca-4f32-93f7-526c37ace4bd button.colab-df-convert');\n",
              "      buttonEl.style.display =\n",
              "        google.colab.kernel.accessAllowed ? 'block' : 'none';\n",
              "\n",
              "      async function convertToInteractive(key) {\n",
              "        const element = document.querySelector('#df-e68e096e-6bca-4f32-93f7-526c37ace4bd');\n",
              "        const dataTable =\n",
              "          await google.colab.kernel.invokeFunction('convertToInteractive',\n",
              "                                                    [key], {});\n",
              "        if (!dataTable) return;\n",
              "\n",
              "        const docLinkHtml = 'Like what you see? Visit the ' +\n",
              "          '<a target=\"_blank\" href=https://colab.research.google.com/notebooks/data_table.ipynb>data table notebook</a>'\n",
              "          + ' to learn more about interactive tables.';\n",
              "        element.innerHTML = '';\n",
              "        dataTable['output_type'] = 'display_data';\n",
              "        await google.colab.output.renderOutput(dataTable, element);\n",
              "        const docLink = document.createElement('div');\n",
              "        docLink.innerHTML = docLinkHtml;\n",
              "        element.appendChild(docLink);\n",
              "      }\n",
              "    </script>\n",
              "  </div>\n",
              "\n",
              "\n",
              "<div id=\"df-8b9effe1-77ca-4032-87df-24c75c4812f8\">\n",
              "  <button class=\"colab-df-quickchart\" onclick=\"quickchart('df-8b9effe1-77ca-4032-87df-24c75c4812f8')\"\n",
              "            title=\"Suggest charts\"\n",
              "            style=\"display:none;\">\n",
              "\n",
              "<svg xmlns=\"http://www.w3.org/2000/svg\" height=\"24px\"viewBox=\"0 0 24 24\"\n",
              "     width=\"24px\">\n",
              "    <g>\n",
              "        <path d=\"M19 3H5c-1.1 0-2 .9-2 2v14c0 1.1.9 2 2 2h14c1.1 0 2-.9 2-2V5c0-1.1-.9-2-2-2zM9 17H7v-7h2v7zm4 0h-2V7h2v10zm4 0h-2v-4h2v4z\"/>\n",
              "    </g>\n",
              "</svg>\n",
              "  </button>\n",
              "\n",
              "<style>\n",
              "  .colab-df-quickchart {\n",
              "      --bg-color: #E8F0FE;\n",
              "      --fill-color: #1967D2;\n",
              "      --hover-bg-color: #E2EBFA;\n",
              "      --hover-fill-color: #174EA6;\n",
              "      --disabled-fill-color: #AAA;\n",
              "      --disabled-bg-color: #DDD;\n",
              "  }\n",
              "\n",
              "  [theme=dark] .colab-df-quickchart {\n",
              "      --bg-color: #3B4455;\n",
              "      --fill-color: #D2E3FC;\n",
              "      --hover-bg-color: #434B5C;\n",
              "      --hover-fill-color: #FFFFFF;\n",
              "      --disabled-bg-color: #3B4455;\n",
              "      --disabled-fill-color: #666;\n",
              "  }\n",
              "\n",
              "  .colab-df-quickchart {\n",
              "    background-color: var(--bg-color);\n",
              "    border: none;\n",
              "    border-radius: 50%;\n",
              "    cursor: pointer;\n",
              "    display: none;\n",
              "    fill: var(--fill-color);\n",
              "    height: 32px;\n",
              "    padding: 0;\n",
              "    width: 32px;\n",
              "  }\n",
              "\n",
              "  .colab-df-quickchart:hover {\n",
              "    background-color: var(--hover-bg-color);\n",
              "    box-shadow: 0 1px 2px rgba(60, 64, 67, 0.3), 0 1px 3px 1px rgba(60, 64, 67, 0.15);\n",
              "    fill: var(--button-hover-fill-color);\n",
              "  }\n",
              "\n",
              "  .colab-df-quickchart-complete:disabled,\n",
              "  .colab-df-quickchart-complete:disabled:hover {\n",
              "    background-color: var(--disabled-bg-color);\n",
              "    fill: var(--disabled-fill-color);\n",
              "    box-shadow: none;\n",
              "  }\n",
              "\n",
              "  .colab-df-spinner {\n",
              "    border: 2px solid var(--fill-color);\n",
              "    border-color: transparent;\n",
              "    border-bottom-color: var(--fill-color);\n",
              "    animation:\n",
              "      spin 1s steps(1) infinite;\n",
              "  }\n",
              "\n",
              "  @keyframes spin {\n",
              "    0% {\n",
              "      border-color: transparent;\n",
              "      border-bottom-color: var(--fill-color);\n",
              "      border-left-color: var(--fill-color);\n",
              "    }\n",
              "    20% {\n",
              "      border-color: transparent;\n",
              "      border-left-color: var(--fill-color);\n",
              "      border-top-color: var(--fill-color);\n",
              "    }\n",
              "    30% {\n",
              "      border-color: transparent;\n",
              "      border-left-color: var(--fill-color);\n",
              "      border-top-color: var(--fill-color);\n",
              "      border-right-color: var(--fill-color);\n",
              "    }\n",
              "    40% {\n",
              "      border-color: transparent;\n",
              "      border-right-color: var(--fill-color);\n",
              "      border-top-color: var(--fill-color);\n",
              "    }\n",
              "    60% {\n",
              "      border-color: transparent;\n",
              "      border-right-color: var(--fill-color);\n",
              "    }\n",
              "    80% {\n",
              "      border-color: transparent;\n",
              "      border-right-color: var(--fill-color);\n",
              "      border-bottom-color: var(--fill-color);\n",
              "    }\n",
              "    90% {\n",
              "      border-color: transparent;\n",
              "      border-bottom-color: var(--fill-color);\n",
              "    }\n",
              "  }\n",
              "</style>\n",
              "\n",
              "  <script>\n",
              "    async function quickchart(key) {\n",
              "      const quickchartButtonEl =\n",
              "        document.querySelector('#' + key + ' button');\n",
              "      quickchartButtonEl.disabled = true;  // To prevent multiple clicks.\n",
              "      quickchartButtonEl.classList.add('colab-df-spinner');\n",
              "      try {\n",
              "        const charts = await google.colab.kernel.invokeFunction(\n",
              "            'suggestCharts', [key], {});\n",
              "      } catch (error) {\n",
              "        console.error('Error during call to suggestCharts:', error);\n",
              "      }\n",
              "      quickchartButtonEl.classList.remove('colab-df-spinner');\n",
              "      quickchartButtonEl.classList.add('colab-df-quickchart-complete');\n",
              "    }\n",
              "    (() => {\n",
              "      let quickchartButtonEl =\n",
              "        document.querySelector('#df-8b9effe1-77ca-4032-87df-24c75c4812f8 button');\n",
              "      quickchartButtonEl.style.display =\n",
              "        google.colab.kernel.accessAllowed ? 'block' : 'none';\n",
              "    })();\n",
              "  </script>\n",
              "</div>\n",
              "\n",
              "    </div>\n",
              "  </div>\n"
            ],
            "application/vnd.google.colaboratory.intrinsic+json": {
              "type": "dataframe",
              "variable_name": "type_df",
              "summary": "{\n  \"name\": \"type_df\",\n  \"rows\": 3699,\n  \"fields\": [\n    {\n      \"column\": \"image_path\",\n      \"properties\": {\n        \"dtype\": \"string\",\n        \"num_unique_values\": 3699,\n        \"samples\": [\n          \"/content/drive/My Drive/Assignment2/trafficsigns_dataset/triangle/warning/00710_00002.png\",\n          \"/content/drive/My Drive/Assignment2/trafficsigns_dataset/round/noentry/01047_00002.png\",\n          \"/content/drive/My Drive/Assignment2/trafficsigns_dataset/square/parking/00035_00002.png\"\n        ],\n        \"semantic_type\": \"\",\n        \"description\": \"\"\n      }\n    },\n    {\n      \"column\": \"image\",\n      \"properties\": {\n        \"dtype\": \"object\",\n        \"semantic_type\": \"\",\n        \"description\": \"\"\n      }\n    },\n    {\n      \"column\": \"type_label\",\n      \"properties\": {\n        \"dtype\": \"category\",\n        \"num_unique_values\": 16,\n        \"samples\": [\n          \"crossing\",\n          \"laneend\",\n          \"warning\"\n        ],\n        \"semantic_type\": \"\",\n        \"description\": \"\"\n      }\n    },\n    {\n      \"column\": \"encoded_type_label\",\n      \"properties\": {\n        \"dtype\": \"number\",\n        \"std\": 4,\n        \"min\": 0,\n        \"max\": 15,\n        \"num_unique_values\": 16,\n        \"samples\": [\n          2,\n          4,\n          15\n        ],\n        \"semantic_type\": \"\",\n        \"description\": \"\"\n      }\n    }\n  ]\n}"
            }
          },
          "metadata": {},
          "execution_count": 187
        }
      ]
    },
    {
      "cell_type": "code",
      "source": [
        "print(\"Unique shapes:\", shape_df['shape_label'].unique())\n",
        "print(\"numbers of shape:\", len(shape_df['shape_label'].unique()))\n",
        "numbers_of_shape = len(shape_df['shape_label'].unique())"
      ],
      "metadata": {
        "colab": {
          "base_uri": "https://localhost:8080/"
        },
        "id": "RsZ4ndopiitU",
        "outputId": "da1c31e4-8fc9-4497-f657-46bfcd8cb017"
      },
      "execution_count": 188,
      "outputs": [
        {
          "output_type": "stream",
          "name": "stdout",
          "text": [
            "Unique shapes: ['square' 'triangle' 'hex' 'round' 'diamond']\n",
            "numbers of shape: 5\n"
          ]
        }
      ]
    },
    {
      "cell_type": "code",
      "source": [
        "print(\"Unique shapes:\", type_df['type_label'].unique())\n",
        "print(\"numbers of shape:\", len(type_df['type_label'].unique()))"
      ],
      "metadata": {
        "colab": {
          "base_uri": "https://localhost:8080/"
        },
        "id": "kjNf4Vo0gMI9",
        "outputId": "1935c5f6-e9bb-4e74-cfca-de185af6380a"
      },
      "execution_count": 189,
      "outputs": [
        {
          "output_type": "stream",
          "name": "stdout",
          "text": [
            "Unique shapes: ['crossing' 'laneend' 'parking' 'continue' 'giveway' 'warning' 'stop'\n",
            " 'limitedtraffic' 'noparking' 'speed' 'noentry' 'trafficdirective'\n",
            " 'roundabout' 'bicycle' 'traveldirection' 'rightofway']\n",
            "numbers of shape: 16\n"
          ]
        }
      ]
    },
    {
      "cell_type": "markdown",
      "source": [
        "## **1.4 Data Distribution**\n"
      ],
      "metadata": {
        "id": "_ffFItsdnG5U"
      }
    },
    {
      "cell_type": "markdown",
      "source": [
        "### **1.4.1 Distribution of images per type class**"
      ],
      "metadata": {
        "id": "SjLaXdKwvb6F"
      }
    },
    {
      "cell_type": "code",
      "source": [
        "def visualize_data_distribution(data_df, title):\n",
        "    \"\"\"\n",
        "    Function to visualize the distribution of data.\n",
        "\n",
        "    Args:\n",
        "    - data_df (DataFrame): Pandas DataFrame containing the data.\n",
        "    - title (str): Title for the plot.\n",
        "    \"\"\"\n",
        "    plt.figure(figsize=(10, 6))\n",
        "    data_counts = data_df['type_label'].value_counts()\n",
        "    data_counts.plot(kind='bar', color='salmon')\n",
        "    plt.title(title)\n",
        "    plt.xlabel('Type Label')\n",
        "    plt.ylabel('Count')\n",
        "    plt.xticks(rotation=45)\n",
        "    plt.grid(axis='y', linestyle='--', alpha=0.7)\n",
        "    plt.tight_layout()\n",
        "    plt.show()\n",
        "\n",
        "# Visualize data distribution for type DataFrame\n",
        "visualize_data_distribution(type_df, 'Type Data Distribution')\n"
      ],
      "metadata": {
        "colab": {
          "base_uri": "https://localhost:8080/",
          "height": 607
        },
        "id": "5tbfy4Hth7Wk",
        "outputId": "f4781f46-2672-4626-d22d-016535c7bdc6"
      },
      "execution_count": 190,
      "outputs": [
        {
          "output_type": "display_data",
          "data": {
            "text/plain": [
              "<Figure size 1000x600 with 1 Axes>"
            ],
            "image/png": "[encoded data removed]"
          },
          "metadata": {}
        }
      ]
    },
    {
      "cell_type": "markdown",
      "source": [
        "**Observations:**\n",
        "- The distribution of images per class is imbalanced, but not as severe as the class distribution for type.\n",
        "- This imbalance could potentially affect the performance of a machine-learning model trained on this data, but to a lesser extent than the type data."
      ],
      "metadata": {
        "id": "UrqqqtPyFNg6"
      }
    },
    {
      "cell_type": "markdown",
      "source": [
        "### **1.4.2 Distribution of images per shape class**"
      ],
      "metadata": {
        "id": "JeYFbB2-nurb"
      }
    },
    {
      "cell_type": "code",
      "source": [
        "import matplotlib.pyplot as plt\n",
        "\n",
        "def visualize_data_distribution(data_df, title):\n",
        "    \"\"\"\n",
        "    Function to visualize the distribution of data.\n",
        "\n",
        "    Args:\n",
        "    - data_df (DataFrame): Pandas DataFrame containing the data.\n",
        "    - title (str): Title for the plot.\n",
        "    \"\"\"\n",
        "    plt.figure(figsize=(10, 6))\n",
        "    data_counts = data_df['shape_label'].value_counts()\n",
        "    data_counts.plot(kind='bar', color='skyblue')\n",
        "    plt.title(title)\n",
        "    plt.xlabel('Shape Label')\n",
        "    plt.ylabel('Count')\n",
        "    plt.xticks(rotation=45)\n",
        "    plt.grid(axis='y', linestyle='--', alpha=0.7)\n",
        "    plt.tight_layout()\n",
        "    plt.show()\n",
        "\n",
        "# Visualize data distribution for shape DataFrame\n",
        "visualize_data_distribution(shape_df, 'Shape Data Distribution')\n"
      ],
      "metadata": {
        "colab": {
          "base_uri": "https://localhost:8080/",
          "height": 607
        },
        "id": "_W54-iSph2KC",
        "outputId": "a81ed48f-4baf-45d3-b5ec-4ca4543490a2"
      },
      "execution_count": 191,
      "outputs": [
        {
          "output_type": "display_data",
          "data": {
            "text/plain": [
              "<Figure size 1000x600 with 1 Axes>"
            ],
            "image/png": "[encoded data removed]"
          },
          "metadata": {}
        }
      ]
    },
    {
      "cell_type": "markdown",
      "source": [
        "**Observations:**\n",
        "- The distribution of images per class is highly imbalanced.\n",
        "- This imbalance could potentially affect the performance of a machine-learning model trained on this data."
      ],
      "metadata": {
        "id": "iKtx0tbME11m"
      }
    },
    {
      "cell_type": "markdown",
      "source": [
        "==========================================================================================================\n",
        "\n"
      ],
      "metadata": {
        "id": "DnngQ2Hqhy_M"
      }
    },
    {
      "cell_type": "markdown",
      "source": [
        "# **2 Data Preparation**\n"
      ],
      "metadata": {
        "id": "gwICewEpm0iu"
      }
    },
    {
      "cell_type": "markdown",
      "source": [
        "## **2.1 Data spliting:  Train, Val and Test**"
      ],
      "metadata": {
        "id": "vzR6wOSmv6WT"
      }
    },
    {
      "cell_type": "code",
      "source": [
        "from sklearn.model_selection import train_test_split\n",
        "import numpy as np\n",
        "from tensorflow.keras.preprocessing.image import ImageDataGenerator\n",
        "\n",
        "# Rescaling and Formatting the Images\n",
        "datagen_shape = ImageDataGenerator(rescale=1./255, data_format='channels_last')\n",
        "\n",
        "# Initialize lists to store training, validation, and testing data for shape and type data\n",
        "X_shape_train = []\n",
        "X_shape_val = []\n",
        "X_shape_test = []\n",
        "y_shape_train = []\n",
        "y_shape_val = []\n",
        "y_shape_test = []\n",
        "\n",
        "X_type_train = []\n",
        "X_type_val = []\n",
        "X_type_test = []\n",
        "y_type_train = []\n",
        "y_type_val = []\n",
        "y_type_test = []\n",
        "\n",
        "# Split data into groups based on shape labels\n",
        "shape_groups = shape_df.groupby('shape_label')\n",
        "\n",
        "# Split data into groups based on type labels\n",
        "type_groups = type_df.groupby('type_label')\n",
        "\n",
        "# Split each shape group into training, validation, and testing sets\n",
        "for label, group in shape_groups:\n",
        "    print(f\"\\nShape group label: {label}, Shape: {group.shape[0]}\")\n",
        "    X_train, X_temp, y_train, y_temp = train_test_split(group['image_path'], group['encoded_shape_label'], test_size=0.2, stratify=group['shape_label'])\n",
        "    X_val, X_test, y_val, y_test = train_test_split(X_temp, y_temp, test_size=0.25, stratify=y_temp)\n",
        "    X_shape_train.extend(X_train)\n",
        "    X_shape_val.extend(X_val)\n",
        "    X_shape_test.extend(X_test)\n",
        "    y_shape_train.extend(y_train)\n",
        "    y_shape_val.extend(y_val)\n",
        "    y_shape_test.extend(y_test)\n",
        "    print(f\"Train sample size: {len(X_train)}, Validation sample size: {len(X_val)}, Test sample size: {len(X_test)}\")\n",
        "\n",
        "# Split each type group into training, validation, and testing sets\n",
        "for label, group in type_groups:\n",
        "    print(f\"\\nType group label: {label}, Shape: {group.shape[0]}\")\n",
        "    X_train, X_temp, y_train, y_temp = train_test_split(group['image_path'], group['encoded_type_label'], test_size=0.2, stratify=group['type_label'])\n",
        "    X_val, X_test, y_val, y_test = train_test_split(X_temp, y_temp, test_size=0.25, stratify=y_temp)\n",
        "    X_type_train.extend(X_train)\n",
        "    X_type_val.extend(X_val)\n",
        "    X_type_test.extend(X_test)\n",
        "    y_type_train.extend(y_train)\n",
        "    y_type_val.extend(y_val)\n",
        "    y_type_test.extend(y_test)\n",
        "    print(f\"Train sample size: {len(X_train)}, Validation sample size: {len(X_val)}, Test sample size: {len(X_test)}\")\n",
        "\n",
        "# Convert to numpy arrays for shape data\n",
        "X_shape_train = np.array(X_shape_train)\n",
        "X_shape_val = np.array(X_shape_val)\n",
        "X_shape_test = np.array(X_shape_test)\n",
        "y_shape_train = np.array(y_shape_train)\n",
        "y_shape_val = np.array(y_shape_val)\n",
        "y_shape_test = np.array(y_shape_test)\n",
        "\n",
        "# Convert to numpy arrays for type data\n",
        "X_type_train = np.array(X_type_train)\n",
        "X_type_val = np.array(X_type_val)\n",
        "X_type_test = np.array(X_type_test)\n",
        "y_type_train = np.array(y_type_train)\n",
        "y_type_val = np.array(y_type_val)\n",
        "y_type_test = np.array(y_type_test)\n",
        "\n",
        "# Print shapes of the data sets after splitting for shape data\n",
        "print(\"\\nShape of X_shape_train:\", X_shape_train.shape)\n",
        "print(\"Shape of X_shape_val:\", X_shape_val.shape)\n",
        "print(\"Shape of X_shape_test:\", X_shape_test.shape)\n",
        "print(\"Shape of y_shape_train:\", y_shape_train.shape)\n",
        "print(\"Shape of y_shape_val:\", y_shape_val.shape)\n",
        "print(\"Shape of y_shape_test:\", y_shape_test.shape)\n",
        "\n",
        "# Print shapes of the data sets after splitting for type data\n",
        "print(\"\\nShape of X_type_train:\", X_type_train.shape)\n",
        "print(\"Shape of X_type_val:\", X_type_val.shape)\n",
        "print(\"Shape of X_type_test:\", X_type_test.shape)\n",
        "print(\"Shape of y_type_train:\", y_type_train.shape)\n",
        "print(\"Shape of y_type_val:\", y_type_val.shape)\n",
        "print(\"Shape of y_type_test:\", y_type_test.shape)\n"
      ],
      "metadata": {
        "id": "WrTz8wGkT1Ct",
        "outputId": "dfb29a8b-755e-456f-829a-80890dd5b539",
        "colab": {
          "base_uri": "https://localhost:8080/"
        }
      },
      "execution_count": 192,
      "outputs": [
        {
          "output_type": "stream",
          "name": "stdout",
          "text": [
            "\n",
            "Shape group label: diamond, Shape: 282\n",
            "Train sample size: 225, Validation sample size: 42, Test sample size: 15\n",
            "\n",
            "Shape group label: hex, Shape: 43\n",
            "Train sample size: 34, Validation sample size: 6, Test sample size: 3\n",
            "\n",
            "Shape group label: round, Shape: 1760\n",
            "Train sample size: 1408, Validation sample size: 264, Test sample size: 88\n",
            "\n",
            "Shape group label: square, Shape: 688\n",
            "Train sample size: 550, Validation sample size: 103, Test sample size: 35\n",
            "\n",
            "Shape group label: triangle, Shape: 926\n",
            "Train sample size: 740, Validation sample size: 139, Test sample size: 47\n",
            "\n",
            "Type group label: bicycle, Shape: 285\n",
            "Train sample size: 228, Validation sample size: 42, Test sample size: 15\n",
            "\n",
            "Type group label: continue, Shape: 199\n",
            "Train sample size: 159, Validation sample size: 30, Test sample size: 10\n",
            "\n",
            "Type group label: crossing, Shape: 95\n",
            "Train sample size: 76, Validation sample size: 14, Test sample size: 5\n",
            "\n",
            "Type group label: giveway, Shape: 231\n",
            "Train sample size: 184, Validation sample size: 35, Test sample size: 12\n",
            "\n",
            "Type group label: laneend, Shape: 118\n",
            "Train sample size: 94, Validation sample size: 18, Test sample size: 6\n",
            "\n",
            "Type group label: limitedtraffic, Shape: 125\n",
            "Train sample size: 100, Validation sample size: 18, Test sample size: 7\n",
            "\n",
            "Type group label: noentry, Shape: 375\n",
            "Train sample size: 300, Validation sample size: 56, Test sample size: 19\n",
            "\n",
            "Type group label: noparking, Shape: 242\n",
            "Train sample size: 193, Validation sample size: 36, Test sample size: 13\n",
            "\n",
            "Type group label: parking, Shape: 276\n",
            "Train sample size: 220, Validation sample size: 42, Test sample size: 14\n",
            "\n",
            "Type group label: rightofway, Shape: 282\n",
            "Train sample size: 225, Validation sample size: 42, Test sample size: 15\n",
            "\n",
            "Type group label: roundabout, Shape: 98\n",
            "Train sample size: 78, Validation sample size: 15, Test sample size: 5\n",
            "\n",
            "Type group label: speed, Shape: 316\n",
            "Train sample size: 252, Validation sample size: 48, Test sample size: 16\n",
            "\n",
            "Type group label: stop, Shape: 43\n",
            "Train sample size: 34, Validation sample size: 6, Test sample size: 3\n",
            "\n",
            "Type group label: trafficdirective, Shape: 195\n",
            "Train sample size: 156, Validation sample size: 29, Test sample size: 10\n",
            "\n",
            "Type group label: traveldirection, Shape: 124\n",
            "Train sample size: 99, Validation sample size: 18, Test sample size: 7\n",
            "\n",
            "Type group label: warning, Shape: 695\n",
            "Train sample size: 556, Validation sample size: 104, Test sample size: 35\n",
            "\n",
            "Shape of X_shape_train: (2957,)\n",
            "Shape of X_shape_val: (554,)\n",
            "Shape of X_shape_test: (188,)\n",
            "Shape of y_shape_train: (2957,)\n",
            "Shape of y_shape_val: (554,)\n",
            "Shape of y_shape_test: (188,)\n",
            "\n",
            "Shape of X_type_train: (2954,)\n",
            "Shape of X_type_val: (553,)\n",
            "Shape of X_type_test: (192,)\n",
            "Shape of y_type_train: (2954,)\n",
            "Shape of y_type_val: (553,)\n",
            "Shape of y_type_test: (192,)\n"
          ]
        }
      ]
    },
    {
      "cell_type": "markdown",
      "source": [
        "## **2.2 Flatten the images**"
      ],
      "metadata": {
        "id": "m4k1Kp7SkLQ1"
      }
    },
    {
      "cell_type": "code",
      "source": [
        "import numpy as np\n",
        "# from keras.preprocessing.image import ImageDataGenerator\n",
        "from PIL import Image\n",
        "\n",
        "# Function to flatten images\n",
        "def flatten_images(X):\n",
        "    flattened_images = []\n",
        "    for image_path in X:\n",
        "        image = Image.open(image_path)\n",
        "        image = np.array(image)\n",
        "        flattened_image = image.flatten()\n",
        "        flattened_images.append(flattened_image)\n",
        "    return np.array(flattened_images)\n",
        "\n",
        "# Flatten the images for shape data in training and testing sets\n",
        "X_shape_train_flat = flatten_images(X_shape_train)\n",
        "X_shape_test_flat = flatten_images(X_shape_test)\n",
        "X_shape_val_flat = flatten_images(X_shape_val)\n",
        "\n",
        "# Flatten the images for type data in training and testing sets\n",
        "X_type_train_flat = flatten_images(X_type_train)\n",
        "X_type_val_flat = flatten_images(X_type_val)\n",
        "X_type_test_flat = flatten_images(X_type_test)\n",
        "\n",
        "# Print shapes of the flattened data sets\n",
        "print(\"\\nShape of X_shape_train_flat:\", X_shape_train_flat.shape)\n",
        "print(\"Shape of X_shape_val_flat:\", X_shape_val_flat.shape)\n",
        "print(\"Shape of X_shape_test_flat:\", X_shape_test_flat.shape)\n",
        "\n",
        "\n",
        "print(\"\\nShape of X_type_train_flat:\", X_type_train_flat.shape)\n",
        "print(\"Shape of X_type_val_flat:\", X_type_val_flat.shape)\n",
        "print(\"Shape of X_type_test_flat:\", X_type_test_flat.shape)"
      ],
      "metadata": {
        "colab": {
          "base_uri": "https://localhost:8080/"
        },
        "id": "PVwF2vvugMB2",
        "outputId": "0a584a63-efd4-48fa-875a-5fdf91021892"
      },
      "execution_count": 193,
      "outputs": [
        {
          "output_type": "stream",
          "name": "stdout",
          "text": [
            "\n",
            "Shape of X_shape_train_flat: (2957, 784)\n",
            "Shape of X_shape_val_flat: (554, 784)\n",
            "Shape of X_shape_test_flat: (188, 784)\n",
            "\n",
            "Shape of X_type_train_flat: (2954, 784)\n",
            "Shape of X_type_val_flat: (553, 784)\n",
            "Shape of X_type_test_flat: (192, 784)\n"
          ]
        }
      ]
    },
    {
      "cell_type": "markdown",
      "source": [
        "================================================================================================="
      ],
      "metadata": {
        "id": "X1et-y7vtqjs"
      }
    },
    {
      "cell_type": "markdown",
      "source": [
        "# **3. Models development**"
      ],
      "metadata": {
        "id": "EGwk56-37oPX"
      }
    },
    {
      "cell_type": "markdown",
      "source": [
        "## **3.1 Baseline Model**"
      ],
      "metadata": {
        "id": "vr5A8pOb71A7"
      }
    },
    {
      "cell_type": "code",
      "source": [
        "import matplotlib.pyplot as plt\n",
        "def plot_learning_curve(train_loss, val_loss, train_metric, val_metric, metric_name='Accuracy'):\n",
        "    plt.figure(figsize=(10,5))\n",
        "\n",
        "    plt.subplot(1,2,1)\n",
        "    plt.plot(train_loss, 'r--')\n",
        "    plt.plot(val_loss, 'b--')\n",
        "    plt.xlabel(\"epochs\")\n",
        "    plt.ylabel(\"Loss\")\n",
        "    plt.legend(['train', 'val'], loc='upper left')\n",
        "\n",
        "    plt.subplot(1,2,2)\n",
        "    plt.plot(train_metric, 'r--')\n",
        "    plt.plot(val_metric, 'b--')\n",
        "    plt.xlabel(\"epochs\")\n",
        "    plt.ylabel(metric_name)\n",
        "    plt.legend(['train', 'val'], loc='upper left')\n",
        "\n",
        "    plt.show()"
      ],
      "metadata": {
        "id": "zsoZZ_2sFrsG"
      },
      "execution_count": 194,
      "outputs": []
    },
    {
      "cell_type": "markdown",
      "source": [
        "### **3.1.1Shape prediction**"
      ],
      "metadata": {
        "id": "gHS9zsGun38H"
      }
    },
    {
      "cell_type": "code",
      "source": [
        "import tensorflow as tf\n",
        "\n",
        "INPUT_DIM = (28, 28, 1)\n",
        "\n",
        "HIDDEN_LAYER_DIM = 256\n",
        "\n",
        "OUTPUT_CLASSES = 5"
      ],
      "metadata": {
        "id": "lw_vKStuVKMl"
      },
      "execution_count": 195,
      "outputs": []
    },
    {
      "cell_type": "code",
      "source": [
        "import tensorflow as tf\n",
        "\n",
        "model = tf.keras.Sequential([\n",
        "    tf.keras.layers.Flatten(input_shape=INPUT_DIM),\n",
        "    tf.keras.layers.Dense(HIDDEN_LAYER_DIM, activation='sigmoid'),\n",
        "    tf.keras.layers.Dense(OUTPUT_CLASSES)\n",
        "])\n"
      ],
      "metadata": {
        "id": "fpk8ddxfbF0m"
      },
      "execution_count": 196,
      "outputs": []
    },
    {
      "cell_type": "code",
      "source": [
        "model.compile(optimizer='SGD',\n",
        "              loss=tf.keras.losses.CategoricalCrossentropy(from_logits=True),\n",
        "              metrics=['categorical_accuracy'])"
      ],
      "metadata": {
        "id": "3zGPn_c6bIQx"
      },
      "execution_count": 197,
      "outputs": []
    },
    {
      "cell_type": "code",
      "source": [
        "model.summary()"
      ],
      "metadata": {
        "colab": {
          "base_uri": "https://localhost:8080/"
        },
        "id": "hIl0_Fyebvjy",
        "outputId": "0ded2028-01c8-48c7-c711-e254165f0f76"
      },
      "execution_count": 198,
      "outputs": [
        {
          "output_type": "stream",
          "name": "stdout",
          "text": [
            "Model: \"sequential_7\"\n",
            "_________________________________________________________________\n",
            " Layer (type)                Output Shape              Param #   \n",
            "=================================================================\n",
            " flatten_4 (Flatten)         (None, 784)               0         \n",
            "                                                                 \n",
            " dense_17 (Dense)            (None, 256)               200960    \n",
            "                                                                 \n",
            " dense_18 (Dense)            (None, 5)                 1285      \n",
            "                                                                 \n",
            "=================================================================\n",
            "Total params: 202245 (790.02 KB)\n",
            "Trainable params: 202245 (790.02 KB)\n",
            "Non-trainable params: 0 (0.00 Byte)\n",
            "_________________________________________________________________\n"
          ]
        }
      ]
    },
    {
      "cell_type": "code",
      "source": [
        "tf.keras.utils.plot_model(model, show_shapes=True)"
      ],
      "metadata": {
        "colab": {
          "base_uri": "https://localhost:8080/",
          "height": 422
        },
        "id": "-EPnP8rTdxI-",
        "outputId": "a2c63022-7993-458e-8ddd-4322ec998e74"
      },
      "execution_count": 199,
      "outputs": [
        {
          "output_type": "execute_result",
          "data": {
            "image/png": "[encoded data removed]",
            "text/plain": [
              "<IPython.core.display.Image object>"
            ]
          },
          "metadata": {},
          "execution_count": 199
        }
      ]
    },
    {
      "cell_type": "markdown",
      "source": [
        "### **Image generator**"
      ],
      "metadata": {
        "id": "MWT9LuNPVTh7"
      }
    },
    {
      "cell_type": "code",
      "source": [
        "import pandas as pd\n",
        "from tensorflow.keras.preprocessing.image import ImageDataGenerator\n",
        "\n",
        "\n",
        "df_X_shape_train = pd.DataFrame({\n",
        "    'image_path': X_shape_train,\n",
        "    'encoded_shape_label': y_shape_train\n",
        "})\n",
        "df_X_shape_val = pd.DataFrame({\n",
        "    'image_path': X_shape_val,\n",
        "    'encoded_shape_label': y_shape_val\n",
        "})\n",
        "\n",
        "df_X_shape_train['encoded_shape_label'] = df_X_shape_train['encoded_shape_label'].astype(str)\n",
        "df_X_shape_val['encoded_shape_label'] = df_X_shape_val['encoded_shape_label'].astype(str)\n",
        "\n",
        "# Defining image data generators\n",
        "datagen_shape = ImageDataGenerator(rescale=1./255, data_format='channels_last')\n",
        "\n",
        "# Create training data generator\n",
        "train_generator = datagen_shape.flow_from_dataframe(\n",
        "    dataframe=df_X_shape_train,\n",
        "    directory='./',\n",
        "    x_col=\"image_path\",\n",
        "    y_col=\"encoded_shape_label\",\n",
        "    target_size=(28, 28),\n",
        "    color_mode='grayscale',\n",
        "    batch_size=32,\n",
        "    class_mode='categorical')\n",
        "\n",
        "\n",
        "\n",
        "# Create validation data generator\n",
        "validation_generator = datagen_shape.flow_from_dataframe(\n",
        "    dataframe=df_X_shape_val,\n",
        "    directory='./',\n",
        "    x_col=\"image_path\",\n",
        "    y_col=\"encoded_shape_label\",\n",
        "    target_size=(28, 28),\n",
        "    color_mode='grayscale',\n",
        "    batch_size=32,\n",
        "    class_mode='categorical')\n"
      ],
      "metadata": {
        "colab": {
          "base_uri": "https://localhost:8080/"
        },
        "id": "OKeyOnRKaNkU",
        "outputId": "1db0bd52-765a-4bff-9a72-77272639d060"
      },
      "execution_count": 200,
      "outputs": [
        {
          "output_type": "stream",
          "name": "stdout",
          "text": [
            "Found 2957 validated image filenames belonging to 5 classes.\n",
            "Found 554 validated image filenames belonging to 5 classes.\n"
          ]
        }
      ]
    },
    {
      "cell_type": "code",
      "source": [
        "history = model.fit(train_generator, validation_data=validation_generator, epochs=10, verbose=0)\n"
      ],
      "metadata": {
        "id": "d27XCsTua1qT"
      },
      "execution_count": 201,
      "outputs": []
    },
    {
      "cell_type": "code",
      "source": [
        "plot_learning_curve(history.history['loss'], history.history['val_loss'],\n",
        "                    history.history['categorical_accuracy'], history.history['val_categorical_accuracy'],\n",
        "                    metric_name='Accuracy')"
      ],
      "metadata": {
        "colab": {
          "base_uri": "https://localhost:8080/",
          "height": 467
        },
        "id": "qskjHBsyc4X9",
        "outputId": "8819672d-e46f-428a-965b-45c359473df7"
      },
      "execution_count": 202,
      "outputs": [
        {
          "output_type": "display_data",
          "data": {
            "text/plain": [
              "<Figure size 1000x500 with 2 Axes>"
            ],
            "image/png": "[encoded data removed]"
          },
          "metadata": {}
        }
      ]
    },
    {
      "cell_type": "code",
      "source": [
        "\n",
        "\n",
        "df_X_shape_test = pd.DataFrame({\n",
        "    'image_path': X_shape_test,\n",
        "    'encoded_shape_label': y_shape_test\n",
        "})\n",
        "\n",
        "df_X_shape_test['encoded_shape_label'] = df_X_shape_test['encoded_shape_label'].astype(str)\n",
        "\n",
        "\n",
        "\n",
        "test_datagen = ImageDataGenerator(rescale=1./255, data_format='channels_last')\n",
        "\n",
        "batch_size = 1\n",
        "\n",
        "test_generator = test_datagen.flow_from_dataframe(\n",
        "    dataframe=df_X_shape_test,\n",
        "    directory='./',\n",
        "    x_col=\"image_path\",\n",
        "    y_col=\"encoded_shape_label\",\n",
        "    target_size=(28, 28),\n",
        "    color_mode='grayscale',\n",
        "    batch_size=32,\n",
        "    class_mode='categorical')\n",
        "\n"
      ],
      "metadata": {
        "colab": {
          "base_uri": "https://localhost:8080/"
        },
        "id": "uesUS3G0efwZ",
        "outputId": "cc678a52-b9d9-49e7-9e39-92836c3c2617"
      },
      "execution_count": 203,
      "outputs": [
        {
          "output_type": "stream",
          "name": "stdout",
          "text": [
            "Found 188 validated image filenames belonging to 5 classes.\n"
          ]
        }
      ]
    },
    {
      "cell_type": "code",
      "source": [
        "model.evaluate(test_generator)"
      ],
      "metadata": {
        "colab": {
          "base_uri": "https://localhost:8080/"
        },
        "id": "O_jwOQsHfcG2",
        "outputId": "eaf4768c-c946-4b9c-dc5e-02000635c52d"
      },
      "execution_count": 204,
      "outputs": [
        {
          "output_type": "stream",
          "name": "stdout",
          "text": [
            "6/6 [==============================] - 1s 128ms/step - loss: 0.9112 - categorical_accuracy: 0.6596\n"
          ]
        },
        {
          "output_type": "execute_result",
          "data": {
            "text/plain": [
              "[0.9112338423728943, 0.6595744490623474]"
            ]
          },
          "metadata": {},
          "execution_count": 204
        }
      ]
    },
    {
      "cell_type": "markdown",
      "source": [
        "==================Afrah\n"
      ],
      "metadata": {
        "id": "lu8ObsAQf_8p"
      }
    },
    {
      "cell_type": "markdown",
      "source": [
        "### **3.1.2 Type prediction**"
      ],
      "metadata": {
        "id": "MHzn-a50oAa4"
      }
    },
    {
      "cell_type": "code",
      "source": [
        "from keras.models import Sequential\n",
        "from keras.layers import Dense\n",
        "from keras.callbacks import EarlyStopping  # Import EarlyStopping\n",
        "\n",
        "\n",
        "# Define the MLP model\n",
        "def type_mlp(input_type, num_classes):\n",
        "    model_2 = Sequential([\n",
        "        Dense(128, activation='sigmoid', input_dim=input_type),  # Changed 'input_type' to 'input_dim'\n",
        "        Dense(64, activation='sigmoid'),\n",
        "        Dense(num_classes, activation='softmax')\n",
        "    ])\n",
        "    return model_2\n",
        "\n",
        "# Set input shape\n",
        "input_type = X_type_train_flat.shape[1]\n",
        "\n",
        "# Number of classes\n",
        "num_classes = len(np.unique(y_type_train))\n",
        "\n",
        "# Build the MLP model\n",
        "mlp_model = type_mlp(input_type, num_classes)\n",
        "\n",
        "# Compile the model\n",
        "mlp_model.compile(loss='sparse_categorical_crossentropy',\n",
        "                   optimizer='SGD',\n",
        "                   metrics=['accuracy'])\n",
        "\n",
        "# Print model summary\n",
        "mlp_model.summary()\n",
        "\n",
        "# Train the model with validation data\n",
        "history = mlp_model.fit(X_type_train_flat, y_type_train, epochs=10, batch_size=32, validation_data=(X_type_val_flat, y_type_val), callbacks=[early_stopping])\n",
        "\n",
        "# Evaluate the model on the train data\n",
        "train_loss_type, train_accuracy_type = mlp_model.evaluate(X_type_train_flat, y_type_train)\n",
        "print(\"Train Loss for Type:\", train_loss_type)\n",
        "print(\"Train Accuracy for Type:\", train_accuracy_type)\n",
        "\n",
        "# Evaluate the model on the validation data\n",
        "val_loss_type, val_accuracy_type = mlp_model.evaluate(X_type_val_flat, y_type_val)\n",
        "print(\"Validation Loss for Type:\", val_loss_type)\n",
        "print(\"Validation Accuracy for Type:\", val_accuracy_type)\n"
      ],
      "metadata": {
        "id": "tQlzkFi94Gu4"
      },
      "execution_count": null,
      "outputs": []
    },
    {
      "cell_type": "code",
      "source": [
        "import numpy as np\n",
        "\n",
        "from sklearn.metrics import classification_report\n",
        "\n",
        "# Predict classes for test data\n",
        "y_pred = np.argmax(mlp_model.predict(X_type_test_flat), axis=1)\n",
        "\n",
        "# Generate classification report\n",
        "report = classification_report(y_type_test, y_pred)\n",
        "\n",
        "# Print the classification report\n",
        "print(\"Classification Report:\\n\", report)"
      ],
      "metadata": {
        "id": "mb9QPRmy4GsR"
      },
      "execution_count": null,
      "outputs": []
    },
    {
      "cell_type": "code",
      "source": [
        "from sklearn.metrics import confusion_matrix\n",
        "import seaborn as sns\n",
        "import matplotlib.pyplot as plt\n",
        "\n",
        "# Predict probabilities for the test data\n",
        "y_pred_probs = mlp_model.predict(X_type_test_flat)\n",
        "\n",
        "# Convert probabilities to class labels\n",
        "y_pred = np.argmax(y_pred_probs, axis=1)\n",
        "\n",
        "# Compute confusion matrix for test data\n",
        "conf_mat_test = confusion_matrix(y_type_test, y_pred)\n",
        "\n",
        "# Plot confusion matrix for test data\n",
        "plt.figure(figsize=(10, 8))\n",
        "sns.heatmap(conf_mat_test, annot=True, fmt='d', cmap='Blues', cbar=False)\n",
        "plt.title('Confusion Matrix - Test Data')\n",
        "plt.xlabel('Predicted Label')\n",
        "plt.ylabel('True Label')\n",
        "plt.show()\n"
      ],
      "metadata": {
        "id": "tlQCSVve4GpZ"
      },
      "execution_count": null,
      "outputs": []
    },
    {
      "cell_type": "code",
      "source": [
        "plot_learning_curve(history.history['loss'], history.history['val_loss'],\n",
        "                    history.history['accuracy'], history.history['val_accuracy'],\n",
        "                    metric_name='Accuracy')"
      ],
      "metadata": {
        "id": "rdnwASHM4GmD"
      },
      "execution_count": null,
      "outputs": []
    },
    {
      "cell_type": "markdown",
      "source": [
        "\n",
        "**Observations:**\n",
        "\n",
        "- The baseline MLP model achieved a test accuracy of approximately 30% for both shape and type classification.\n",
        "- The confusion matrices for both shape and type classification show that the model struggles to distinguish between certain classes.\n",
        "- The learning curves indicate that the model may be underfitting the data, as the training and validation loss curves do not converge.\n",
        "\n",
        "**Possible Improvements:**\n",
        "\n",
        "- Experiment with different network architectures (e.g., number of layers, activation functions).\n",
        "- Hyperparameter tuning (e.g., learning rate, optimizer, batch size).\n",
        "- Data augmentation to increase the size and diversity of the training data.\n",
        "- Exploring other machine learning algorithms such as convolutional neural networks (CNNs) which are specifically designed for image classification tasks.\n",
        "\n"
      ],
      "metadata": {
        "id": "NI3SYrzr6DLS"
      }
    },
    {
      "cell_type": "markdown",
      "source": [
        "====================================================================================================="
      ],
      "metadata": {
        "id": "ah3poNsj-kqQ"
      }
    },
    {
      "cell_type": "markdown",
      "source": [
        "# **3.2 Building baseline model using  Visual Geometry Group (VGG)**"
      ],
      "metadata": {
        "id": "2hri5u4ZCIZt"
      }
    },
    {
      "cell_type": "code",
      "source": [
        "# install tensorflow library\n",
        "import tensorflow as tf\n",
        "\n",
        "# optimise data pipeline performance automatically\n",
        "AUTOTUNE = tf.data.experimental.AUTOTUNE\n",
        "\n",
        "# print the version of TensorFlow\n",
        "tf.__version__"
      ],
      "metadata": {
        "id": "8cKRLPUdHKXF"
      },
      "execution_count": null,
      "outputs": []
    },
    {
      "cell_type": "code",
      "source": [
        "def create_VGG_Model(num_classes):\n",
        "    input_dimension = (28, 28, 1)\n",
        "    model = tf.keras.Sequential([\n",
        "        tf.keras.layers.Conv2D(32, (3, 3), activation='sigmoid', padding='same', input_shape=input_dimension),\n",
        "        tf.keras.layers.Conv2D(32, (3, 3), activation='sigmoid', padding='same'),\n",
        "        tf.keras.layers.MaxPooling2D((2, 2)),\n",
        "\n",
        "        tf.keras.layers.Conv2D(64, (3, 3), activation='sigmoid', padding='same'),\n",
        "        tf.keras.layers.Conv2D(64, (3, 3), activation='sigmoid', padding='same'),\n",
        "        tf.keras.layers.MaxPooling2D((2, 2)),\n",
        "\n",
        "        tf.keras.layers.Conv2D(128, (3, 3), activation='sigmoid', padding='same'),\n",
        "        tf.keras.layers.Conv2D(128, (3, 3), activation='sigmoid', padding='same'),\n",
        "        tf.keras.layers.MaxPooling2D((2, 2)),\n",
        "\n",
        "        tf.keras.layers.Flatten(),\n",
        "        tf.keras.layers.Dense(128, activation='sigmoid'),\n",
        "        tf.keras.layers.Dropout(0.5),\n",
        "        tf.keras.layers.Dense(num_classes, activation='softmax')\n",
        "    ])\n",
        "    return model\n",
        "\n",
        "model = create_VGG_Model(10)\n",
        "model.compile(optimizer='SGD', loss='categorical_crossentropy', metrics=['accuracy'])"
      ],
      "metadata": {
        "id": "OGbzBecOk6BA"
      },
      "execution_count": null,
      "outputs": []
    },
    {
      "cell_type": "code",
      "source": [
        "import tensorflow as tf\n",
        "\n",
        "# Reshape the data using TensorFlow\n",
        "X_shape_train_vgg = tf.reshape(X_shape_train_flat, (-1, 28, 28, 1))\n",
        "X_shape_val_vgg = tf.reshape(X_shape_val_flat, (-1, 28, 28, 1))\n",
        "X_shape_test_vgg = tf.reshape(X_shape_test_flat, (-1, 28, 28, 1))"
      ],
      "metadata": {
        "id": "JEEcdpPBCHXB"
      },
      "execution_count": null,
      "outputs": []
    },
    {
      "cell_type": "code",
      "source": [
        "# Assuming num_classes is defined (e.g., 10 for MNIST digits)\n",
        "num_classes = 5  # Update this based on your actual number of classes\n",
        "VGG_model_shape = create_VGG_Model(num_classes)\n",
        "\n",
        "# Compile the model\n",
        "VGG_model_shape.compile(\n",
        "    optimizer='SGD',  # Using SGD optimizer\n",
        "    loss=\"sparse_categorical_crossentropy\",\n",
        "    metrics=['accuracy']\n",
        ")"
      ],
      "metadata": {
        "id": "SFxln0GnCHPz"
      },
      "execution_count": null,
      "outputs": []
    },
    {
      "cell_type": "code",
      "source": [
        "# Train the model using the reshaped data\n",
        "history_vgg1 = VGG_model_shape.fit(\n",
        "    X_shape_train_vgg,  # Reshaped training data\n",
        "    y_shape_train,  # Training labels\n",
        "    validation_data=(X_shape_val_vgg, y_shape_val),  # Reshaped validation data and labels\n",
        "    epochs=10,\n",
        "    verbose=1,\n",
        "    callbacks=[early_stopping])"
      ],
      "metadata": {
        "id": "quCOPujNCHMU"
      },
      "execution_count": null,
      "outputs": []
    },
    {
      "cell_type": "code",
      "source": [
        "# Evaluate the model on the training data\n",
        "train_loss_shape_vgg, train_accuracy_shape_vgg = VGG_model_shape.evaluate(X_shape_train_vgg, y_shape_train)\n",
        "print(\"Training Loss for Shape VGG Model:\", train_loss_shape_vgg)\n",
        "print(\"Training Accuracy Shape VGG Model:\", train_accuracy_shape_vgg)\n",
        "\n",
        "# Evaluate the model on the validation data\n",
        "val_loss_shape_vgg, val_accuracy_shape_vgg = VGG_model_shape.evaluate(X_shape_val_vgg, y_shape_val)\n",
        "print(\"Validation Loss:\", val_loss_shape_vgg)\n",
        "print(\"Validation Accuracy:\", val_accuracy_shape_vgg)\n"
      ],
      "metadata": {
        "id": "KngyMeICROVe"
      },
      "execution_count": null,
      "outputs": []
    },
    {
      "cell_type": "code",
      "source": [
        "import numpy as np\n",
        "\n",
        "from sklearn.metrics import classification_report\n",
        "\n",
        "# Predict classes for test data\n",
        "y_pred = np.argmax(VGG_model_shape.predict(X_shape_test_vgg), axis=1)\n",
        "\n",
        "# Generate classification report\n",
        "report = classification_report(y_shape_test, y_pred)\n",
        "\n",
        "# Print the classification report\n",
        "print(\"Classification Report:\\n\", report)"
      ],
      "metadata": {
        "id": "H0ca14piCHHb"
      },
      "execution_count": null,
      "outputs": []
    },
    {
      "cell_type": "code",
      "source": [
        "from sklearn.metrics import confusion_matrix\n",
        "import seaborn as sns\n",
        "import matplotlib.pyplot as plt\n",
        "\n",
        "# Predict probabilities for the test data\n",
        "y_pred_probs = VGG_model_shape.predict(X_shape_test_vgg)\n",
        "\n",
        "# Convert probabilities to class labels\n",
        "y_pred = np.argmax(y_pred_probs, axis=1)\n",
        "\n",
        "# Compute confusion matrix for test data\n",
        "conf_mat_test = confusion_matrix(y_shape_test, y_pred)\n",
        "\n",
        "# Plot confusion matrix for test data\n",
        "plt.figure(figsize=(10, 8))\n",
        "sns.heatmap(conf_mat_test, annot=True, fmt='d', cmap='Blues', cbar=False)\n",
        "plt.title('Confusion Matrix - Test Data')\n",
        "plt.xlabel('Predicted Label')\n",
        "plt.ylabel('True Label')\n",
        "plt.show()\n"
      ],
      "metadata": {
        "id": "vEubB2euCHCB"
      },
      "execution_count": null,
      "outputs": []
    },
    {
      "cell_type": "code",
      "source": [
        "plot_learning_curve(history_vgg1.history['loss'], history_vgg1.history['val_loss'],\n",
        "                    history_vgg1.history['accuracy'], history_vgg1.history['val_accuracy'],\n",
        "                    metric_name='Accuracy')"
      ],
      "metadata": {
        "id": "u_dHE-ROCG4Z"
      },
      "execution_count": null,
      "outputs": []
    },
    {
      "cell_type": "markdown",
      "source": [
        "The plot shows the learning curves for the VGG model trained on the shape data. The learning curves depict the model's performance on both training and validation datasets across epochs.\n",
        "\n",
        "- **Training Loss and Validation Loss:**\n",
        "  - The training loss curve shows a decreasing trend, indicating the model is learning from the data.\n",
        "  - The validation loss curve initially decreases but then starts to increase, suggesting potential overfitting.\n",
        "\n",
        "- **Training Accuracy and Validation Accuracy:**\n",
        "  - The training accuracy curve shows an increasing trend, reaching a high value.\n",
        "  - The validation accuracy curve also increases but reaches a lower value compared to the training accuracy, indicating some overfitting.\n",
        "\n",
        "- **Observations:**\n",
        "  - The model achieves a high training accuracy but a lower validation accuracy, suggesting a gap between its performance on the training and validation data.\n",
        "  - The increasing validation loss indicates the model may be memorizing the training data rather than generalizing well to unseen data.\n",
        "\n",
        "- **Possible Improvements:**\n",
        "  - Regularization techniques like dropout or data augmentation could be applied to reduce overfitting.\n",
        "  - Hyperparameter tuning of the learning rate, optimizer, and other parameters might be necessary to achieve better generalization.\n",
        "  - Exploring other network architectures or data preprocessing techniques could potentially enhance the model's performance.\n",
        "\n",
        "Overall, the plot suggests the VGG model requires further optimization to improve its generalization capabilities and reduce overfitting.\n"
      ],
      "metadata": {
        "id": "gLt4ta7ZkczI"
      }
    },
    {
      "cell_type": "markdown",
      "source": [
        "# **Data Augmentation**"
      ],
      "metadata": {
        "id": "iqGFo7fjFXPM"
      }
    },
    {
      "cell_type": "markdown",
      "source": [
        "**Recognizing the imbalance in our data, we plan to explore whether supplementing the smaller classes with augmented data can enhance the accuracy of our model. In this section, we will establish new folders to house the augmented datasets derived from the original training data.**"
      ],
      "metadata": {
        "id": "OQOAViPJF2m3"
      }
    },
    {
      "cell_type": "code",
      "source": [
        "# Determine the maximum count in any single category\n",
        "max_count = max([len(group) for label, group in shape_groups])\n",
        "\n",
        "# Calculate augmentation needs for each category\n",
        "augment_needs = {}\n",
        "for label, group in shape_groups:\n",
        "    current_count = len(group)\n",
        "    augment_needs[label] = max(0, max_count - current_count)  # Only augment if needed\n"
      ],
      "metadata": {
        "id": "IUEVWMsAx0Bv"
      },
      "execution_count": null,
      "outputs": []
    },
    {
      "cell_type": "code",
      "source": [
        "max_count"
      ],
      "metadata": {
        "id": "shCu0CGrLtRb"
      },
      "execution_count": null,
      "outputs": []
    },
    {
      "cell_type": "code",
      "source": [
        "from tensorflow.keras.preprocessing.image import ImageDataGenerator\n",
        "import cv2\n",
        "import numpy as np\n",
        "\n",
        "# Initialize the ImageDataGenerator with transformations\n",
        "datagen = ImageDataGenerator(\n",
        "    rotation_range=20,\n",
        "    width_shift_range=0.1,\n",
        "    height_shift_range=0.1,\n",
        "    horizontal_flip=True,\n",
        "    vertical_flip=True,\n",
        "    zoom_range=0.1,\n",
        "    fill_mode='nearest'\n",
        ")\n",
        "\n",
        "# Augment the images based on their needs\n",
        "augmented_images = []\n",
        "for label, group in shape_groups:\n",
        "    images = [cv2.imread(path, cv2.IMREAD_GRAYSCALE) for path in group['image_path']]\n",
        "    num_to_augment = augment_needs[label]\n",
        "    augmented_count = 0\n",
        "\n",
        "    for img in images:\n",
        "        if augmented_count >= num_to_augment:\n",
        "            break\n",
        "        img = cv2.resize(img, (28, 28))\n",
        "        img = img.reshape(1, 28, 28, 1)  # Reshape to fit the ImageDataGenerator requirements\n",
        "        aug_iter = datagen.flow(img, batch_size=1)\n",
        "\n",
        "        for _ in range(5):  # Generate multiple augmented images from each original image\n",
        "            aug_img = next(aug_iter)[0]\n",
        "            augmented_images.append(aug_img)\n",
        "            augmented_count += 1\n",
        "            if augmented_count >= num_to_augment:\n",
        "                break\n"
      ],
      "metadata": {
        "id": "TOm9tueVtqKV"
      },
      "execution_count": null,
      "outputs": []
    },
    {
      "cell_type": "code",
      "source": [
        "# Initialize shape_counts for both 'original' and 'augmented'\n",
        "shape_counts = {label: {'original': 0, 'augmented': 0} for label in shape_groups.groups.keys()}\n",
        "# Split each shape group into training and testing sets and update counts\n",
        "for label, group in shape_groups:\n",
        "    X_train, X_test, y_train, y_test = train_test_split(\n",
        "        group['image_path'], group['encoded_shape_label'], test_size=0.2, stratify=group['shape_label'])\n",
        "    shape_counts[label]['original'] += len(X_train)  # Update original count with the number of training images\n",
        "    print(f\"Shape group label: {label}, Train: {len(X_train)}, Test: {len(X_test)}\")\n",
        "# Assuming you track augmented images correctly\n",
        "for label, group in shape_groups:\n",
        "    # Simulate augmenting images\n",
        "    num_augments = 5 * len(X_train)  # Assuming you augment each image 5 times\n",
        "    shape_counts[label]['augmented'] += num_augments  # Update augmented count\n",
        "# Plotting the distribution of images for shapes\n",
        "labels, original_counts, augmented_counts = zip(*[\n",
        "    (label, counts['original'], counts['augmented']) for label, counts in shape_counts.items()\n",
        "])\n",
        "\n",
        "indexes = np.arange(len(labels))\n",
        "width = 0.35\n",
        "\n",
        "plt.bar(indexes, original_counts, width, label='Original')\n",
        "plt.bar(indexes + width, augmented_counts, width, label='Augmented', color='red')\n",
        "\n",
        "plt.ylabel('Number of Images')\n",
        "plt.title('Number of Images by Shape Before and After Augmentation')\n",
        "plt.xticks(indexes + width / 2, labels, rotation='vertical')\n",
        "plt.legend()\n",
        "plt.show()\n"
      ],
      "metadata": {
        "id": "ydDUFgaZx5Tc"
      },
      "execution_count": null,
      "outputs": []
    },
    {
      "cell_type": "markdown",
      "source": [
        "**Observations:**\n",
        "\n",
        "- After applying augmentation, the number of images in each shape category is now balanced.\n",
        "- This augmentation approach can potentially improve the performance of a machine-learning model trained on this data by providing more representative data for each shape class."
      ],
      "metadata": {
        "id": "McXR6ken0CaC"
      }
    },
    {
      "cell_type": "code",
      "source": [
        "# Initialize type_counts for both 'original' and 'augmented'\n",
        "type_counts = {label: {'original': 0, 'augmented': 0} for label in type_groups.groups.keys()}\n",
        "# Split each type group into training and testing sets and update counts\n",
        "for label, group in type_groups:\n",
        "    X_train, X_test, y_train, y_test = train_test_split(\n",
        "        group['image_path'], group['encoded_type_label'], test_size=0.2, stratify=group['type_label'])\n",
        "    type_counts[label]['original'] += len(X_train)  # Update original count with the number of training images\n",
        "    print(f\"type group label: {label}, Train: {len(X_train)}, Test: {len(X_test)}\")\n",
        "# Assuming you track augmented images correctly\n",
        "for label, group in type_groups:\n",
        "    # Simulate augmenting images\n",
        "    num_augments = 5 * len(X_train)  # Assuming you augment each image 5 times\n",
        "    type_counts[label]['augmented'] += num_augments  # Update augmented count\n",
        "# Plotting the distribution of images for shapes\n",
        "labels, original_counts, augmented_counts = zip(*[\n",
        "    (label, counts['original'], counts['augmented']) for label, counts in type_counts.items()\n",
        "])\n",
        "\n",
        "indexes = np.arange(len(labels))\n",
        "width = 0.35\n",
        "\n",
        "plt.bar(indexes, original_counts, width, label='Original')\n",
        "plt.bar(indexes + width, augmented_counts, width, label='Augmented', color='red')\n",
        "\n",
        "plt.ylabel('Number of Images')\n",
        "plt.title('Number of Images by Type Before and After Augmentation')\n",
        "plt.xticks(indexes + width / 2, labels, rotation='vertical')\n",
        "plt.legend()\n",
        "plt.show()"
      ],
      "metadata": {
        "id": "PIdlVom740Jc"
      },
      "execution_count": null,
      "outputs": []
    },
    {
      "cell_type": "markdown",
      "source": [
        "**Observations:**\n",
        "\n",
        "- After applying augmentation, the number of images in each type category is now more balanced.\n",
        "- This augmentation approach can potentially improve the performance of a\n",
        "machine-learning model trained on this data by providing more representative data for each type class.\n"
      ],
      "metadata": {
        "id": "vAlEltc-5vRp"
      }
    },
    {
      "cell_type": "code",
      "source": [],
      "metadata": {
        "id": "dGOmlylnk562"
      },
      "execution_count": null,
      "outputs": []
    },
    {
      "cell_type": "markdown",
      "source": [
        "Regularization"
      ],
      "metadata": {
        "id": "kdBBjPSVoSDn"
      }
    },
    {
      "cell_type": "code",
      "source": [],
      "metadata": {
        "id": "9acaf6GWaqzf"
      },
      "execution_count": null,
      "outputs": []
    },
    {
      "cell_type": "code",
      "source": [],
      "metadata": {
        "id": "FFTL3Kzoaqn0"
      },
      "execution_count": null,
      "outputs": []
    },
    {
      "cell_type": "markdown",
      "source": [
        "Drop out"
      ],
      "metadata": {
        "id": "yzRpDt0CoZf_"
      }
    },
    {
      "cell_type": "code",
      "source": [],
      "metadata": {
        "id": "bNYI5W49aqUe"
      },
      "execution_count": null,
      "outputs": []
    },
    {
      "cell_type": "code",
      "source": [],
      "metadata": {
        "id": "OmXe-71CceMk"
      },
      "execution_count": null,
      "outputs": []
    },
    {
      "cell_type": "code",
      "source": [
        "from sklearn.model_selection import GridSearchCV\n",
        "from sklearn.svm import SVC\n",
        "\n",
        "# Define the parameter grid\n",
        "param_grid = {\n",
        "    'C': [0.1, 1, 10],\n",
        "    'gamma': [0.001, 0.01, 0.1]\n",
        "}\n",
        "\n",
        "# Create the model\n",
        "model = SVC()\n",
        "\n",
        "# Perform grid search with cross-validation\n",
        "grid_search = GridSearchCV(estimator=model, param_grid=param_grid, cv=3)\n",
        "grid_search.fit(X_train, y_train)\n",
        "\n",
        "# Print the best hyperparameters\n",
        "print(\"Best Hyperparameters:\", grid_search.best_params_)\n"
      ],
      "metadata": {
        "id": "Er-ThpgVGFE7"
      },
      "execution_count": null,
      "outputs": []
    },
    {
      "cell_type": "code",
      "source": [],
      "metadata": {
        "id": "JSK-N-1tdJTm"
      },
      "execution_count": null,
      "outputs": []
    },
    {
      "cell_type": "code",
      "source": [],
      "metadata": {
        "id": "VKDDZNL4dJJk"
      },
      "execution_count": null,
      "outputs": []
    }
  ]
}