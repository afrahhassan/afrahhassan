{
  "nbformat": 4,
  "nbformat_minor": 0,
  "metadata": {
    "colab": {
      "provenance": [],
      "toc_visible": true,
      "include_colab_link": true
    },
    "kernelspec": {
      "name": "python3",
      "display_name": "Python 3"
    },
    "language_info": {
      "name": "python"
    }
  },
  "cells": [
    {
      "cell_type": "markdown",
      "metadata": {
        "id": "view-in-github",
        "colab_type": "text"
      },
      "source": [
        "<a href=\"https://colab.research.google.com/github/afrahhassan/afrahhassan/blob/main/assignment2.ipynb\" target=\"_parent\"><img src=\"https://colab.research.google.com/assets/colab-badge.svg\" alt=\"Open In Colab\"/></a>"
      ]
    },
    {
      "cell_type": "markdown",
      "source": [
        "\n",
        "\n",
        "---\n",
        "# <div align=\"center\"><font>  </font></div>\n",
        "# <div align=\"center\"><font> COSC 2793 Computational Machine Learning </font></div>\n",
        "## <div align=\"center\"> <font> Assignment 2: Machine Learning Project </font></div>\n",
        "## <div align=\"center\"> <font> S3930076 Afrah Hassan A Alshaikh Ali & S3569266 Chang Su </font></div>\n",
        "---"
      ],
      "metadata": {
        "id": "1qSifWPkfTvv"
      }
    },
    {
      "cell_type": "code",
      "source": [
        "#Import Libraries"
      ],
      "metadata": {
        "id": "twD8DWapfFnM"
      },
      "execution_count": null,
      "outputs": []
    },
    {
      "cell_type": "markdown",
      "source": [
        "# **Reading Data**"
      ],
      "metadata": {
        "id": "9PmzuCjISE7S"
      }
    },
    {
      "cell_type": "code",
      "source": [
        "from google.colab import drive\n",
        "drive.mount('/content/drive')"
      ],
      "metadata": {
        "colab": {
          "base_uri": "https://localhost:8080/"
        },
        "id": "Pr1U8kyVO1GI",
        "outputId": "467244c4-7234-4c2e-bc52-7316478659e5"
      },
      "execution_count": 30,
      "outputs": [
        {
          "output_type": "stream",
          "name": "stdout",
          "text": [
            "Drive already mounted at /content/drive; to attempt to forcibly remount, call drive.mount(\"/content/drive\", force_remount=True).\n"
          ]
        }
      ]
    },
    {
      "cell_type": "code",
      "source": [
        "import os\n",
        "os.listdir('/content/drive/MyDrive/Assignment2')\n"
      ],
      "metadata": {
        "id": "ash2JewSo2lQ",
        "outputId": "b979dc4b-5442-4beb-8b94-bd66a8078693",
        "colab": {
          "base_uri": "https://localhost:8080/"
        }
      },
      "execution_count": 31,
      "outputs": [
        {
          "output_type": "execute_result",
          "data": {
            "text/plain": [
              "['assignment2_PG.pdf',\n",
              " 'COSC2673_2793_A2_EOI_.docx',\n",
              " 'trafficsigns_dataset',\n",
              " 'trafficsigns_dataset.zip',\n",
              " 'assignment2.ipynb']"
            ]
          },
          "metadata": {},
          "execution_count": 31
        }
      ]
    },
    {
      "cell_type": "markdown",
      "source": [],
      "metadata": {
        "id": "rVvN_smBe9Jf"
      }
    },
    {
      "cell_type": "code",
      "source": [
        "!cp -r \"/content/drive/MyDrive/Assignment2\" ."
      ],
      "metadata": {
        "id": "F-52jr_lY2sU"
      },
      "execution_count": 32,
      "outputs": []
    },
    {
      "cell_type": "code",
      "source": [
        "import zipfile\n",
        "zip_file_path = '/content/drive/My Drive/Assignment2/trafficsigns_dataset.zip'\n",
        "extract_to_path = '/content/trafficsigns_dataset'\n",
        "with zipfile.ZipFile(zip_file_path, 'r') as zip_ref:\n",
        "    zip_ref.extractall(extract_to_path)\n",
        "print(\"Extraction completed!\")"
      ],
      "metadata": {
        "colab": {
          "base_uri": "https://localhost:8080/"
        },
        "id": "yPTRZMWnYJeA",
        "outputId": "6e7d37cb-5240-4529-c074-d0ee5f997618"
      },
      "execution_count": 33,
      "outputs": [
        {
          "output_type": "stream",
          "name": "stdout",
          "text": [
            "Extraction completed!\n"
          ]
        }
      ]
    },
    {
      "cell_type": "code",
      "source": [
        "import os\n",
        "import csv\n",
        "\n",
        "root_dir = '/content/trafficsigns_dataset'\n",
        "# For Afrah\n",
        "output_csv = '/content/drive/My Drive/Assignment2/images.csv'\n",
        "# For Susan\n",
        "#output_csv = '/content/images.csv'\n",
        "\n",
        "with open(output_csv, mode='w', newline='') as file:\n",
        "    writer = csv.writer(file)\n",
        "    writer.writerow(['image_path', 'class'])\n",
        "\n",
        "    for root, dirs, files in os.walk(root_dir):\n",
        "        for file in files:\n",
        "            if file.endswith(('.png', '.jpg', '.jpeg')):\n",
        "                full_path = os.path.join(root, file)\n",
        "                class_name = os.path.basename(root)\n",
        "                writer.writerow([full_path, class_name])\n",
        "print(\"CSV file has been created successfully.\")"
      ],
      "metadata": {
        "colab": {
          "base_uri": "https://localhost:8080/"
        },
        "id": "kf39c_iPYKZF",
        "outputId": "7a2801dc-a3b3-4021-e4d3-09596bff3b9d"
      },
      "execution_count": 35,
      "outputs": [
        {
          "output_type": "stream",
          "name": "stdout",
          "text": [
            "CSV file has been created successfully.\n"
          ]
        }
      ]
    },
    {
      "cell_type": "markdown",
      "source": [
        "# **we need a code for shape **\n",
        "\n",
        "```\n",
        "\n",
        "```\n",
        "\n"
      ],
      "metadata": {
        "id": "pWAFSD7Evnes"
      }
    },
    {
      "cell_type": "markdown",
      "source": [],
      "metadata": {
        "id": "FzmpDTrpk17Z"
      }
    }
  ]
}