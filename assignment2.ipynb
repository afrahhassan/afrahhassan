{
  "nbformat": 4,
  "nbformat_minor": 0,
  "metadata": {
    "colab": {
      "provenance": [],
      "include_colab_link": true
    },
    "kernelspec": {
      "name": "python3",
      "display_name": "Python 3"
    },
    "language_info": {
      "name": "python"
    }
  },
  "cells": [
    {
      "cell_type": "markdown",
      "metadata": {
        "id": "view-in-github",
        "colab_type": "text"
      },
      "source": [
        "<a href=\"https://colab.research.google.com/github/afrahhassan/afrahhassan/blob/main/assignment2.ipynb\" target=\"_parent\"><img src=\"https://colab.research.google.com/assets/colab-badge.svg\" alt=\"Open In Colab\"/></a>"
      ]
    },
    {
      "cell_type": "markdown",
      "source": [
        "# Introduction\n",
        "## Task\n",
        "This report will analyse the methodology used to complete assignment 2 of the course Machine Learning (COSC2673/2793). The objective of the assignment is to develop a machine-learning system that can classify traffic sign images.\n",
        "\n",
        "The project is divided into two tasks:\n",
        "\n",
        "\n",
        "*   Classify images according to the shape of the given image.\n",
        "*    Classify images according to type.\n",
        "\n"
      ],
      "metadata": {
        "id": "bSg4xqPc8rir"
      }
    },
    {
      "cell_type": "markdown",
      "source": [
        "## Approach\n",
        "Our goal is to be able to identify the best possible machine-learning algorithm to generate a model that can reliably and consistently predict whether the type of traffic sign is based on image recognition."
      ],
      "metadata": {
        "id": "wRNwmqGTKEY5"
      }
    },
    {
      "cell_type": "markdown",
      "source": [
        "# **Contact to the Drive**"
      ],
      "metadata": {
        "id": "9PmzuCjISE7S"
      }
    },
    {
      "cell_type": "code",
      "source": [
        "from google.colab import drive\n",
        "import os\n",
        "import csv\n",
        "import numpy as np\n",
        "from sklearn.model_selection import train_test_split\n",
        "import pandas as pd\n",
        "import cv2\n",
        "from PIL import Image\n",
        "from sklearn.preprocessing import LabelEncoder\n"
      ],
      "metadata": {
        "id": "gsVfO_pe7ZM-"
      },
      "execution_count": 1,
      "outputs": []
    },
    {
      "cell_type": "code",
      "source": [
        "!cp -r \"/content/drive/MyDrive/Assignment2\" ."
      ],
      "metadata": {
        "id": "Lul49IWM8_lZ"
      },
      "execution_count": 2,
      "outputs": []
    },
    {
      "cell_type": "code",
      "source": [
        "from google.colab import drive\n",
        "drive.mount('/content/drive')"
      ],
      "metadata": {
        "colab": {
          "base_uri": "https://localhost:8080/"
        },
        "id": "EIscGG5b9m_r",
        "outputId": "856459a0-9483-4156-c5ef-5ce8d7dbebc0"
      },
      "execution_count": 3,
      "outputs": [
        {
          "output_type": "stream",
          "name": "stdout",
          "text": [
            "Drive already mounted at /content/drive; to attempt to forcibly remount, call drive.mount(\"/content/drive\", force_remount=True).\n"
          ]
        }
      ]
    },
    {
      "cell_type": "code",
      "source": [
        "import zipfile\n",
        "with zipfile.ZipFile('/content/drive/MyDrive/Assignment2/trafficsigns_dataset.zip', 'r') as zip_ref:\n",
        "    zip_ref.extractall('./')"
      ],
      "metadata": {
        "id": "ehwv6PY09tAp"
      },
      "execution_count": 4,
      "outputs": []
    },
    {
      "cell_type": "markdown",
      "source": [
        "# **1. Data Exploration**\n",
        "## **1.1 Image Visualization**"
      ],
      "metadata": {
        "id": "dLX2kKbtmKHW"
      }
    },
    {
      "cell_type": "code",
      "source": [
        "import os\n",
        "import zipfile\n",
        "import matplotlib.pyplot as plt\n",
        "import matplotlib.image as mpimg\n",
        "\n",
        "# Path to the ZIP file and extraction directory\n",
        "zip_path = '/content/drive/MyDrive/Assignment2/trafficsigns_dataset.zip'\n",
        "extraction_path = './trafficsigns_dataset'\n",
        "\n",
        "# Extracting the ZIP file\n",
        "with zipfile.ZipFile(zip_path, 'r') as zip_ref:\n",
        "    zip_ref.extractall(extraction_path)\n",
        "\n",
        "# Function to display images\n",
        "def plot_images(images, titles, rows=1, cols=5, figsize=(15, 3)):\n",
        "    fig, axes = plt.subplots(rows, cols, figsize=figsize)\n",
        "    axes = axes.ravel()\n",
        "    for i in range(len(images)):\n",
        "        axes[i].imshow(images[i], cmap='gray')\n",
        "        axes[i].set_title(titles[i], fontsize=8)\n",
        "        axes[i].axis('off')\n",
        "    plt.tight_layout()\n",
        "    plt.show()\n",
        "\n",
        "# Function to collect images from multiple directories\n",
        "def collect_images(directory, extension, num_images=5, cols=5):\n",
        "    images = []\n",
        "    titles = []\n",
        "    # Walk through each folder and subfolder\n",
        "    for root, dirs, files in os.walk(directory):\n",
        "        file_list = [os.path.join(root, file) for file in files if file.endswith(extension)]\n",
        "        if file_list:\n",
        "            selected_files = file_list[:num_images]  # Take up to num_images from each folder\n",
        "            images.extend([mpimg.imread(img) for img in selected_files])\n",
        "            titles.extend(selected_files)\n",
        "        if len(images) >= cols:  # Limit the total number of images to display\n",
        "            break\n",
        "    return images, titles\n",
        "\n",
        "# Collect and display images\n",
        "image_extensions = ('.jpeg', '.jpg', '.png')\n",
        "images, titles = collect_images(extraction_path, image_extensions, num_images=1, cols=5)  # Adjust num_images to pick from each folder\n",
        "plot_images(images, titles)\n"
      ],
      "metadata": {
        "colab": {
          "base_uri": "https://localhost:8080/",
          "height": 159
        },
        "id": "psr7GGPWhJ0U",
        "outputId": "759fbfcc-1047-437c-b225-4969db3cbd09"
      },
      "execution_count": 5,
      "outputs": [
        {
          "output_type": "display_data",
          "data": {
            "text/plain": [
              "<Figure size 1500x300 with 5 Axes>"
            ],
            "image/png": "[encoded data removed]"
          },
          "metadata": {}
        }
      ]
    },
    {
      "cell_type": "markdown",
      "source": [
        "\n",
        "\n",
        "**Observations:**\n",
        "- The traffic sign images exhibit a wide variety of shapes.\n",
        "- Some signs have distinctive shapes (e.g., triangles, circles, octagons), while others have more complex shapes.\n",
        "- The images also vary in terms of background complexity, with some signs having simple backgrounds and others having more cluttered backgrounds.\n",
        "- These observations suggest that a machine-learning algorithm will need to be able to handle a diverse range of image characteristics in order to accurately classify the traffic signs."
      ],
      "metadata": {
        "id": "t1u-epMJ88XG"
      }
    },
    {
      "cell_type": "markdown",
      "source": [
        "## **1.2 Load Data into DataFrame**"
      ],
      "metadata": {
        "id": "EFk9CSkGfJ1J"
      }
    },
    {
      "cell_type": "code",
      "source": [
        "import os\n",
        "import cv2\n",
        "import pandas as pd\n",
        "\n",
        "def load_images_into_dataframes(data_dir):\n",
        "    \"\"\"\n",
        "    Function to load images from a directory into separate Pandas DataFrames for shape and type.\n",
        "\n",
        "    Args:\n",
        "    - data_dir (str): Path to the directory containing the data.\n",
        "\n",
        "    Returns:\n",
        "    - shape_df (DataFrame): Pandas DataFrame containing shape data with images loaded.\n",
        "    - type_df (DataFrame): Pandas DataFrame containing type data with images loaded.\n",
        "    \"\"\"\n",
        "    shape_data = []\n",
        "    type_data = []\n",
        "\n",
        "    # Iterate through shape folders\n",
        "    for shape_folder in os.listdir(data_dir):\n",
        "        shape_folder_path = os.path.join(data_dir, shape_folder)\n",
        "\n",
        "        # Skip non-directory files\n",
        "        if not os.path.isdir(shape_folder_path):\n",
        "            continue\n",
        "\n",
        "        # Iterate through sign type folders\n",
        "        for sign_type_folder in os.listdir(shape_folder_path):\n",
        "            sign_type_folder_path = os.path.join(shape_folder_path, sign_type_folder)\n",
        "\n",
        "            # Skip non-directory files\n",
        "            if not os.path.isdir(sign_type_folder_path):\n",
        "                continue\n",
        "\n",
        "            # Iterate through image files\n",
        "            for image_file in os.listdir(sign_type_folder_path):\n",
        "                image_path = os.path.join(sign_type_folder_path, image_file)\n",
        "\n",
        "                # Check if the file is an image\n",
        "                if not image_path.endswith(('.jpg', '.jpeg', '.png', '.bmp', '.gif')):\n",
        "                    print(f\"Skipping non-image file: {image_path}\")\n",
        "                    continue\n",
        "\n",
        "                # Load the image\n",
        "                image = cv2.imread(image_path, cv2.IMREAD_GRAYSCALE)\n",
        "\n",
        "                # Check if the image is null\n",
        "                if image is None:\n",
        "                    print(f\"Skipping null image: {image_path}\")\n",
        "                    continue\n",
        "\n",
        "                # Append image and labels to the respective data lists\n",
        "                shape_data.append((image_path, image, shape_folder))\n",
        "                type_data.append((image_path, image, sign_type_folder))\n",
        "\n",
        "    # Create DataFrames from the collected data\n",
        "    shape_df = pd.DataFrame(shape_data, columns=['image_path', 'image', 'shape_label'])\n",
        "    type_df = pd.DataFrame(type_data, columns=['image_path', 'image', 'type_label'])\n",
        "\n",
        "    return shape_df, type_df\n",
        "\n",
        "# Example usage\n",
        "# data_dir = \"trafficsigns_dataset\"\n",
        "data_dir = \"/content/drive/My Drive/Assignment2/trafficsigns_dataset\"\n",
        "shape_df, type_df = load_images_into_dataframes(data_dir)\n",
        "\n",
        "print(\"Shape DataFrame:\")\n",
        "print(shape_df.head())\n",
        "\n",
        "print(\"\\nType DataFrame:\")\n",
        "print(type_df.head())\n"
      ],
      "metadata": {
        "colab": {
          "base_uri": "https://localhost:8080/"
        },
        "id": "muY3UHBWQV_G",
        "outputId": "2288d7aa-70f3-4923-dda5-1261bccd9ef8"
      },
      "execution_count": 6,
      "outputs": [
        {
          "output_type": "stream",
          "name": "stdout",
          "text": [
            "Skipping non-image file: /content/drive/My Drive/Assignment2/trafficsigns_dataset/triangle/warning/.DS_Store\n",
            "Shape DataFrame:\n",
            "                                          image_path  \\\n",
            "0  /content/drive/My Drive/Assignment2/trafficsig...   \n",
            "1  /content/drive/My Drive/Assignment2/trafficsig...   \n",
            "2  /content/drive/My Drive/Assignment2/trafficsig...   \n",
            "3  /content/drive/My Drive/Assignment2/trafficsig...   \n",
            "4  /content/drive/My Drive/Assignment2/trafficsig...   \n",
            "\n",
            "                                               image shape_label  \n",
            "0  [[60, 64, 47, 39, 46, 33, 30, 33, 19, 24, 15, ...      square  \n",
            "1  [[73, 63, 59, 55, 46, 51, 52, 52, 61, 56, 57, ...      square  \n",
            "2  [[255, 255, 255, 255, 255, 254, 254, 254, 255,...      square  \n",
            "3  [[37, 31, 30, 31, 30, 42, 37, 36, 35, 37, 35, ...      square  \n",
            "4  [[117, 88, 77, 96, 87, 72, 79, 91, 80, 78, 76,...      square  \n",
            "\n",
            "Type DataFrame:\n",
            "                                          image_path  \\\n",
            "0  /content/drive/My Drive/Assignment2/trafficsig...   \n",
            "1  /content/drive/My Drive/Assignment2/trafficsig...   \n",
            "2  /content/drive/My Drive/Assignment2/trafficsig...   \n",
            "3  /content/drive/My Drive/Assignment2/trafficsig...   \n",
            "4  /content/drive/My Drive/Assignment2/trafficsig...   \n",
            "\n",
            "                                               image type_label  \n",
            "0  [[60, 64, 47, 39, 46, 33, 30, 33, 19, 24, 15, ...   crossing  \n",
            "1  [[73, 63, 59, 55, 46, 51, 52, 52, 61, 56, 57, ...   crossing  \n",
            "2  [[255, 255, 255, 255, 255, 254, 254, 254, 255,...   crossing  \n",
            "3  [[37, 31, 30, 31, 30, 42, 37, 36, 35, 37, 35, ...   crossing  \n",
            "4  [[117, 88, 77, 96, 87, 72, 79, 91, 80, 78, 76,...   crossing  \n"
          ]
        }
      ]
    },
    {
      "cell_type": "markdown",
      "source": [
        "## **1.3 Check the Data Set**"
      ],
      "metadata": {
        "id": "CY4NUiX6fmjD"
      }
    },
    {
      "cell_type": "code",
      "source": [
        "# Check the size of the Shape DataFrame\n",
        "print(\"DataFrame Size:\")\n",
        "print(shape_df.shape)\n",
        "\n",
        "# Display basic information about the Shape DataFrame\n",
        "print(\"\\nDataFrame Information:\")\n",
        "print(shape_df.info())\n",
        "\n",
        "# Display descriptive statistics of the Shape DataFrame\n",
        "print(\"\\nDataFrame Descriptive Statistics:\")\n",
        "print(shape_df.describe())"
      ],
      "metadata": {
        "colab": {
          "base_uri": "https://localhost:8080/"
        },
        "id": "9ozR6z_xfen1",
        "outputId": "3f6d73e2-83b6-4b94-ffeb-963d8b5f937f"
      },
      "execution_count": 7,
      "outputs": [
        {
          "output_type": "stream",
          "name": "stdout",
          "text": [
            "DataFrame Size:\n",
            "(3699, 3)\n",
            "\n",
            "DataFrame Information:\n",
            "<class 'pandas.core.frame.DataFrame'>\n",
            "RangeIndex: 3699 entries, 0 to 3698\n",
            "Data columns (total 3 columns):\n",
            " #   Column       Non-Null Count  Dtype \n",
            "---  ------       --------------  ----- \n",
            " 0   image_path   3699 non-null   object\n",
            " 1   image        3699 non-null   object\n",
            " 2   shape_label  3699 non-null   object\n",
            "dtypes: object(3)\n",
            "memory usage: 86.8+ KB\n",
            "None\n",
            "\n",
            "DataFrame Descriptive Statistics:\n",
            "                                               image_path  \\\n",
            "count                                                3699   \n",
            "unique                                               3699   \n",
            "top     /content/drive/My Drive/Assignment2/trafficsig...   \n",
            "freq                                                    1   \n",
            "\n",
            "                                                    image shape_label  \n",
            "count                                                3699        3699  \n",
            "unique                                               3699           5  \n",
            "top     [[60, 64, 47, 39, 46, 33, 30, 33, 19, 24, 15, ...       round  \n",
            "freq                                                    1        1760  \n"
          ]
        }
      ]
    },
    {
      "cell_type": "code",
      "source": [
        "# Check the size of the Type DataFrame\n",
        "print(\"DataFrame Size:\")\n",
        "print(type_df.shape)\n",
        "\n",
        "# Display basic information about the Type DataFrame\n",
        "print(\"\\nDataFrame Information:\")\n",
        "print(type_df.info())\n",
        "\n",
        "# Display descriptive statistics of the Type DataFrame\n",
        "print(\"\\nDataFrame Descriptive Statistics:\")\n",
        "print(type_df.describe())"
      ],
      "metadata": {
        "colab": {
          "base_uri": "https://localhost:8080/"
        },
        "id": "zWF-hEnwdcl_",
        "outputId": "fd9c475e-b5e2-4b7e-ad05-78703082e9bd"
      },
      "execution_count": 8,
      "outputs": [
        {
          "output_type": "stream",
          "name": "stdout",
          "text": [
            "DataFrame Size:\n",
            "(3699, 3)\n",
            "\n",
            "DataFrame Information:\n",
            "<class 'pandas.core.frame.DataFrame'>\n",
            "RangeIndex: 3699 entries, 0 to 3698\n",
            "Data columns (total 3 columns):\n",
            " #   Column      Non-Null Count  Dtype \n",
            "---  ------      --------------  ----- \n",
            " 0   image_path  3699 non-null   object\n",
            " 1   image       3699 non-null   object\n",
            " 2   type_label  3699 non-null   object\n",
            "dtypes: object(3)\n",
            "memory usage: 86.8+ KB\n",
            "None\n",
            "\n",
            "DataFrame Descriptive Statistics:\n",
            "                                               image_path  \\\n",
            "count                                                3699   \n",
            "unique                                               3699   \n",
            "top     /content/drive/My Drive/Assignment2/trafficsig...   \n",
            "freq                                                    1   \n",
            "\n",
            "                                                    image type_label  \n",
            "count                                                3699       3699  \n",
            "unique                                               3699         16  \n",
            "top     [[60, 64, 47, 39, 46, 33, 30, 33, 19, 24, 15, ...    warning  \n",
            "freq                                                    1        695  \n"
          ]
        }
      ]
    },
    {
      "cell_type": "code",
      "source": [
        "# Number of data points\n",
        "num_data_points_1 = len(type_df)\n",
        "print(\"Number of Data Points:\", num_data_points_1)\n",
        "\n",
        "num_data_points_2 = len(shape_df)\n",
        "print(\"Number of Data Points:\", num_data_points_2\n",
        "      )\n",
        "\n",
        "# Count of unique shapes\n",
        "num_unique_shapes = shape_df['shape_label'].nunique()\n",
        "print(\"Number of Unique Image Shapes:\", num_unique_shapes)\n",
        "\n",
        "# Count of unique types\n",
        "num_unique_types = type_df['type_label'].nunique()\n",
        "print(\"Number of Unique Image Types:\", num_unique_types)"
      ],
      "metadata": {
        "colab": {
          "base_uri": "https://localhost:8080/"
        },
        "id": "kxq8UbWzeAh5",
        "outputId": "0a24d7be-6d8c-4ff4-9028-668b9ed3df67"
      },
      "execution_count": 9,
      "outputs": [
        {
          "output_type": "stream",
          "name": "stdout",
          "text": [
            "Number of Data Points: 3699\n",
            "Number of Data Points: 3699\n",
            "Number of Unique Image Shapes: 5\n",
            "Number of Unique Image Types: 16\n"
          ]
        }
      ]
    },
    {
      "cell_type": "code",
      "source": [
        "# Number of each shape\n",
        "shape_counts = shape_df['shape_label'].value_counts()\n",
        "print(\"Number of Each Shape Type:\")\n",
        "print(shape_counts)\n",
        "\n",
        "# Number of each type\n",
        "type_counts = type_df['type_label'].value_counts()\n",
        "print(\"\\nNumber of Each Type:\")\n",
        "print(type_counts)"
      ],
      "metadata": {
        "colab": {
          "base_uri": "https://localhost:8080/"
        },
        "collapsed": true,
        "id": "FGbgIKMd-2re",
        "outputId": "5542f0de-55cf-4f16-8fc5-54455d182b34"
      },
      "execution_count": 10,
      "outputs": [
        {
          "output_type": "stream",
          "name": "stdout",
          "text": [
            "Number of Each Shape Type:\n",
            "shape_label\n",
            "round       1760\n",
            "triangle     926\n",
            "square       688\n",
            "diamond      282\n",
            "hex           43\n",
            "Name: count, dtype: int64\n",
            "\n",
            "Number of Each Type:\n",
            "type_label\n",
            "warning             695\n",
            "noentry             375\n",
            "speed               316\n",
            "bicycle             285\n",
            "rightofway          282\n",
            "parking             276\n",
            "noparking           242\n",
            "giveway             231\n",
            "continue            199\n",
            "trafficdirective    195\n",
            "limitedtraffic      125\n",
            "traveldirection     124\n",
            "laneend             118\n",
            "roundabout           98\n",
            "crossing             95\n",
            "stop                 43\n",
            "Name: count, dtype: int64\n"
          ]
        }
      ]
    },
    {
      "cell_type": "code",
      "source": [
        "import matplotlib.pyplot as plt\n",
        "def plot_samples(data_df, num_samples=5):\n",
        "    \"\"\"\n",
        "    Function to plot sample images from a DataFrame along with their labels.\n",
        "\n",
        "    Args:\n",
        "    - data_df (DataFrame): DataFrame containing image data and labels.\n",
        "    - num_samples (int): Number of samples to plot.\n",
        "\n",
        "    Returns:\n",
        "    - None\n",
        "    \"\"\"\n",
        "\n",
        "    fig, axes = plt.subplots(1, num_samples, figsize=(15, 3))\n",
        "\n",
        "    for i in range(num_samples):\n",
        "        sample = data_df.sample()  # Sampling from the DataFrame passed as input\n",
        "        image = sample['image'].values[0]  # Assuming 'image' contains the image data\n",
        "        label = sample['shape_label'].values[0] if 'shape_label' in data_df.columns else sample['type_label'].values[0]\n",
        "        axes[i].imshow(image, cmap='gray')  # Assuming grayscale images\n",
        "        axes[i].set_title(label)\n",
        "        axes[i].axis('off')\n",
        "\n",
        "    plt.show()\n",
        "\n",
        "\n",
        "# Plot sample images from the shape DataFrame\n",
        "print(\"Samples from Shape DataFrame:\")\n",
        "plot_samples(shape_df)\n",
        "\n",
        "# Plot sample images from the type DataFrame\n",
        "print(\"Samples from Type DataFrame:\")\n",
        "plot_samples(type_df)\n"
      ],
      "metadata": {
        "colab": {
          "base_uri": "https://localhost:8080/",
          "height": 368
        },
        "id": "gW2eHXdTgC6f",
        "outputId": "ef42eede-5c79-4687-8f74-188f0b4d6ff6"
      },
      "execution_count": 11,
      "outputs": [
        {
          "output_type": "stream",
          "name": "stdout",
          "text": [
            "Samples from Shape DataFrame:\n"
          ]
        },
        {
          "output_type": "display_data",
          "data": {
            "text/plain": [
              "<Figure size 1500x300 with 5 Axes>"
            ],
            "image/png": "[encoded data removed]"
          },
          "metadata": {}
        },
        {
          "output_type": "stream",
          "name": "stdout",
          "text": [
            "Samples from Type DataFrame:\n"
          ]
        },
        {
          "output_type": "display_data",
          "data": {
            "text/plain": [
              "<Figure size 1500x300 with 5 Axes>"
            ],
            "image/png": "[encoded data removed]"
          },
          "metadata": {}
        }
      ]
    },
    {
      "cell_type": "code",
      "source": [
        "from sklearn.preprocessing import LabelEncoder\n",
        "\n",
        "# Create LabelEncoder instance\n",
        "label_encoder = LabelEncoder()\n",
        "\n",
        "# Fit and transform the shape labels\n",
        "shape_labels_encoded = label_encoder.fit_transform(shape_df['shape_label'])\n",
        "\n",
        "# Add the encoded labels as a new column in shape_df\n",
        "shape_df['encoded_shape_label'] = shape_labels_encoded\n",
        "\n",
        "# Display the updated shape_df\n",
        "shape_df.head()"
      ],
      "metadata": {
        "colab": {
          "base_uri": "https://localhost:8080/",
          "height": 310
        },
        "id": "dwR8mNBGgIsU",
        "outputId": "e4d1d0e0-6750-4751-e7c2-ad0dad0655c3"
      },
      "execution_count": 12,
      "outputs": [
        {
          "output_type": "execute_result",
          "data": {
            "text/plain": [
              "                                          image_path  \\\n",
              "0  /content/drive/My Drive/Assignment2/trafficsig...   \n",
              "1  /content/drive/My Drive/Assignment2/trafficsig...   \n",
              "2  /content/drive/My Drive/Assignment2/trafficsig...   \n",
              "3  /content/drive/My Drive/Assignment2/trafficsig...   \n",
              "4  /content/drive/My Drive/Assignment2/trafficsig...   \n",
              "\n",
              "                                               image shape_label  \\\n",
              "0  [[60, 64, 47, 39, 46, 33, 30, 33, 19, 24, 15, ...      square   \n",
              "1  [[73, 63, 59, 55, 46, 51, 52, 52, 61, 56, 57, ...      square   \n",
              "2  [[255, 255, 255, 255, 255, 254, 254, 254, 255,...      square   \n",
              "3  [[37, 31, 30, 31, 30, 42, 37, 36, 35, 37, 35, ...      square   \n",
              "4  [[117, 88, 77, 96, 87, 72, 79, 91, 80, 78, 76,...      square   \n",
              "\n",
              "   encoded_shape_label  \n",
              "0                    3  \n",
              "1                    3  \n",
              "2                    3  \n",
              "3                    3  \n",
              "4                    3  "
            ],
            "text/html": [
              "\n",
              "  <div id=\"df-0f5551fe-9316-4cfc-baf2-27934dc9cda9\" class=\"colab-df-container\">\n",
              "    <div>\n",
              "<style scoped>\n",
              "    .dataframe tbody tr th:only-of-type {\n",
              "        vertical-align: middle;\n",
              "    }\n",
              "\n",
              "    .dataframe tbody tr th {\n",
              "        vertical-align: top;\n",
              "    }\n",
              "\n",
              "    .dataframe thead th {\n",
              "        text-align: right;\n",
              "    }\n",
              "</style>\n",
              "<table border=\"1\" class=\"dataframe\">\n",
              "  <thead>\n",
              "    <tr style=\"text-align: right;\">\n",
              "      <th></th>\n",
              "      <th>image_path</th>\n",
              "      <th>image</th>\n",
              "      <th>shape_label</th>\n",
              "      <th>encoded_shape_label</th>\n",
              "    </tr>\n",
              "  </thead>\n",
              "  <tbody>\n",
              "    <tr>\n",
              "      <th>0</th>\n",
              "      <td>/content/drive/My Drive/Assignment2/trafficsig...</td>\n",
              "      <td>[[60, 64, 47, 39, 46, 33, 30, 33, 19, 24, 15, ...</td>\n",
              "      <td>square</td>\n",
              "      <td>3</td>\n",
              "    </tr>\n",
              "    <tr>\n",
              "      <th>1</th>\n",
              "      <td>/content/drive/My Drive/Assignment2/trafficsig...</td>\n",
              "      <td>[[73, 63, 59, 55, 46, 51, 52, 52, 61, 56, 57, ...</td>\n",
              "      <td>square</td>\n",
              "      <td>3</td>\n",
              "    </tr>\n",
              "    <tr>\n",
              "      <th>2</th>\n",
              "      <td>/content/drive/My Drive/Assignment2/trafficsig...</td>\n",
              "      <td>[[255, 255, 255, 255, 255, 254, 254, 254, 255,...</td>\n",
              "      <td>square</td>\n",
              "      <td>3</td>\n",
              "    </tr>\n",
              "    <tr>\n",
              "      <th>3</th>\n",
              "      <td>/content/drive/My Drive/Assignment2/trafficsig...</td>\n",
              "      <td>[[37, 31, 30, 31, 30, 42, 37, 36, 35, 37, 35, ...</td>\n",
              "      <td>square</td>\n",
              "      <td>3</td>\n",
              "    </tr>\n",
              "    <tr>\n",
              "      <th>4</th>\n",
              "      <td>/content/drive/My Drive/Assignment2/trafficsig...</td>\n",
              "      <td>[[117, 88, 77, 96, 87, 72, 79, 91, 80, 78, 76,...</td>\n",
              "      <td>square</td>\n",
              "      <td>3</td>\n",
              "    </tr>\n",
              "  </tbody>\n",
              "</table>\n",
              "</div>\n",
              "    <div class=\"colab-df-buttons\">\n",
              "\n",
              "  <div class=\"colab-df-container\">\n",
              "    <button class=\"colab-df-convert\" onclick=\"convertToInteractive('df-0f5551fe-9316-4cfc-baf2-27934dc9cda9')\"\n",
              "            title=\"Convert this dataframe to an interactive table.\"\n",
              "            style=\"display:none;\">\n",
              "\n",
              "  <svg xmlns=\"http://www.w3.org/2000/svg\" height=\"24px\" viewBox=\"0 -960 960 960\">\n",
              "    <path d=\"M120-120v-720h720v720H120Zm60-500h600v-160H180v160Zm220 220h160v-160H400v160Zm0 220h160v-160H400v160ZM180-400h160v-160H180v160Zm440 0h160v-160H620v160ZM180-180h160v-160H180v160Zm440 0h160v-160H620v160Z\"/>\n",
              "  </svg>\n",
              "    </button>\n",
              "\n",
              "  <style>\n",
              "    .colab-df-container {\n",
              "      display:flex;\n",
              "      gap: 12px;\n",
              "    }\n",
              "\n",
              "    .colab-df-convert {\n",
              "      background-color: #E8F0FE;\n",
              "      border: none;\n",
              "      border-radius: 50%;\n",
              "      cursor: pointer;\n",
              "      display: none;\n",
              "      fill: #1967D2;\n",
              "      height: 32px;\n",
              "      padding: 0 0 0 0;\n",
              "      width: 32px;\n",
              "    }\n",
              "\n",
              "    .colab-df-convert:hover {\n",
              "      background-color: #E2EBFA;\n",
              "      box-shadow: 0px 1px 2px rgba(60, 64, 67, 0.3), 0px 1px 3px 1px rgba(60, 64, 67, 0.15);\n",
              "      fill: #174EA6;\n",
              "    }\n",
              "\n",
              "    .colab-df-buttons div {\n",
              "      margin-bottom: 4px;\n",
              "    }\n",
              "\n",
              "    [theme=dark] .colab-df-convert {\n",
              "      background-color: #3B4455;\n",
              "      fill: #D2E3FC;\n",
              "    }\n",
              "\n",
              "    [theme=dark] .colab-df-convert:hover {\n",
              "      background-color: #434B5C;\n",
              "      box-shadow: 0px 1px 3px 1px rgba(0, 0, 0, 0.15);\n",
              "      filter: drop-shadow(0px 1px 2px rgba(0, 0, 0, 0.3));\n",
              "      fill: #FFFFFF;\n",
              "    }\n",
              "  </style>\n",
              "\n",
              "    <script>\n",
              "      const buttonEl =\n",
              "        document.querySelector('#df-0f5551fe-9316-4cfc-baf2-27934dc9cda9 button.colab-df-convert');\n",
              "      buttonEl.style.display =\n",
              "        google.colab.kernel.accessAllowed ? 'block' : 'none';\n",
              "\n",
              "      async function convertToInteractive(key) {\n",
              "        const element = document.querySelector('#df-0f5551fe-9316-4cfc-baf2-27934dc9cda9');\n",
              "        const dataTable =\n",
              "          await google.colab.kernel.invokeFunction('convertToInteractive',\n",
              "                                                    [key], {});\n",
              "        if (!dataTable) return;\n",
              "\n",
              "        const docLinkHtml = 'Like what you see? Visit the ' +\n",
              "          '<a target=\"_blank\" href=https://colab.research.google.com/notebooks/data_table.ipynb>data table notebook</a>'\n",
              "          + ' to learn more about interactive tables.';\n",
              "        element.innerHTML = '';\n",
              "        dataTable['output_type'] = 'display_data';\n",
              "        await google.colab.output.renderOutput(dataTable, element);\n",
              "        const docLink = document.createElement('div');\n",
              "        docLink.innerHTML = docLinkHtml;\n",
              "        element.appendChild(docLink);\n",
              "      }\n",
              "    </script>\n",
              "  </div>\n",
              "\n",
              "\n",
              "<div id=\"df-715ad8b3-7321-43b8-bda1-3bdc32a48185\">\n",
              "  <button class=\"colab-df-quickchart\" onclick=\"quickchart('df-715ad8b3-7321-43b8-bda1-3bdc32a48185')\"\n",
              "            title=\"Suggest charts\"\n",
              "            style=\"display:none;\">\n",
              "\n",
              "<svg xmlns=\"http://www.w3.org/2000/svg\" height=\"24px\"viewBox=\"0 0 24 24\"\n",
              "     width=\"24px\">\n",
              "    <g>\n",
              "        <path d=\"M19 3H5c-1.1 0-2 .9-2 2v14c0 1.1.9 2 2 2h14c1.1 0 2-.9 2-2V5c0-1.1-.9-2-2-2zM9 17H7v-7h2v7zm4 0h-2V7h2v10zm4 0h-2v-4h2v4z\"/>\n",
              "    </g>\n",
              "</svg>\n",
              "  </button>\n",
              "\n",
              "<style>\n",
              "  .colab-df-quickchart {\n",
              "      --bg-color: #E8F0FE;\n",
              "      --fill-color: #1967D2;\n",
              "      --hover-bg-color: #E2EBFA;\n",
              "      --hover-fill-color: #174EA6;\n",
              "      --disabled-fill-color: #AAA;\n",
              "      --disabled-bg-color: #DDD;\n",
              "  }\n",
              "\n",
              "  [theme=dark] .colab-df-quickchart {\n",
              "      --bg-color: #3B4455;\n",
              "      --fill-color: #D2E3FC;\n",
              "      --hover-bg-color: #434B5C;\n",
              "      --hover-fill-color: #FFFFFF;\n",
              "      --disabled-bg-color: #3B4455;\n",
              "      --disabled-fill-color: #666;\n",
              "  }\n",
              "\n",
              "  .colab-df-quickchart {\n",
              "    background-color: var(--bg-color);\n",
              "    border: none;\n",
              "    border-radius: 50%;\n",
              "    cursor: pointer;\n",
              "    display: none;\n",
              "    fill: var(--fill-color);\n",
              "    height: 32px;\n",
              "    padding: 0;\n",
              "    width: 32px;\n",
              "  }\n",
              "\n",
              "  .colab-df-quickchart:hover {\n",
              "    background-color: var(--hover-bg-color);\n",
              "    box-shadow: 0 1px 2px rgba(60, 64, 67, 0.3), 0 1px 3px 1px rgba(60, 64, 67, 0.15);\n",
              "    fill: var(--button-hover-fill-color);\n",
              "  }\n",
              "\n",
              "  .colab-df-quickchart-complete:disabled,\n",
              "  .colab-df-quickchart-complete:disabled:hover {\n",
              "    background-color: var(--disabled-bg-color);\n",
              "    fill: var(--disabled-fill-color);\n",
              "    box-shadow: none;\n",
              "  }\n",
              "\n",
              "  .colab-df-spinner {\n",
              "    border: 2px solid var(--fill-color);\n",
              "    border-color: transparent;\n",
              "    border-bottom-color: var(--fill-color);\n",
              "    animation:\n",
              "      spin 1s steps(1) infinite;\n",
              "  }\n",
              "\n",
              "  @keyframes spin {\n",
              "    0% {\n",
              "      border-color: transparent;\n",
              "      border-bottom-color: var(--fill-color);\n",
              "      border-left-color: var(--fill-color);\n",
              "    }\n",
              "    20% {\n",
              "      border-color: transparent;\n",
              "      border-left-color: var(--fill-color);\n",
              "      border-top-color: var(--fill-color);\n",
              "    }\n",
              "    30% {\n",
              "      border-color: transparent;\n",
              "      border-left-color: var(--fill-color);\n",
              "      border-top-color: var(--fill-color);\n",
              "      border-right-color: var(--fill-color);\n",
              "    }\n",
              "    40% {\n",
              "      border-color: transparent;\n",
              "      border-right-color: var(--fill-color);\n",
              "      border-top-color: var(--fill-color);\n",
              "    }\n",
              "    60% {\n",
              "      border-color: transparent;\n",
              "      border-right-color: var(--fill-color);\n",
              "    }\n",
              "    80% {\n",
              "      border-color: transparent;\n",
              "      border-right-color: var(--fill-color);\n",
              "      border-bottom-color: var(--fill-color);\n",
              "    }\n",
              "    90% {\n",
              "      border-color: transparent;\n",
              "      border-bottom-color: var(--fill-color);\n",
              "    }\n",
              "  }\n",
              "</style>\n",
              "\n",
              "  <script>\n",
              "    async function quickchart(key) {\n",
              "      const quickchartButtonEl =\n",
              "        document.querySelector('#' + key + ' button');\n",
              "      quickchartButtonEl.disabled = true;  // To prevent multiple clicks.\n",
              "      quickchartButtonEl.classList.add('colab-df-spinner');\n",
              "      try {\n",
              "        const charts = await google.colab.kernel.invokeFunction(\n",
              "            'suggestCharts', [key], {});\n",
              "      } catch (error) {\n",
              "        console.error('Error during call to suggestCharts:', error);\n",
              "      }\n",
              "      quickchartButtonEl.classList.remove('colab-df-spinner');\n",
              "      quickchartButtonEl.classList.add('colab-df-quickchart-complete');\n",
              "    }\n",
              "    (() => {\n",
              "      let quickchartButtonEl =\n",
              "        document.querySelector('#df-715ad8b3-7321-43b8-bda1-3bdc32a48185 button');\n",
              "      quickchartButtonEl.style.display =\n",
              "        google.colab.kernel.accessAllowed ? 'block' : 'none';\n",
              "    })();\n",
              "  </script>\n",
              "</div>\n",
              "\n",
              "    </div>\n",
              "  </div>\n"
            ],
            "application/vnd.google.colaboratory.intrinsic+json": {
              "type": "dataframe",
              "variable_name": "shape_df",
              "summary": "{\n  \"name\": \"shape_df\",\n  \"rows\": 3699,\n  \"fields\": [\n    {\n      \"column\": \"image_path\",\n      \"properties\": {\n        \"dtype\": \"string\",\n        \"num_unique_values\": 3699,\n        \"samples\": [\n          \"/content/drive/My Drive/Assignment2/trafficsigns_dataset/triangle/warning/00710_00002.png\",\n          \"/content/drive/My Drive/Assignment2/trafficsigns_dataset/round/noentry/01047_00002.png\",\n          \"/content/drive/My Drive/Assignment2/trafficsigns_dataset/square/parking/00035_00002.png\"\n        ],\n        \"semantic_type\": \"\",\n        \"description\": \"\"\n      }\n    },\n    {\n      \"column\": \"image\",\n      \"properties\": {\n        \"dtype\": \"object\",\n        \"semantic_type\": \"\",\n        \"description\": \"\"\n      }\n    },\n    {\n      \"column\": \"shape_label\",\n      \"properties\": {\n        \"dtype\": \"category\",\n        \"num_unique_values\": 5,\n        \"samples\": [\n          \"triangle\",\n          \"diamond\",\n          \"hex\"\n        ],\n        \"semantic_type\": \"\",\n        \"description\": \"\"\n      }\n    },\n    {\n      \"column\": \"encoded_shape_label\",\n      \"properties\": {\n        \"dtype\": \"number\",\n        \"std\": 1,\n        \"min\": 0,\n        \"max\": 4,\n        \"num_unique_values\": 5,\n        \"samples\": [\n          4,\n          0,\n          1\n        ],\n        \"semantic_type\": \"\",\n        \"description\": \"\"\n      }\n    }\n  ]\n}"
            }
          },
          "metadata": {},
          "execution_count": 12
        }
      ]
    },
    {
      "cell_type": "code",
      "source": [
        "from sklearn.preprocessing import LabelEncoder\n",
        "\n",
        "# Create LabelEncoder instance\n",
        "label_encoder = LabelEncoder()\n",
        "\n",
        "# Fit and transform the type labels\n",
        "type_labels_encoded = label_encoder.fit_transform(type_df['type_label'])\n",
        "\n",
        "# Add the encoded labels as a new column in type_df\n",
        "type_df['encoded_type_label'] = type_labels_encoded\n",
        "\n",
        "# Display the updated type_df\n",
        "type_df.head()"
      ],
      "metadata": {
        "colab": {
          "base_uri": "https://localhost:8080/",
          "height": 293
        },
        "id": "JyEt2EkjgMR1",
        "outputId": "3eb2578e-6186-4cdd-ded5-778d29a720c1"
      },
      "execution_count": 13,
      "outputs": [
        {
          "output_type": "execute_result",
          "data": {
            "text/plain": [
              "                                          image_path  \\\n",
              "0  /content/drive/My Drive/Assignment2/trafficsig...   \n",
              "1  /content/drive/My Drive/Assignment2/trafficsig...   \n",
              "2  /content/drive/My Drive/Assignment2/trafficsig...   \n",
              "3  /content/drive/My Drive/Assignment2/trafficsig...   \n",
              "4  /content/drive/My Drive/Assignment2/trafficsig...   \n",
              "\n",
              "                                               image type_label  \\\n",
              "0  [[60, 64, 47, 39, 46, 33, 30, 33, 19, 24, 15, ...   crossing   \n",
              "1  [[73, 63, 59, 55, 46, 51, 52, 52, 61, 56, 57, ...   crossing   \n",
              "2  [[255, 255, 255, 255, 255, 254, 254, 254, 255,...   crossing   \n",
              "3  [[37, 31, 30, 31, 30, 42, 37, 36, 35, 37, 35, ...   crossing   \n",
              "4  [[117, 88, 77, 96, 87, 72, 79, 91, 80, 78, 76,...   crossing   \n",
              "\n",
              "   encoded_type_label  \n",
              "0                   2  \n",
              "1                   2  \n",
              "2                   2  \n",
              "3                   2  \n",
              "4                   2  "
            ],
            "text/html": [
              "\n",
              "  <div id=\"df-e045ebc0-0263-436b-823e-20c86bd042c4\" class=\"colab-df-container\">\n",
              "    <div>\n",
              "<style scoped>\n",
              "    .dataframe tbody tr th:only-of-type {\n",
              "        vertical-align: middle;\n",
              "    }\n",
              "\n",
              "    .dataframe tbody tr th {\n",
              "        vertical-align: top;\n",
              "    }\n",
              "\n",
              "    .dataframe thead th {\n",
              "        text-align: right;\n",
              "    }\n",
              "</style>\n",
              "<table border=\"1\" class=\"dataframe\">\n",
              "  <thead>\n",
              "    <tr style=\"text-align: right;\">\n",
              "      <th></th>\n",
              "      <th>image_path</th>\n",
              "      <th>image</th>\n",
              "      <th>type_label</th>\n",
              "      <th>encoded_type_label</th>\n",
              "    </tr>\n",
              "  </thead>\n",
              "  <tbody>\n",
              "    <tr>\n",
              "      <th>0</th>\n",
              "      <td>/content/drive/My Drive/Assignment2/trafficsig...</td>\n",
              "      <td>[[60, 64, 47, 39, 46, 33, 30, 33, 19, 24, 15, ...</td>\n",
              "      <td>crossing</td>\n",
              "      <td>2</td>\n",
              "    </tr>\n",
              "    <tr>\n",
              "      <th>1</th>\n",
              "      <td>/content/drive/My Drive/Assignment2/trafficsig...</td>\n",
              "      <td>[[73, 63, 59, 55, 46, 51, 52, 52, 61, 56, 57, ...</td>\n",
              "      <td>crossing</td>\n",
              "      <td>2</td>\n",
              "    </tr>\n",
              "    <tr>\n",
              "      <th>2</th>\n",
              "      <td>/content/drive/My Drive/Assignment2/trafficsig...</td>\n",
              "      <td>[[255, 255, 255, 255, 255, 254, 254, 254, 255,...</td>\n",
              "      <td>crossing</td>\n",
              "      <td>2</td>\n",
              "    </tr>\n",
              "    <tr>\n",
              "      <th>3</th>\n",
              "      <td>/content/drive/My Drive/Assignment2/trafficsig...</td>\n",
              "      <td>[[37, 31, 30, 31, 30, 42, 37, 36, 35, 37, 35, ...</td>\n",
              "      <td>crossing</td>\n",
              "      <td>2</td>\n",
              "    </tr>\n",
              "    <tr>\n",
              "      <th>4</th>\n",
              "      <td>/content/drive/My Drive/Assignment2/trafficsig...</td>\n",
              "      <td>[[117, 88, 77, 96, 87, 72, 79, 91, 80, 78, 76,...</td>\n",
              "      <td>crossing</td>\n",
              "      <td>2</td>\n",
              "    </tr>\n",
              "  </tbody>\n",
              "</table>\n",
              "</div>\n",
              "    <div class=\"colab-df-buttons\">\n",
              "\n",
              "  <div class=\"colab-df-container\">\n",
              "    <button class=\"colab-df-convert\" onclick=\"convertToInteractive('df-e045ebc0-0263-436b-823e-20c86bd042c4')\"\n",
              "            title=\"Convert this dataframe to an interactive table.\"\n",
              "            style=\"display:none;\">\n",
              "\n",
              "  <svg xmlns=\"http://www.w3.org/2000/svg\" height=\"24px\" viewBox=\"0 -960 960 960\">\n",
              "    <path d=\"M120-120v-720h720v720H120Zm60-500h600v-160H180v160Zm220 220h160v-160H400v160Zm0 220h160v-160H400v160ZM180-400h160v-160H180v160Zm440 0h160v-160H620v160ZM180-180h160v-160H180v160Zm440 0h160v-160H620v160Z\"/>\n",
              "  </svg>\n",
              "    </button>\n",
              "\n",
              "  <style>\n",
              "    .colab-df-container {\n",
              "      display:flex;\n",
              "      gap: 12px;\n",
              "    }\n",
              "\n",
              "    .colab-df-convert {\n",
              "      background-color: #E8F0FE;\n",
              "      border: none;\n",
              "      border-radius: 50%;\n",
              "      cursor: pointer;\n",
              "      display: none;\n",
              "      fill: #1967D2;\n",
              "      height: 32px;\n",
              "      padding: 0 0 0 0;\n",
              "      width: 32px;\n",
              "    }\n",
              "\n",
              "    .colab-df-convert:hover {\n",
              "      background-color: #E2EBFA;\n",
              "      box-shadow: 0px 1px 2px rgba(60, 64, 67, 0.3), 0px 1px 3px 1px rgba(60, 64, 67, 0.15);\n",
              "      fill: #174EA6;\n",
              "    }\n",
              "\n",
              "    .colab-df-buttons div {\n",
              "      margin-bottom: 4px;\n",
              "    }\n",
              "\n",
              "    [theme=dark] .colab-df-convert {\n",
              "      background-color: #3B4455;\n",
              "      fill: #D2E3FC;\n",
              "    }\n",
              "\n",
              "    [theme=dark] .colab-df-convert:hover {\n",
              "      background-color: #434B5C;\n",
              "      box-shadow: 0px 1px 3px 1px rgba(0, 0, 0, 0.15);\n",
              "      filter: drop-shadow(0px 1px 2px rgba(0, 0, 0, 0.3));\n",
              "      fill: #FFFFFF;\n",
              "    }\n",
              "  </style>\n",
              "\n",
              "    <script>\n",
              "      const buttonEl =\n",
              "        document.querySelector('#df-e045ebc0-0263-436b-823e-20c86bd042c4 button.colab-df-convert');\n",
              "      buttonEl.style.display =\n",
              "        google.colab.kernel.accessAllowed ? 'block' : 'none';\n",
              "\n",
              "      async function convertToInteractive(key) {\n",
              "        const element = document.querySelector('#df-e045ebc0-0263-436b-823e-20c86bd042c4');\n",
              "        const dataTable =\n",
              "          await google.colab.kernel.invokeFunction('convertToInteractive',\n",
              "                                                    [key], {});\n",
              "        if (!dataTable) return;\n",
              "\n",
              "        const docLinkHtml = 'Like what you see? Visit the ' +\n",
              "          '<a target=\"_blank\" href=https://colab.research.google.com/notebooks/data_table.ipynb>data table notebook</a>'\n",
              "          + ' to learn more about interactive tables.';\n",
              "        element.innerHTML = '';\n",
              "        dataTable['output_type'] = 'display_data';\n",
              "        await google.colab.output.renderOutput(dataTable, element);\n",
              "        const docLink = document.createElement('div');\n",
              "        docLink.innerHTML = docLinkHtml;\n",
              "        element.appendChild(docLink);\n",
              "      }\n",
              "    </script>\n",
              "  </div>\n",
              "\n",
              "\n",
              "<div id=\"df-05616e37-aaea-4f84-8fae-8868966e50b3\">\n",
              "  <button class=\"colab-df-quickchart\" onclick=\"quickchart('df-05616e37-aaea-4f84-8fae-8868966e50b3')\"\n",
              "            title=\"Suggest charts\"\n",
              "            style=\"display:none;\">\n",
              "\n",
              "<svg xmlns=\"http://www.w3.org/2000/svg\" height=\"24px\"viewBox=\"0 0 24 24\"\n",
              "     width=\"24px\">\n",
              "    <g>\n",
              "        <path d=\"M19 3H5c-1.1 0-2 .9-2 2v14c0 1.1.9 2 2 2h14c1.1 0 2-.9 2-2V5c0-1.1-.9-2-2-2zM9 17H7v-7h2v7zm4 0h-2V7h2v10zm4 0h-2v-4h2v4z\"/>\n",
              "    </g>\n",
              "</svg>\n",
              "  </button>\n",
              "\n",
              "<style>\n",
              "  .colab-df-quickchart {\n",
              "      --bg-color: #E8F0FE;\n",
              "      --fill-color: #1967D2;\n",
              "      --hover-bg-color: #E2EBFA;\n",
              "      --hover-fill-color: #174EA6;\n",
              "      --disabled-fill-color: #AAA;\n",
              "      --disabled-bg-color: #DDD;\n",
              "  }\n",
              "\n",
              "  [theme=dark] .colab-df-quickchart {\n",
              "      --bg-color: #3B4455;\n",
              "      --fill-color: #D2E3FC;\n",
              "      --hover-bg-color: #434B5C;\n",
              "      --hover-fill-color: #FFFFFF;\n",
              "      --disabled-bg-color: #3B4455;\n",
              "      --disabled-fill-color: #666;\n",
              "  }\n",
              "\n",
              "  .colab-df-quickchart {\n",
              "    background-color: var(--bg-color);\n",
              "    border: none;\n",
              "    border-radius: 50%;\n",
              "    cursor: pointer;\n",
              "    display: none;\n",
              "    fill: var(--fill-color);\n",
              "    height: 32px;\n",
              "    padding: 0;\n",
              "    width: 32px;\n",
              "  }\n",
              "\n",
              "  .colab-df-quickchart:hover {\n",
              "    background-color: var(--hover-bg-color);\n",
              "    box-shadow: 0 1px 2px rgba(60, 64, 67, 0.3), 0 1px 3px 1px rgba(60, 64, 67, 0.15);\n",
              "    fill: var(--button-hover-fill-color);\n",
              "  }\n",
              "\n",
              "  .colab-df-quickchart-complete:disabled,\n",
              "  .colab-df-quickchart-complete:disabled:hover {\n",
              "    background-color: var(--disabled-bg-color);\n",
              "    fill: var(--disabled-fill-color);\n",
              "    box-shadow: none;\n",
              "  }\n",
              "\n",
              "  .colab-df-spinner {\n",
              "    border: 2px solid var(--fill-color);\n",
              "    border-color: transparent;\n",
              "    border-bottom-color: var(--fill-color);\n",
              "    animation:\n",
              "      spin 1s steps(1) infinite;\n",
              "  }\n",
              "\n",
              "  @keyframes spin {\n",
              "    0% {\n",
              "      border-color: transparent;\n",
              "      border-bottom-color: var(--fill-color);\n",
              "      border-left-color: var(--fill-color);\n",
              "    }\n",
              "    20% {\n",
              "      border-color: transparent;\n",
              "      border-left-color: var(--fill-color);\n",
              "      border-top-color: var(--fill-color);\n",
              "    }\n",
              "    30% {\n",
              "      border-color: transparent;\n",
              "      border-left-color: var(--fill-color);\n",
              "      border-top-color: var(--fill-color);\n",
              "      border-right-color: var(--fill-color);\n",
              "    }\n",
              "    40% {\n",
              "      border-color: transparent;\n",
              "      border-right-color: var(--fill-color);\n",
              "      border-top-color: var(--fill-color);\n",
              "    }\n",
              "    60% {\n",
              "      border-color: transparent;\n",
              "      border-right-color: var(--fill-color);\n",
              "    }\n",
              "    80% {\n",
              "      border-color: transparent;\n",
              "      border-right-color: var(--fill-color);\n",
              "      border-bottom-color: var(--fill-color);\n",
              "    }\n",
              "    90% {\n",
              "      border-color: transparent;\n",
              "      border-bottom-color: var(--fill-color);\n",
              "    }\n",
              "  }\n",
              "</style>\n",
              "\n",
              "  <script>\n",
              "    async function quickchart(key) {\n",
              "      const quickchartButtonEl =\n",
              "        document.querySelector('#' + key + ' button');\n",
              "      quickchartButtonEl.disabled = true;  // To prevent multiple clicks.\n",
              "      quickchartButtonEl.classList.add('colab-df-spinner');\n",
              "      try {\n",
              "        const charts = await google.colab.kernel.invokeFunction(\n",
              "            'suggestCharts', [key], {});\n",
              "      } catch (error) {\n",
              "        console.error('Error during call to suggestCharts:', error);\n",
              "      }\n",
              "      quickchartButtonEl.classList.remove('colab-df-spinner');\n",
              "      quickchartButtonEl.classList.add('colab-df-quickchart-complete');\n",
              "    }\n",
              "    (() => {\n",
              "      let quickchartButtonEl =\n",
              "        document.querySelector('#df-05616e37-aaea-4f84-8fae-8868966e50b3 button');\n",
              "      quickchartButtonEl.style.display =\n",
              "        google.colab.kernel.accessAllowed ? 'block' : 'none';\n",
              "    })();\n",
              "  </script>\n",
              "</div>\n",
              "\n",
              "    </div>\n",
              "  </div>\n"
            ],
            "application/vnd.google.colaboratory.intrinsic+json": {
              "type": "dataframe",
              "variable_name": "type_df",
              "summary": "{\n  \"name\": \"type_df\",\n  \"rows\": 3699,\n  \"fields\": [\n    {\n      \"column\": \"image_path\",\n      \"properties\": {\n        \"dtype\": \"string\",\n        \"num_unique_values\": 3699,\n        \"samples\": [\n          \"/content/drive/My Drive/Assignment2/trafficsigns_dataset/triangle/warning/00710_00002.png\",\n          \"/content/drive/My Drive/Assignment2/trafficsigns_dataset/round/noentry/01047_00002.png\",\n          \"/content/drive/My Drive/Assignment2/trafficsigns_dataset/square/parking/00035_00002.png\"\n        ],\n        \"semantic_type\": \"\",\n        \"description\": \"\"\n      }\n    },\n    {\n      \"column\": \"image\",\n      \"properties\": {\n        \"dtype\": \"object\",\n        \"semantic_type\": \"\",\n        \"description\": \"\"\n      }\n    },\n    {\n      \"column\": \"type_label\",\n      \"properties\": {\n        \"dtype\": \"category\",\n        \"num_unique_values\": 16,\n        \"samples\": [\n          \"crossing\",\n          \"laneend\",\n          \"warning\"\n        ],\n        \"semantic_type\": \"\",\n        \"description\": \"\"\n      }\n    },\n    {\n      \"column\": \"encoded_type_label\",\n      \"properties\": {\n        \"dtype\": \"number\",\n        \"std\": 4,\n        \"min\": 0,\n        \"max\": 15,\n        \"num_unique_values\": 16,\n        \"samples\": [\n          2,\n          4,\n          15\n        ],\n        \"semantic_type\": \"\",\n        \"description\": \"\"\n      }\n    }\n  ]\n}"
            }
          },
          "metadata": {},
          "execution_count": 13
        }
      ]
    },
    {
      "cell_type": "code",
      "source": [
        "print(\"Unique shapes:\", shape_df['shape_label'].unique())\n",
        "print(\"numbers of shape:\", len(shape_df['shape_label'].unique()))\n",
        "numbers_of_shape = len(shape_df['shape_label'].unique())"
      ],
      "metadata": {
        "colab": {
          "base_uri": "https://localhost:8080/"
        },
        "id": "RsZ4ndopiitU",
        "outputId": "2929eacc-d4ac-47f3-d60b-76137409e817"
      },
      "execution_count": 14,
      "outputs": [
        {
          "output_type": "stream",
          "name": "stdout",
          "text": [
            "Unique shapes: ['square' 'triangle' 'hex' 'round' 'diamond']\n",
            "numbers of shape: 5\n"
          ]
        }
      ]
    },
    {
      "cell_type": "code",
      "source": [
        "print(\"Unique shapes:\", type_df['type_label'].unique())\n",
        "print(\"numbers of shape:\", len(type_df['type_label'].unique()))"
      ],
      "metadata": {
        "colab": {
          "base_uri": "https://localhost:8080/"
        },
        "id": "kjNf4Vo0gMI9",
        "outputId": "37be8118-bab1-4566-e4a1-64fbbf5caa72"
      },
      "execution_count": 15,
      "outputs": [
        {
          "output_type": "stream",
          "name": "stdout",
          "text": [
            "Unique shapes: ['crossing' 'laneend' 'parking' 'continue' 'giveway' 'warning' 'stop'\n",
            " 'limitedtraffic' 'noparking' 'speed' 'noentry' 'trafficdirective'\n",
            " 'roundabout' 'bicycle' 'traveldirection' 'rightofway']\n",
            "numbers of shape: 16\n"
          ]
        }
      ]
    },
    {
      "cell_type": "markdown",
      "source": [
        "## **1.4 Data Distribution**\n"
      ],
      "metadata": {
        "id": "_ffFItsdnG5U"
      }
    },
    {
      "cell_type": "markdown",
      "source": [
        "### **1.4.1 Distribution of images per type class**"
      ],
      "metadata": {
        "id": "SjLaXdKwvb6F"
      }
    },
    {
      "cell_type": "code",
      "source": [
        "def visualize_data_distribution(data_df, title):\n",
        "    \"\"\"\n",
        "    Function to visualize the distribution of data.\n",
        "\n",
        "    Args:\n",
        "    - data_df (DataFrame): Pandas DataFrame containing the data.\n",
        "    - title (str): Title for the plot.\n",
        "    \"\"\"\n",
        "    plt.figure(figsize=(10, 6))\n",
        "    data_counts = data_df['type_label'].value_counts()\n",
        "    data_counts.plot(kind='bar', color='salmon')\n",
        "    plt.title(title)\n",
        "    plt.xlabel('Type Label')\n",
        "    plt.ylabel('Count')\n",
        "    plt.xticks(rotation=45)\n",
        "    plt.grid(axis='y', linestyle='--', alpha=0.7)\n",
        "    plt.tight_layout()\n",
        "    plt.show()\n",
        "\n",
        "# Visualize data distribution for type DataFrame\n",
        "visualize_data_distribution(type_df, 'Type Data Distribution')\n"
      ],
      "metadata": {
        "colab": {
          "base_uri": "https://localhost:8080/",
          "height": 476
        },
        "id": "5tbfy4Hth7Wk",
        "outputId": "867b215e-237e-4fed-fb62-2875c065fb7c"
      },
      "execution_count": 16,
      "outputs": [
        {
          "output_type": "display_data",
          "data": {
            "text/plain": [
              "<Figure size 1000x600 with 1 Axes>"
            ],
            "image/png": "[encoded data removed]"
          },
          "metadata": {}
        }
      ]
    },
    {
      "cell_type": "markdown",
      "source": [
        "**Observations:**\n",
        "- The distribution of images per class is imbalanced, but not as severe as the class distribution for type.\n",
        "- This imbalance could potentially affect the performance of a machine-learning model trained on this data, but to a lesser extent than the type data."
      ],
      "metadata": {
        "id": "UrqqqtPyFNg6"
      }
    },
    {
      "cell_type": "markdown",
      "source": [
        "### **1.4.2 Distribution of images per shape class**"
      ],
      "metadata": {
        "id": "JeYFbB2-nurb"
      }
    },
    {
      "cell_type": "code",
      "source": [
        "import matplotlib.pyplot as plt\n",
        "\n",
        "def visualize_data_distribution(data_df, title):\n",
        "    \"\"\"\n",
        "    Function to visualize the distribution of data.\n",
        "\n",
        "    Args:\n",
        "    - data_df (DataFrame): Pandas DataFrame containing the data.\n",
        "    - title (str): Title for the plot.\n",
        "    \"\"\"\n",
        "    plt.figure(figsize=(10, 6))\n",
        "    data_counts = data_df['shape_label'].value_counts()\n",
        "    data_counts.plot(kind='bar', color='skyblue')\n",
        "    plt.title(title)\n",
        "    plt.xlabel('Shape Label')\n",
        "    plt.ylabel('Count')\n",
        "    plt.xticks(rotation=45)\n",
        "    plt.grid(axis='y', linestyle='--', alpha=0.7)\n",
        "    plt.tight_layout()\n",
        "    plt.show()\n",
        "\n",
        "# Visualize data distribution for shape DataFrame\n",
        "visualize_data_distribution(shape_df, 'Shape Data Distribution')\n"
      ],
      "metadata": {
        "colab": {
          "base_uri": "https://localhost:8080/",
          "height": 476
        },
        "id": "_W54-iSph2KC",
        "outputId": "2d6255ee-901b-4650-82bd-2d99768b6b9d"
      },
      "execution_count": 17,
      "outputs": [
        {
          "output_type": "display_data",
          "data": {
            "text/plain": [
              "<Figure size 1000x600 with 1 Axes>"
            ],
            "image/png": "[encoded data removed]"
          },
          "metadata": {}
        }
      ]
    },
    {
      "cell_type": "markdown",
      "source": [
        "**Observations:**\n",
        "- The distribution of images per class is highly imbalanced.\n",
        "- This imbalance could potentially affect the performance of a machine-learning model trained on this data."
      ],
      "metadata": {
        "id": "iKtx0tbME11m"
      }
    },
    {
      "cell_type": "markdown",
      "source": [
        "==========================================================================================================\n",
        "\n"
      ],
      "metadata": {
        "id": "DnngQ2Hqhy_M"
      }
    },
    {
      "cell_type": "markdown",
      "source": [
        "# **2 Data Preparation**\n"
      ],
      "metadata": {
        "id": "gwICewEpm0iu"
      }
    },
    {
      "cell_type": "markdown",
      "source": [
        "## **2.1 Data spliting:  Train, Val and Test**"
      ],
      "metadata": {
        "id": "vzR6wOSmv6WT"
      }
    },
    {
      "cell_type": "code",
      "source": [
        "from sklearn.model_selection import train_test_split\n",
        "import numpy as np\n",
        "from tensorflow.keras.preprocessing.image import ImageDataGenerator\n",
        "\n",
        "# Rescaling and Formatting the Images\n",
        "datagen_shape = ImageDataGenerator(rescale=1./255, data_format='channels_last')\n",
        "\n",
        "# Initialize lists to store training, validation, and testing data for shape and type data\n",
        "X_shape_train = []\n",
        "X_shape_val = []\n",
        "X_shape_test = []\n",
        "y_shape_train = []\n",
        "y_shape_val = []\n",
        "y_shape_test = []\n",
        "\n",
        "X_type_train = []\n",
        "X_type_val = []\n",
        "X_type_test = []\n",
        "y_type_train = []\n",
        "y_type_val = []\n",
        "y_type_test = []\n",
        "\n",
        "# Split data into groups based on shape labels\n",
        "shape_groups = shape_df.groupby('shape_label')\n",
        "\n",
        "# Split data into groups based on type labels\n",
        "type_groups = type_df.groupby('type_label')\n",
        "\n",
        "# Split each shape group into training, validation, and testing sets\n",
        "for label, group in shape_groups:\n",
        "    print(f\"\\nShape group label: {label}, Shape: {group.shape[0]}\")\n",
        "    X_train, X_temp, y_train, y_temp = train_test_split(group['image_path'], group['encoded_shape_label'], test_size=0.2, stratify=group['shape_label'])\n",
        "    X_val, X_test, y_val, y_test = train_test_split(X_temp, y_temp, test_size=0.25, stratify=y_temp)\n",
        "    X_shape_train.extend(X_train)\n",
        "    X_shape_val.extend(X_val)\n",
        "    X_shape_test.extend(X_test)\n",
        "    y_shape_train.extend(y_train)\n",
        "    y_shape_val.extend(y_val)\n",
        "    y_shape_test.extend(y_test)\n",
        "    print(f\"Train sample size: {len(X_train)}, Validation sample size: {len(X_val)}, Test sample size: {len(X_test)}\")\n",
        "\n",
        "# Split each type group into training, validation, and testing sets\n",
        "for label, group in type_groups:\n",
        "    print(f\"\\nType group label: {label}, Shape: {group.shape[0]}\")\n",
        "    X_train, X_temp, y_train, y_temp = train_test_split(group['image_path'], group['encoded_type_label'], test_size=0.2, stratify=group['type_label'])\n",
        "    X_val, X_test, y_val, y_test = train_test_split(X_temp, y_temp, test_size=0.25, stratify=y_temp)\n",
        "    X_type_train.extend(X_train)\n",
        "    X_type_val.extend(X_val)\n",
        "    X_type_test.extend(X_test)\n",
        "    y_type_train.extend(y_train)\n",
        "    y_type_val.extend(y_val)\n",
        "    y_type_test.extend(y_test)\n",
        "    print(f\"Train sample size: {len(X_train)}, Validation sample size: {len(X_val)}, Test sample size: {len(X_test)}\")\n",
        "\n",
        "# Convert to numpy arrays for shape data\n",
        "X_shape_train = np.array(X_shape_train)\n",
        "X_shape_val = np.array(X_shape_val)\n",
        "X_shape_test = np.array(X_shape_test)\n",
        "y_shape_train = np.array(y_shape_train)\n",
        "y_shape_val = np.array(y_shape_val)\n",
        "y_shape_test = np.array(y_shape_test)\n",
        "\n",
        "# Convert to numpy arrays for type data\n",
        "X_type_train = np.array(X_type_train)\n",
        "X_type_val = np.array(X_type_val)\n",
        "X_type_test = np.array(X_type_test)\n",
        "y_type_train = np.array(y_type_train)\n",
        "y_type_val = np.array(y_type_val)\n",
        "y_type_test = np.array(y_type_test)\n",
        "\n",
        "# Print shapes of the data sets after splitting for shape data\n",
        "print(\"\\nShape of X_shape_train:\", X_shape_train.shape)\n",
        "print(\"Shape of X_shape_val:\", X_shape_val.shape)\n",
        "print(\"Shape of X_shape_test:\", X_shape_test.shape)\n",
        "print(\"Shape of y_shape_train:\", y_shape_train.shape)\n",
        "print(\"Shape of y_shape_val:\", y_shape_val.shape)\n",
        "print(\"Shape of y_shape_test:\", y_shape_test.shape)\n",
        "\n",
        "# Print shapes of the data sets after splitting for type data\n",
        "print(\"\\nShape of X_type_train:\", X_type_train.shape)\n",
        "print(\"Shape of X_type_val:\", X_type_val.shape)\n",
        "print(\"Shape of X_type_test:\", X_type_test.shape)\n",
        "print(\"Shape of y_type_train:\", y_type_train.shape)\n",
        "print(\"Shape of y_type_val:\", y_type_val.shape)\n",
        "print(\"Shape of y_type_test:\", y_type_test.shape)\n"
      ],
      "metadata": {
        "id": "WrTz8wGkT1Ct",
        "outputId": "937538b7-134e-4504-a853-a6416aeab934",
        "colab": {
          "base_uri": "https://localhost:8080/"
        }
      },
      "execution_count": 18,
      "outputs": [
        {
          "output_type": "stream",
          "name": "stdout",
          "text": [
            "\n",
            "Shape group label: diamond, Shape: 282\n",
            "Train sample size: 225, Validation sample size: 42, Test sample size: 15\n",
            "\n",
            "Shape group label: hex, Shape: 43\n",
            "Train sample size: 34, Validation sample size: 6, Test sample size: 3\n",
            "\n",
            "Shape group label: round, Shape: 1760\n",
            "Train sample size: 1408, Validation sample size: 264, Test sample size: 88\n",
            "\n",
            "Shape group label: square, Shape: 688\n",
            "Train sample size: 550, Validation sample size: 103, Test sample size: 35\n",
            "\n",
            "Shape group label: triangle, Shape: 926\n",
            "Train sample size: 740, Validation sample size: 139, Test sample size: 47\n",
            "\n",
            "Type group label: bicycle, Shape: 285\n",
            "Train sample size: 228, Validation sample size: 42, Test sample size: 15\n",
            "\n",
            "Type group label: continue, Shape: 199\n",
            "Train sample size: 159, Validation sample size: 30, Test sample size: 10\n",
            "\n",
            "Type group label: crossing, Shape: 95\n",
            "Train sample size: 76, Validation sample size: 14, Test sample size: 5\n",
            "\n",
            "Type group label: giveway, Shape: 231\n",
            "Train sample size: 184, Validation sample size: 35, Test sample size: 12\n",
            "\n",
            "Type group label: laneend, Shape: 118\n",
            "Train sample size: 94, Validation sample size: 18, Test sample size: 6\n",
            "\n",
            "Type group label: limitedtraffic, Shape: 125\n",
            "Train sample size: 100, Validation sample size: 18, Test sample size: 7\n",
            "\n",
            "Type group label: noentry, Shape: 375\n",
            "Train sample size: 300, Validation sample size: 56, Test sample size: 19\n",
            "\n",
            "Type group label: noparking, Shape: 242\n",
            "Train sample size: 193, Validation sample size: 36, Test sample size: 13\n",
            "\n",
            "Type group label: parking, Shape: 276\n",
            "Train sample size: 220, Validation sample size: 42, Test sample size: 14\n",
            "\n",
            "Type group label: rightofway, Shape: 282\n",
            "Train sample size: 225, Validation sample size: 42, Test sample size: 15\n",
            "\n",
            "Type group label: roundabout, Shape: 98\n",
            "Train sample size: 78, Validation sample size: 15, Test sample size: 5\n",
            "\n",
            "Type group label: speed, Shape: 316\n",
            "Train sample size: 252, Validation sample size: 48, Test sample size: 16\n",
            "\n",
            "Type group label: stop, Shape: 43\n",
            "Train sample size: 34, Validation sample size: 6, Test sample size: 3\n",
            "\n",
            "Type group label: trafficdirective, Shape: 195\n",
            "Train sample size: 156, Validation sample size: 29, Test sample size: 10\n",
            "\n",
            "Type group label: traveldirection, Shape: 124\n",
            "Train sample size: 99, Validation sample size: 18, Test sample size: 7\n",
            "\n",
            "Type group label: warning, Shape: 695\n",
            "Train sample size: 556, Validation sample size: 104, Test sample size: 35\n",
            "\n",
            "Shape of X_shape_train: (2957,)\n",
            "Shape of X_shape_val: (554,)\n",
            "Shape of X_shape_test: (188,)\n",
            "Shape of y_shape_train: (2957,)\n",
            "Shape of y_shape_val: (554,)\n",
            "Shape of y_shape_test: (188,)\n",
            "\n",
            "Shape of X_type_train: (2954,)\n",
            "Shape of X_type_val: (553,)\n",
            "Shape of X_type_test: (192,)\n",
            "Shape of y_type_train: (2954,)\n",
            "Shape of y_type_val: (553,)\n",
            "Shape of y_type_test: (192,)\n"
          ]
        }
      ]
    },
    {
      "cell_type": "markdown",
      "source": [
        "## **2.2 Flatten the images**"
      ],
      "metadata": {
        "id": "m4k1Kp7SkLQ1"
      }
    },
    {
      "cell_type": "code",
      "source": [
        "# import numpy as np\n",
        "# # from keras.preprocessing.image import ImageDataGenerator\n",
        "# from PIL import Image\n",
        "\n",
        "# # Function to flatten images\n",
        "# def flatten_images(X):\n",
        "#     flattened_images = []\n",
        "#     for image_path in X:\n",
        "#         image = Image.open(image_path)\n",
        "#         image = np.array(image)\n",
        "#         flattened_image = image.flatten()\n",
        "#         flattened_images.append(flattened_image)\n",
        "#     return np.array(flattened_images)\n",
        "\n",
        "# # Flatten the images for shape data in training and testing sets\n",
        "# X_shape_train_flat = flatten_images(X_shape_train)\n",
        "# X_shape_test_flat = flatten_images(X_shape_test)\n",
        "# X_shape_val_flat = flatten_images(X_shape_val)\n",
        "\n",
        "# # Flatten the images for type data in training and testing sets\n",
        "# X_type_train_flat = flatten_images(X_type_train)\n",
        "# X_type_val_flat = flatten_images(X_type_val)\n",
        "# X_type_test_flat = flatten_images(X_type_test)\n",
        "\n",
        "# # Print shapes of the flattened data sets\n",
        "# print(\"\\nShape of X_shape_train_flat:\", X_shape_train_flat.shape)\n",
        "# print(\"Shape of X_shape_val_flat:\", X_shape_val_flat.shape)\n",
        "# print(\"Shape of X_shape_test_flat:\", X_shape_test_flat.shape)\n",
        "\n",
        "\n",
        "# print(\"\\nShape of X_type_train_flat:\", X_type_train_flat.shape)\n",
        "# print(\"Shape of X_type_val_flat:\", X_type_val_flat.shape)\n",
        "# print(\"Shape of X_type_test_flat:\", X_type_test_flat.shape)"
      ],
      "metadata": {
        "id": "PVwF2vvugMB2"
      },
      "execution_count": 19,
      "outputs": []
    },
    {
      "cell_type": "markdown",
      "source": [
        "================================================================================================="
      ],
      "metadata": {
        "id": "X1et-y7vtqjs"
      }
    },
    {
      "cell_type": "markdown",
      "source": [
        "# **3. Models development**"
      ],
      "metadata": {
        "id": "EGwk56-37oPX"
      }
    },
    {
      "cell_type": "code",
      "source": [
        "import matplotlib.pyplot as plt\n",
        "def plot_learning_curve(train_loss, val_loss, train_metric, val_metric, metric_name='Accuracy'):\n",
        "    plt.figure(figsize=(10,5))\n",
        "\n",
        "    plt.subplot(1,2,1)\n",
        "    plt.plot(train_loss, 'r--')\n",
        "    plt.plot(val_loss, 'b--')\n",
        "    plt.xlabel(\"epochs\")\n",
        "    plt.ylabel(\"Loss\")\n",
        "    plt.legend(['train', 'val'], loc='upper left')\n",
        "\n",
        "    plt.subplot(1,2,2)\n",
        "    plt.plot(train_metric, 'r--')\n",
        "    plt.plot(val_metric, 'b--')\n",
        "    plt.xlabel(\"epochs\")\n",
        "    plt.ylabel(metric_name)\n",
        "    plt.legend(['train', 'val'], loc='upper left')\n",
        "\n",
        "    plt.show()"
      ],
      "metadata": {
        "id": "zsoZZ_2sFrsG"
      },
      "execution_count": 20,
      "outputs": []
    },
    {
      "cell_type": "code",
      "source": [
        "# install tensorflow library\n",
        "import tensorflow as tf\n",
        "\n",
        "# optimise data pipeline performance automatically\n",
        "AUTOTUNE = tf.data.experimental.AUTOTUNE\n",
        "\n",
        "# print the version of TensorFlow\n",
        "tf.__version__"
      ],
      "metadata": {
        "colab": {
          "base_uri": "https://localhost:8080/",
          "height": 35
        },
        "id": "8cKRLPUdHKXF",
        "outputId": "e500d24f-4972-41a7-f045-71e552e0400e"
      },
      "execution_count": 21,
      "outputs": [
        {
          "output_type": "execute_result",
          "data": {
            "text/plain": [
              "'2.15.0'"
            ],
            "application/vnd.google.colaboratory.intrinsic+json": {
              "type": "string"
            }
          },
          "metadata": {},
          "execution_count": 21
        }
      ]
    },
    {
      "cell_type": "markdown",
      "source": [
        "## **3.1 Baseline Model**"
      ],
      "metadata": {
        "id": "vr5A8pOb71A7"
      }
    },
    {
      "cell_type": "markdown",
      "source": [
        "### **3.1.1.1 Image generator for shape**"
      ],
      "metadata": {
        "id": "QMx0WxvYD_96"
      }
    },
    {
      "cell_type": "code",
      "source": [
        "df_X_shape_train = pd.DataFrame({'image_path': X_shape_train,'encoded_shape_label': y_shape_train})\n",
        "df_X_shape_val = pd.DataFrame({'image_path': X_shape_val,'encoded_shape_label': y_shape_val})\n",
        "\n",
        "\n",
        "df_X_shape_train['encoded_shape_label'] = df_X_shape_train['encoded_shape_label'].astype(str)\n",
        "df_X_shape_val['encoded_shape_label'] = df_X_shape_val['encoded_shape_label'].astype(str)\n",
        "\n",
        "\n",
        "df_X_shape_test = pd.DataFrame({'image_path': X_shape_test,'encoded_shape_label': y_shape_test})\n",
        "df_X_shape_test['encoded_shape_label'] = df_X_shape_test['encoded_shape_label'].astype(str)"
      ],
      "metadata": {
        "id": "wUg4VffZnX6-"
      },
      "execution_count": 22,
      "outputs": []
    },
    {
      "cell_type": "code",
      "source": [
        "\n",
        "# Defining image data generators\n",
        "datagen_shape = ImageDataGenerator(rescale=1./255, data_format='channels_last')\n",
        "\n",
        "# Create training data generator\n",
        "train_generator_shape = datagen_shape.flow_from_dataframe(\n",
        "    dataframe=df_X_shape_train,\n",
        "    directory='./',\n",
        "    x_col=\"image_path\",\n",
        "    y_col=\"encoded_shape_label\",\n",
        "    target_size=(28, 28),\n",
        "    color_mode='grayscale',\n",
        "    batch_size=32,\n",
        "    class_mode='categorical')\n",
        "\n",
        "\n",
        "\n",
        "# Create validation data generator\n",
        "validation_generator_shape = datagen_shape.flow_from_dataframe(\n",
        "    dataframe=df_X_shape_val,\n",
        "    directory='./',\n",
        "    x_col=\"image_path\",\n",
        "    y_col=\"encoded_shape_label\",\n",
        "    target_size=(28, 28),\n",
        "    color_mode='grayscale',\n",
        "    batch_size=32,\n",
        "    class_mode='categorical')\n",
        "\n",
        "\n"
      ],
      "metadata": {
        "colab": {
          "base_uri": "https://localhost:8080/"
        },
        "id": "rSqGCG5pnX3t",
        "outputId": "08b9784c-0b70-4ff4-c534-6192c2e87535"
      },
      "execution_count": 23,
      "outputs": [
        {
          "output_type": "stream",
          "name": "stdout",
          "text": [
            "Found 2957 validated image filenames belonging to 5 classes.\n",
            "Found 554 validated image filenames belonging to 5 classes.\n"
          ]
        }
      ]
    },
    {
      "cell_type": "code",
      "source": [
        "from sklearn.metrics import classification_report, f1_score,confusion_matrix\n",
        "\n",
        "\n",
        "def model_result(X_train, X_val, model):\n",
        "  y_hat_all = list()\n",
        "  y_all = list()\n",
        "  y_pred_all = []\n",
        "  y_true_all = []\n",
        "  filenames = validation_generator_shape.filenames\n",
        "  N_images = len(filenames)\n",
        "  batches = 0\n",
        "\n",
        "  # iterate through the data generator and predict for each batch\n",
        "  # hold the predictions and labels\n",
        "  for x,y in X_val:\n",
        "          y_hat = model.predict(x, verbose=0)\n",
        "          y_hat = np.argmax(y_hat, axis = 1)\n",
        "          y = np.argmax(y, axis = 1)\n",
        "          y_hat_all = y_hat_all + y_hat.tolist()\n",
        "          y_all = y_all + y.tolist()\n",
        "\n",
        "          batches += 1\n",
        "          if batches >= N_images / batch_size:\n",
        "              # we need to break the loop by hand because\n",
        "              # the generator loops indefinitely\n",
        "              break\n",
        "\n",
        "  for a,b in X_train:\n",
        "          y_pred = model.predict(a, verbose=0)\n",
        "          y_pred = np.argmax(y_pred, axis = 1)\n",
        "          y_true = np.argmax(b, axis = 1)\n",
        "          y_pred_all = y_pred_all + y_pred.tolist()\n",
        "          y_true_all = y_true_all + y_true.tolist()\n",
        "\n",
        "          batches += 1\n",
        "          if batches >= N_images / batch_size:\n",
        "              # we need to break the loop by hand because\n",
        "              # the generator loops indefinitely\n",
        "              break\n",
        "\n",
        "  # now you have made the predictions you can use any performance metric\n",
        "  # you wish: either in sklearn or some function you have written\n",
        "\n",
        "  print(\"Training F1- score: \", f1_score(y_true_all, y_pred_all,average='macro'))\n",
        "  print(\"F1 score: \", f1_score(y_all, y_hat_all, average='macro'))"
      ],
      "metadata": {
        "id": "cUDrKbniifOY"
      },
      "execution_count": 24,
      "outputs": []
    },
    {
      "cell_type": "markdown",
      "source": [
        "### **3.1.1.2 Building baseline model using A Multi-Layer Perceptron (MLP) for image shape**"
      ],
      "metadata": {
        "id": "zeRghX2NrbmI"
      }
    },
    {
      "cell_type": "code",
      "source": [
        "INPUT_DIM = (28, 28, 1)\n",
        "HIDDEN_LAYER_DIM = 256\n",
        "SECOND_HIDDEN_LAYER_DIM = 128  # Size of the second hidden layer\n",
        "OUTPUT_CLASSES_SHAPE = 5"
      ],
      "metadata": {
        "id": "lw_vKStuVKMl"
      },
      "execution_count": 25,
      "outputs": []
    },
    {
      "cell_type": "code",
      "source": [
        "test_datagen = ImageDataGenerator(rescale=1./255, data_format='channels_last')\n",
        "\n",
        "batch_size = 1\n",
        "\n",
        "test_generator_shape = test_datagen.flow_from_dataframe(\n",
        "    dataframe=df_X_shape_test,\n",
        "    directory='./',\n",
        "    x_col=\"image_path\",\n",
        "    y_col=\"encoded_shape_label\",\n",
        "    target_size=(28, 28),\n",
        "    color_mode='grayscale',\n",
        "    batch_size=32,\n",
        "    class_mode='categorical')"
      ],
      "metadata": {
        "colab": {
          "base_uri": "https://localhost:8080/"
        },
        "id": "PUtR1PminX1z",
        "outputId": "671adad3-37f8-437d-dfd8-20b1f8e50c39"
      },
      "execution_count": 26,
      "outputs": [
        {
          "output_type": "stream",
          "name": "stdout",
          "text": [
            "Found 188 validated image filenames belonging to 5 classes.\n"
          ]
        }
      ]
    },
    {
      "cell_type": "code",
      "source": [
        "# Build the baseline model with an additional hidden layer\n",
        "model_mlp_shape = tf.keras.Sequential([\n",
        "    tf.keras.layers.Flatten(input_shape=INPUT_DIM),\n",
        "    tf.keras.layers.Dense(HIDDEN_LAYER_DIM, activation='sigmoid'),\n",
        "    tf.keras.layers.Dense(SECOND_HIDDEN_LAYER_DIM, activation='sigmoid'),  # Additional hidden layer\n",
        "    tf.keras.layers.Dense(OUTPUT_CLASSES_SHAPE)\n",
        "])"
      ],
      "metadata": {
        "id": "t6sCmqIXnXyZ"
      },
      "execution_count": 27,
      "outputs": []
    },
    {
      "cell_type": "code",
      "source": [
        "model_mlp_shape.summary()"
      ],
      "metadata": {
        "colab": {
          "base_uri": "https://localhost:8080/"
        },
        "id": "qKXMnwlMnXwe",
        "outputId": "c04eb32a-d4b5-4b89-8a65-1f4d5e1317fa"
      },
      "execution_count": 28,
      "outputs": [
        {
          "output_type": "stream",
          "name": "stdout",
          "text": [
            "Model: \"sequential\"\n",
            "_________________________________________________________________\n",
            " Layer (type)                Output Shape              Param #   \n",
            "=================================================================\n",
            " flatten (Flatten)           (None, 784)               0         \n",
            "                                                                 \n",
            " dense (Dense)               (None, 256)               200960    \n",
            "                                                                 \n",
            " dense_1 (Dense)             (None, 128)               32896     \n",
            "                                                                 \n",
            " dense_2 (Dense)             (None, 5)                 645       \n",
            "                                                                 \n",
            "=================================================================\n",
            "Total params: 234501 (916.02 KB)\n",
            "Trainable params: 234501 (916.02 KB)\n",
            "Non-trainable params: 0 (0.00 Byte)\n",
            "_________________________________________________________________\n"
          ]
        }
      ]
    },
    {
      "cell_type": "code",
      "source": [
        "model_mlp_shape.compile(\n",
        "    optimizer='SGD',\n",
        "    loss=tf.keras.losses.CategoricalCrossentropy(from_logits=True),\n",
        "    metrics=['categorical_accuracy']\n",
        ")"
      ],
      "metadata": {
        "id": "3zGPn_c6bIQx"
      },
      "execution_count": 29,
      "outputs": []
    },
    {
      "cell_type": "code",
      "source": [
        "history_mlp_shape = model_mlp_shape.fit(train_generator_shape, validation_data=validation_generator_shape, epochs=10, verbose=0)\n"
      ],
      "metadata": {
        "id": "d27XCsTua1qT"
      },
      "execution_count": 30,
      "outputs": []
    },
    {
      "cell_type": "code",
      "source": [
        "plot_learning_curve(history_mlp_shape.history['loss'], history_mlp_shape.history['val_loss'],\n",
        "                    history_mlp_shape.history['categorical_accuracy'], history_mlp_shape.history['val_categorical_accuracy'],\n",
        "                    metric_name='Accuracy')"
      ],
      "metadata": {
        "colab": {
          "base_uri": "https://localhost:8080/",
          "height": 420
        },
        "id": "_IazEg8RnXrD",
        "outputId": "ee2e76bc-100b-49c8-de86-5472716825ac"
      },
      "execution_count": 31,
      "outputs": [
        {
          "output_type": "display_data",
          "data": {
            "text/plain": [
              "<Figure size 1000x500 with 2 Axes>"
            ],
            "image/png": "[encoded data removed]"
          },
          "metadata": {}
        }
      ]
    },
    {
      "cell_type": "markdown",
      "source": [
        "### **3.1.1.3 Evaluate the model**"
      ],
      "metadata": {
        "id": "UA9B43T_EfAJ"
      }
    },
    {
      "cell_type": "code",
      "source": [
        " # Evaluate the model on the training data\n",
        "train_loss_mlp_shape, train_accuracy_mlp_shape = model_mlp_shape.evaluate(train_generator_shape)\n",
        "print(\"Training Data for Shapes - Loss: {:.4f}, Accuracy: {:.4f}\".format(train_loss_mlp_shape, train_accuracy_mlp_shape))\n",
        "\n",
        "# Evaluate the model on the validation data\n",
        "val_loss_mlp_shape, val_accuracy_mlp_shape = model_mlp_shape.evaluate(validation_generator_shape)\n",
        "print(\"Validation Data for Shapes - Loss: {:.4f}, Accuracy: {:.4f}\".format(val_loss_mlp_shape, val_accuracy_mlp_shape))\n",
        "\n",
        "# Evaluate the model on the testing data\n",
        "test_loss_mlp_shape, test_accuracy_mlp_shape = model_mlp_shape.evaluate(test_generator_shape)\n",
        "print(\"Testing Data for Shapes - Loss: {:.4f}, Accuracy: {:.4f}\".format(test_loss_mlp_shape, test_accuracy_mlp_shape))\n"
      ],
      "metadata": {
        "colab": {
          "base_uri": "https://localhost:8080/"
        },
        "id": "o36Q-5v4nXpJ",
        "outputId": "b5607c8c-ccb1-4262-cf6e-3b0f8a19f05b"
      },
      "execution_count": 32,
      "outputs": [
        {
          "output_type": "stream",
          "name": "stdout",
          "text": [
            "93/93 [==============================] - 11s 116ms/step - loss: 1.1982 - categorical_accuracy: 0.4768\n",
            "Training Data for Shapes - Loss: 1.1982, Accuracy: 0.4768\n",
            "18/18 [==============================] - 2s 104ms/step - loss: 1.2003 - categorical_accuracy: 0.4783\n",
            "Validation Data for Shapes - Loss: 1.2003, Accuracy: 0.4783\n",
            "6/6 [==============================] - 1s 110ms/step - loss: 1.2252 - categorical_accuracy: 0.4681\n",
            "Testing Data for Shapes - Loss: 1.2252, Accuracy: 0.4681\n"
          ]
        }
      ]
    },
    {
      "cell_type": "markdown",
      "source": [
        "### **3.1.2.1 Image generator for Type**"
      ],
      "metadata": {
        "id": "b3jMiJyvE0Vp"
      }
    },
    {
      "cell_type": "code",
      "source": [
        "df_X_type_train = pd.DataFrame({'image_path': X_type_train,'encoded_type_label': y_type_train})\n",
        "df_X_type_val = pd.DataFrame({'image_path': X_type_val,'encoded_type_label': y_type_val})\n",
        "\n",
        "\n",
        "df_X_type_train['encoded_type_label'] = df_X_type_train['encoded_type_label'].astype(str)\n",
        "df_X_type_val['encoded_type_label'] = df_X_type_val['encoded_type_label'].astype(str)\n",
        "\n",
        "\n",
        "df_X_type_test = pd.DataFrame({'image_path': X_type_test,'encoded_type_label': y_type_test})\n",
        "df_X_type_test['encoded_type_label'] = df_X_type_test['encoded_type_label'].astype(str)"
      ],
      "metadata": {
        "id": "9kXlvpyDoWXG"
      },
      "execution_count": 33,
      "outputs": []
    },
    {
      "cell_type": "code",
      "source": [
        "# Defining image data generators\n",
        "datagen_type = ImageDataGenerator(rescale=1./255, data_format='channels_last')\n",
        "\n",
        "# Create training data generator\n",
        "train_generator_type = datagen_type.flow_from_dataframe(\n",
        "    dataframe=df_X_type_train,\n",
        "    directory='./',\n",
        "    x_col=\"image_path\",\n",
        "    y_col=\"encoded_type_label\",\n",
        "    target_size=(28, 28),\n",
        "    color_mode='grayscale',\n",
        "    batch_size=32,\n",
        "    class_mode='categorical')\n",
        "\n",
        "\n",
        "\n",
        "# Create validation data generator\n",
        "validation_generator_type = datagen_type.flow_from_dataframe(\n",
        "    dataframe=df_X_type_val,\n",
        "    directory='./',\n",
        "    x_col=\"image_path\",\n",
        "    y_col=\"encoded_type_label\",\n",
        "    target_size=(28, 28),\n",
        "    color_mode='grayscale',\n",
        "    batch_size=32,\n",
        "    class_mode='categorical')"
      ],
      "metadata": {
        "colab": {
          "base_uri": "https://localhost:8080/"
        },
        "id": "HROIwXU2oWUV",
        "outputId": "89fad971-d5ac-426a-f8cc-b4a0346c117b"
      },
      "execution_count": 34,
      "outputs": [
        {
          "output_type": "stream",
          "name": "stdout",
          "text": [
            "Found 2954 validated image filenames belonging to 16 classes.\n",
            "Found 553 validated image filenames belonging to 16 classes.\n"
          ]
        }
      ]
    },
    {
      "cell_type": "markdown",
      "source": [
        "### **3.1.2 Building baseline model using A Multi-Layer Perceptron (MLP) for image type**"
      ],
      "metadata": {
        "id": "RMESxdrDq7Rt"
      }
    },
    {
      "cell_type": "code",
      "source": [
        "import tensorflow as tf\n",
        "\n",
        "INPUT_DIM = (28, 28, 1)\n",
        "HIDDEN_LAYER_DIM = 256\n",
        "SECOND_HIDDEN_LAYER_DIM = 128  # Size of the second hidden layer\n",
        "OUTPUT_CLASSES_TYPE = 16"
      ],
      "metadata": {
        "id": "AJfVbdPSoWbM"
      },
      "execution_count": 35,
      "outputs": []
    },
    {
      "cell_type": "code",
      "source": [
        "test_datagen = ImageDataGenerator(rescale=1./255, data_format='channels_last')\n",
        "\n",
        "batch_size = 1\n",
        "\n",
        "test_generator_type = test_datagen.flow_from_dataframe(\n",
        "    dataframe=df_X_type_test,\n",
        "    directory='./',\n",
        "    x_col=\"image_path\",\n",
        "    y_col=\"encoded_type_label\",\n",
        "    target_size=(28, 28),\n",
        "    color_mode='grayscale',\n",
        "    batch_size=32,\n",
        "    class_mode='categorical')"
      ],
      "metadata": {
        "colab": {
          "base_uri": "https://localhost:8080/"
        },
        "id": "Spqo5V88sfO0",
        "outputId": "b6df6023-f5c4-46e7-a666-46a95d92c2d9"
      },
      "execution_count": 36,
      "outputs": [
        {
          "output_type": "stream",
          "name": "stdout",
          "text": [
            "Found 192 validated image filenames belonging to 16 classes.\n"
          ]
        }
      ]
    },
    {
      "cell_type": "code",
      "source": [
        "# build the baseline model\n",
        "model_mlp_type = tf.keras.Sequential([\n",
        "    tf.keras.layers.Flatten(input_shape=INPUT_DIM),\n",
        "    tf.keras.layers.Dense(HIDDEN_LAYER_DIM, activation='sigmoid'),\n",
        "    tf.keras.layers.Dense(SECOND_HIDDEN_LAYER_DIM, activation='sigmoid'),\n",
        "    tf.keras.layers.Dense(OUTPUT_CLASSES_TYPE)\n",
        "])"
      ],
      "metadata": {
        "id": "-818lajgsfLE"
      },
      "execution_count": 37,
      "outputs": []
    },
    {
      "cell_type": "code",
      "source": [
        "model_mlp_type.summary()"
      ],
      "metadata": {
        "colab": {
          "base_uri": "https://localhost:8080/"
        },
        "id": "B_1BkyWAsfHj",
        "outputId": "ac583d0e-3166-4845-af6b-c6024f689363"
      },
      "execution_count": 38,
      "outputs": [
        {
          "output_type": "stream",
          "name": "stdout",
          "text": [
            "Model: \"sequential_1\"\n",
            "_________________________________________________________________\n",
            " Layer (type)                Output Shape              Param #   \n",
            "=================================================================\n",
            " flatten_1 (Flatten)         (None, 784)               0         \n",
            "                                                                 \n",
            " dense_3 (Dense)             (None, 256)               200960    \n",
            "                                                                 \n",
            " dense_4 (Dense)             (None, 128)               32896     \n",
            "                                                                 \n",
            " dense_5 (Dense)             (None, 16)                2064      \n",
            "                                                                 \n",
            "=================================================================\n",
            "Total params: 235920 (921.56 KB)\n",
            "Trainable params: 235920 (921.56 KB)\n",
            "Non-trainable params: 0 (0.00 Byte)\n",
            "_________________________________________________________________\n"
          ]
        }
      ]
    },
    {
      "cell_type": "code",
      "source": [
        "model_mlp_type.compile(optimizer='SGD',\n",
        "              loss=tf.keras.losses.CategoricalCrossentropy(from_logits=True),\n",
        "              metrics=['categorical_accuracy'])"
      ],
      "metadata": {
        "id": "RZCowXSxsfFT"
      },
      "execution_count": 39,
      "outputs": []
    },
    {
      "cell_type": "code",
      "source": [
        "history_mlp_type = model_mlp_type.fit(train_generator_type, validation_data=validation_generator_type, epochs=10, verbose=1)\n"
      ],
      "metadata": {
        "id": "ckw6IeErsfBh",
        "outputId": "c2f131e3-9614-4948-fadf-48a2e075bf7d",
        "colab": {
          "base_uri": "https://localhost:8080/"
        }
      },
      "execution_count": 40,
      "outputs": [
        {
          "output_type": "stream",
          "name": "stdout",
          "text": [
            "Epoch 1/10\n",
            "93/93 [==============================] - 14s 149ms/step - loss: 2.6738 - categorical_accuracy: 0.1479 - val_loss: 2.5831 - val_categorical_accuracy: 0.1881\n",
            "Epoch 2/10\n",
            "93/93 [==============================] - 15s 157ms/step - loss: 2.5813 - categorical_accuracy: 0.1882 - val_loss: 2.5721 - val_categorical_accuracy: 0.1881\n",
            "Epoch 3/10\n",
            "93/93 [==============================] - 13s 137ms/step - loss: 2.5729 - categorical_accuracy: 0.1882 - val_loss: 2.5655 - val_categorical_accuracy: 0.1881\n",
            "Epoch 4/10\n",
            "93/93 [==============================] - 13s 138ms/step - loss: 2.5658 - categorical_accuracy: 0.1882 - val_loss: 2.5601 - val_categorical_accuracy: 0.1881\n",
            "Epoch 5/10\n",
            "93/93 [==============================] - 13s 136ms/step - loss: 2.5581 - categorical_accuracy: 0.1882 - val_loss: 2.5519 - val_categorical_accuracy: 0.1881\n",
            "Epoch 6/10\n",
            "93/93 [==============================] - 13s 135ms/step - loss: 2.5514 - categorical_accuracy: 0.1882 - val_loss: 2.5445 - val_categorical_accuracy: 0.1881\n",
            "Epoch 7/10\n",
            "93/93 [==============================] - 22s 236ms/step - loss: 2.5432 - categorical_accuracy: 0.1882 - val_loss: 2.5380 - val_categorical_accuracy: 0.1881\n",
            "Epoch 8/10\n",
            "93/93 [==============================] - 13s 143ms/step - loss: 2.5360 - categorical_accuracy: 0.1882 - val_loss: 2.5301 - val_categorical_accuracy: 0.1881\n",
            "Epoch 9/10\n",
            "93/93 [==============================] - 13s 136ms/step - loss: 2.5281 - categorical_accuracy: 0.1889 - val_loss: 2.5222 - val_categorical_accuracy: 0.1881\n",
            "Epoch 10/10\n",
            "93/93 [==============================] - 24s 255ms/step - loss: 2.5182 - categorical_accuracy: 0.1899 - val_loss: 2.5155 - val_categorical_accuracy: 0.1881\n"
          ]
        }
      ]
    },
    {
      "cell_type": "code",
      "source": [
        "plot_learning_curve(history_mlp_type.history['loss'], history_mlp_type.history['val_loss'],\n",
        "                    history_mlp_type.history['categorical_accuracy'], history_mlp_type.history['val_categorical_accuracy'],\n",
        "                    metric_name='Accuracy')"
      ],
      "metadata": {
        "colab": {
          "base_uri": "https://localhost:8080/",
          "height": 422
        },
        "id": "J0WgrhN-se_W",
        "outputId": "15a93734-8ef5-44f8-852d-892762211dd7"
      },
      "execution_count": 41,
      "outputs": [
        {
          "output_type": "display_data",
          "data": {
            "text/plain": [
              "<Figure size 1000x500 with 2 Axes>"
            ],
            "image/png": "[encoded data removed]"
          },
          "metadata": {}
        }
      ]
    },
    {
      "cell_type": "markdown",
      "source": [
        "### **3.1.1.3 Evaluate the model**"
      ],
      "metadata": {
        "id": "utS2yXFiFReL"
      }
    },
    {
      "cell_type": "code",
      "source": [
        "# Evaluate the model on the training data\n",
        "train_loss_mlp_type, train_accuracy_mlp_type = model_mlp_type.evaluate(train_generator_type)\n",
        "print(\"Training Data for Types - Loss: {:.4f}, Accuracy: {:.4f}\".format(train_loss_mlp_type, train_accuracy_mlp_type))\n",
        "\n",
        "# Evaluate the model on the validation data\n",
        "val_loss_mlp_type, val_accuracy_mlp_type = model_mlp_type.evaluate(validation_generator_type)\n",
        "print(\"Validation Data for Types - Loss: {:.4f}, Accuracy: {:.4f}\".format(val_loss_mlp_type, val_accuracy_mlp_type))\n",
        "\n",
        "# Evaluate the model on the testing data\n",
        "test_loss_mlp_type, test_accuracy_mlp_type = model_mlp_type.evaluate(test_generator_type)\n",
        "print(\"Testing Data for Types - Loss: {:.4f}, Accuracy: {:.4f}\".format(test_loss_mlp_type, test_accuracy_mlp_type))\n"
      ],
      "metadata": {
        "colab": {
          "base_uri": "https://localhost:8080/"
        },
        "id": "rvJDCA4wse9P",
        "outputId": "6b041399-0268-4837-9583-d6284690bc9e"
      },
      "execution_count": 42,
      "outputs": [
        {
          "output_type": "stream",
          "name": "stdout",
          "text": [
            "93/93 [==============================] - 21s 231ms/step - loss: 2.5127 - categorical_accuracy: 0.1882\n",
            "Training Data for Types - Loss: 2.5127, Accuracy: 0.1882\n",
            "18/18 [==============================] - 5s 275ms/step - loss: 2.5155 - categorical_accuracy: 0.1881\n",
            "Validation Data for Types - Loss: 2.5155, Accuracy: 0.1881\n",
            "6/6 [==============================] - 1s 142ms/step - loss: 2.5312 - categorical_accuracy: 0.1823\n",
            "Testing Data for Types - Loss: 2.5312, Accuracy: 0.1823\n"
          ]
        }
      ]
    },
    {
      "cell_type": "markdown",
      "source": [
        "\n",
        "**Observations:**\n",
        "\n",
        "1. **Baseline Model for Shape Classification:**\n",
        "    - The baseline MLP model for shape classification achieved a training accuracy of {train_accuracy_mlp_shape:.4f} and a validation accuracy of {val_accuracy_mlp_shape:.4f}.\n",
        "    - The testing accuracy on unseen data was {test_accuracy_mlp_shape:.4f}.\n",
        "\n",
        "2. **Baseline Model for Type Classification:**\n",
        "    - The baseline MLP model for type classification achieved a training accuracy of {train_accuracy_mlp_type:.4f} and a validation accuracy of {val_accuracy_mlp_type:.4f}.\n",
        "    - The testing accuracy on unseen data was {test_accuracy_mlp_type:.4f}.\n",
        "\n",
        "3. **Overall:**\n",
        "    - Both baseline models exhibited moderate performance on the imbalanced datasets.\n",
        "    - The relatively low accuracy scores indicate the need for further model optimization and potential exploration of alternative approaches.\n",
        "    - The performance difference between training and testing accuracy suggests the potential for overfitting, which should be addressed in future model iterations.\n",
        "\n",
        "    "
      ],
      "metadata": {
        "id": "z3oWc6E0-UmU"
      }
    },
    {
      "cell_type": "markdown",
      "source": [
        "====================================================================================================="
      ],
      "metadata": {
        "id": "ah3poNsj-kqQ"
      }
    },
    {
      "cell_type": "markdown",
      "source": [
        "# **3.2 Building baseline model using  Visual Geometry Group (VGG1_shape)**"
      ],
      "metadata": {
        "id": "2hri5u4ZCIZt"
      }
    },
    {
      "cell_type": "code",
      "source": [
        "model_VGG1_shape = tf.keras.Sequential([\n",
        "    #VGG block 1\n",
        "    tf.keras.layers.Conv2D(32, (3, 3), activation='relu', padding='same', input_shape=(28, 28, 1)),\n",
        "    tf.keras.layers.Conv2D(32, (3, 3), activation='relu', padding='same'),\n",
        "    tf.keras.layers.MaxPooling2D((2, 2)),\n",
        "\n",
        "    #VGG block 2\n",
        "    tf.keras.layers.Conv2D(64, (3, 3), activation='relu', padding='same'),\n",
        "    tf.keras.layers.Conv2D(64, (3, 3), activation='relu', padding='same'),\n",
        "    tf.keras.layers.MaxPooling2D((2, 2)),\n",
        "\n",
        "    #VGG block 3\n",
        "    tf.keras.layers.Conv2D(128, (3, 3), activation='relu', padding='same'),\n",
        "    tf.keras.layers.Conv2D(128, (3, 3), activation='relu', padding='same'),\n",
        "    tf.keras.layers.MaxPooling2D((2, 2)),\n",
        "\n",
        "    tf.keras.layers.Flatten(),\n",
        "    tf.keras.layers.Dense(128, activation='relu'),\n",
        "    tf.keras.layers.Dense(OUTPUT_CLASSES_SHAPE),\n",
        "])"
      ],
      "metadata": {
        "id": "PRZYBscGAe54"
      },
      "execution_count": 43,
      "outputs": []
    },
    {
      "cell_type": "code",
      "source": [
        "model_VGG1_shape.compile(optimizer='SGD',\n",
        "              loss=tf.keras.losses.CategoricalCrossentropy(from_logits=True),\n",
        "              metrics=['accuracy'])"
      ],
      "metadata": {
        "id": "6eUCKdphAe4A"
      },
      "execution_count": 44,
      "outputs": []
    },
    {
      "cell_type": "code",
      "source": [
        "history_VGG1_shape = model_VGG1_shape.fit(train_generator_shape, validation_data = validation_generator_shape, epochs=10, verbose=1)"
      ],
      "metadata": {
        "id": "6VqBQL5eAeuQ",
        "outputId": "7d349323-14a9-4087-8479-3d35ed7abb66",
        "colab": {
          "base_uri": "https://localhost:8080/"
        }
      },
      "execution_count": 45,
      "outputs": [
        {
          "output_type": "stream",
          "name": "stdout",
          "text": [
            "Epoch 1/10\n",
            "93/93 [==============================] - 39s 400ms/step - loss: 1.4533 - accuracy: 0.4636 - val_loss: 1.2874 - val_accuracy: 0.4765\n",
            "Epoch 2/10\n",
            "93/93 [==============================] - 27s 291ms/step - loss: 1.2548 - accuracy: 0.4762 - val_loss: 1.2343 - val_accuracy: 0.4783\n",
            "Epoch 3/10\n",
            "93/93 [==============================] - 26s 278ms/step - loss: 1.2123 - accuracy: 0.4981 - val_loss: 1.1817 - val_accuracy: 0.4946\n",
            "Epoch 4/10\n",
            "93/93 [==============================] - 35s 374ms/step - loss: 1.1597 - accuracy: 0.5364 - val_loss: 1.0835 - val_accuracy: 0.5812\n",
            "Epoch 5/10\n",
            "93/93 [==============================] - 32s 349ms/step - loss: 1.0188 - accuracy: 0.6273 - val_loss: 0.9977 - val_accuracy: 0.6264\n",
            "Epoch 6/10\n",
            "93/93 [==============================] - 30s 320ms/step - loss: 0.8088 - accuracy: 0.7156 - val_loss: 0.7150 - val_accuracy: 0.7509\n",
            "Epoch 7/10\n",
            "93/93 [==============================] - 36s 380ms/step - loss: 0.5866 - accuracy: 0.8069 - val_loss: 0.5976 - val_accuracy: 0.7816\n",
            "Epoch 8/10\n",
            "93/93 [==============================] - 40s 422ms/step - loss: 0.4775 - accuracy: 0.8424 - val_loss: 0.4073 - val_accuracy: 0.8664\n",
            "Epoch 9/10\n",
            "93/93 [==============================] - 33s 359ms/step - loss: 0.3748 - accuracy: 0.8796 - val_loss: 0.3491 - val_accuracy: 0.8881\n",
            "Epoch 10/10\n",
            "93/93 [==============================] - 43s 452ms/step - loss: 0.3025 - accuracy: 0.9029 - val_loss: 0.2703 - val_accuracy: 0.9152\n"
          ]
        }
      ]
    },
    {
      "cell_type": "code",
      "source": [
        "plot_learning_curve(history_VGG1_shape.history['loss'], history_VGG1_shape.history['val_loss'],\n",
        "                 history_VGG1_shape .history['accuracy'], history_VGG1_shape.history['val_accuracy'],\n",
        "                    metric_name='Accuracy')"
      ],
      "metadata": {
        "colab": {
          "base_uri": "https://localhost:8080/",
          "height": 424
        },
        "id": "VUkuKW7695kY",
        "outputId": "7db03297-f33f-4a20-e510-37e4975077ae"
      },
      "execution_count": 46,
      "outputs": [
        {
          "output_type": "display_data",
          "data": {
            "text/plain": [
              "<Figure size 1000x500 with 2 Axes>"
            ],
            "image/png": "[encoded data removed]"
          },
          "metadata": {}
        }
      ]
    },
    {
      "cell_type": "code",
      "source": [
        "# Evaluate the model on the training data\n",
        "train_loss_VGG1_shape, train_accuracy_VGG1_shape = model_VGG1_shape.evaluate(train_generator_shape)\n",
        "print(\"Training Data for Shapes - Loss: {:.4f}, Accuracy: {:.4f}\".format(train_loss_VGG1_shape, train_accuracy_VGG1_shape))\n",
        "\n",
        "# Evaluate the model on the validation data\n",
        "val_loss_VGG1_shape, val_accuracy_VGG1_shape = model_VGG1_shape.evaluate(validation_generator_shape)\n",
        "print(\"Validation Data for Shapes - Loss: {:.4f}, Accuracy: {:.4f}\".format(val_loss_VGG1_shape, val_accuracy_VGG1_shape))\n",
        "\n",
        "# Evaluate the model on the testing data\n",
        "test_loss_VGG1_shape, test_accuracy_VGG1_shape = model_VGG1_shape.evaluate(test_generator_shape)\n",
        "print(\"Testing Data for Shapes - Loss: {:.4f}, Accuracy: {:.4f}\".format(test_loss_VGG1_shape, test_accuracy_VGG1_shape))\n"
      ],
      "metadata": {
        "colab": {
          "base_uri": "https://localhost:8080/"
        },
        "id": "jaLb2LsQ95fc",
        "outputId": "f4df7a5b-7ea7-4ed1-b95f-f3fad25367e0"
      },
      "execution_count": 47,
      "outputs": [
        {
          "output_type": "stream",
          "name": "stdout",
          "text": [
            "93/93 [==============================] - 29s 306ms/step - loss: 0.2444 - accuracy: 0.9222\n",
            "Training Data for Shapes - Loss: 0.2444, Accuracy: 0.9222\n",
            "18/18 [==============================] - 4s 224ms/step - loss: 0.2703 - accuracy: 0.9152\n",
            "Validation Data for Shapes - Loss: 0.2703, Accuracy: 0.9152\n",
            "6/6 [==============================] - 1s 139ms/step - loss: 0.2503 - accuracy: 0.8936\n",
            "Testing Data for Shapes - Loss: 0.2503, Accuracy: 0.8936\n"
          ]
        }
      ]
    },
    {
      "cell_type": "markdown",
      "source": [
        "Improving model\n",
        "\n",
        "After analyzing the baseline model, it has been observed that the model exhibits signs of overfitting. It occurs when the model performs well on the training data but fails to generalize effectively to unseen data. To prevent overfitting, we can apply some common effective techniques used in machine learning to improve the performance of the model and prevent overfitting. For example:\n",
        "\n",
        "- 1. Ridge regularisation\n",
        "- 2. Dropout\n",
        "- 3. Reduce model complexity\n",
        "- 4. Data augmentation\n",
        "\n",
        "More detailed explanation of these techniques will be provided in subsequent sections."
      ],
      "metadata": {
        "id": "CgIWT3p-MWGq"
      }
    },
    {
      "cell_type": "markdown",
      "source": [
        "## Approcah 1. Ridge Regularization and Hyperparameter Tuning:"
      ],
      "metadata": {
        "id": "uGIQeOqPMjLS"
      }
    },
    {
      "cell_type": "code",
      "source": [
        "# Parameter tuning of regularization value\n",
        "from keras.layers import Conv2D, MaxPooling2D, Flatten, Dense, Dropout, BatchNormalization\n",
        "from sklearn.metrics import classification_report\n",
        "from sklearn.metrics import confusion_matrix, accuracy_score, f1_score\n",
        "\n",
        "# Hyperparameter tuning for Ridge regularization\n",
        "reg_lambdas = [0.002, 0.004, 0.006, 0.01, 0.1]\n",
        "\n",
        "# the highest validation accuracy is the best performance\n",
        "best_performance = 0.0\n",
        "best_reg_lambda = None\n",
        "model_test_acc = None\n",
        "model_train_acc = None\n",
        "\n",
        "for reg_lambda in reg_lambdas:\n",
        "    model_VGG2_shape_tuning = tf.keras.Sequential([\n",
        "        #VGG block 1\n",
        "        tf.keras.layers.Conv2D(32, (3, 3), activation='relu', padding='same',\n",
        "                               kernel_regularizer=tf.keras.regularizers.l2(reg_lambda), input_shape=(28, 28, 1)),\n",
        "        tf.keras.layers.Conv2D(32, (3, 3), activation='relu', padding='same',\n",
        "                               kernel_regularizer=tf.keras.regularizers.l2(reg_lambda)),\n",
        "        tf.keras.layers.MaxPooling2D((2, 2)),\n",
        "\n",
        "        #VGG block 2\n",
        "        tf.keras.layers.Conv2D(64, (3, 3), activation='relu', padding='same',\n",
        "                               kernel_regularizer=tf.keras.regularizers.l2(reg_lambda)),\n",
        "        tf.keras.layers.Conv2D(64, (3, 3), activation='relu', padding='same',\n",
        "                               kernel_regularizer=tf.keras.regularizers.l2(reg_lambda)),\n",
        "        tf.keras.layers.MaxPooling2D((2, 2)),\n",
        "\n",
        "        #VGG block 3\n",
        "        tf.keras.layers.Conv2D(128, (3, 3), activation='relu', padding='same',\n",
        "                               kernel_regularizer=tf.keras.regularizers.l2(reg_lambda)),\n",
        "        tf.keras.layers.Conv2D(128, (3, 3), activation='relu', padding='same',\n",
        "                               kernel_regularizer=tf.keras.regularizers.l2(reg_lambda)),\n",
        "        tf.keras.layers.MaxPooling2D((2, 2)),\n",
        "\n",
        "        # Dense Layers\n",
        "        tf.keras.layers.Flatten(),\n",
        "        tf.keras.layers.Dense(128, activation='relu'),\n",
        "        tf.keras.layers.Dense(OUTPUT_CLASSES_SHAPE),\n",
        "    ])\n",
        "\n"
      ],
      "metadata": {
        "id": "Op-OtLSqL3Dy"
      },
      "execution_count": 48,
      "outputs": []
    },
    {
      "cell_type": "code",
      "source": [
        "# compile the model\n",
        "model_VGG2_shape_tuning.compile(optimizer='adam', loss=tf.keras.losses.CategoricalCrossentropy(from_logits=True), metrics=['accuracy'])"
      ],
      "metadata": {
        "id": "8bWN_KeFL3CG"
      },
      "execution_count": 49,
      "outputs": []
    },
    {
      "cell_type": "code",
      "source": [
        "# fit and train the model\n",
        "history_VGG2_shape_tuning = model_VGG2_shape_tuning.fit(train_generator_shape, validation_data = validation_generator_shape, epochs=10, verbose=1)"
      ],
      "metadata": {
        "id": "d3c6LuP0L2_O",
        "outputId": "d9596591-b3b2-4d25-d5ee-ae6be91c3b7f",
        "colab": {
          "base_uri": "https://localhost:8080/"
        }
      },
      "execution_count": 50,
      "outputs": [
        {
          "output_type": "stream",
          "name": "stdout",
          "text": [
            "Epoch 1/10\n",
            "93/93 [==============================] - 45s 416ms/step - loss: 8.3491 - accuracy: 0.4731 - val_loss: 1.4512 - val_accuracy: 0.4765\n",
            "Epoch 2/10\n",
            "93/93 [==============================] - 44s 465ms/step - loss: 1.3069 - accuracy: 0.4762 - val_loss: 1.2668 - val_accuracy: 0.4765\n",
            "Epoch 3/10\n",
            "93/93 [==============================] - 33s 354ms/step - loss: 1.2682 - accuracy: 0.4762 - val_loss: 1.2654 - val_accuracy: 0.4765\n",
            "Epoch 4/10\n",
            "93/93 [==============================] - 50s 534ms/step - loss: 1.2649 - accuracy: 0.4762 - val_loss: 1.2642 - val_accuracy: 0.4765\n",
            "Epoch 5/10\n",
            "93/93 [==============================] - 41s 440ms/step - loss: 1.2657 - accuracy: 0.4762 - val_loss: 1.2590 - val_accuracy: 0.4765\n",
            "Epoch 6/10\n",
            "93/93 [==============================] - 35s 371ms/step - loss: 1.2659 - accuracy: 0.4762 - val_loss: 1.2623 - val_accuracy: 0.4765\n",
            "Epoch 7/10\n",
            "93/93 [==============================] - 40s 431ms/step - loss: 1.2628 - accuracy: 0.4762 - val_loss: 1.2596 - val_accuracy: 0.4765\n",
            "Epoch 8/10\n",
            "93/93 [==============================] - 38s 406ms/step - loss: 1.2638 - accuracy: 0.4762 - val_loss: 1.2602 - val_accuracy: 0.4765\n",
            "Epoch 9/10\n",
            "93/93 [==============================] - 29s 310ms/step - loss: 1.2630 - accuracy: 0.4762 - val_loss: 1.2628 - val_accuracy: 0.4765\n",
            "Epoch 10/10\n",
            "93/93 [==============================] - 37s 397ms/step - loss: 1.2652 - accuracy: 0.4762 - val_loss: 1.2604 - val_accuracy: 0.4765\n"
          ]
        }
      ]
    },
    {
      "cell_type": "code",
      "source": [
        "# evaluate the model performance\n",
        "train_accuracy_VGG2_shape_tuning = history_VGG2_shape_tuning.history['accuracy'][-1]\n",
        "train_loss_VGG2_shape_tuning = history_VGG2_shape_tuning.history['loss'][-1]  # Retrieve the last training loss\n",
        "val_accuracy_VGG2_shape_tuning = history_VGG2_shape_tuning.history['val_accuracy'][-1]\n",
        "val_loss_VGG2_shape_tuning = history_VGG2_shape_tuning.history['val_loss'][-1]  # Retrieve the last validation loss\n",
        "test_loss_VGG2_shape_tuning, test_accuracy_VGG2_shape_tuning = model_VGG2_shape_tuning.evaluate(test_generator_shape, verbose=0)\n",
        "\n",
        "print(f\"reg_lambda = {reg_lambda}, train_loss = {train_loss_VGG2_shape_tuning}, train_accuracy = {train_accuracy_VGG2_shape_tuning}, val_loss = {val_loss_VGG2_shape_tuning}, val_accuracy = {val_accuracy_VGG2_shape_tuning}, test_accuracy = {test_accuracy_VGG2_shape_tuning}\\n\")\n",
        "\n",
        "# Update the best performance and regularization lambda\n",
        "if val_accuracy_VGG2_shape_tuning > best_performance:\n",
        "  best_performance = val_accuracy_VGG2_shape_tuning\n",
        "  best_reg_lambda = reg_lambda\n",
        "  model_train_acc = train_accuracy_VGG2_shape_tuning\n",
        "  model_test_acc = test_accuracy_VGG2_shape_tuning"
      ],
      "metadata": {
        "id": "8rAIF0uyL28X",
        "outputId": "2499fb67-61da-40ed-839f-acb1635e2fab",
        "colab": {
          "base_uri": "https://localhost:8080/"
        }
      },
      "execution_count": 52,
      "outputs": [
        {
          "output_type": "stream",
          "name": "stdout",
          "text": [
            "reg_lambda = 0.1, train_loss = 1.2652230262756348, train_accuracy = 0.4761582612991333, val_loss = 1.2604082822799683, val_accuracy = 0.47653430700302124, test_accuracy = 0.4680851101875305\n",
            "\n"
          ]
        }
      ]
    },
    {
      "cell_type": "code",
      "source": [
        "print(f\"Best model performance:\")\n",
        "print(f\"Best regularization lambda: {best_reg_lambda} based on validation accuracy: {best_performance} \\nwhere train_accuracy: {model_train_acc} and test accuracy: {model_test_acc}\")"
      ],
      "metadata": {
        "id": "CGSorO7MRI5Y",
        "outputId": "834e0b84-ff3b-4c58-fa14-a52f82b5a2ff",
        "colab": {
          "base_uri": "https://localhost:8080/"
        }
      },
      "execution_count": 53,
      "outputs": [
        {
          "output_type": "stream",
          "name": "stdout",
          "text": [
            "Best model performance:\n",
            "Best regularization lambda: 0.1 based on validation accuracy: 0.47653430700302124 \n",
            "where train_accuracy: 0.4761582612991333 and test accuracy: 0.4680851101875305\n"
          ]
        }
      ]
    },
    {
      "cell_type": "code",
      "source": [
        "# A full model performance evaluation of `model_VGG2` based on test data:\n",
        "from keras.layers import Conv2D, MaxPooling2D, Flatten, Dense, Dropout, BatchNormalization\n",
        "from sklearn.metrics import classification_report\n",
        "from sklearn.metrics import confusion_matrix, accuracy_score, f1_score\n",
        "\n",
        "reg_lambda = 0.02\n",
        "\n",
        "model_VGG2_shape = tf.keras.Sequential([\n",
        "    #VGG block 1\n",
        "    tf.keras.layers.Conv2D(32, (3, 3), activation='relu', padding='same',\n",
        "                           kernel_regularizer=tf.keras.regularizers.l2(reg_lambda), input_shape=(28, 28, 1)),\n",
        "    tf.keras.layers.Conv2D(32, (3, 3), activation='relu', padding='same',\n",
        "                           kernel_regularizer=tf.keras.regularizers.l2(reg_lambda)),\n",
        "    tf.keras.layers.MaxPooling2D((2, 2)),\n",
        "\n",
        "    #VGG block 2\n",
        "    tf.keras.layers.Conv2D(64, (3, 3), activation='relu', padding='same',\n",
        "                           kernel_regularizer=tf.keras.regularizers.l2(reg_lambda)),\n",
        "    tf.keras.layers.Conv2D(64, (3, 3), activation='relu', padding='same',\n",
        "                           kernel_regularizer=tf.keras.regularizers.l2(reg_lambda)),\n",
        "    tf.keras.layers.MaxPooling2D((2, 2)),\n",
        "\n",
        "    #VGG block 3\n",
        "    tf.keras.layers.Conv2D(128, (3, 3), activation='relu', padding='same',\n",
        "                           kernel_regularizer=tf.keras.regularizers.l2(reg_lambda)),\n",
        "    tf.keras.layers.Conv2D(128, (3, 3), activation='relu', padding='same',\n",
        "                           kernel_regularizer=tf.keras.regularizers.l2(reg_lambda)),\n",
        "    tf.keras.layers.MaxPooling2D((2, 2)),\n",
        "\n",
        "    # Dense Layers\n",
        "    tf.keras.layers.Flatten(),\n",
        "    tf.keras.layers.Dense(128, activation='relu'),\n",
        "    tf.keras.layers.Dense(OUTPUT_CLASSES_SHAPE),\n",
        "])\n",
        "\n",
        "# Train the model and evaluate its performance\n",
        "model_VGG2_shape.compile(optimizer='adam',\n",
        "                   loss=tf.keras.losses.CategoricalCrossentropy(from_logits=True),\n",
        "                   metrics=['accuracy'])\n"
      ],
      "metadata": {
        "id": "5eSCTo9qRxzh"
      },
      "execution_count": 54,
      "outputs": []
    },
    {
      "cell_type": "code",
      "source": [
        "history_VGG2_shape = model_VGG2_shape.fit(train_generator_shape, validation_data = validation_generator_shape, epochs=10, verbose=1)"
      ],
      "metadata": {
        "id": "PDOkmsV7RxfI",
        "outputId": "ae670e42-8bef-43ec-8223-7cdf0dbdbc97",
        "colab": {
          "base_uri": "https://localhost:8080/"
        }
      },
      "execution_count": 55,
      "outputs": [
        {
          "output_type": "stream",
          "name": "stdout",
          "text": [
            "Epoch 1/10\n",
            "93/93 [==============================] - 28s 287ms/step - loss: 2.9148 - accuracy: 0.4684 - val_loss: 1.4059 - val_accuracy: 0.4765\n",
            "Epoch 2/10\n",
            "93/93 [==============================] - 30s 317ms/step - loss: 1.3343 - accuracy: 0.4762 - val_loss: 1.2973 - val_accuracy: 0.4765\n",
            "Epoch 3/10\n",
            "93/93 [==============================] - 23s 249ms/step - loss: 1.2883 - accuracy: 0.4762 - val_loss: 1.3026 - val_accuracy: 0.4765\n",
            "Epoch 4/10\n",
            "93/93 [==============================] - 24s 255ms/step - loss: 1.2754 - accuracy: 0.4765 - val_loss: 1.2590 - val_accuracy: 0.4801\n",
            "Epoch 5/10\n",
            "93/93 [==============================] - 29s 310ms/step - loss: 1.2421 - accuracy: 0.4964 - val_loss: 1.2368 - val_accuracy: 0.5433\n",
            "Epoch 6/10\n",
            "93/93 [==============================] - 27s 285ms/step - loss: 1.1594 - accuracy: 0.5786 - val_loss: 1.0893 - val_accuracy: 0.6661\n",
            "Epoch 7/10\n",
            "93/93 [==============================] - 32s 340ms/step - loss: 0.8436 - accuracy: 0.7582 - val_loss: 0.6406 - val_accuracy: 0.8394\n",
            "Epoch 8/10\n",
            "93/93 [==============================] - 30s 327ms/step - loss: 0.5954 - accuracy: 0.8627 - val_loss: 0.4735 - val_accuracy: 0.9079\n",
            "Epoch 9/10\n",
            "93/93 [==============================] - 26s 274ms/step - loss: 0.4838 - accuracy: 0.8996 - val_loss: 0.4419 - val_accuracy: 0.9170\n",
            "Epoch 10/10\n",
            "93/93 [==============================] - 26s 273ms/step - loss: 0.4233 - accuracy: 0.9263 - val_loss: 0.4187 - val_accuracy: 0.9278\n"
          ]
        }
      ]
    },
    {
      "cell_type": "code",
      "source": [
        "plot_learning_curve(history_VGG2_shape.history['loss'], history_VGG2_shape.history['val_loss'],\n",
        "                    history_VGG2_shape.history['accuracy'], history_VGG2_shape.history['val_accuracy'],\n",
        "                    metric_name='Accuracy')"
      ],
      "metadata": {
        "id": "eRLSTG64RxcT",
        "outputId": "7677020e-117e-4c5c-bad6-0cfe88273296",
        "colab": {
          "base_uri": "https://localhost:8080/",
          "height": 485
        }
      },
      "execution_count": 56,
      "outputs": [
        {
          "output_type": "display_data",
          "data": {
            "text/plain": [
              "<Figure size 1000x500 with 2 Axes>"
            ],
            "image/png": "[encoded data removed]"
          },
          "metadata": {}
        }
      ]
    },
    {
      "cell_type": "code",
      "source": [
        "# Evaluate the model on the training data\n",
        "train_loss_VGG2_shape, train_accuracy_VGG2_shape = model_VGG2_shape.evaluate(train_generator_shape)\n",
        "print(\"Training Data for Shapes - Loss: {:.4f}, Accuracy: {:.4f}\".format(train_loss_VGG2_shape, train_accuracy_VGG2_shape))\n",
        "\n",
        "# Evaluate the model on the validation data\n",
        "val_loss_VGG2_shape, val_accuracy_VGG2_shape = model_VGG2_shape.evaluate(validation_generator_shape)\n",
        "print(\"Validation Data for Shapes - Loss: {:.4f}, Accuracy: {:.4f}\".format(val_loss_VGG2_shape, val_accuracy_VGG2_shape))\n",
        "\n",
        "# Evaluate the model on the testing data\n",
        "test_loss_VGG2_shape, test_accuracy_VGG2_shape = model_VGG2_shape.evaluate(test_generator_shape)\n",
        "print(\"Testing Data for Shapes - Loss: {:.4f}, Accuracy: {:.4f}\".format(test_loss_VGG2_shape, test_accuracy_VGG2_shape))\n"
      ],
      "metadata": {
        "id": "cBgL29f_RxXx",
        "outputId": "3dc5e6c2-07be-4a0d-c158-d47c8dddbec7",
        "colab": {
          "base_uri": "https://localhost:8080/"
        }
      },
      "execution_count": 57,
      "outputs": [
        {
          "output_type": "stream",
          "name": "stdout",
          "text": [
            "93/93 [==============================] - 13s 144ms/step - loss: 0.3658 - accuracy: 0.9479\n",
            "Training Data for Shapes - Loss: 0.3658, Accuracy: 0.9479\n",
            "18/18 [==============================] - 2s 122ms/step - loss: 0.4187 - accuracy: 0.9278\n",
            "Validation Data for Shapes - Loss: 0.4187, Accuracy: 0.9278\n",
            "6/6 [==============================] - 1s 123ms/step - loss: 0.3634 - accuracy: 0.9309\n",
            "Testing Data for Shapes - Loss: 0.3634, Accuracy: 0.9309\n"
          ]
        }
      ]
    },
    {
      "cell_type": "code",
      "source": [
        "model_result(train_generator_shape,validation_generator_shape,model_VGG2_shape)"
      ],
      "metadata": {
        "id": "AZBkQ9PfRxT-",
        "outputId": "e5b3246d-33d3-4071-d6b8-e0acc18d2e4b",
        "colab": {
          "base_uri": "https://localhost:8080/"
        }
      },
      "execution_count": 58,
      "outputs": [
        {
          "output_type": "stream",
          "name": "stdout",
          "text": [
            "Training F1- score:  0.6934523809523809\n",
            "F1 score:  0.7334004313595924\n"
          ]
        }
      ]
    },
    {
      "cell_type": "markdown",
      "source": [
        "### **Dropout and Hyperparameter Tuning**"
      ],
      "metadata": {
        "id": "TXQzWFghsxry"
      }
    },
    {
      "cell_type": "code",
      "source": [
        "from keras.layers import Conv2D, MaxPooling2D, Flatten, Dense, Dropout, BatchNormalization\n",
        "\n",
        "reg_lambda = 0.02\n",
        "dropout_rates = [0.2, 0.3, 0.4, 0.5, 0.6]\n",
        "\n",
        "best_performance = 0.0\n",
        "best_dropout_rate = None\n",
        "model_test_acc = None\n",
        "model_train_acc = None\n",
        "\n",
        "for dropout_rate in dropout_rates:\n",
        "    model_VGG3_shape_tuning = tf.keras.Sequential([\n",
        "        #VGG block 1\n",
        "        tf.keras.layers.Conv2D(32, (3, 3), activation='relu', padding='same',\n",
        "                               kernel_regularizer=tf.keras.regularizers.l2(reg_lambda), input_shape=(28, 28, 1)),\n",
        "        tf.keras.layers.Conv2D(32, (3, 3), activation='relu', padding='same',\n",
        "                               kernel_regularizer=tf.keras.regularizers.l2(reg_lambda)),\n",
        "        tf.keras.layers.MaxPooling2D((2, 2)),\n",
        "\n",
        "        #VGG block 2\n",
        "        tf.keras.layers.Conv2D(64, (3, 3), activation='relu', padding='same',\n",
        "                               kernel_regularizer=tf.keras.regularizers.l2(reg_lambda)),\n",
        "        tf.keras.layers.Conv2D(64, (3, 3), activation='relu', padding='same',\n",
        "                               kernel_regularizer=tf.keras.regularizers.l2(reg_lambda)),\n",
        "        tf.keras.layers.MaxPooling2D((2, 2)),\n",
        "\n",
        "        #VGG block 3\n",
        "        tf.keras.layers.Conv2D(128, (3, 3), activation='relu', padding='same',\n",
        "                               kernel_regularizer=tf.keras.regularizers.l2(reg_lambda)),\n",
        "        tf.keras.layers.Conv2D(128, (3, 3), activation='relu', padding='same',\n",
        "                               kernel_regularizer=tf.keras.regularizers.l2(reg_lambda)),\n",
        "        tf.keras.layers.MaxPooling2D((2, 2)),\n",
        "\n",
        "        # Dense Layers\n",
        "        tf.keras.layers.Flatten(),\n",
        "        tf.keras.layers.Dense(128, activation='relu'),\n",
        "        tf.keras.layers.Dropout(dropout_rate),\n",
        "        tf.keras.layers.Dense(OUTPUT_CLASSES_SHAPE),\n",
        "    ])\n",
        "\n",
        "        # Train the model and evaluate its performance\n",
        "    model_VGG3_shape_tuning.compile(optimizer='adam',\n",
        "                       loss=tf.keras.losses.CategoricalCrossentropy(from_logits=True),\n",
        "                       metrics=['accuracy'])\n",
        "\n",
        "    history_VGG3_shape_tuning = model_VGG3_shape_tuning.fit(train_generator_shape, validation_data = validation_generator_shape, epochs=8, verbose=1)"
      ],
      "metadata": {
        "id": "Dfvy5kwWqL8P",
        "outputId": "a64d8bad-0bb1-4e6f-855b-4fa414514761",
        "colab": {
          "base_uri": "https://localhost:8080/"
        }
      },
      "execution_count": 59,
      "outputs": [
        {
          "output_type": "stream",
          "name": "stdout",
          "text": [
            "Epoch 1/8\n",
            "93/93 [==============================] - 28s 285ms/step - loss: 2.9342 - accuracy: 0.4711 - val_loss: 1.4306 - val_accuracy: 0.4765\n",
            "Epoch 2/8\n",
            "93/93 [==============================] - 24s 259ms/step - loss: 1.3366 - accuracy: 0.4856 - val_loss: 1.2342 - val_accuracy: 0.5614\n",
            "Epoch 3/8\n",
            "93/93 [==============================] - 26s 275ms/step - loss: 1.0344 - accuracy: 0.6916 - val_loss: 0.7845 - val_accuracy: 0.8213\n",
            "Epoch 4/8\n",
            "93/93 [==============================] - 28s 302ms/step - loss: 0.6677 - accuracy: 0.8536 - val_loss: 0.5057 - val_accuracy: 0.9188\n",
            "Epoch 5/8\n",
            "93/93 [==============================] - 24s 257ms/step - loss: 0.4869 - accuracy: 0.9202 - val_loss: 0.4074 - val_accuracy: 0.9440\n",
            "Epoch 6/8\n",
            "93/93 [==============================] - 27s 287ms/step - loss: 0.4063 - accuracy: 0.9361 - val_loss: 0.3478 - val_accuracy: 0.9477\n",
            "Epoch 7/8\n",
            "93/93 [==============================] - 27s 288ms/step - loss: 0.3722 - accuracy: 0.9449 - val_loss: 0.3442 - val_accuracy: 0.9495\n",
            "Epoch 8/8\n",
            "93/93 [==============================] - 24s 260ms/step - loss: 0.3441 - accuracy: 0.9520 - val_loss: 0.3345 - val_accuracy: 0.9495\n",
            "Epoch 1/8\n",
            "93/93 [==============================] - 29s 296ms/step - loss: 3.0028 - accuracy: 0.4623 - val_loss: 1.4877 - val_accuracy: 0.4765\n",
            "Epoch 2/8\n",
            "93/93 [==============================] - 27s 286ms/step - loss: 1.3710 - accuracy: 0.4772 - val_loss: 1.3031 - val_accuracy: 0.4765\n",
            "Epoch 3/8\n",
            "93/93 [==============================] - 25s 267ms/step - loss: 1.3028 - accuracy: 0.4762 - val_loss: 1.2808 - val_accuracy: 0.4765\n",
            "Epoch 4/8\n",
            "93/93 [==============================] - 27s 285ms/step - loss: 1.2793 - accuracy: 0.4762 - val_loss: 1.2637 - val_accuracy: 0.4765\n",
            "Epoch 5/8\n",
            "93/93 [==============================] - 25s 265ms/step - loss: 1.2820 - accuracy: 0.4758 - val_loss: 1.2653 - val_accuracy: 0.4765\n",
            "Epoch 6/8\n",
            "93/93 [==============================] - 24s 255ms/step - loss: 1.2744 - accuracy: 0.4762 - val_loss: 1.2596 - val_accuracy: 0.4765\n",
            "Epoch 7/8\n",
            "93/93 [==============================] - 25s 263ms/step - loss: 1.2707 - accuracy: 0.4762 - val_loss: 1.2604 - val_accuracy: 0.4765\n",
            "Epoch 8/8\n",
            "93/93 [==============================] - 26s 280ms/step - loss: 1.2695 - accuracy: 0.4762 - val_loss: 1.2609 - val_accuracy: 0.4765\n",
            "Epoch 1/8\n",
            "93/93 [==============================] - 27s 264ms/step - loss: 2.9939 - accuracy: 0.4636 - val_loss: 1.4423 - val_accuracy: 0.4765\n",
            "Epoch 2/8\n",
            "93/93 [==============================] - 25s 272ms/step - loss: 1.3729 - accuracy: 0.4758 - val_loss: 1.3168 - val_accuracy: 0.4765\n",
            "Epoch 3/8\n",
            "93/93 [==============================] - 27s 287ms/step - loss: 1.2998 - accuracy: 0.4755 - val_loss: 1.2772 - val_accuracy: 0.4765\n",
            "Epoch 4/8\n",
            "93/93 [==============================] - 26s 276ms/step - loss: 1.2828 - accuracy: 0.4762 - val_loss: 1.2657 - val_accuracy: 0.4765\n",
            "Epoch 5/8\n",
            "93/93 [==============================] - 24s 252ms/step - loss: 1.2791 - accuracy: 0.4768 - val_loss: 1.2618 - val_accuracy: 0.4765\n",
            "Epoch 6/8\n",
            "93/93 [==============================] - 30s 326ms/step - loss: 1.2708 - accuracy: 0.4762 - val_loss: 1.2622 - val_accuracy: 0.4765\n",
            "Epoch 7/8\n",
            "93/93 [==============================] - 24s 259ms/step - loss: 1.2725 - accuracy: 0.4762 - val_loss: 1.2596 - val_accuracy: 0.4765\n",
            "Epoch 8/8\n",
            "93/93 [==============================] - 24s 258ms/step - loss: 1.2748 - accuracy: 0.4762 - val_loss: 1.2603 - val_accuracy: 0.4765\n",
            "Epoch 1/8\n",
            "93/93 [==============================] - 27s 264ms/step - loss: 2.9713 - accuracy: 0.4670 - val_loss: 1.4573 - val_accuracy: 0.4765\n",
            "Epoch 2/8\n",
            "93/93 [==============================] - 26s 274ms/step - loss: 1.3843 - accuracy: 0.4738 - val_loss: 1.3141 - val_accuracy: 0.4765\n",
            "Epoch 3/8\n",
            "93/93 [==============================] - 26s 280ms/step - loss: 1.3144 - accuracy: 0.4755 - val_loss: 1.2798 - val_accuracy: 0.4765\n",
            "Epoch 4/8\n",
            "93/93 [==============================] - 27s 286ms/step - loss: 1.2904 - accuracy: 0.4765 - val_loss: 1.2670 - val_accuracy: 0.4765\n",
            "Epoch 5/8\n",
            "93/93 [==============================] - 24s 259ms/step - loss: 1.2802 - accuracy: 0.4765 - val_loss: 1.2641 - val_accuracy: 0.4765\n",
            "Epoch 6/8\n",
            "93/93 [==============================] - 26s 276ms/step - loss: 1.2851 - accuracy: 0.4762 - val_loss: 1.2664 - val_accuracy: 0.4765\n",
            "Epoch 7/8\n",
            "93/93 [==============================] - 27s 294ms/step - loss: 1.2803 - accuracy: 0.4762 - val_loss: 1.2598 - val_accuracy: 0.4765\n",
            "Epoch 8/8\n",
            "93/93 [==============================] - 24s 254ms/step - loss: 1.2796 - accuracy: 0.4762 - val_loss: 1.2605 - val_accuracy: 0.4765\n",
            "Epoch 1/8\n",
            "93/93 [==============================] - 28s 281ms/step - loss: 3.1027 - accuracy: 0.4549 - val_loss: 1.5339 - val_accuracy: 0.4765\n",
            "Epoch 2/8\n",
            "93/93 [==============================] - 29s 315ms/step - loss: 1.4218 - accuracy: 0.4738 - val_loss: 1.3226 - val_accuracy: 0.4765\n",
            "Epoch 3/8\n",
            "93/93 [==============================] - 28s 297ms/step - loss: 1.3237 - accuracy: 0.4758 - val_loss: 1.2783 - val_accuracy: 0.4765\n",
            "Epoch 4/8\n",
            "93/93 [==============================] - 24s 257ms/step - loss: 1.2919 - accuracy: 0.4762 - val_loss: 1.2714 - val_accuracy: 0.4765\n",
            "Epoch 5/8\n",
            "93/93 [==============================] - 26s 274ms/step - loss: 1.2815 - accuracy: 0.4762 - val_loss: 1.2630 - val_accuracy: 0.4765\n",
            "Epoch 6/8\n",
            "93/93 [==============================] - 27s 295ms/step - loss: 1.2760 - accuracy: 0.4762 - val_loss: 1.2604 - val_accuracy: 0.4765\n",
            "Epoch 7/8\n",
            "93/93 [==============================] - 27s 288ms/step - loss: 1.2756 - accuracy: 0.4762 - val_loss: 1.2589 - val_accuracy: 0.4765\n",
            "Epoch 8/8\n",
            "93/93 [==============================] - 30s 327ms/step - loss: 1.2770 - accuracy: 0.4762 - val_loss: 1.2588 - val_accuracy: 0.4765\n"
          ]
        }
      ]
    },
    {
      "cell_type": "code",
      "source": [
        "# evaluate the model performance\n",
        "train_accuracy_VGG3_shape_tuning = history_VGG3_shape_tuning.history['accuracy'][-1]\n",
        "train_loss_VGG3_shape_tuning = history_VGG3_shape_tuning.history['loss'][-1]  # Retrieve the last training loss\n",
        "val_accuracy_VGG3_shape_tuning = history_VGG3_shape_tuning.history['val_accuracy'][-1]\n",
        "val_loss_VGG3_shape_tuning = history_VGG3_shape_tuning.history['val_loss'][-1]  # Retrieve the last validation loss\n",
        "test_loss_VGG3_shape_tuning, test_accuracy_VGG3_shape_tuning = model_VGG3_shape_tuning.evaluate(test_generator_shape, verbose=0)\n",
        "\n",
        "print(f\"reg_lambda = {reg_lambda}, train_loss = {train_loss_VGG2_shape}, train_accuracy = {train_accuracy_VGG2_shape}, val_loss = {val_loss_VGG2_shape}, val_accuracy = {val_accuracy_VGG2_shape}, test_accuracy = {test_accuracy_VGG2_shape}\\n\")\n",
        "\n",
        "# Update the best performance and regularization lambda\n",
        "if val_accuracy_VGG3_shape_tuning > best_performance:\n",
        "  best_performance = val_accuracy_VGG3_shape_tuning\n",
        "  best_reg_lambda = reg_lambda\n",
        "  model_train_acc = train_accuracy_VGG3_shape_tuning\n",
        "  model_test_acc = test_accuracy_VGG3_shape_tuning"
      ],
      "metadata": {
        "id": "GTEgmZWPqL_J",
        "outputId": "a857345c-da39-466f-bad4-0a7f306a8376",
        "colab": {
          "base_uri": "https://localhost:8080/"
        }
      },
      "execution_count": 60,
      "outputs": [
        {
          "output_type": "stream",
          "name": "stdout",
          "text": [
            "reg_lambda = 0.02, train_loss = 0.36578789353370667, train_accuracy = 0.9479202032089233, val_loss = 0.41871923208236694, val_accuracy = 0.9277978539466858, test_accuracy = 0.9308510422706604\n",
            "\n"
          ]
        }
      ]
    },
    {
      "cell_type": "code",
      "source": [
        "print(f\"Best model performance:\")\n",
        "print(f\"Best regularization lambda: {best_reg_lambda} based on validation accuracy: {best_performance} \\nwhere train_accuracy: {model_train_acc} and test accuracy: {model_test_acc}\")"
      ],
      "metadata": {
        "id": "dhqtLDGWqMCX",
        "outputId": "f79ef0f5-41c0-4809-832a-3f7c66a03497",
        "colab": {
          "base_uri": "https://localhost:8080/"
        }
      },
      "execution_count": 61,
      "outputs": [
        {
          "output_type": "stream",
          "name": "stdout",
          "text": [
            "Best model performance:\n",
            "Best regularization lambda: 0.02 based on validation accuracy: 0.47653430700302124 \n",
            "where train_accuracy: 0.4761582612991333 and test accuracy: 0.4680851101875305\n"
          ]
        }
      ]
    },
    {
      "cell_type": "code",
      "source": [
        "plot_learning_curve(history_VGG3_shape_tuning.history['loss'], history_VGG3_shape_tuning.history['val_loss'],\n",
        "                    history_VGG3_shape_tuning.history['accuracy'], history_VGG3_shape_tuning.history['val_accuracy'],\n",
        "                    metric_name='Accuracy')"
      ],
      "metadata": {
        "id": "L4vav80GqMFW",
        "outputId": "edd99890-7c9e-422e-e05a-e1cddc8d5781",
        "colab": {
          "base_uri": "https://localhost:8080/",
          "height": 420
        }
      },
      "execution_count": 62,
      "outputs": [
        {
          "output_type": "display_data",
          "data": {
            "text/plain": [
              "<Figure size 1000x500 with 2 Axes>"
            ],
            "image/png": "[encoded data removed]"
          },
          "metadata": {}
        }
      ]
    },
    {
      "cell_type": "code",
      "source": [
        "dropout_rate = 0.02"
      ],
      "metadata": {
        "id": "Y4JqGDvVynw6"
      },
      "execution_count": 63,
      "outputs": []
    },
    {
      "cell_type": "code",
      "source": [
        "# A full model performance evaluation of `model_VGG3` based on test data:\n",
        "from keras.layers import Conv2D, MaxPooling2D, Flatten, Dense, Dropout, BatchNormalization\n",
        "\n",
        "reg_lambda = 0.002\n",
        "dropout_rate = 0.02\n",
        "\n",
        "model_VGG3_shape = tf.keras.Sequential([\n",
        "    #VGG block 1\n",
        "    tf.keras.layers.Conv2D(32, (3, 3), activation='relu', padding='same',\n",
        "                           kernel_regularizer=tf.keras.regularizers.l2(reg_lambda), input_shape=(28, 28, 1)),\n",
        "    tf.keras.layers.Conv2D(32, (3, 3), activation='relu', padding='same',\n",
        "                           kernel_regularizer=tf.keras.regularizers.l2(reg_lambda)),\n",
        "    tf.keras.layers.MaxPooling2D((2, 2)),\n",
        "\n",
        "    #VGG block 2\n",
        "    tf.keras.layers.Conv2D(64, (3, 3), activation='relu', padding='same',\n",
        "                           kernel_regularizer=tf.keras.regularizers.l2(reg_lambda)),\n",
        "    tf.keras.layers.Conv2D(64, (3, 3), activation='relu', padding='same',\n",
        "                           kernel_regularizer=tf.keras.regularizers.l2(reg_lambda)),\n",
        "    tf.keras.layers.MaxPooling2D((2, 2)),\n",
        "\n",
        "    #VGG block 3\n",
        "    tf.keras.layers.Conv2D(128, (3, 3), activation='relu', padding='same',\n",
        "                           kernel_regularizer=tf.keras.regularizers.l2(reg_lambda)),\n",
        "    tf.keras.layers.Conv2D(128, (3, 3), activation='relu', padding='same',\n",
        "                           kernel_regularizer=tf.keras.regularizers.l2(reg_lambda)),\n",
        "    tf.keras.layers.MaxPooling2D((2, 2)),\n",
        "\n",
        "    # Dense Layers\n",
        "    tf.keras.layers.Flatten(),\n",
        "    tf.keras.layers.Dense(128, activation='relu'),\n",
        "    tf.keras.layers.Dropout(dropout_rate),\n",
        "    tf.keras.layers.Dense(OUTPUT_CLASSES_SHAPE),\n",
        "])\n",
        "\n",
        "# Train the model and evaluate its performance\n",
        "model_VGG3_shape.compile(optimizer='adam',\n",
        "                   loss=tf.keras.losses.CategoricalCrossentropy(from_logits=True),\n",
        "                   metrics=['accuracy'])\n",
        "\n",
        "history_VGG3_shape = model_VGG3_shape.fit(train_generator_shape, validation_data = validation_generator_shape, epochs=10, verbose=1)\n"
      ],
      "metadata": {
        "id": "dM4atG6Oyn1x",
        "outputId": "b45eef5e-d538-4794-c71b-ddb0f54874d4",
        "colab": {
          "base_uri": "https://localhost:8080/"
        }
      },
      "execution_count": 67,
      "outputs": [
        {
          "output_type": "stream",
          "name": "stdout",
          "text": [
            "Epoch 1/10\n",
            "93/93 [==============================] - 33s 308ms/step - loss: 1.2940 - accuracy: 0.6300 - val_loss: 0.6731 - val_accuracy: 0.8664\n",
            "Epoch 2/10\n",
            "93/93 [==============================] - 28s 298ms/step - loss: 0.4285 - accuracy: 0.9344 - val_loss: 0.3514 - val_accuracy: 0.9495\n",
            "Epoch 3/10\n",
            "93/93 [==============================] - 24s 253ms/step - loss: 0.2789 - accuracy: 0.9706 - val_loss: 0.2224 - val_accuracy: 0.9910\n",
            "Epoch 4/10\n",
            "93/93 [==============================] - 27s 291ms/step - loss: 0.2170 - accuracy: 0.9841 - val_loss: 0.1834 - val_accuracy: 0.9964\n",
            "Epoch 5/10\n",
            "93/93 [==============================] - 27s 292ms/step - loss: 0.1834 - accuracy: 0.9855 - val_loss: 0.1567 - val_accuracy: 0.9910\n",
            "Epoch 6/10\n",
            "93/93 [==============================] - 26s 276ms/step - loss: 0.1523 - accuracy: 0.9905 - val_loss: 0.1529 - val_accuracy: 0.9892\n",
            "Epoch 7/10\n",
            "93/93 [==============================] - 25s 268ms/step - loss: 0.1373 - accuracy: 0.9915 - val_loss: 0.1429 - val_accuracy: 0.9856\n",
            "Epoch 8/10\n",
            "93/93 [==============================] - 29s 306ms/step - loss: 0.1154 - accuracy: 0.9970 - val_loss: 0.1533 - val_accuracy: 0.9838\n",
            "Epoch 9/10\n",
            "93/93 [==============================] - 28s 305ms/step - loss: 0.1112 - accuracy: 0.9946 - val_loss: 0.1277 - val_accuracy: 0.9874\n",
            "Epoch 10/10\n",
            "93/93 [==============================] - 28s 299ms/step - loss: 0.1034 - accuracy: 0.9932 - val_loss: 0.1035 - val_accuracy: 0.9964\n"
          ]
        }
      ]
    },
    {
      "cell_type": "code",
      "source": [
        "plot_learning_curve(history_VGG3_shape.history['loss'], history_VGG3_shape.history['val_loss'],\n",
        "                    history_VGG3_shape.history['accuracy'], history_VGG3_shape.history['val_accuracy'],\n",
        "                    metric_name='Accuracy')"
      ],
      "metadata": {
        "id": "YpuhS9zvyn5s"
      },
      "execution_count": null,
      "outputs": []
    },
    {
      "cell_type": "code",
      "source": [
        "\n",
        "from sklearn.metrics import classification_report\n",
        "from sklearn.metrics import confusion_matrix, accuracy_score, f1_score\n",
        "\n",
        "y_hat_all = list()\n",
        "y_all = list()\n",
        "filenames = test_generator_shape.filenames\n",
        "N_images = len(filenames)\n",
        "batches = 0\n",
        "\n",
        "for x,y in test_generator_shape:\n",
        "        y_hat = model_VGG3_shape.predict(x, verbose=0)\n",
        "        y_hat = np.argmax(y_hat, axis = 1)\n",
        "        y = np.argmax(y, axis = 1)\n",
        "        y_hat_all = y_hat_all + y_hat.tolist()\n",
        "        y_all = y_all + y.tolist()\n",
        "\n",
        "        batches += 1\n",
        "        if batches >= N_images / batch_size:\n",
        "            break\n",
        "\n",
        "print(\"Evaluate the final performance of VGG3 model based on test data:\")\n",
        "print(\"Accuracy score: \", accuracy_score(y_all, y_hat_all))\n",
        "#print(\"F1 score: \", f1_score(y_all, y_hat_all, average='macro'))\n",
        "print(\"F1 score: \", f1_score(y_all, y_hat_all, average='macro', zero_division=1))\n",
        "print(confusion_matrix(y_all, y_hat_all))\n",
        "print(classification_report(y_all,y_hat_all))"
      ],
      "metadata": {
        "id": "7HdvJAFm4NuI"
      },
      "execution_count": null,
      "outputs": []
    },
    {
      "cell_type": "code",
      "source": [
        "# Parameter tuning for reducing model complexity\n",
        "reg_lambda = 0.002\n",
        "dropout_rate = 0.5\n",
        "\n",
        "# Define the range of neurons to test\n",
        "neurons_list = [32, 64, 128, 256, 512]\n",
        "\n",
        "best_performance = 0.0\n",
        "best_neurons = None\n",
        "model_test_acc = None\n",
        "model_train_acc = None\n",
        "\n",
        "for neurons in neurons_list:\n",
        "    model_VGG4_shape_tuning = tf.keras.Sequential([\n",
        "        tf.keras.layers.Conv2D(32, (3, 3), activation='relu', padding='same',\n",
        "                               kernel_regularizer=tf.keras.regularizers.l2(reg_lambda), input_shape=(27, 27, 3)),\n",
        "        tf.keras.layers.MaxPooling2D((2, 2)),\n",
        "\n",
        "        tf.keras.layers.Conv2D(64, (3, 3), activation='relu', padding='same',\n",
        "                               kernel_regularizer=tf.keras.regularizers.l2(reg_lambda)),\n",
        "        tf.keras.layers.MaxPooling2D((2, 2)),\n",
        "\n",
        "        tf.keras.layers.Conv2D(128, (3, 3), activation='relu', padding='same',\n",
        "                               kernel_regularizer=tf.keras.regularizers.l2(reg_lambda)),\n",
        "        tf.keras.layers.MaxPooling2D((2, 2)),\n",
        "\n",
        "        tf.keras.layers.Flatten(),\n",
        "        # reduce the number of neurons in the Dense layer\n",
        "        tf.keras.layers.Dense(neurons, activation='relu'),\n",
        "        tf.keras.layers.Dropout(dropout_rate),\n",
        "        tf.keras.layers.Dense(OUTPUT_CLASSES_SHAPE)\n",
        "    ])\n",
        "\n",
        "    # Compile the model\n",
        "    model_VGG4_shape_tuning.compile(optimizer='adam',\n",
        "                  loss=tf.keras.losses.CategoricalCrossentropy(from_logits=True),\n",
        "                  metrics=['accuracy'])\n",
        "\n",
        "    print(f\"Training model with {neurons} neurons.\")\n",
        "    # Train the model on the training data\n",
        "    history_VGG4_shape_tuning = model_VGG4_shape_tuning.fit(train_generator_shape, validation_data=validation_generator_shape, epochs=10, verbose=1)\n"
      ],
      "metadata": {
        "id": "E_PUnOtn4fCS"
      },
      "execution_count": null,
      "outputs": []
    },
    {
      "cell_type": "code",
      "source": [
        "# evaluate the model performance\n",
        "train_accuracy_VGG4_shape_tuning = history_VGG4_shape_tuning.history['accuracy'][-1]\n",
        "train_loss_VGG4_shape_tuning = history_VGG4_shape_tuning.history['loss'][-1]  # Retrieve the last training loss\n",
        "val_accuracy_VGG4_shape_tuning = history_VGG4_shape_tuning.history['val_accuracy'][-1]\n",
        "val_loss_VGG4_shape_tuning = history_VGG4_shape_tuning.history['val_loss'][-1]  # Retrieve the last validation loss\n",
        "test_loss_VGG4_shape_tuning, test_accuracy_VGG4_shape_tuning = model_VGG3_shape_tuning.evaluate(test_generator_shape, verbose=0)\n",
        "\n",
        "print(f\"neurons = {neurons}, train_loss = {train_loss_VGG4_shape_tuning}, train_accuracy = {train_accuracy_VGG4_shape_tuning}, val_loss = {val_loss_VGG4_shape_tuning}, val_accuracy = {val_accuracy_VGG4_shape_tuning}, test_accuracy = {test_accuracy_VGG4_shape_tuning}\\n\")\n",
        "\n",
        "# Update the best performance and regularization lambda\n",
        "if val_accuracy_VGG4_shape_tuning > best_performance:\n",
        "  best_performance = val_accuracy_VGG4_shape_tuning\n",
        "  best_reg_lambda = reg_lambda\n",
        "  model_train_acc = train_accuracy_VGG4_shape_tuning\n",
        "  model_test_acc = test_accuracy_VGG4_shape_tuning"
      ],
      "metadata": {
        "id": "HKOcFfNu5HT4"
      },
      "execution_count": null,
      "outputs": []
    },
    {
      "cell_type": "code",
      "source": [
        "# Print the best accuracy and the corresponding number of neurons\n",
        "print(f\"Best model performance:\")\n",
        "print(f\"Best number of neurons: {best_neurons} based on validation accuracy: {best_performance} \\nwhere train_accuracy: {train_accuracy_VGG4_shape_tuning} and test accuracy: {test_accuracy_VGG4_shape_tuning} \\nregularization lambda: {reg_lambda} and dropout rate: {dropout_rate}\")"
      ],
      "metadata": {
        "id": "gFO2nRU55vgh"
      },
      "execution_count": null,
      "outputs": []
    },
    {
      "cell_type": "code",
      "source": [
        "plot_learning_curve(history_VGG4_shape_tuning.history['loss'], history_VGG4_shape_tuning.history['val_loss'],\n",
        "                    history_VGG4_shape_tuning.history['accuracy'], history_VGG4_shape_tuning.history['val_accuracy'],\n",
        "                    metric_name='Accuracy')"
      ],
      "metadata": {
        "id": "IMqWsqrP5vim"
      },
      "execution_count": null,
      "outputs": []
    },
    {
      "cell_type": "code",
      "source": [],
      "metadata": {
        "id": "1FCdSloZ5vlX"
      },
      "execution_count": null,
      "outputs": []
    },
    {
      "cell_type": "markdown",
      "source": [
        "## **Normalization**"
      ],
      "metadata": {
        "id": "DpCUmQyXkydG"
      }
    },
    {
      "cell_type": "markdown",
      "source": [
        "Updated Model with L2 Regularization, Dropout, and Batch Normalization.\n",
        "\n",
        "- **L2 Regularization:** Apply to\n",
        "convolutional and dense layers.\n",
        "\n",
        "- **Dropout:** Add after each max pooling and dense layer.\n",
        "\n",
        "- **Batch Normalization:** Add after each convolutional layer.\n"
      ],
      "metadata": {
        "id": "z8DupoGtkYpD"
      }
    },
    {
      "cell_type": "code",
      "source": [
        "from keras import regularizers\n",
        "from keras.models import Sequential\n",
        "from keras.layers import Conv2D, MaxPooling2D, Flatten, Dense, Dropout, BatchNormalization\n",
        "\n",
        "# Define the regularization parameter\n",
        "sample_lambda = 0.01\n",
        "\n",
        "\n",
        "\n",
        "# Define the CNN model with regularization for shape classification\n",
        "model_cnn_shape_reg = Sequential()\n",
        "model_cnn_shape_reg.add(Conv2D(32, kernel_size=(3, 3), activation='relu',\n",
        "                                kernel_regularizer=regularizers.l2(sample_lambda),\n",
        "                                input_shape=INPUT_DIM))\n",
        "model_cnn_shape_reg.add(BatchNormalization())\n",
        "model_cnn_shape_reg.add(Dropout(0.25))\n",
        "model_cnn_shape_reg.add(MaxPooling2D(pool_size=(2, 2)))\n",
        "\n",
        "model_cnn_shape_reg.add(Conv2D(64, kernel_size=(3, 3), activation='relu',\n",
        "                                kernel_regularizer=regularizers.l2(sample_lambda)))\n",
        "model_cnn_shape_reg.add(BatchNormalization())\n",
        "model_cnn_shape_reg.add(Dropout(0.25))\n",
        "model_cnn_shape_reg.add(MaxPooling2D(pool_size=(2, 2)))\n",
        "\n",
        "model_cnn_shape_reg.add(Conv2D(128, kernel_size=(3, 3), activation='relu',\n",
        "                                kernel_regularizer=regularizers.l2(sample_lambda)))\n",
        "model_cnn_shape_reg.add(BatchNormalization())\n",
        "model_cnn_shape_reg.add(Dropout(0.4))\n",
        "model_cnn_shape_reg.add(MaxPooling2D(pool_size=(2, 2)))\n",
        "\n",
        "model_cnn_shape_reg.add(Flatten())\n",
        "model_cnn_shape_reg.add(Dense(128, activation='relu',\n",
        "                              kernel_regularizer=regularizers.l2(sample_lambda)))\n",
        "model_cnn_shape_reg.add(BatchNormalization())\n",
        "model_cnn_shape_reg.add(Dropout(0.3))\n",
        "model_cnn_shape_reg.add(Dense(OUTPUT_CLASSES_SHAPE, activation='softmax'))\n",
        "\n",
        "model_cnn_shape_reg.compile(loss='categorical_crossentropy', optimizer='adam', metrics=['accuracy'])\n"
      ],
      "metadata": {
        "id": "CVADW1o4RxOt"
      },
      "execution_count": 160,
      "outputs": []
    },
    {
      "cell_type": "code",
      "source": [
        "history_CNN_shape_reg = model_cnn_shape_reg.fit(train_generator_shape, validation_data = validation_generator_shape, epochs=10, verbose=1)"
      ],
      "metadata": {
        "id": "mvsmB4HgRxIm",
        "outputId": "757be627-385d-48c9-e954-d569612f243d",
        "colab": {
          "base_uri": "https://localhost:8080/"
        }
      },
      "execution_count": 161,
      "outputs": [
        {
          "output_type": "stream",
          "name": "stdout",
          "text": [
            "Epoch 1/10\n",
            "93/93 [==============================] - 31s 288ms/step - loss: 3.3321 - accuracy: 0.6642 - val_loss: 3.5929 - val_accuracy: 0.4765\n",
            "Epoch 2/10\n",
            "93/93 [==============================] - 26s 280ms/step - loss: 2.3081 - accuracy: 0.8989 - val_loss: 3.3528 - val_accuracy: 0.4765\n",
            "Epoch 3/10\n",
            "93/93 [==============================] - 23s 247ms/step - loss: 1.8175 - accuracy: 0.9425 - val_loss: 3.4618 - val_accuracy: 0.4765\n",
            "Epoch 4/10\n",
            "93/93 [==============================] - 21s 225ms/step - loss: 1.4294 - accuracy: 0.9601 - val_loss: 2.2200 - val_accuracy: 0.5848\n",
            "Epoch 5/10\n",
            "93/93 [==============================] - 25s 265ms/step - loss: 1.1403 - accuracy: 0.9662 - val_loss: 1.6297 - val_accuracy: 0.7256\n",
            "Epoch 6/10\n",
            "93/93 [==============================] - 27s 286ms/step - loss: 0.9552 - accuracy: 0.9655 - val_loss: 0.8770 - val_accuracy: 0.9729\n",
            "Epoch 7/10\n",
            "93/93 [==============================] - 24s 253ms/step - loss: 0.7682 - accuracy: 0.9790 - val_loss: 0.7323 - val_accuracy: 0.9711\n",
            "Epoch 8/10\n",
            "93/93 [==============================] - 22s 231ms/step - loss: 0.6623 - accuracy: 0.9794 - val_loss: 0.6610 - val_accuracy: 0.9567\n",
            "Epoch 9/10\n",
            "93/93 [==============================] - 15s 164ms/step - loss: 0.6021 - accuracy: 0.9757 - val_loss: 0.6723 - val_accuracy: 0.9350\n",
            "Epoch 10/10\n",
            "93/93 [==============================] - 16s 171ms/step - loss: 0.5223 - accuracy: 0.9800 - val_loss: 0.5276 - val_accuracy: 0.9675\n"
          ]
        }
      ]
    },
    {
      "cell_type": "code",
      "source": [
        "plot_learning_curve(history_CNN_shape_reg.history['loss'], history_CNN_shape_reg.history['accuracy'],\n",
        "                    history_CNN_shape_reg.history['val_loss'], history_CNN_shape_reg.history['val_accuracy'],\n",
        "                    metric_name='Accuracy')"
      ],
      "metadata": {
        "id": "w3wwBj5hmcRo",
        "outputId": "548939ce-657d-45ff-a56e-62e638cb12d7",
        "colab": {
          "base_uri": "https://localhost:8080/",
          "height": 424
        }
      },
      "execution_count": 162,
      "outputs": [
        {
          "output_type": "display_data",
          "data": {
            "text/plain": [
              "<Figure size 1000x500 with 2 Axes>"
            ],
            "image/png": "[encoded data removed]"
          },
          "metadata": {}
        }
      ]
    },
    {
      "cell_type": "code",
      "source": [
        "# Evaluate the model on the training data\n",
        "train_loss_CNN_shape_reg, train_accuracy_CNN_shape_reg = model_cnn_shape_reg.evaluate(train_generator_shape)\n",
        "print(\"Training Data for Shapes - Loss: {:.4f}, Accuracy: {:.4f}\".format(train_loss_CNN_shape_reg, train_accuracy_CNN_shape_reg))\n",
        "\n",
        "# Evaluate the model on the validation data\n",
        "val_loss_CNN_shape_reg, val_accuracy_CNN_shape_reg = model_cnn_shape_reg.evaluate(validation_generator_shape)\n",
        "print(\"Validation Data for Shapes - Loss: {:.4f}, Accuracy: {:.4f}\".format(val_loss_CNN_shape_reg, val_accuracy_CNN_shape_reg))\n",
        "\n",
        "# Evaluate the model on the testing data\n",
        "test_loss_CNN_shape_reg, test_accuracy_CNN_shape_reg = model_cnn_shape_reg.evaluate(test_generator_shape)\n",
        "print(\"Testing Data for Shapes - Loss: {:.4f}, Accuracy: {:.4f}\".format(test_loss_CNN_shape_reg, test_accuracy_CNN_shape_reg))\n"
      ],
      "metadata": {
        "id": "Nz4TpRxnmy3g",
        "outputId": "695c173b-e9b5-48a4-e944-1ba1072b4ca3",
        "colab": {
          "base_uri": "https://localhost:8080/"
        }
      },
      "execution_count": 164,
      "outputs": [
        {
          "output_type": "stream",
          "name": "stdout",
          "text": [
            "93/93 [==============================] - 18s 192ms/step - loss: 0.5152 - accuracy: 0.9740\n",
            "Training Data for Shapes - Loss: 0.5152, Accuracy: 0.9740\n",
            "18/18 [==============================] - 2s 125ms/step - loss: 0.5276 - accuracy: 0.9675\n",
            "Validation Data for Shapes - Loss: 0.5276, Accuracy: 0.9675\n",
            "6/6 [==============================] - 1s 112ms/step - loss: 0.5203 - accuracy: 0.9628\n",
            "Testing Data for Shapes - Loss: 0.5203, Accuracy: 0.9628\n"
          ]
        }
      ]
    },
    {
      "cell_type": "code",
      "source": [
        "model_result(train_generator_shape, validation_generator_shape, history_CNN_shape_reg)"
      ],
      "metadata": {
        "id": "2D4ryPUKmoD4"
      },
      "execution_count": null,
      "outputs": []
    },
    {
      "cell_type": "markdown",
      "source": [
        "# **Data Augmentation**"
      ],
      "metadata": {
        "id": "iqGFo7fjFXPM"
      }
    },
    {
      "cell_type": "code",
      "source": [],
      "metadata": {
        "id": "8tZaBEJPmcTz"
      },
      "execution_count": null,
      "outputs": []
    },
    {
      "cell_type": "markdown",
      "source": [
        "**Recognizing the imbalance in our data, we plan to explore whether supplementing the smaller classes with augmented data can enhance the accuracy of our model. In this section, we will establish new folders to house the augmented datasets derived from the original training data.**"
      ],
      "metadata": {
        "id": "OQOAViPJF2m3"
      }
    },
    {
      "cell_type": "code",
      "source": [
        "# Determine the maximum count in any single category\n",
        "max_count = max([len(group) for label, group in shape_groups])\n",
        "\n",
        "# Calculate augmentation needs for each category\n",
        "augment_needs = {}\n",
        "for label, group in shape_groups:\n",
        "    current_count = len(group)\n",
        "    augment_needs[label] = max(0, max_count - current_count)  # Only augment if needed\n"
      ],
      "metadata": {
        "id": "IUEVWMsAx0Bv"
      },
      "execution_count": 145,
      "outputs": []
    },
    {
      "cell_type": "code",
      "source": [
        "max_count"
      ],
      "metadata": {
        "id": "shCu0CGrLtRb",
        "outputId": "34f50a0f-7fd6-4c4c-e829-934e41a0e728",
        "colab": {
          "base_uri": "https://localhost:8080/"
        }
      },
      "execution_count": 146,
      "outputs": [
        {
          "output_type": "execute_result",
          "data": {
            "text/plain": [
              "1760"
            ]
          },
          "metadata": {},
          "execution_count": 146
        }
      ]
    },
    {
      "cell_type": "code",
      "source": [
        "from tensorflow.keras.preprocessing.image import ImageDataGenerator\n",
        "import cv2\n",
        "import numpy as np\n",
        "\n",
        "# Initialize the ImageDataGenerator with transformations\n",
        "datagen = ImageDataGenerator(\n",
        "    rotation_range=20,\n",
        "    width_shift_range=0.1,\n",
        "    height_shift_range=0.1,\n",
        "    horizontal_flip=True,\n",
        "    vertical_flip=True,\n",
        "    zoom_range=0.1,\n",
        "    fill_mode='nearest'\n",
        ")\n",
        "\n",
        "# Augment the images based on their needs\n",
        "augmented_images = []\n",
        "for label, group in shape_groups:\n",
        "    images = [cv2.imread(path, cv2.IMREAD_GRAYSCALE) for path in group['image_path']]\n",
        "    num_to_augment = augment_needs[label]\n",
        "    augmented_count = 0\n",
        "\n",
        "    for img in images:\n",
        "        if augmented_count >= num_to_augment:\n",
        "            break\n",
        "        img = cv2.resize(img, (28, 28))\n",
        "        img = img.reshape(1, 28, 28, 1)  # Reshape to fit the ImageDataGenerator requirements\n",
        "        aug_iter = datagen.flow(img, batch_size=1)\n",
        "\n",
        "        for _ in range(5):  # Generate multiple augmented images from each original image\n",
        "            aug_img = next(aug_iter)[0]\n",
        "            augmented_images.append(aug_img)\n",
        "            augmented_count += 1\n",
        "            if augmented_count >= num_to_augment:\n",
        "                break\n"
      ],
      "metadata": {
        "id": "TOm9tueVtqKV"
      },
      "execution_count": 147,
      "outputs": []
    },
    {
      "cell_type": "code",
      "source": [
        "# Initialize shape_counts for both 'original' and 'augmented'\n",
        "shape_counts = {label: {'original': 0, 'augmented': 0} for label in shape_groups.groups.keys()}\n",
        "# Split each shape group into training and testing sets and update counts\n",
        "for label, group in shape_groups:\n",
        "    X_train, X_test, y_train, y_test = train_test_split(\n",
        "        group['image_path'], group['encoded_shape_label'], test_size=0.2, stratify=group['shape_label'])\n",
        "    shape_counts[label]['original'] += len(X_train)  # Update original count with the number of training images\n",
        "    print(f\"Shape group label: {label}, Train: {len(X_train)}, Test: {len(X_test)}\")\n",
        "# Assuming you track augmented images correctly\n",
        "for label, group in shape_groups:\n",
        "    # Simulate augmenting images\n",
        "    num_augments = 5 * len(X_train)  # Assuming you augment each image 5 times\n",
        "    shape_counts[label]['augmented'] += num_augments  # Update augmented count\n",
        "# Plotting the distribution of images for shapes\n",
        "labels, original_counts, augmented_counts = zip(*[\n",
        "    (label, counts['original'], counts['augmented']) for label, counts in shape_counts.items()\n",
        "])\n",
        "\n",
        "indexes = np.arange(len(labels))\n",
        "width = 0.35\n",
        "\n",
        "plt.bar(indexes, original_counts, width, label='Original')\n",
        "plt.bar(indexes + width, augmented_counts, width, label='Augmented', color='red')\n",
        "\n",
        "plt.ylabel('Number of Images')\n",
        "plt.title('Number of Images by Shape Before and After Augmentation')\n",
        "plt.xticks(indexes + width / 2, labels, rotation='vertical')\n",
        "plt.legend()\n",
        "plt.show()\n"
      ],
      "metadata": {
        "id": "ydDUFgaZx5Tc",
        "outputId": "172835ba-0c81-419a-cf17-dc44f4e79a35",
        "colab": {
          "base_uri": "https://localhost:8080/",
          "height": 588
        }
      },
      "execution_count": 148,
      "outputs": [
        {
          "output_type": "stream",
          "name": "stdout",
          "text": [
            "Shape group label: diamond, Train: 225, Test: 57\n",
            "Shape group label: hex, Train: 34, Test: 9\n",
            "Shape group label: round, Train: 1408, Test: 352\n",
            "Shape group label: square, Train: 550, Test: 138\n",
            "Shape group label: triangle, Train: 740, Test: 186\n"
          ]
        },
        {
          "output_type": "display_data",
          "data": {
            "text/plain": [
              "<Figure size 640x480 with 1 Axes>"
            ],
            "image/png": "[encoded data removed]"
          },
          "metadata": {}
        }
      ]
    },
    {
      "cell_type": "markdown",
      "source": [
        "**Observations:**\n",
        "\n",
        "- After applying augmentation, the number of images in each shape category is now balanced.\n",
        "- This augmentation approach can potentially improve the performance of a machine-learning model trained on this data by providing more representative data for each shape class."
      ],
      "metadata": {
        "id": "McXR6ken0CaC"
      }
    },
    {
      "cell_type": "code",
      "source": [
        "# Initialize type_counts for both 'original' and 'augmented'\n",
        "type_counts = {label: {'original': 0, 'augmented': 0} for label in type_groups.groups.keys()}\n",
        "# Split each type group into training and testing sets and update counts\n",
        "for label, group in type_groups:\n",
        "    X_train, X_test, y_train, y_test = train_test_split(\n",
        "        group['image_path'], group['encoded_type_label'], test_size=0.2, stratify=group['type_label'])\n",
        "    type_counts[label]['original'] += len(X_train)  # Update original count with the number of training images\n",
        "    print(f\"type group label: {label}, Train: {len(X_train)}, Test: {len(X_test)}\")\n",
        "# Assuming you track augmented images correctly\n",
        "for label, group in type_groups:\n",
        "    # Simulate augmenting images\n",
        "    num_augments = 5 * len(X_train)  # Assuming you augment each image 5 times\n",
        "    type_counts[label]['augmented'] += num_augments  # Update augmented count\n",
        "# Plotting the distribution of images for shapes\n",
        "labels, original_counts, augmented_counts = zip(*[\n",
        "    (label, counts['original'], counts['augmented']) for label, counts in type_counts.items()\n",
        "])\n",
        "\n",
        "indexes = np.arange(len(labels))\n",
        "width = 0.35\n",
        "\n",
        "plt.bar(indexes, original_counts, width, label='Original')\n",
        "plt.bar(indexes + width, augmented_counts, width, label='Augmented', color='red')\n",
        "\n",
        "plt.ylabel('Number of Images')\n",
        "plt.title('Number of Images by Type Before and After Augmentation')\n",
        "plt.xticks(indexes + width / 2, labels, rotation='vertical')\n",
        "plt.legend()\n",
        "plt.show()"
      ],
      "metadata": {
        "id": "PIdlVom740Jc",
        "outputId": "db0e8665-3a87-4809-ade6-7ab6e766f94d",
        "colab": {
          "base_uri": "https://localhost:8080/",
          "height": 826
        }
      },
      "execution_count": 149,
      "outputs": [
        {
          "output_type": "stream",
          "name": "stdout",
          "text": [
            "type group label: bicycle, Train: 228, Test: 57\n",
            "type group label: continue, Train: 159, Test: 40\n",
            "type group label: crossing, Train: 76, Test: 19\n",
            "type group label: giveway, Train: 184, Test: 47\n",
            "type group label: laneend, Train: 94, Test: 24\n",
            "type group label: limitedtraffic, Train: 100, Test: 25\n",
            "type group label: noentry, Train: 300, Test: 75\n",
            "type group label: noparking, Train: 193, Test: 49\n",
            "type group label: parking, Train: 220, Test: 56\n",
            "type group label: rightofway, Train: 225, Test: 57\n",
            "type group label: roundabout, Train: 78, Test: 20\n",
            "type group label: speed, Train: 252, Test: 64\n",
            "type group label: stop, Train: 34, Test: 9\n",
            "type group label: trafficdirective, Train: 156, Test: 39\n",
            "type group label: traveldirection, Train: 99, Test: 25\n",
            "type group label: warning, Train: 556, Test: 139\n"
          ]
        },
        {
          "output_type": "display_data",
          "data": {
            "text/plain": [
              "<Figure size 640x480 with 1 Axes>"
            ],
            "image/png": "[encoded data removed]"
          },
          "metadata": {}
        }
      ]
    },
    {
      "cell_type": "markdown",
      "source": [
        "**Observations:**\n",
        "\n",
        "- After applying augmentation, the number of images in each type category is now more balanced.\n",
        "- This augmentation approach can potentially improve the performance of a\n",
        "machine-learning model trained on this data by providing more representative data for each type class.\n"
      ],
      "metadata": {
        "id": "vAlEltc-5vRp"
      }
    },
    {
      "cell_type": "code",
      "source": [],
      "metadata": {
        "id": "dGOmlylnk562"
      },
      "execution_count": 149,
      "outputs": []
    },
    {
      "cell_type": "markdown",
      "source": [
        "Regularization"
      ],
      "metadata": {
        "id": "kdBBjPSVoSDn"
      }
    },
    {
      "cell_type": "code",
      "source": [],
      "metadata": {
        "id": "9acaf6GWaqzf"
      },
      "execution_count": 149,
      "outputs": []
    },
    {
      "cell_type": "code",
      "source": [],
      "metadata": {
        "id": "FFTL3Kzoaqn0"
      },
      "execution_count": 149,
      "outputs": []
    },
    {
      "cell_type": "markdown",
      "source": [
        "Drop out"
      ],
      "metadata": {
        "id": "yzRpDt0CoZf_"
      }
    },
    {
      "cell_type": "code",
      "source": [],
      "metadata": {
        "id": "bNYI5W49aqUe"
      },
      "execution_count": 149,
      "outputs": []
    },
    {
      "cell_type": "code",
      "source": [],
      "metadata": {
        "id": "OmXe-71CceMk"
      },
      "execution_count": 149,
      "outputs": []
    },
    {
      "cell_type": "code",
      "source": [],
      "metadata": {
        "id": "JSK-N-1tdJTm"
      },
      "execution_count": 149,
      "outputs": []
    },
    {
      "cell_type": "code",
      "source": [],
      "metadata": {
        "id": "VKDDZNL4dJJk"
      },
      "execution_count": 149,
      "outputs": []
    }
  ]
}