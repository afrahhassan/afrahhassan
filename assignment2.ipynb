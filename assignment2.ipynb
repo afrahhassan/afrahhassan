{
  "nbformat": 4,
  "nbformat_minor": 0,
  "metadata": {
    "colab": {
      "provenance": [],
      "toc_visible": true,
      "authorship_tag": "ABX9TyMkA3BdLnP8ik/avS4sIgfS",
      "include_colab_link": true
    },
    "kernelspec": {
      "name": "python3",
      "display_name": "Python 3"
    },
    "language_info": {
      "name": "python"
    }
  },
  "cells": [
    {
      "cell_type": "markdown",
      "metadata": {
        "id": "view-in-github",
        "colab_type": "text"
      },
      "source": [
        "<a href=\"https://colab.research.google.com/github/afrahhassan/afrahhassan/blob/main/assignment2.ipynb\" target=\"_parent\"><img src=\"https://colab.research.google.com/assets/colab-badge.svg\" alt=\"Open In Colab\"/></a>"
      ]
    },
    {
      "cell_type": "markdown",
      "source": [
        "# **Reading Data**"
      ],
      "metadata": {
        "id": "9PmzuCjISE7S"
      }
    },
    {
      "cell_type": "code",
      "source": [
        "from google.colab import drive\n",
        "drive.mount('/content/drive')"
      ],
      "metadata": {
        "colab": {
          "base_uri": "https://localhost:8080/"
        },
        "id": "Pr1U8kyVO1GI",
        "outputId": "fa1a5d3a-45a8-4857-c5e6-ecf5373473d4"
      },
      "execution_count": null,
      "outputs": [
        {
          "output_type": "stream",
          "name": "stdout",
          "text": [
            "Mounted at /content/drive\n"
          ]
        }
      ]
    },
    {
      "cell_type": "code",
      "source": [
        "\n",
        "# share link or share drive\n",
        "!wget -O file_name.txt \"https://drive.google.com/file/d/1UttAo3Ml9KyWkMybABFRy_im0GdTgi7Q/view?usp=sharing\""
      ],
      "metadata": {
        "colab": {
          "base_uri": "https://localhost:8080/"
        },
        "id": "gw0AO4ZbHTla",
        "outputId": "e8dad2c9-0cfc-402b-bb19-d151dab908f0"
      },
      "execution_count": 5,
      "outputs": [
        {
          "output_type": "stream",
          "name": "stdout",
          "text": [
            "--2024-04-28 05:15:02--  https://drive.google.com/file/d/1UttAo3Ml9KyWkMybABFRy_im0GdTgi7Q/view?usp=sharing\n",
            "Resolving drive.google.com (drive.google.com)... 142.251.8.100, 142.251.8.139, 142.251.8.113, ...\n",
            "Connecting to drive.google.com (drive.google.com)|142.251.8.100|:443... connected.\n",
            "HTTP request sent, awaiting response... 200 OK\n",
            "Length: unspecified [text/html]\n",
            "Saving to: ‘file_name.txt’\n",
            "\n",
            "file_name.txt           [ <=>                ]  83.64K  --.-KB/s    in 0.03s   \n",
            "\n",
            "2024-04-28 05:15:03 (2.98 MB/s) - ‘file_name.txt’ saved [85647]\n",
            "\n"
          ]
        }
      ]
    },
    {
      "cell_type": "code",
      "source": [
        "!cp \"/content/drive/MyDrive/ML/Assignment2\" ."
      ],
      "metadata": {
        "colab": {
          "base_uri": "https://localhost:8080/"
        },
        "id": "EjuFGZi-TWzC",
        "outputId": "45086714-b0c8-47b2-b9af-9b6074a52d91"
      },
      "execution_count": null,
      "outputs": [
        {
          "output_type": "stream",
          "name": "stdout",
          "text": [
            "cp: -r not specified; omitting directory '/content/drive/MyDrive/ML/Assignment2'\n"
          ]
        }
      ]
    },
    {
      "cell_type": "code",
      "source": [],
      "metadata": {
        "id": "4yKW5xL9ITmS"
      },
      "execution_count": null,
      "outputs": []
    },
    {
      "cell_type": "code",
      "source": [
        "!cp -r \"/content/drive/MyDrive/ML/Assignment2\" ."
      ],
      "metadata": {
        "id": "F-52jr_lY2sU",
        "colab": {
          "base_uri": "https://localhost:8080/"
        },
        "outputId": "91064481-0eed-47d0-cb26-c870873536af"
      },
      "execution_count": null,
      "outputs": [
        {
          "output_type": "stream",
          "name": "stdout",
          "text": [
            "cp: cannot open '/content/drive/MyDrive/ML/Assignment2/images.gsheet' for reading: Operation not supported\n"
          ]
        }
      ]
    },
    {
      "cell_type": "code",
      "source": [
        "import zipfile\n",
        "zip_file_path = '/content/drive/My Drive/ML/Assignment2/trafficsigns_dataset.zip'\n",
        "extract_to_path = '/content/trafficsigns_dataset'\n",
        "with zipfile.ZipFile(zip_file_path, 'r') as zip_ref:\n",
        "    zip_ref.extractall(extract_to_path)\n",
        "print(\"Extraction completed!\")"
      ],
      "metadata": {
        "colab": {
          "base_uri": "https://localhost:8080/"
        },
        "id": "yPTRZMWnYJeA",
        "outputId": "97d0d50b-ea69-44b0-bcf9-424fb1b63001"
      },
      "execution_count": null,
      "outputs": [
        {
          "output_type": "stream",
          "name": "stdout",
          "text": [
            "Extraction completed!\n"
          ]
        }
      ]
    },
    {
      "cell_type": "code",
      "source": [
        "import os\n",
        "import csv\n",
        "\n",
        "root_dir = '/content/trafficsigns_dataset'\n",
        "\n",
        "output_csv = '/content/drive/My Drive/ML/Assignment2/images.csv'\n",
        "\n",
        "with open(output_csv, mode='w', newline='') as file:\n",
        "    writer = csv.writer(file)\n",
        "    writer.writerow(['image_path', 'class'])\n",
        "\n",
        "    for root, dirs, files in os.walk(root_dir):\n",
        "        for file in files:\n",
        "            if file.endswith(('.png', '.jpg', '.jpeg')):\n",
        "                full_path = os.path.join(root, file)\n",
        "                class_name = os.path.basename(root)\n",
        "                writer.writerow([full_path, class_name])\n",
        "print(\"CSV file has been created successfully.\")"
      ],
      "metadata": {
        "colab": {
          "base_uri": "https://localhost:8080/"
        },
        "id": "kf39c_iPYKZF",
        "outputId": "b1e3558e-92e6-4e01-8ff1-01bd35b1a49b"
      },
      "execution_count": null,
      "outputs": [
        {
          "output_type": "stream",
          "name": "stdout",
          "text": [
            "CSV file has been created successfully.\n"
          ]
        }
      ]
    },
    {
      "cell_type": "code",
      "source": [
        "# Set the path for the output CSV file\n",
        "output_csv = '/content/drive/My Drive/ML/Assignment2/image2.csv'  # Corrected the filename extension from '.cs' to '.csv'\n",
        "root_dir = '/content/trafficsigns_dataset'  # Directory containing subfolders of images\n",
        "\n",
        "# This list will hold all unique folder names which correspond to shape classes\n",
        "class_names = []\n",
        "\n",
        "# Opening a file to write into, make sure you have the correct permissions or the path exists\n",
        "with open(output_csv, mode='w', newline='') as file:\n",
        "    writer = csv.writer(file)\n",
        "    writer.writerow(['image_path', 'shape'])  # Define the column headers for image paths and shape types\n",
        "\n",
        "    # Walk through the directory structure\n",
        "    for root, dirs, files in os.walk(root_dir):\n",
        "        for file in files:\n",
        "            # Check for image files ending with .png, .jpg, or .jpeg\n",
        "            if file.endswith(('.png', '.jpg', '.jpeg')):\n",
        "                full_path = os.path.join(root, file)  # Full path to the image\n",
        "                shape_name = os.path.basename(root)  # Folder name is taken as the shape name\n",
        "\n",
        "                # If this shape_name is not already in the list, add it\n",
        "                if shape_name not in class_names:\n",
        "                    class_names.append(shape_name)\n",
        "\n",
        "                # Write the path and shape_name to the CSV file\n",
        "                writer.writerow([full_path, shape_name])\n",
        "\n",
        "print(\"CSV file has been created successfully.\")\n",
        "print(\"Detected shape classes:\", class_names)\n"
      ],
      "metadata": {
        "colab": {
          "base_uri": "https://localhost:8080/"
        },
        "id": "dRJsomEwk5be",
        "outputId": "a9948268-c763-4651-d846-9655f41d4217"
      },
      "execution_count": null,
      "outputs": [
        {
          "output_type": "stream",
          "name": "stdout",
          "text": [
            "CSV file has been created successfully.\n",
            "Detected shape classes: ['laneend', 'continue', 'crossing', 'parking', 'trafficdirective', 'limitedtraffic', 'bicycle', 'roundabout', 'noentry', 'speed', 'traveldirection', 'noparking', 'giveway', 'warning', 'rightofway', 'stop']\n"
          ]
        }
      ]
    },
    {
      "cell_type": "code",
      "source": [],
      "metadata": {
        "id": "Er-ThpgVGFE7"
      },
      "execution_count": null,
      "outputs": []
    }
  ]
}