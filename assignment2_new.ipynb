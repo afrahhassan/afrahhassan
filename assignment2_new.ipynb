{
  "nbformat": 4,
  "nbformat_minor": 0,
  "metadata": {
    "colab": {
      "provenance": [],
      "toc_visible": true,
      "include_colab_link": true
    },
    "kernelspec": {
      "name": "python3",
      "display_name": "Python 3"
    },
    "language_info": {
      "name": "python"
    }
  },
  "cells": [
    {
      "cell_type": "markdown",
      "metadata": {
        "id": "view-in-github",
        "colab_type": "text"
      },
      "source": [
        "<a href=\"https://colab.research.google.com/github/afrahhassan/afrahhassan/blob/main/assignment2_new.ipynb\" target=\"_parent\"><img src=\"https://colab.research.google.com/assets/colab-badge.svg\" alt=\"Open In Colab\"/></a>"
      ]
    },
    {
      "cell_type": "markdown",
      "source": [
        "\n",
        "\n",
        "---\n",
        "# <div align=\"center\"><font>  </font></div>\n",
        "# <div align=\"center\"><font> COSC 2793 Computational Machine Learning </font></div>\n",
        "## <div align=\"center\"> <font> Assignment 2: Machine Learning Project </font></div>\n",
        "## <div align=\"center\"> <font> S3930776 Afrah Hassan A Alshaikh Ali & S3569266 Chang Su </font></div>\n",
        "---"
      ],
      "metadata": {
        "id": "1qSifWPkfTvv"
      }
    },
    {
      "cell_type": "code",
      "source": [
        "#Import Libraries\n",
        "import os\n",
        "import cv2\n",
        "import numpy as np\n",
        "import pandas as pd\n",
        "import matplotlib.pyplot as plt\n",
        "from sklearn.preprocessing import LabelEncoder\n",
        "from sklearn.model_selection import train_test_split\n",
        "from tensorflow.keras.models import Sequential\n",
        "from tensorflow.keras.layers import Conv2D, MaxPooling2D, Flatten, Dense,Dropout\n",
        "from tensorflow.keras.optimizers import Adam\n",
        "from tensorflow.keras.callbacks import LearningRateScheduler\n",
        "from tensorflow.keras.preprocessing.image import ImageDataGenerator\n",
        "from sklearn.model_selection import GridSearchCV\n",
        "from sklearn.ensemble import RandomForestClassifier\n",
        "from sklearn.pipeline import Pipeline\n",
        "from sklearn.preprocessing import StandardScaler\n",
        "\n",
        "from sklearn.metrics import classification_report, confusion_matrix\n",
        "from sklearn.model_selection import cross_val_predict\n",
        "import seaborn as sns\n",
        "from sklearn.model_selection import cross_val_score\n",
        "from sklearn.metrics import precision_score, recall_score, f1_score\n",
        "\n",
        "\n"
      ],
      "metadata": {
        "id": "twD8DWapfFnM"
      },
      "execution_count": 61,
      "outputs": []
    },
    {
      "cell_type": "markdown",
      "source": [
        "Workflow\n",
        "We need to follow the below 4 steps to build our traffic sign classification model:\n",
        "\n",
        "Dataset exploration\n",
        "CNN model building\n",
        "Model training and validation\n",
        "Model testing\n",
        "https://www.analyticsvidhya.com/blog/2021/12/traffic-signs-recognition-using-cnn-and-keras-in-python/"
      ],
      "metadata": {
        "id": "khyis9IquqME"
      }
    },
    {
      "cell_type": "markdown",
      "source": [
        "\n",
        "# **1. Load Data into DataFrame**"
      ],
      "metadata": {
        "id": "9PmzuCjISE7S"
      }
    },
    {
      "cell_type": "code",
      "source": [
        "from google.colab import drive\n",
        "drive.mount('/content/drive')"
      ],
      "metadata": {
        "colab": {
          "base_uri": "https://localhost:8080/"
        },
        "id": "Pr1U8kyVO1GI",
        "outputId": "1f2e0f3f-d7b5-444c-ee3f-db003ddce302"
      },
      "execution_count": 6,
      "outputs": [
        {
          "output_type": "stream",
          "name": "stdout",
          "text": [
            "Mounted at /content/drive\n"
          ]
        }
      ]
    },
    {
      "cell_type": "code",
      "source": [
        "!cp -r \"/content/drive/MyDrive/Assignment2\" ."
      ],
      "metadata": {
        "id": "F-52jr_lY2sU"
      },
      "execution_count": null,
      "outputs": []
    },
    {
      "cell_type": "code",
      "source": [
        "# Step 1: Load Data into DataFrame\n",
        "def load_data_into_dataframe(data_dir):\n",
        "    \"\"\"\n",
        "    Function to load data from a directory into a Pandas DataFrame.\n",
        "\n",
        "    Args:\n",
        "    - data_dir (str): Path to the directory containing the data.\n",
        "\n",
        "    Returns:\n",
        "    - df (DataFrame): Pandas DataFrame containing the loaded data.\n",
        "    \"\"\"\n",
        "    data = []\n",
        "\n",
        "    # Iterate through shape folders\n",
        "    for shape_folder in os.listdir(data_dir):\n",
        "        shape_folder_path = os.path.join(data_dir, shape_folder)\n",
        "\n",
        "        # Skip non-directory files\n",
        "        if not os.path.isdir(shape_folder_path):\n",
        "            continue\n",
        "\n",
        "        # Iterate through sign type folders\n",
        "        for sign_type_folder in os.listdir(shape_folder_path):\n",
        "            sign_type_folder_path = os.path.join(shape_folder_path, sign_type_folder)\n",
        "\n",
        "            # Skip non-directory files\n",
        "            if not os.path.isdir(sign_type_folder_path):\n",
        "                continue\n",
        "\n",
        "            # Iterate through image files\n",
        "            for image_file in os.listdir(sign_type_folder_path):\n",
        "                image_path = os.path.join(sign_type_folder_path, image_file)\n",
        "\n",
        "                # Append image path, shape label, and sign label to the data list\n",
        "                data.append((image_path, shape_folder, sign_type_folder))\n",
        "\n",
        "    # Create DataFrame from the collected data\n",
        "    df = pd.DataFrame(data, columns=['image_path', 'shape_label', 'sign_label'])\n",
        "    return df\n",
        "\n",
        "# Example usage\n",
        "data_dir = \"/content/drive/My Drive/Assignment2/trafficsigns_dataset\"\n",
        "df = load_data_into_dataframe(data_dir)\n",
        "print(df.head())  # Print the first few rows of the DataFrame\n"
      ],
      "metadata": {
        "colab": {
          "base_uri": "https://localhost:8080/"
        },
        "id": "73S8-Eyerd0H",
        "outputId": "c7615ab7-e58d-4725-87be-88d742dcdfec"
      },
      "execution_count": 54,
      "outputs": [
        {
          "output_type": "stream",
          "name": "stdout",
          "text": [
            "                                          image_path shape_label sign_label\n",
            "0  /content/drive/My Drive/Assignment2/trafficsig...      square   crossing\n",
            "1  /content/drive/My Drive/Assignment2/trafficsig...      square   crossing\n",
            "2  /content/drive/My Drive/Assignment2/trafficsig...      square   crossing\n",
            "3  /content/drive/My Drive/Assignment2/trafficsig...      square   crossing\n",
            "4  /content/drive/My Drive/Assignment2/trafficsig...      square   crossing\n"
          ]
        }
      ]
    },
    {
      "cell_type": "markdown",
      "source": [
        "This function load_data_into_dataframe loads image data from a directory into a DataFrame. It iterates through the directory structure to find image files and assigns them labels based on the folder structure. Then, it creates a DataFrame with columns for image paths, shape labels, and sign labels. Finally, it returns the DataFrame containing the loaded data."
      ],
      "metadata": {
        "id": "0fQk_erpDklD"
      }
    },
    {
      "cell_type": "code",
      "source": [
        "# Check the size of the DataFrame\n",
        "print(\"DataFrame Size:\")\n",
        "print(df.shape)\n",
        "\n",
        "# Display basic information about the DataFrame\n",
        "print(\"\\nDataFrame Information:\")\n",
        "print(df.info())\n",
        "\n",
        "# Display descriptive statistics of the DataFrame\n",
        "print(\"\\nDataFrame Descriptive Statistics:\")\n",
        "print(df.describe())"
      ],
      "metadata": {
        "colab": {
          "base_uri": "https://localhost:8080/"
        },
        "id": "an3EywS-Oouj",
        "outputId": "809d1a4f-7d93-4ed3-a229-825838d3afa6"
      },
      "execution_count": 76,
      "outputs": [
        {
          "output_type": "stream",
          "name": "stdout",
          "text": [
            "DataFrame Size:\n",
            "(3700, 3)\n",
            "\n",
            "DataFrame Information:\n",
            "<class 'pandas.core.frame.DataFrame'>\n",
            "RangeIndex: 3700 entries, 0 to 3699\n",
            "Data columns (total 3 columns):\n",
            " #   Column       Non-Null Count  Dtype \n",
            "---  ------       --------------  ----- \n",
            " 0   image_path   3700 non-null   object\n",
            " 1   shape_label  3700 non-null   object\n",
            " 2   sign_label   3700 non-null   object\n",
            "dtypes: object(3)\n",
            "memory usage: 86.8+ KB\n",
            "None\n",
            "\n",
            "DataFrame Descriptive Statistics:\n",
            "                                               image_path shape_label  \\\n",
            "count                                                3700        3700   \n",
            "unique                                               3700           5   \n",
            "top     /content/drive/My Drive/Assignment2/trafficsig...       round   \n",
            "freq                                                    1        1760   \n",
            "\n",
            "       sign_label  \n",
            "count        3700  \n",
            "unique         16  \n",
            "top       warning  \n",
            "freq          696  \n"
          ]
        }
      ]
    },
    {
      "cell_type": "code",
      "source": [
        "# Number of data points\n",
        "num_data_points = len(df)\n",
        "print(\"Number of Data Points:\", num_data_points)\n",
        "\n",
        "# Count of unique shape types\n",
        "num_unique_shapes = df['shape_label'].nunique()\n",
        "print(\"Number of Unique Shape Types:\", num_unique_shapes)\n",
        "# Count of unique image types\n",
        "num_unique_image_types = df['sign_label'].nunique()\n",
        "print(\"Number of Unique Image Types:\", num_unique_image_types)\n"
      ],
      "metadata": {
        "colab": {
          "base_uri": "https://localhost:8080/"
        },
        "id": "Gn5tGp-BPM7V",
        "outputId": "84979b7d-f5d8-45bb-b73f-a169bcce4dc1"
      },
      "execution_count": 77,
      "outputs": [
        {
          "output_type": "stream",
          "name": "stdout",
          "text": [
            "Number of Data Points: 3700\n",
            "Number of Unique Shape Types: 5\n",
            "Number of Unique Image Types: 16\n"
          ]
        }
      ]
    },
    {
      "cell_type": "code",
      "source": [
        "# Number of each shape type\n",
        "shape_counts = df['shape_label'].value_counts()\n",
        "print(\"Number of Each Shape Type:\")\n",
        "print(shape_counts)\n",
        "\n",
        "# Number of each image type\n",
        "image_counts = df['sign_label'].value_counts()\n",
        "print(\"\\nNumber of Each Image Type:\")\n",
        "print(image_counts)"
      ],
      "metadata": {
        "colab": {
          "base_uri": "https://localhost:8080/"
        },
        "id": "sUySSMJyPvvp",
        "outputId": "658f7b25-db84-4e35-c41f-d5870c18c1b8"
      },
      "execution_count": 78,
      "outputs": [
        {
          "output_type": "stream",
          "name": "stdout",
          "text": [
            "Number of Each Shape Type:\n",
            "shape_label\n",
            "round       1760\n",
            "triangle     927\n",
            "square       688\n",
            "diamond      282\n",
            "hex           43\n",
            "Name: count, dtype: int64\n",
            "\n",
            "Number of Each Image Type:\n",
            "sign_label\n",
            "warning             696\n",
            "noentry             375\n",
            "speed               316\n",
            "bicycle             285\n",
            "rightofway          282\n",
            "parking             276\n",
            "noparking           242\n",
            "giveway             231\n",
            "continue            199\n",
            "trafficdirective    195\n",
            "limitedtraffic      125\n",
            "traveldirection     124\n",
            "laneend             118\n",
            "roundabout           98\n",
            "crossing             95\n",
            "stop                 43\n",
            "Name: count, dtype: int64\n"
          ]
        }
      ]
    },
    {
      "cell_type": "markdown",
      "source": [
        "# **2. Split the Data**"
      ],
      "metadata": {
        "id": "niWflxP-2D8Y"
      }
    },
    {
      "cell_type": "code",
      "source": [
        "# Step 2: Split Data for Each Sign Label\n",
        "# Initialize lists to store data splits\n",
        "train_data = []\n",
        "val_data = []\n",
        "test_data = []\n",
        "\n",
        "# Group DataFrame by sign labels\n",
        "sign_groups = df.groupby('sign_label')\n",
        "\n",
        "# Split data for each sign label\n",
        "for sign_label, group_df in sign_groups:\n",
        "    # Split data into training and testing sets (80% training, 20% testing)\n",
        "    train_group, test_group = train_test_split(group_df, test_size=0.2, random_state=42)\n",
        "    # Further split training data into training and validation sets (80% training, 20% validation)\n",
        "    train_group, val_group = train_test_split(train_group, test_size=0.2, random_state=42)\n",
        "    # Append data splits to respective lists\n",
        "    train_data.append(train_group)\n",
        "    val_data.append(val_group)\n",
        "    test_data.append(test_group)\n",
        "\n",
        "# Concatenate data splits to create final DataFrames\n",
        "train_df = pd.concat(train_data)\n",
        "val_df = pd.concat(val_data)\n",
        "test_df = pd.concat(test_data)\n"
      ],
      "metadata": {
        "id": "mLcXmeTVppVw"
      },
      "execution_count": 55,
      "outputs": []
    },
    {
      "cell_type": "markdown",
      "source": [
        "This code will split the data into training, validation, and testing sets for each sign label, ensuring a balanced distribution of data across the splits."
      ],
      "metadata": {
        "id": "Ftm0W7CDDpQ2"
      }
    },
    {
      "cell_type": "markdown",
      "source": [
        "# **3. Load and Preprocess Images**\n"
      ],
      "metadata": {
        "id": "68EKpL4q13Rh"
      }
    },
    {
      "cell_type": "code",
      "source": [
        "# Step 3: Load and Preprocess Images for Training and Testing\n",
        "def load_and_preprocess_images(df):\n",
        "    images = []  # List to store preprocessed images\n",
        "    labels = []  # List to store corresponding labels\n",
        "\n",
        "    # Iterate over each row in the DataFrame\n",
        "    for idx, row in df.iterrows():\n",
        "        # Check if the file name is not \".DS_Store\"\n",
        "        if not row['image_path'].endswith('.DS_Store'):\n",
        "            # Load the image using OpenCV (grayscale mode)\n",
        "            image = cv2.imread(row['image_path'], cv2.IMREAD_GRAYSCALE)\n",
        "\n",
        "            # Check if the image is loaded successfully\n",
        "            if image is not None:\n",
        "                # Resize the image to 28x28 pixels\n",
        "                image = cv2.resize(image, (28, 28))\n",
        "\n",
        "                # Normalize pixel values to the range [0, 1] (float32)\n",
        "                image = image.astype('float32') / 255.0\n",
        "\n",
        "                # Add the preprocessed image to the list\n",
        "                images.append(image)\n",
        "\n",
        "                # Add the corresponding label to the list\n",
        "                labels.append(row['shape_label'])\n",
        "            else:\n",
        "                # Print an error message if image loading fails\n",
        "                print(\"Error: Unable to load image:\", row['image_path'])\n",
        "        else:\n",
        "            # Skip \".DS_Store\" files (common on macOS systems)\n",
        "            print(\"Skipping .DS_Store file:\", row['image_path'])\n",
        "\n",
        "    # Convert lists to numpy arrays for efficient processing\n",
        "    images = np.array(images)\n",
        "    labels = np.array(labels)\n",
        "\n",
        "    # Add channel dimension for Conv2D input (required by Keras)\n",
        "    images = np.expand_dims(images, axis=-1)\n",
        "\n",
        "    return images, labels\n",
        "\n",
        "# Load and preprocess images for training, validation, and testing sets\n",
        "train_images, train_labels = load_and_preprocess_images(train_df)\n",
        "val_images, val_labels = load_and_preprocess_images(val_df)\n",
        "test_images, test_labels = load_and_preprocess_images(test_df)\n"
      ],
      "metadata": {
        "colab": {
          "base_uri": "https://localhost:8080/"
        },
        "id": "fqYv_igerq3D",
        "outputId": "16e31b05-57f8-4dd4-fa73-4c593ba59b21"
      },
      "execution_count": 56,
      "outputs": [
        {
          "output_type": "stream",
          "name": "stdout",
          "text": [
            "Skipping .DS_Store file: /content/drive/My Drive/Assignment2/trafficsigns_dataset/triangle/warning/.DS_Store\n"
          ]
        }
      ]
    },
    {
      "cell_type": "markdown",
      "source": [
        "This function iterates over each row in the DataFrame, loads the corresponding image using OpenCV, resizes it to 28x28 pixels, normalizes the pixel values, and stores the preprocessed images and labels in lists. Finally, it converts the lists to numpy arrays and adds a channel dimension for compatibility with Conv2D layers in Keras."
      ],
      "metadata": {
        "id": "4LWsCIjrC3ZE"
      }
    },
    {
      "cell_type": "markdown",
      "source": [
        "# **4. Train the Baseline Model**\n"
      ],
      "metadata": {
        "id": "dtGlMOl515fd"
      }
    },
    {
      "cell_type": "markdown",
      "source": [
        "In this report, a Convolutional Neural Network (CNN) is employed as the baseline model for image classification tasks owing to its aptitude in handling visual data. CNNs are adept at automatically extracting relevant features from images through layers like convolutional and pooling layers, enabling them to discern intricate patterns, textures, and shapes. Their hierarchical learning approach facilitates the capturing of complex relationships within images, making them ideal for tasks like image classification. Additionally, CNNs have exhibited exceptional performance across various computer vision applications and are particularly robust to variations in input data, further solidifying their suitability as a baseline model for image classification endeavors."
      ],
      "metadata": {
        "id": "KIYei9VUHwXx"
      }
    },
    {
      "cell_type": "code",
      "source": [
        "# Step 4: Define and Compile the Model\n",
        "# Define input shape and number of classes\n",
        "input_shape = (28, 28, 1)  # Input shape for 28x28 grayscale images\n",
        "num_classes = len(df['shape_label'].unique())  # Number of unique shape labels\n",
        "\n",
        "# Define the model architecture using Sequential API\n",
        "model = Sequential([\n",
        "    # Convolutional layers\n",
        "    Conv2D(32, (3, 3), activation='relu', input_shape=input_shape),\n",
        "    MaxPooling2D((2, 2)),\n",
        "    Conv2D(64, (3, 3), activation='relu'),\n",
        "    MaxPooling2D((2, 2)),\n",
        "    Conv2D(64, (3, 3), activation='relu'),\n",
        "    # Flatten layer to transition from convolutional to dense layers\n",
        "    Flatten(),\n",
        "    # Dense (fully connected) layers\n",
        "    Dense(64, activation='relu'),\n",
        "    Dense(num_classes, activation='softmax')  # Output layer with softmax activation for classification\n",
        "])\n",
        "\n",
        "# Compile the model\n",
        "model.compile(optimizer='adam',  # Adam optimizer\n",
        "              loss='sparse_categorical_crossentropy',  # Sparse categorical crossentropy loss function\n",
        "              metrics=['accuracy'])  # Monitor accuracy during training\n"
      ],
      "metadata": {
        "id": "Z2D5Sg5GrrFC"
      },
      "execution_count": 57,
      "outputs": []
    },
    {
      "cell_type": "markdown",
      "source": [
        "This code defines a convolutional neural network (CNN) model using the Sequential API. It consists of three convolutional layers followed by max-pooling layers to downsample the feature maps. The final convolutional layer is followed by a flatten layer to transition from convolutional to dense layers. Two dense layers are added for classification, with the output layer having softmax activation to output class probabilities. The model is compiled with the Adam optimizer, sparse categorical crossentropy loss function, and accuracy as the evaluation metric."
      ],
      "metadata": {
        "id": "jrHehM1rDN3P"
      }
    },
    {
      "cell_type": "markdown",
      "source": [
        "# **5. Encode Labels**"
      ],
      "metadata": {
        "id": "hwjYLfAFbiMX"
      }
    },
    {
      "cell_type": "code",
      "source": [
        "# Step 5: Encode Labels\n",
        "label_encoder = LabelEncoder()\n",
        "train_labels_encoded = label_encoder.fit_transform(train_labels)\n",
        "val_labels_encoded = label_encoder.transform(val_labels)\n",
        "test_labels_encoded = label_encoder.transform(test_labels)"
      ],
      "metadata": {
        "colab": {
          "base_uri": "https://localhost:8080/"
        },
        "id": "E3eMqp5ZwHtB",
        "outputId": "ece7fe5c-2d98-4386-bd40-107b866f9a79"
      },
      "execution_count": 31,
      "outputs": [
        {
          "output_type": "stream",
          "name": "stdout",
          "text": [
            "Epoch 1/10\n",
            "74/74 [==============================] - 5s 58ms/step - loss: 0.9843 - accuracy: 0.6296 - val_loss: 0.5628 - val_accuracy: 0.8339\n",
            "Epoch 2/10\n",
            "74/74 [==============================] - 3s 45ms/step - loss: 0.3580 - accuracy: 0.8952 - val_loss: 0.2552 - val_accuracy: 0.9161\n",
            "Epoch 3/10\n",
            "74/74 [==============================] - 2s 27ms/step - loss: 0.1831 - accuracy: 0.9431 - val_loss: 0.1739 - val_accuracy: 0.9446\n",
            "Epoch 4/10\n",
            "74/74 [==============================] - 2s 27ms/step - loss: 0.1109 - accuracy: 0.9673 - val_loss: 0.1126 - val_accuracy: 0.9631\n",
            "Epoch 5/10\n",
            "74/74 [==============================] - 2s 26ms/step - loss: 0.0800 - accuracy: 0.9805 - val_loss: 0.1171 - val_accuracy: 0.9631\n",
            "Epoch 6/10\n",
            "74/74 [==============================] - 2s 26ms/step - loss: 0.0432 - accuracy: 0.9919 - val_loss: 0.0735 - val_accuracy: 0.9681\n",
            "Epoch 7/10\n",
            "74/74 [==============================] - 2s 26ms/step - loss: 0.0299 - accuracy: 0.9932 - val_loss: 0.0775 - val_accuracy: 0.9732\n",
            "Epoch 8/10\n",
            "74/74 [==============================] - 3s 41ms/step - loss: 0.0329 - accuracy: 0.9907 - val_loss: 0.0711 - val_accuracy: 0.9832\n",
            "Epoch 9/10\n",
            "74/74 [==============================] - 3s 34ms/step - loss: 0.0207 - accuracy: 0.9936 - val_loss: 0.0786 - val_accuracy: 0.9765\n",
            "Epoch 10/10\n",
            "74/74 [==============================] - 3s 34ms/step - loss: 0.0120 - accuracy: 0.9992 - val_loss: 0.0566 - val_accuracy: 0.9832\n"
          ]
        }
      ]
    },
    {
      "cell_type": "markdown",
      "source": [
        "The fit_transform() method fits the encoder to the training labels and transforms them into encoded numerical labels. Then, the transform() method is used to encode the validation and test labels using the same encoder fitted on the training labels. This ensures consistency in label encoding across different datasets."
      ],
      "metadata": {
        "id": "BVmh1T0wEB4F"
      }
    },
    {
      "cell_type": "markdown",
      "source": [
        "# **6. Train the Model**"
      ],
      "metadata": {
        "id": "xe3-45M14SVK"
      }
    },
    {
      "cell_type": "code",
      "source": [
        "# Step 6: Train the Model\n",
        "# Use the encoded labels for training\n",
        "history = model.fit(train_images, train_labels_encoded, epochs=10, validation_data=(val_images, val_labels_encoded))"
      ],
      "metadata": {
        "colab": {
          "base_uri": "https://localhost:8080/"
        },
        "id": "-_Z_aZWQ4bsB",
        "outputId": "8e9ec716-0959-468b-dc74-4ab8336b5825"
      },
      "execution_count": 63,
      "outputs": [
        {
          "output_type": "stream",
          "name": "stdout",
          "text": [
            "Epoch 1/10\n",
            "74/74 [==============================] - 3s 31ms/step - loss: 0.9748 - accuracy: 0.6470 - val_loss: 0.5732 - val_accuracy: 0.7852\n",
            "Epoch 2/10\n",
            "74/74 [==============================] - 3s 45ms/step - loss: 0.3822 - accuracy: 0.8850 - val_loss: 0.2498 - val_accuracy: 0.9228\n",
            "Epoch 3/10\n",
            "74/74 [==============================] - 2s 27ms/step - loss: 0.1857 - accuracy: 0.9461 - val_loss: 0.1750 - val_accuracy: 0.9513\n",
            "Epoch 4/10\n",
            "74/74 [==============================] - 2s 26ms/step - loss: 0.0976 - accuracy: 0.9716 - val_loss: 0.1241 - val_accuracy: 0.9664\n",
            "Epoch 5/10\n",
            "74/74 [==============================] - 2s 26ms/step - loss: 0.0590 - accuracy: 0.9826 - val_loss: 0.1069 - val_accuracy: 0.9597\n",
            "Epoch 6/10\n",
            "74/74 [==============================] - 2s 26ms/step - loss: 0.0418 - accuracy: 0.9915 - val_loss: 0.0838 - val_accuracy: 0.9748\n",
            "Epoch 7/10\n",
            "74/74 [==============================] - 2s 26ms/step - loss: 0.0228 - accuracy: 0.9949 - val_loss: 0.0738 - val_accuracy: 0.9765\n",
            "Epoch 8/10\n",
            "74/74 [==============================] - 3s 42ms/step - loss: 0.0209 - accuracy: 0.9953 - val_loss: 0.0716 - val_accuracy: 0.9698\n",
            "Epoch 9/10\n",
            "74/74 [==============================] - 3s 34ms/step - loss: 0.0184 - accuracy: 0.9962 - val_loss: 0.0695 - val_accuracy: 0.9664\n",
            "Epoch 10/10\n",
            "74/74 [==============================] - 2s 26ms/step - loss: 0.0076 - accuracy: 0.9992 - val_loss: 0.0725 - val_accuracy: 0.9698\n"
          ]
        }
      ]
    },
    {
      "cell_type": "markdown",
      "source": [
        "- `train_images` are the preprocessed images for training.\n",
        "- `train_labels_encoded` are the encoded numerical labels corresponding to the training images.\n",
        "- `epochs=10` specifies the number of training epochs.\n",
        "- `validation_data=(val_images, val_labels_encoded)` specifies the validation data to evaluate the model's performance during training. `val_images` are the preprocessed images for validation, and `val_labels_encoded` are the encoded numerical labels corresponding to the validation images."
      ],
      "metadata": {
        "id": "Hb50FmTbESqU"
      }
    },
    {
      "cell_type": "markdown",
      "source": [
        "# **7. Evaluate the Model**"
      ],
      "metadata": {
        "id": "ZBhyaTto4gEs"
      }
    },
    {
      "cell_type": "markdown",
      "source": [
        "In this step, we're evaluating the trained model on the test data to assess its performance on unseen data.\n",
        "\n",
        "\n",
        "In evaluating the performance of our Convolutional Neural Network (CNN), we selected several key evaluation metrics to comprehensively assess its effectiveness in image classification tasks.\n",
        "\n",
        "- Accuracy: To assess overall correctness.\n",
        "- Precision: Measure of correctly classified positive instances among all predicted positives.\n",
        "- Recall (Sensitivity): Evaluation of capturing all actual positive instances while minimizing false negatives.\n",
        "F1 Score: Balancing precision and recall to provide a unified performance measure.\n",
        "- ROC Curve and AUC: Visualization of the true positive rate against the false positive rate, offering insights into classification thresholds.\n",
        "- Confusion Matrices: Detailed distribution of true positives, true negatives, false positives, and false negatives across classes for a granular performance analysis."
      ],
      "metadata": {
        "id": "MW3WEAcvEzC-"
      }
    },
    {
      "cell_type": "code",
      "source": [
        "# Step 7: Evaluate the Model\n",
        "# # Encode test labels\n",
        "# test_labels_encoded = label_encoder.transform(test_labels)\n",
        "\n",
        "# # Evaluate the model\n",
        "# test_loss, test_accuracy = model.evaluate(test_images, test_labels_encoded)\n",
        "# print(\"Test Accuracy:\", test_accuracy)\n",
        "\n",
        "# Step 7: Evaluate the Model\n",
        "\n",
        "# Encode test labels\n",
        "test_labels_encoded = label_encoder.transform(test_labels)\n",
        "\n",
        "# Evaluate the model and calculate additional evaluation metrics\n",
        "test_loss, test_accuracy = model.evaluate(test_images, test_labels_encoded)\n",
        "print(\"Test Accuracy:\", test_accuracy)\n",
        "\n",
        "# Calculate additional evaluation metrics\n",
        "predictions = model.predict(test_images)\n",
        "predicted_labels = np.argmax(predictions, axis=1)\n",
        "\n",
        "# Calculate confusion matrix\n",
        "conf_matrix = confusion_matrix(test_labels_encoded, predicted_labels)\n",
        "\n",
        "# Calculate precision, recall, and F1-score\n",
        "precision = precision_score(test_labels_encoded, predicted_labels, average='weighted')\n",
        "recall = recall_score(test_labels_encoded, predicted_labels, average='weighted')\n",
        "f1 = f1_score(test_labels_encoded, predicted_labels, average='weighted')\n",
        "\n",
        "# Print additional evaluation metrics\n",
        "print(\"Precision:\", precision)\n",
        "print(\"Recall:\", recall)\n",
        "print(\"F1 Score:\", f1)\n",
        "print(\"Confusion Matrix:\\n\", conf_matrix)\n"
      ],
      "metadata": {
        "colab": {
          "base_uri": "https://localhost:8080/"
        },
        "id": "YESuW6gRwH4M",
        "outputId": "218f81f1-4a0b-4de3-cd0a-d8c0894dc600"
      },
      "execution_count": 64,
      "outputs": [
        {
          "output_type": "stream",
          "name": "stdout",
          "text": [
            "24/24 [==============================] - 0s 8ms/step - loss: 0.0276 - accuracy: 0.9946\n",
            "Test Accuracy: 0.9946380853652954\n",
            "24/24 [==============================] - 0s 7ms/step\n",
            "Precision: 0.9946815013086063\n",
            "Recall: 0.9946380697050938\n",
            "F1 Score: 0.9945939050000886\n",
            "Confusion Matrix:\n",
            " [[ 56   0   1   0   0]\n",
            " [  0   8   1   0   0]\n",
            " [  0   0 354   0   0]\n",
            " [  0   0   0 137   2]\n",
            " [  0   0   0   0 187]]\n"
          ]
        }
      ]
    },
    {
      "cell_type": "markdown",
      "source": [
        "The evaluation of the model on the test dataset yielded the following results:\n",
        "\n",
        "- **Test Accuracy:** 99.46%\n",
        "- **Precision:** 99.47%\n",
        "- **Recall:** 47.45%\n",
        "- **F1 Score:** 99.46%\n",
        "\n",
        "The high precision, recall, and F1 score values, along with the accuracy close to 100%, indicate that the model performs exceptionally well across all classes. The confusion matrix shows minimal misclassifications, with most predictions concentrated along the diagonal, indicating correct classifications. This suggests that the model effectively learns and generalizes patterns from the data, resulting in robust performance on unseen test samples. Overall, the model demonstrates excellent predictive capability and reliability."
      ],
      "metadata": {
        "id": "LEkSsV-ZKHxz"
      }
    },
    {
      "cell_type": "markdown",
      "source": [
        "# **8. Performance Analysis**"
      ],
      "metadata": {
        "id": "AWtAJnvd4p6x"
      }
    },
    {
      "cell_type": "code",
      "source": [
        "# Performance Analysis\n",
        "# Create a figure with two subplots arranged horizontally\n",
        "fig, axes = plt.subplots(1, 2, figsize=(12, 6))\n",
        "\n",
        "# Plot training and validation loss on the first subplot\n",
        "axes[0].plot(history.history['loss'], label='Training Loss')\n",
        "axes[0].plot(history.history['val_loss'], label='Validation Loss')\n",
        "axes[0].set_xlabel('Epochs')\n",
        "axes[0].set_ylabel('Loss')\n",
        "axes[0].legend()\n",
        "axes[0].set_title('Training and Validation Loss')\n",
        "\n",
        "# Plot training and validation accuracy on the second subplot\n",
        "axes[1].plot(history.history['accuracy'], label='Training Accuracy')\n",
        "axes[1].plot(history.history['val_accuracy'], label='Validation Accuracy')\n",
        "axes[1].set_xlabel('Epochs')\n",
        "axes[1].set_ylabel('Accuracy')\n",
        "axes[1].legend()\n",
        "axes[1].set_title('Training and Validation Accuracy')\n",
        "\n",
        "# Adjust layout to prevent overlap\n",
        "plt.tight_layout()\n",
        "\n",
        "# Show the plots\n",
        "plt.show()"
      ],
      "metadata": {
        "colab": {
          "base_uri": "https://localhost:8080/",
          "height": 627
        },
        "id": "zV8tUzmu0weU",
        "outputId": "da0d2c6c-0638-42ff-f898-c3b9bf08e586"
      },
      "execution_count": 58,
      "outputs": [
        {
          "output_type": "display_data",
          "data": {
            "text/plain": [
              "<Figure size 1200x600 with 2 Axes>"
            ],
            "image/png": "[encoded data removed]"
          },
          "metadata": {}
        }
      ]
    },
    {
      "cell_type": "markdown",
      "source": [
        "- **Training and Validation Loss Plot:** The validation loss curve being consistently below the training loss curve suggests that the model is performing better on the validation data compared to the training data. This behavior is unusual and indicates that the model might not be learning effectively from the training data. It could be memorizing the training examples rather than learning underlying patterns, which often leads to poor generalization.\n",
        "- **Training and Validation Accuracy Plot:** The validation accuracy curve consistently being lower than the training accuracy curve is another sign of overfitting. This indicates that while the model performs well on the training data, its performance drops when evaluated on the validation set. The model's ability to generalize to unseen data is compromised.\n",
        "\n",
        "In summary, the discrepancy between the training and validation metrics, with the validation metrics being worse than the training metrics, is evidence that the model is overfitting to the training data. To address overfitting, techniques such as regularization, dropout, or reducing model complexity can be employed."
      ],
      "metadata": {
        "id": "sqLtPt-AG9HY"
      }
    },
    {
      "cell_type": "markdown",
      "source": [
        "Enhancing the baseline CNN model by Dropout Regularization."
      ],
      "metadata": {
        "id": "SwXa8z0POS-F"
      }
    },
    {
      "cell_type": "code",
      "source": [
        "from keras.layers import Dropout\n",
        "from sklearn.metrics import precision_score, recall_score, f1_score, confusion_matrix\n",
        "\n",
        "# Step 4: Define and Compile the Model with Dropout Regularization\n",
        "model = Sequential([\n",
        "    Conv2D(32, (3, 3), activation='relu', input_shape=input_shape),\n",
        "    MaxPooling2D((2, 2)),\n",
        "    Conv2D(64, (3, 3), activation='relu'),\n",
        "    MaxPooling2D((2, 2)),\n",
        "    Conv2D(64, (3, 3), activation='relu'),\n",
        "    Flatten(),\n",
        "    Dense(64, activation='relu'),\n",
        "    Dropout(0.5),  # Add dropout layer with a dropout rate of 0.5\n",
        "    Dense(num_classes, activation='softmax')\n",
        "])\n",
        "\n",
        "model.compile(optimizer='adam',\n",
        "              loss='sparse_categorical_crossentropy',\n",
        "              metrics=['accuracy'])\n",
        "\n",
        "# Step 6: Train the Model\n",
        "history = model.fit(train_images, train_labels_encoded, epochs=10, validation_data=(val_images, val_labels_encoded))\n",
        "\n",
        "# Step 7: Evaluate the Model\n",
        "test_loss, test_accuracy = model.evaluate(test_images, test_labels_encoded)\n",
        "print(\"Test Accuracy:\", test_accuracy)\n",
        "\n",
        "# Calculate additional evaluation metrics\n",
        "test_predictions = np.argmax(model.predict(test_images), axis=-1)\n",
        "precision = precision_score(test_labels_encoded, test_predictions, average='weighted', zero_division=1)\n",
        "recall = recall_score(test_labels_encoded, test_predictions, average='weighted', zero_division=1)\n",
        "f1 = f1_score(test_labels_encoded, test_predictions, average='weighted', zero_division=1)\n",
        "conf_matrix = confusion_matrix(test_labels_encoded, test_predictions)\n",
        "\n",
        "print(\"Precision:\", precision)\n",
        "print(\"Recall:\", recall)\n",
        "print(\"F1 Score:\", f1)\n",
        "print(\"Confusion Matrix:\\n\", conf_matrix)\n"
      ],
      "metadata": {
        "colab": {
          "base_uri": "https://localhost:8080/"
        },
        "id": "AjkYKPwOLmMt",
        "outputId": "2b24fb41-0bb2-4d6e-aa05-faffc22413d5"
      },
      "execution_count": 66,
      "outputs": [
        {
          "output_type": "stream",
          "name": "stdout",
          "text": [
            "Epoch 1/10\n",
            "74/74 [==============================] - 7s 49ms/step - loss: 1.1904 - accuracy: 0.5261 - val_loss: 0.7435 - val_accuracy: 0.8154\n",
            "Epoch 2/10\n",
            "74/74 [==============================] - 3s 39ms/step - loss: 0.5379 - accuracy: 0.8401 - val_loss: 0.2695 - val_accuracy: 0.9379\n",
            "Epoch 3/10\n",
            "74/74 [==============================] - 2s 26ms/step - loss: 0.2325 - accuracy: 0.9325 - val_loss: 0.1329 - val_accuracy: 0.9564\n",
            "Epoch 4/10\n",
            "74/74 [==============================] - 2s 30ms/step - loss: 0.1355 - accuracy: 0.9614 - val_loss: 0.0887 - val_accuracy: 0.9715\n",
            "Epoch 5/10\n",
            "74/74 [==============================] - 3s 44ms/step - loss: 0.0919 - accuracy: 0.9767 - val_loss: 0.0739 - val_accuracy: 0.9765\n",
            "Epoch 6/10\n",
            "74/74 [==============================] - 3s 39ms/step - loss: 0.0659 - accuracy: 0.9839 - val_loss: 0.0557 - val_accuracy: 0.9832\n",
            "Epoch 7/10\n",
            "74/74 [==============================] - 3s 37ms/step - loss: 0.0471 - accuracy: 0.9898 - val_loss: 0.0468 - val_accuracy: 0.9799\n",
            "Epoch 8/10\n",
            "74/74 [==============================] - 2s 26ms/step - loss: 0.0410 - accuracy: 0.9894 - val_loss: 0.0408 - val_accuracy: 0.9883\n",
            "Epoch 9/10\n",
            "74/74 [==============================] - 3s 37ms/step - loss: 0.0312 - accuracy: 0.9911 - val_loss: 0.0415 - val_accuracy: 0.9866\n",
            "Epoch 10/10\n",
            "74/74 [==============================] - 3s 45ms/step - loss: 0.0260 - accuracy: 0.9924 - val_loss: 0.0486 - val_accuracy: 0.9849\n",
            "24/24 [==============================] - 0s 7ms/step - loss: 0.0189 - accuracy: 0.9946\n",
            "Test Accuracy: 0.9946380853652954\n",
            "24/24 [==============================] - 0s 7ms/step\n",
            "Precision: 0.9946992093480382\n",
            "Recall: 0.9946380697050938\n",
            "F1 Score: 0.9946068399121152\n",
            "Confusion Matrix:\n",
            " [[ 57   0   0   0   0]\n",
            " [  0   8   1   0   0]\n",
            " [  0   0 353   1   0]\n",
            " [  0   0   0 139   0]\n",
            " [  1   0   0   1 185]]\n"
          ]
        }
      ]
    },
    {
      "cell_type": "markdown",
      "source": [
        "Explination:"
      ],
      "metadata": {
        "id": "SAldCpI7N-xE"
      }
    },
    {
      "cell_type": "markdown",
      "source": [
        "Enhancing the baseline CNN model by incorporating techniques such as learning rate scheduling and data augmentation."
      ],
      "metadata": {
        "id": "tVBukSFCOPw2"
      }
    },
    {
      "cell_type": "code",
      "source": [
        "# Define a function to create the baseline CNN model\n",
        "def create_baseline_model(input_shape, num_classes):\n",
        "    model = Sequential([\n",
        "        Conv2D(32, (3, 3), activation='relu', input_shape=input_shape),\n",
        "        MaxPooling2D((2, 2)),\n",
        "        Conv2D(64, (3, 3), activation='relu'),\n",
        "        MaxPooling2D((2, 2)),\n",
        "        Flatten(),\n",
        "        Dense(64, activation='relu'),\n",
        "        Dense(num_classes, activation='softmax')\n",
        "    ])\n",
        "    return model\n",
        "\n",
        "# Create the baseline CNN model\n",
        "baseline_model = create_baseline_model(input_shape, num_classes)\n",
        "\n",
        "# Compile the model with Adam optimizer and sparse categorical crossentropy loss\n",
        "baseline_model.compile(optimizer='adam',\n",
        "                        loss='sparse_categorical_crossentropy',\n",
        "                        metrics=['accuracy'])\n",
        "\n",
        "# Define a learning rate scheduler function\n",
        "def lr_scheduler(epoch, lr):\n",
        "    if epoch < 5:\n",
        "        return lr  # Keep the initial learning rate for the first 5 epochs\n",
        "    else:\n",
        "        return lr * 0.95  # Decrease the learning rate by 5% after every epoch starting from the 6th epoch\n",
        "\n",
        "# Define data augmentation parameters\n",
        "datagen = ImageDataGenerator(rotation_range=10,\n",
        "                             width_shift_range=0.1,\n",
        "                             height_shift_range=0.1,\n",
        "                             shear_range=0.2,\n",
        "                             zoom_range=0.2,\n",
        "                             horizontal_flip=True)\n",
        "\n",
        "# Fit the data generator on the training data\n",
        "datagen.fit(train_images)\n",
        "\n",
        "# Train the baseline model with data augmentation and learning rate scheduling\n",
        "history = baseline_model.fit(datagen.flow(train_images, train_labels_encoded, batch_size=32),\n",
        "                             epochs=20,\n",
        "                             validation_data=(val_images, val_labels_encoded),\n",
        "                             callbacks=[LearningRateScheduler(lr_scheduler)])\n",
        "\n",
        "# Evaluate the optimized model on the test data\n",
        "test_loss, test_accuracy = baseline_model.evaluate(test_images, test_labels_encoded)\n",
        "print(\"Test Accuracy:\", test_accuracy)\n"
      ],
      "metadata": {
        "colab": {
          "base_uri": "https://localhost:8080/"
        },
        "id": "XGeNg9CA7Ppn",
        "outputId": "fbda2a29-4d0d-402f-927b-4c02e8db4c51"
      },
      "execution_count": 46,
      "outputs": [
        {
          "output_type": "stream",
          "name": "stdout",
          "text": [
            "Epoch 1/20\n",
            "74/74 [==============================] - 6s 61ms/step - loss: 1.1485 - accuracy: 0.5672 - val_loss: 0.7803 - val_accuracy: 0.7265 - lr: 0.0010\n",
            "Epoch 2/20\n",
            "74/74 [==============================] - 2s 32ms/step - loss: 0.7439 - accuracy: 0.7565 - val_loss: 0.4388 - val_accuracy: 0.8591 - lr: 0.0010\n",
            "Epoch 3/20\n",
            "74/74 [==============================] - 2s 32ms/step - loss: 0.5126 - accuracy: 0.8299 - val_loss: 0.3180 - val_accuracy: 0.9128 - lr: 0.0010\n",
            "Epoch 4/20\n",
            "74/74 [==============================] - 4s 57ms/step - loss: 0.3870 - accuracy: 0.8876 - val_loss: 0.2228 - val_accuracy: 0.9413 - lr: 0.0010\n",
            "Epoch 5/20\n",
            "74/74 [==============================] - 4s 56ms/step - loss: 0.3121 - accuracy: 0.9020 - val_loss: 0.1782 - val_accuracy: 0.9396 - lr: 0.0010\n",
            "Epoch 6/20\n",
            "74/74 [==============================] - 2s 33ms/step - loss: 0.2351 - accuracy: 0.9313 - val_loss: 0.1273 - val_accuracy: 0.9648 - lr: 9.5000e-04\n",
            "Epoch 7/20\n",
            "74/74 [==============================] - 2s 32ms/step - loss: 0.2294 - accuracy: 0.9228 - val_loss: 0.1212 - val_accuracy: 0.9715 - lr: 9.0250e-04\n",
            "Epoch 8/20\n",
            "74/74 [==============================] - 2s 32ms/step - loss: 0.1861 - accuracy: 0.9393 - val_loss: 0.0819 - val_accuracy: 0.9765 - lr: 8.5737e-04\n",
            "Epoch 9/20\n",
            "74/74 [==============================] - 3s 41ms/step - loss: 0.1821 - accuracy: 0.9427 - val_loss: 0.0765 - val_accuracy: 0.9748 - lr: 8.1451e-04\n",
            "Epoch 10/20\n",
            "74/74 [==============================] - 4s 48ms/step - loss: 0.1817 - accuracy: 0.9444 - val_loss: 0.0685 - val_accuracy: 0.9866 - lr: 7.7378e-04\n",
            "Epoch 11/20\n",
            "74/74 [==============================] - 3s 41ms/step - loss: 0.1337 - accuracy: 0.9618 - val_loss: 0.0737 - val_accuracy: 0.9815 - lr: 7.3509e-04\n",
            "Epoch 12/20\n",
            "74/74 [==============================] - 4s 48ms/step - loss: 0.1329 - accuracy: 0.9563 - val_loss: 0.0745 - val_accuracy: 0.9815 - lr: 6.9834e-04\n",
            "Epoch 13/20\n",
            "74/74 [==============================] - 4s 56ms/step - loss: 0.1190 - accuracy: 0.9686 - val_loss: 0.0586 - val_accuracy: 0.9866 - lr: 6.6342e-04\n",
            "Epoch 14/20\n",
            "74/74 [==============================] - 3s 39ms/step - loss: 0.1147 - accuracy: 0.9635 - val_loss: 0.0674 - val_accuracy: 0.9815 - lr: 6.3025e-04\n",
            "Epoch 15/20\n",
            "74/74 [==============================] - 2s 33ms/step - loss: 0.1219 - accuracy: 0.9610 - val_loss: 0.0546 - val_accuracy: 0.9815 - lr: 5.9874e-04\n",
            "Epoch 16/20\n",
            "74/74 [==============================] - 2s 33ms/step - loss: 0.1117 - accuracy: 0.9661 - val_loss: 0.0621 - val_accuracy: 0.9799 - lr: 5.6880e-04\n",
            "Epoch 17/20\n",
            "74/74 [==============================] - 3s 45ms/step - loss: 0.0977 - accuracy: 0.9703 - val_loss: 0.0493 - val_accuracy: 0.9849 - lr: 5.4036e-04\n",
            "Epoch 18/20\n",
            "74/74 [==============================] - 3s 45ms/step - loss: 0.1078 - accuracy: 0.9682 - val_loss: 0.0473 - val_accuracy: 0.9883 - lr: 5.1334e-04\n",
            "Epoch 19/20\n",
            "74/74 [==============================] - 2s 32ms/step - loss: 0.1003 - accuracy: 0.9669 - val_loss: 0.0445 - val_accuracy: 0.9883 - lr: 4.8767e-04\n",
            "Epoch 20/20\n",
            "74/74 [==============================] - 2s 33ms/step - loss: 0.0919 - accuracy: 0.9741 - val_loss: 0.0523 - val_accuracy: 0.9849 - lr: 4.6329e-04\n",
            "24/24 [==============================] - 0s 7ms/step - loss: 0.0449 - accuracy: 0.9812\n",
            "Test Accuracy: 0.9812332391738892\n"
          ]
        }
      ]
    },
    {
      "cell_type": "markdown",
      "source": [
        "Explination:"
      ],
      "metadata": {
        "id": "C4rPI4wIObYO"
      }
    },
    {
      "cell_type": "markdown",
      "source": [
        "# **9.Train the Optimize Model**"
      ],
      "metadata": {
        "id": "qcQDiSDf8PdO"
      }
    },
    {
      "cell_type": "code",
      "source": [
        "# Reshape the images to 2D arrays\n",
        "train_images_2d = train_images.reshape(train_images.shape[0], -1)\n",
        "test_images_2d = test_images.reshape(test_images.shape[0], -1)\n",
        "\n",
        "# Define the pipeline with preprocessing steps and the model\n",
        "pipeline = Pipeline([\n",
        "    ('scaler', StandardScaler()),  # Add preprocessing steps if necessary\n",
        "    ('model', RandomForestClassifier())  # RandomForestClassifier with your desired model\n",
        "])\n",
        "\n",
        "# Define hyperparameters grid for optimization\n",
        "param_grid = {\n",
        "    'model__n_estimators': [100, 200, 300],\n",
        "    'model__max_depth': [None, 10, 20],\n",
        "    # Add more hyperparameters to optimize as needed\n",
        "}\n",
        "\n",
        "# Perform grid search cross-validation to find the best hyperparameters\n",
        "grid_search = GridSearchCV(pipeline, param_grid, cv=5, verbose=1, n_jobs=-1)\n",
        "grid_search.fit(train_images_2d, train_labels_encoded)\n",
        "\n",
        "# Get the best model and evaluate its performance\n",
        "best_model = grid_search.best_estimator_\n",
        "test_accuracy = best_model.score(test_images_2d, test_labels_encoded)\n",
        "print(\"Optimized Model Test Accuracy:\", test_accuracy)\n"
      ],
      "metadata": {
        "colab": {
          "base_uri": "https://localhost:8080/"
        },
        "id": "HHvUQFgJ8ndP",
        "outputId": "858b9b2f-3a2b-454e-8ced-8ec7df2fb71a"
      },
      "execution_count": 48,
      "outputs": [
        {
          "output_type": "stream",
          "name": "stdout",
          "text": [
            "Fitting 5 folds for each of 9 candidates, totalling 45 fits\n",
            "Optimized Model Test Accuracy: 0.9571045576407506\n"
          ]
        }
      ]
    },
    {
      "cell_type": "code",
      "source": [
        "# 1. Feature Engineering (Example: PCA)\n",
        "from sklearn.decomposition import PCA\n",
        "\n",
        "# Perform PCA for dimensionality reduction\n",
        "pca = PCA(n_components=100)  # Example: Reduce to 100 components\n",
        "train_images_pca = pca.fit_transform(train_images_2d)\n",
        "test_images_pca = pca.transform(test_images_2d)\n",
        "\n",
        "# 2. Model Evaluation Metrics (Example: Classification Report)\n",
        "# Fit the best model obtained from GridSearchCV\n",
        "best_model.fit(train_images_2d, train_labels_encoded)\n",
        "\n",
        "# Make predictions on the test set\n",
        "test_predictions = best_model.predict(test_images_2d)\n",
        "\n",
        "# Print classification report\n",
        "print(\"Classification Report:\")\n",
        "print(classification_report(test_labels_encoded, test_predictions))\n",
        "\n",
        "# 3. Error Analysis (Example: Confusion Matrix)\n",
        "# Calculate confusion matrix\n",
        "conf_matrix = confusion_matrix(test_labels_encoded, test_predictions)\n",
        "\n",
        "# Plot confusion matrix\n",
        "plt.figure(figsize=(10, 8))\n",
        "sns.heatmap(conf_matrix, annot=True, fmt='d', cmap='Blues', cbar=False)\n",
        "plt.xlabel('Predicted Labels')\n",
        "plt.ylabel('True Labels')\n",
        "plt.title('Confusion Matrix')\n",
        "plt.show()\n",
        "\n",
        "# 4. Data Quality Improvement (Example: Data Augmentation)\n",
        "# Apply data augmentation techniques to increase the diversity of the training data\n",
        "# Example: Use Keras ImageDataGenerator for image augmentation\n",
        "\n",
        "# 5. Ensemble Methods (Example: Voting Classifier)\n",
        "from sklearn.ensemble import VotingClassifier\n",
        "\n",
        "# Define multiple optimized models\n",
        "optimized_models = [\n",
        "    ('rf', RandomForestClassifier(n_estimators=200, max_depth=10)),\n",
        "    # Add more optimized models as needed\n",
        "]\n",
        "\n",
        "# Create a voting classifier ensemble\n",
        "voting_classifier = VotingClassifier(optimized_models, voting='soft')\n",
        "\n",
        "# Fit the ensemble model to the training data\n",
        "voting_classifier.fit(train_images_2d, train_labels_encoded)\n",
        "\n",
        "# Evaluate the ensemble model on the test set\n",
        "ensemble_accuracy = voting_classifier.score(test_images_2d, test_labels_encoded)\n",
        "print(\"Ensemble Model Test Accuracy:\", ensemble_accuracy)\n",
        "\n",
        "# Extract the best model from the pipeline\n",
        "best_model = grid_search.best_estimator_.named_steps['model']\n",
        "\n",
        "# 7. Model Interpretation (Example: Feature Importance)\n",
        "# Visualize feature importance if applicable (e.g., for decision tree-based models)\n",
        "# Example: RandomForest feature importance plot\n",
        "\n",
        "# Check if the best model supports feature importances\n",
        "if hasattr(best_model, 'feature_importances_'):\n",
        "    feature_importance = best_model.feature_importances_\n",
        "    plt.figure(figsize=(10, 6))\n",
        "    plt.bar(range(len(feature_importance)), feature_importance)\n",
        "    plt.xlabel('Feature Index')\n",
        "    plt.ylabel('Feature Importance')\n",
        "    plt.title('Feature Importance Plot')\n",
        "    plt.show()\n",
        "else:\n",
        "    print(\"Feature importances are not available for this model.\")\n",
        "\n",
        "\n",
        "# 6. Regularization (Example: Early Stopping)\n",
        "# Implement early stopping to prevent overfitting\n",
        "# Example: Utilize Keras EarlyStopping callback during model training\n",
        "\n",
        "# 7. Model Interpretation (Example: Feature Importance)\n",
        "# Visualize feature importance if applicable (e.g., for decision tree-based models)\n",
        "# Example: RandomForest feature importance plot\n",
        "\n",
        "\n",
        "# 8. Cross-Validation (Example: Stratified K-Fold Cross-Validation)\n",
        "from sklearn.model_selection import StratifiedKFold\n",
        "\n",
        "# Perform stratified k-fold cross-validation\n",
        "skf = StratifiedKFold(n_splits=5, shuffle=True, random_state=42)\n",
        "cv_scores = cross_val_score(best_model, train_images_2d, train_labels_encoded, cv=skf)\n",
        "\n",
        "# Print cross-validation scores\n",
        "print(\"Cross-Validation Scores:\", cv_scores)\n",
        "print(\"Mean CV Score:\", np.mean(cv_scores))\n"
      ],
      "metadata": {
        "colab": {
          "base_uri": "https://localhost:8080/",
          "height": 1000
        },
        "id": "d4FEfDh_-vQB",
        "outputId": "75bf6052-5e8f-48ed-c74d-dee985ca9b37"
      },
      "execution_count": 51,
      "outputs": [
        {
          "output_type": "stream",
          "name": "stdout",
          "text": [
            "Classification Report:\n",
            "              precision    recall  f1-score   support\n",
            "\n",
            "           0       1.00      0.84      0.91        57\n",
            "           1       1.00      0.44      0.62         9\n",
            "           2       0.93      1.00      0.96       354\n",
            "           3       0.98      0.93      0.96       139\n",
            "           4       0.98      0.96      0.97       187\n",
            "\n",
            "    accuracy                           0.96       746\n",
            "   macro avg       0.98      0.83      0.88       746\n",
            "weighted avg       0.96      0.96      0.95       746\n",
            "\n"
          ]
        },
        {
          "output_type": "display_data",
          "data": {
            "text/plain": [
              "<Figure size 1000x800 with 1 Axes>"
            ],
            "image/png": "[encoded data removed]"
          },
          "metadata": {}
        },
        {
          "output_type": "stream",
          "name": "stdout",
          "text": [
            "Ensemble Model Test Accuracy: 0.9638069705093834\n"
          ]
        },
        {
          "output_type": "display_data",
          "data": {
            "text/plain": [
              "<Figure size 1000x600 with 1 Axes>"
            ],
            "image/png": "[encoded data removed]"
          },
          "metadata": {}
        },
        {
          "output_type": "stream",
          "name": "stdout",
          "text": [
            "Cross-Validation Scores: [0.93220339 0.94067797 0.94904459 0.9596603  0.92781316]\n",
            "Mean CV Score: 0.9418798805282667\n"
          ]
        }
      ]
    },
    {
      "cell_type": "code",
      "source": [
        "# Analysis and Comparison:\n",
        "# Evaluate the baseline models\n",
        "baseline_shape_loss, baseline_shape_accuracy = shape_baseline_model.evaluate(test_shape_images, test_shape_labels)\n",
        "baseline_type_loss, baseline_type_accuracy = type_baseline_model.evaluate(test_type_images, test_type_labels)\n",
        "\n",
        "# Evaluate the optimized models\n",
        "optimized_shape_loss, optimized_shape_accuracy = shape_cnn_model.evaluate(test_shape_images, test_shape_labels)\n",
        "optimized_type_loss, optimized_type_accuracy = type_cnn_model.evaluate(test_type_images, test_type_labels)\n",
        "\n",
        "# Print the results\n",
        "print(\"Baseline Shape Model - Accuracy:\", baseline_shape_accuracy)\n",
        "print(\"Baseline Type Model - Accuracy:\", baseline_type_accuracy)\n",
        "print(\"Optimized Shape Model - Accuracy:\", optimized_shape_accuracy)\n",
        "print(\"Optimized Type Model - Accuracy:\", optimized_type_accuracy)\n"
      ],
      "metadata": {
        "id": "F8SL2vHexEm9"
      },
      "execution_count": null,
      "outputs": []
    },
    {
      "cell_type": "code",
      "source": [
        "# Independent Evaluation:\n",
        "# Load and preprocess your own images\n",
        "independent_images = load_and_preprocess_images('your_image_directory')\n",
        "\n",
        "# Use your trained models to predict the classes of these images\n",
        "shape_predictions = shape_cnn_model.predict(independent_images)\n",
        "type_predictions = type_cnn_model.predict(independent_images)\n",
        "\n",
        "# Print the predictions\n",
        "print(\"Shape Predictions:\", shape_predictions)\n",
        "print(\"Type Predictions:\", type_predictions)\n"
      ],
      "metadata": {
        "id": "DxMNfOvYxJht"
      },
      "execution_count": null,
      "outputs": []
    },
    {
      "cell_type": "code",
      "source": [
        "# Assuming you have already trained your model and loaded the independent test dataset\n",
        "# If not, please load the model and the independent test dataset first\n",
        "\n",
        "# Step 1: Preprocess the Test Data (if necessary)\n",
        "# Preprocess the independent test data using the same preprocessing steps used for training and validation data\n",
        "\n",
        "# Step 2: Evaluate the Model on the Independent Test Data\n",
        "test_loss, test_accuracy = model.evaluate(test_images, test_labels_encoded)\n",
        "print(\"Independent Test Accuracy:\", test_accuracy)\n",
        "\n",
        "# Step 3: Compare Performance\n",
        "# Optionally, compare the model's performance on the independent test data with its performance on the training and validation data\n",
        "# This can help assess the model's generalization ability and whether it is overfitting or underfitting\n",
        "\n",
        "# Step 4: Report Results\n",
        "# Document the results of the independent evaluation, including the evaluation metrics and any observations or insights gained from the analysis\n",
        "# This is important for transparent reporting and understanding the model's performance\n",
        "\n",
        "# Optionally, you can visualize the model's predictions on the independent test data to gain further insights into its performance\n",
        "# You can plot confusion matrices, ROC curves, or other relevant visualizations depending on the nature of your problem\n",
        "\n",
        "# Example Confusion Matrix:\n",
        "from sklearn.metrics import confusion_matrix\n",
        "import seaborn as sns\n",
        "import matplotlib.pyplot as plt\n",
        "\n",
        "# Get predictions on the independent test data\n",
        "test_predictions = model.predict(test_images)\n",
        "\n",
        "# Convert predictions from one-hot encoded format to class labels\n",
        "test_predicted_labels = np.argmax(test_predictions, axis=1)\n",
        "\n",
        "# Generate confusion matrix\n",
        "conf_matrix = confusion_matrix(test_labels_encoded, test_predicted_labels)\n",
        "\n",
        "# Plot confusion matrix\n",
        "plt.figure(figsize=(8, 6))\n",
        "sns.heatmap(conf_matrix, annot=True, fmt='d', cmap='Blues', xticklabels=label_encoder.classes_, yticklabels=label_encoder.classes_)\n",
        "plt.xlabel('Predicted Label')\n",
        "plt.ylabel('True Label')\n",
        "plt.title('Confusion Matrix')\n",
        "plt.show()\n"
      ],
      "metadata": {
        "colab": {
          "base_uri": "https://localhost:8080/",
          "height": 618
        },
        "id": "lpCVCynLAI0H",
        "outputId": "6a003447-5860-49ea-b8cb-bed2a069b467"
      },
      "execution_count": 52,
      "outputs": [
        {
          "output_type": "stream",
          "name": "stdout",
          "text": [
            "24/24 [==============================] - 0s 9ms/step - loss: 0.0473 - accuracy: 0.9906\n",
            "Independent Test Accuracy: 0.9906166195869446\n",
            "24/24 [==============================] - 0s 11ms/step\n"
          ]
        },
        {
          "output_type": "display_data",
          "data": {
            "text/plain": [
              "<Figure size 800x600 with 2 Axes>"
            ],
            "image/png": "[encoded data removed]"
          },
          "metadata": {}
        }
      ]
    }
  ]
}